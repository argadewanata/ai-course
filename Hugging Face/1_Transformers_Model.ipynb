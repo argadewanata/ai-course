{
  "nbformat": 4,
  "nbformat_minor": 0,
  "metadata": {
    "colab": {
      "provenance": [],
      "collapsed_sections": [
        "NxMSjRo8k5g6"
      ],
      "toc_visible": true
    },
    "kernelspec": {
      "name": "python3",
      "display_name": "Python 3"
    },
    "language_info": {
      "name": "python"
    },
    "widgets": {
      "application/vnd.jupyter.widget-state+json": {
        "1884bd7fa380430eb67f229176e5062f": {
          "model_module": "@jupyter-widgets/controls",
          "model_name": "HBoxModel",
          "model_module_version": "1.5.0",
          "state": {
            "_dom_classes": [],
            "_model_module": "@jupyter-widgets/controls",
            "_model_module_version": "1.5.0",
            "_model_name": "HBoxModel",
            "_view_count": null,
            "_view_module": "@jupyter-widgets/controls",
            "_view_module_version": "1.5.0",
            "_view_name": "HBoxView",
            "box_style": "",
            "children": [
              "IPY_MODEL_efa976ff34554721b89877a9cd5b8031",
              "IPY_MODEL_1846b20f7f6f4fa1bbe982e48afc4cf4",
              "IPY_MODEL_0717a6631e2343e998d7d0106726bc04"
            ],
            "layout": "IPY_MODEL_c608e8059a0a4fae9cc8578aa99dbda5"
          }
        },
        "efa976ff34554721b89877a9cd5b8031": {
          "model_module": "@jupyter-widgets/controls",
          "model_name": "HTMLModel",
          "model_module_version": "1.5.0",
          "state": {
            "_dom_classes": [],
            "_model_module": "@jupyter-widgets/controls",
            "_model_module_version": "1.5.0",
            "_model_name": "HTMLModel",
            "_view_count": null,
            "_view_module": "@jupyter-widgets/controls",
            "_view_module_version": "1.5.0",
            "_view_name": "HTMLView",
            "description": "",
            "description_tooltip": null,
            "layout": "IPY_MODEL_4b122980709841a6ae41c3d1d0701c94",
            "placeholder": "​",
            "style": "IPY_MODEL_fb6e75c0251d423abfad325b888907c1",
            "value": "Downloading (…)olve/main/source.spm: 100%"
          }
        },
        "1846b20f7f6f4fa1bbe982e48afc4cf4": {
          "model_module": "@jupyter-widgets/controls",
          "model_name": "FloatProgressModel",
          "model_module_version": "1.5.0",
          "state": {
            "_dom_classes": [],
            "_model_module": "@jupyter-widgets/controls",
            "_model_module_version": "1.5.0",
            "_model_name": "FloatProgressModel",
            "_view_count": null,
            "_view_module": "@jupyter-widgets/controls",
            "_view_module_version": "1.5.0",
            "_view_name": "ProgressView",
            "bar_style": "success",
            "description": "",
            "description_tooltip": null,
            "layout": "IPY_MODEL_0d253f6389e84675a001805355987cf1",
            "max": 802397,
            "min": 0,
            "orientation": "horizontal",
            "style": "IPY_MODEL_b081da66dba64601af3fe567e63b7b1c",
            "value": 802397
          }
        },
        "0717a6631e2343e998d7d0106726bc04": {
          "model_module": "@jupyter-widgets/controls",
          "model_name": "HTMLModel",
          "model_module_version": "1.5.0",
          "state": {
            "_dom_classes": [],
            "_model_module": "@jupyter-widgets/controls",
            "_model_module_version": "1.5.0",
            "_model_name": "HTMLModel",
            "_view_count": null,
            "_view_module": "@jupyter-widgets/controls",
            "_view_module_version": "1.5.0",
            "_view_name": "HTMLView",
            "description": "",
            "description_tooltip": null,
            "layout": "IPY_MODEL_8ee575a0ce0c4592a38debe135c29650",
            "placeholder": "​",
            "style": "IPY_MODEL_c5e900be242547c4b8a6a46e330f8d4f",
            "value": " 802k/802k [00:00&lt;00:00, 3.93MB/s]"
          }
        },
        "c608e8059a0a4fae9cc8578aa99dbda5": {
          "model_module": "@jupyter-widgets/base",
          "model_name": "LayoutModel",
          "model_module_version": "1.2.0",
          "state": {
            "_model_module": "@jupyter-widgets/base",
            "_model_module_version": "1.2.0",
            "_model_name": "LayoutModel",
            "_view_count": null,
            "_view_module": "@jupyter-widgets/base",
            "_view_module_version": "1.2.0",
            "_view_name": "LayoutView",
            "align_content": null,
            "align_items": null,
            "align_self": null,
            "border": null,
            "bottom": null,
            "display": null,
            "flex": null,
            "flex_flow": null,
            "grid_area": null,
            "grid_auto_columns": null,
            "grid_auto_flow": null,
            "grid_auto_rows": null,
            "grid_column": null,
            "grid_gap": null,
            "grid_row": null,
            "grid_template_areas": null,
            "grid_template_columns": null,
            "grid_template_rows": null,
            "height": null,
            "justify_content": null,
            "justify_items": null,
            "left": null,
            "margin": null,
            "max_height": null,
            "max_width": null,
            "min_height": null,
            "min_width": null,
            "object_fit": null,
            "object_position": null,
            "order": null,
            "overflow": null,
            "overflow_x": null,
            "overflow_y": null,
            "padding": null,
            "right": null,
            "top": null,
            "visibility": null,
            "width": null
          }
        },
        "4b122980709841a6ae41c3d1d0701c94": {
          "model_module": "@jupyter-widgets/base",
          "model_name": "LayoutModel",
          "model_module_version": "1.2.0",
          "state": {
            "_model_module": "@jupyter-widgets/base",
            "_model_module_version": "1.2.0",
            "_model_name": "LayoutModel",
            "_view_count": null,
            "_view_module": "@jupyter-widgets/base",
            "_view_module_version": "1.2.0",
            "_view_name": "LayoutView",
            "align_content": null,
            "align_items": null,
            "align_self": null,
            "border": null,
            "bottom": null,
            "display": null,
            "flex": null,
            "flex_flow": null,
            "grid_area": null,
            "grid_auto_columns": null,
            "grid_auto_flow": null,
            "grid_auto_rows": null,
            "grid_column": null,
            "grid_gap": null,
            "grid_row": null,
            "grid_template_areas": null,
            "grid_template_columns": null,
            "grid_template_rows": null,
            "height": null,
            "justify_content": null,
            "justify_items": null,
            "left": null,
            "margin": null,
            "max_height": null,
            "max_width": null,
            "min_height": null,
            "min_width": null,
            "object_fit": null,
            "object_position": null,
            "order": null,
            "overflow": null,
            "overflow_x": null,
            "overflow_y": null,
            "padding": null,
            "right": null,
            "top": null,
            "visibility": null,
            "width": null
          }
        },
        "fb6e75c0251d423abfad325b888907c1": {
          "model_module": "@jupyter-widgets/controls",
          "model_name": "DescriptionStyleModel",
          "model_module_version": "1.5.0",
          "state": {
            "_model_module": "@jupyter-widgets/controls",
            "_model_module_version": "1.5.0",
            "_model_name": "DescriptionStyleModel",
            "_view_count": null,
            "_view_module": "@jupyter-widgets/base",
            "_view_module_version": "1.2.0",
            "_view_name": "StyleView",
            "description_width": ""
          }
        },
        "0d253f6389e84675a001805355987cf1": {
          "model_module": "@jupyter-widgets/base",
          "model_name": "LayoutModel",
          "model_module_version": "1.2.0",
          "state": {
            "_model_module": "@jupyter-widgets/base",
            "_model_module_version": "1.2.0",
            "_model_name": "LayoutModel",
            "_view_count": null,
            "_view_module": "@jupyter-widgets/base",
            "_view_module_version": "1.2.0",
            "_view_name": "LayoutView",
            "align_content": null,
            "align_items": null,
            "align_self": null,
            "border": null,
            "bottom": null,
            "display": null,
            "flex": null,
            "flex_flow": null,
            "grid_area": null,
            "grid_auto_columns": null,
            "grid_auto_flow": null,
            "grid_auto_rows": null,
            "grid_column": null,
            "grid_gap": null,
            "grid_row": null,
            "grid_template_areas": null,
            "grid_template_columns": null,
            "grid_template_rows": null,
            "height": null,
            "justify_content": null,
            "justify_items": null,
            "left": null,
            "margin": null,
            "max_height": null,
            "max_width": null,
            "min_height": null,
            "min_width": null,
            "object_fit": null,
            "object_position": null,
            "order": null,
            "overflow": null,
            "overflow_x": null,
            "overflow_y": null,
            "padding": null,
            "right": null,
            "top": null,
            "visibility": null,
            "width": null
          }
        },
        "b081da66dba64601af3fe567e63b7b1c": {
          "model_module": "@jupyter-widgets/controls",
          "model_name": "ProgressStyleModel",
          "model_module_version": "1.5.0",
          "state": {
            "_model_module": "@jupyter-widgets/controls",
            "_model_module_version": "1.5.0",
            "_model_name": "ProgressStyleModel",
            "_view_count": null,
            "_view_module": "@jupyter-widgets/base",
            "_view_module_version": "1.2.0",
            "_view_name": "StyleView",
            "bar_color": null,
            "description_width": ""
          }
        },
        "8ee575a0ce0c4592a38debe135c29650": {
          "model_module": "@jupyter-widgets/base",
          "model_name": "LayoutModel",
          "model_module_version": "1.2.0",
          "state": {
            "_model_module": "@jupyter-widgets/base",
            "_model_module_version": "1.2.0",
            "_model_name": "LayoutModel",
            "_view_count": null,
            "_view_module": "@jupyter-widgets/base",
            "_view_module_version": "1.2.0",
            "_view_name": "LayoutView",
            "align_content": null,
            "align_items": null,
            "align_self": null,
            "border": null,
            "bottom": null,
            "display": null,
            "flex": null,
            "flex_flow": null,
            "grid_area": null,
            "grid_auto_columns": null,
            "grid_auto_flow": null,
            "grid_auto_rows": null,
            "grid_column": null,
            "grid_gap": null,
            "grid_row": null,
            "grid_template_areas": null,
            "grid_template_columns": null,
            "grid_template_rows": null,
            "height": null,
            "justify_content": null,
            "justify_items": null,
            "left": null,
            "margin": null,
            "max_height": null,
            "max_width": null,
            "min_height": null,
            "min_width": null,
            "object_fit": null,
            "object_position": null,
            "order": null,
            "overflow": null,
            "overflow_x": null,
            "overflow_y": null,
            "padding": null,
            "right": null,
            "top": null,
            "visibility": null,
            "width": null
          }
        },
        "c5e900be242547c4b8a6a46e330f8d4f": {
          "model_module": "@jupyter-widgets/controls",
          "model_name": "DescriptionStyleModel",
          "model_module_version": "1.5.0",
          "state": {
            "_model_module": "@jupyter-widgets/controls",
            "_model_module_version": "1.5.0",
            "_model_name": "DescriptionStyleModel",
            "_view_count": null,
            "_view_module": "@jupyter-widgets/base",
            "_view_module_version": "1.2.0",
            "_view_name": "StyleView",
            "description_width": ""
          }
        },
        "865ea44b2b404380915b065357b428c8": {
          "model_module": "@jupyter-widgets/controls",
          "model_name": "HBoxModel",
          "model_module_version": "1.5.0",
          "state": {
            "_dom_classes": [],
            "_model_module": "@jupyter-widgets/controls",
            "_model_module_version": "1.5.0",
            "_model_name": "HBoxModel",
            "_view_count": null,
            "_view_module": "@jupyter-widgets/controls",
            "_view_module_version": "1.5.0",
            "_view_name": "HBoxView",
            "box_style": "",
            "children": [
              "IPY_MODEL_f4f23f79d011485180daeb78ff3ae8a3",
              "IPY_MODEL_e0a3ff8c3119489395912f8a55e6958d",
              "IPY_MODEL_88b96cbd4e454b1eb3d2c13c87847bc8"
            ],
            "layout": "IPY_MODEL_1d2e9847afe84cb99b8773557caccd67"
          }
        },
        "f4f23f79d011485180daeb78ff3ae8a3": {
          "model_module": "@jupyter-widgets/controls",
          "model_name": "HTMLModel",
          "model_module_version": "1.5.0",
          "state": {
            "_dom_classes": [],
            "_model_module": "@jupyter-widgets/controls",
            "_model_module_version": "1.5.0",
            "_model_name": "HTMLModel",
            "_view_count": null,
            "_view_module": "@jupyter-widgets/controls",
            "_view_module_version": "1.5.0",
            "_view_name": "HTMLView",
            "description": "",
            "description_tooltip": null,
            "layout": "IPY_MODEL_e6ae35df9a7c44709806b110e04c1c33",
            "placeholder": "​",
            "style": "IPY_MODEL_945cb7e11db347a59017215bd87dc238",
            "value": "Downloading (…)olve/main/target.spm: 100%"
          }
        },
        "e0a3ff8c3119489395912f8a55e6958d": {
          "model_module": "@jupyter-widgets/controls",
          "model_name": "FloatProgressModel",
          "model_module_version": "1.5.0",
          "state": {
            "_dom_classes": [],
            "_model_module": "@jupyter-widgets/controls",
            "_model_module_version": "1.5.0",
            "_model_name": "FloatProgressModel",
            "_view_count": null,
            "_view_module": "@jupyter-widgets/controls",
            "_view_module_version": "1.5.0",
            "_view_name": "ProgressView",
            "bar_style": "success",
            "description": "",
            "description_tooltip": null,
            "layout": "IPY_MODEL_7bb2150351664235ad7fa628e46cf748",
            "max": 778395,
            "min": 0,
            "orientation": "horizontal",
            "style": "IPY_MODEL_1584879b2334440993fc8eed0ab95605",
            "value": 778395
          }
        },
        "88b96cbd4e454b1eb3d2c13c87847bc8": {
          "model_module": "@jupyter-widgets/controls",
          "model_name": "HTMLModel",
          "model_module_version": "1.5.0",
          "state": {
            "_dom_classes": [],
            "_model_module": "@jupyter-widgets/controls",
            "_model_module_version": "1.5.0",
            "_model_name": "HTMLModel",
            "_view_count": null,
            "_view_module": "@jupyter-widgets/controls",
            "_view_module_version": "1.5.0",
            "_view_name": "HTMLView",
            "description": "",
            "description_tooltip": null,
            "layout": "IPY_MODEL_06577a285c9b4827bb415a3e381facc4",
            "placeholder": "​",
            "style": "IPY_MODEL_61faf8e0b8b64a31ad52e28a360508fc",
            "value": " 778k/778k [00:00&lt;00:00, 8.66MB/s]"
          }
        },
        "1d2e9847afe84cb99b8773557caccd67": {
          "model_module": "@jupyter-widgets/base",
          "model_name": "LayoutModel",
          "model_module_version": "1.2.0",
          "state": {
            "_model_module": "@jupyter-widgets/base",
            "_model_module_version": "1.2.0",
            "_model_name": "LayoutModel",
            "_view_count": null,
            "_view_module": "@jupyter-widgets/base",
            "_view_module_version": "1.2.0",
            "_view_name": "LayoutView",
            "align_content": null,
            "align_items": null,
            "align_self": null,
            "border": null,
            "bottom": null,
            "display": null,
            "flex": null,
            "flex_flow": null,
            "grid_area": null,
            "grid_auto_columns": null,
            "grid_auto_flow": null,
            "grid_auto_rows": null,
            "grid_column": null,
            "grid_gap": null,
            "grid_row": null,
            "grid_template_areas": null,
            "grid_template_columns": null,
            "grid_template_rows": null,
            "height": null,
            "justify_content": null,
            "justify_items": null,
            "left": null,
            "margin": null,
            "max_height": null,
            "max_width": null,
            "min_height": null,
            "min_width": null,
            "object_fit": null,
            "object_position": null,
            "order": null,
            "overflow": null,
            "overflow_x": null,
            "overflow_y": null,
            "padding": null,
            "right": null,
            "top": null,
            "visibility": null,
            "width": null
          }
        },
        "e6ae35df9a7c44709806b110e04c1c33": {
          "model_module": "@jupyter-widgets/base",
          "model_name": "LayoutModel",
          "model_module_version": "1.2.0",
          "state": {
            "_model_module": "@jupyter-widgets/base",
            "_model_module_version": "1.2.0",
            "_model_name": "LayoutModel",
            "_view_count": null,
            "_view_module": "@jupyter-widgets/base",
            "_view_module_version": "1.2.0",
            "_view_name": "LayoutView",
            "align_content": null,
            "align_items": null,
            "align_self": null,
            "border": null,
            "bottom": null,
            "display": null,
            "flex": null,
            "flex_flow": null,
            "grid_area": null,
            "grid_auto_columns": null,
            "grid_auto_flow": null,
            "grid_auto_rows": null,
            "grid_column": null,
            "grid_gap": null,
            "grid_row": null,
            "grid_template_areas": null,
            "grid_template_columns": null,
            "grid_template_rows": null,
            "height": null,
            "justify_content": null,
            "justify_items": null,
            "left": null,
            "margin": null,
            "max_height": null,
            "max_width": null,
            "min_height": null,
            "min_width": null,
            "object_fit": null,
            "object_position": null,
            "order": null,
            "overflow": null,
            "overflow_x": null,
            "overflow_y": null,
            "padding": null,
            "right": null,
            "top": null,
            "visibility": null,
            "width": null
          }
        },
        "945cb7e11db347a59017215bd87dc238": {
          "model_module": "@jupyter-widgets/controls",
          "model_name": "DescriptionStyleModel",
          "model_module_version": "1.5.0",
          "state": {
            "_model_module": "@jupyter-widgets/controls",
            "_model_module_version": "1.5.0",
            "_model_name": "DescriptionStyleModel",
            "_view_count": null,
            "_view_module": "@jupyter-widgets/base",
            "_view_module_version": "1.2.0",
            "_view_name": "StyleView",
            "description_width": ""
          }
        },
        "7bb2150351664235ad7fa628e46cf748": {
          "model_module": "@jupyter-widgets/base",
          "model_name": "LayoutModel",
          "model_module_version": "1.2.0",
          "state": {
            "_model_module": "@jupyter-widgets/base",
            "_model_module_version": "1.2.0",
            "_model_name": "LayoutModel",
            "_view_count": null,
            "_view_module": "@jupyter-widgets/base",
            "_view_module_version": "1.2.0",
            "_view_name": "LayoutView",
            "align_content": null,
            "align_items": null,
            "align_self": null,
            "border": null,
            "bottom": null,
            "display": null,
            "flex": null,
            "flex_flow": null,
            "grid_area": null,
            "grid_auto_columns": null,
            "grid_auto_flow": null,
            "grid_auto_rows": null,
            "grid_column": null,
            "grid_gap": null,
            "grid_row": null,
            "grid_template_areas": null,
            "grid_template_columns": null,
            "grid_template_rows": null,
            "height": null,
            "justify_content": null,
            "justify_items": null,
            "left": null,
            "margin": null,
            "max_height": null,
            "max_width": null,
            "min_height": null,
            "min_width": null,
            "object_fit": null,
            "object_position": null,
            "order": null,
            "overflow": null,
            "overflow_x": null,
            "overflow_y": null,
            "padding": null,
            "right": null,
            "top": null,
            "visibility": null,
            "width": null
          }
        },
        "1584879b2334440993fc8eed0ab95605": {
          "model_module": "@jupyter-widgets/controls",
          "model_name": "ProgressStyleModel",
          "model_module_version": "1.5.0",
          "state": {
            "_model_module": "@jupyter-widgets/controls",
            "_model_module_version": "1.5.0",
            "_model_name": "ProgressStyleModel",
            "_view_count": null,
            "_view_module": "@jupyter-widgets/base",
            "_view_module_version": "1.2.0",
            "_view_name": "StyleView",
            "bar_color": null,
            "description_width": ""
          }
        },
        "06577a285c9b4827bb415a3e381facc4": {
          "model_module": "@jupyter-widgets/base",
          "model_name": "LayoutModel",
          "model_module_version": "1.2.0",
          "state": {
            "_model_module": "@jupyter-widgets/base",
            "_model_module_version": "1.2.0",
            "_model_name": "LayoutModel",
            "_view_count": null,
            "_view_module": "@jupyter-widgets/base",
            "_view_module_version": "1.2.0",
            "_view_name": "LayoutView",
            "align_content": null,
            "align_items": null,
            "align_self": null,
            "border": null,
            "bottom": null,
            "display": null,
            "flex": null,
            "flex_flow": null,
            "grid_area": null,
            "grid_auto_columns": null,
            "grid_auto_flow": null,
            "grid_auto_rows": null,
            "grid_column": null,
            "grid_gap": null,
            "grid_row": null,
            "grid_template_areas": null,
            "grid_template_columns": null,
            "grid_template_rows": null,
            "height": null,
            "justify_content": null,
            "justify_items": null,
            "left": null,
            "margin": null,
            "max_height": null,
            "max_width": null,
            "min_height": null,
            "min_width": null,
            "object_fit": null,
            "object_position": null,
            "order": null,
            "overflow": null,
            "overflow_x": null,
            "overflow_y": null,
            "padding": null,
            "right": null,
            "top": null,
            "visibility": null,
            "width": null
          }
        },
        "61faf8e0b8b64a31ad52e28a360508fc": {
          "model_module": "@jupyter-widgets/controls",
          "model_name": "DescriptionStyleModel",
          "model_module_version": "1.5.0",
          "state": {
            "_model_module": "@jupyter-widgets/controls",
            "_model_module_version": "1.5.0",
            "_model_name": "DescriptionStyleModel",
            "_view_count": null,
            "_view_module": "@jupyter-widgets/base",
            "_view_module_version": "1.2.0",
            "_view_name": "StyleView",
            "description_width": ""
          }
        },
        "b8168658393d4203aa0cdda7874c3d82": {
          "model_module": "@jupyter-widgets/controls",
          "model_name": "HBoxModel",
          "model_module_version": "1.5.0",
          "state": {
            "_dom_classes": [],
            "_model_module": "@jupyter-widgets/controls",
            "_model_module_version": "1.5.0",
            "_model_name": "HBoxModel",
            "_view_count": null,
            "_view_module": "@jupyter-widgets/controls",
            "_view_module_version": "1.5.0",
            "_view_name": "HBoxView",
            "box_style": "",
            "children": [
              "IPY_MODEL_30420d68710f4a1e8eb3791f196a8ce9",
              "IPY_MODEL_2ea64d3ce19e42e3938adb326aee9275",
              "IPY_MODEL_8171788e6d484633bce7e9313553412e"
            ],
            "layout": "IPY_MODEL_2b20a47c2e6a4fffac85b3f2eeba963f"
          }
        },
        "30420d68710f4a1e8eb3791f196a8ce9": {
          "model_module": "@jupyter-widgets/controls",
          "model_name": "HTMLModel",
          "model_module_version": "1.5.0",
          "state": {
            "_dom_classes": [],
            "_model_module": "@jupyter-widgets/controls",
            "_model_module_version": "1.5.0",
            "_model_name": "HTMLModel",
            "_view_count": null,
            "_view_module": "@jupyter-widgets/controls",
            "_view_module_version": "1.5.0",
            "_view_name": "HTMLView",
            "description": "",
            "description_tooltip": null,
            "layout": "IPY_MODEL_7c2f7eb3e63f4043b7a006516a6a2ebd",
            "placeholder": "​",
            "style": "IPY_MODEL_d3bc5db0c2a24e3aa8084f33d58b4e45",
            "value": "Downloading (…)olve/main/vocab.json: 100%"
          }
        },
        "2ea64d3ce19e42e3938adb326aee9275": {
          "model_module": "@jupyter-widgets/controls",
          "model_name": "FloatProgressModel",
          "model_module_version": "1.5.0",
          "state": {
            "_dom_classes": [],
            "_model_module": "@jupyter-widgets/controls",
            "_model_module_version": "1.5.0",
            "_model_name": "FloatProgressModel",
            "_view_count": null,
            "_view_module": "@jupyter-widgets/controls",
            "_view_module_version": "1.5.0",
            "_view_name": "ProgressView",
            "bar_style": "success",
            "description": "",
            "description_tooltip": null,
            "layout": "IPY_MODEL_e3cefc20b5ed49d199f6cfcc48955435",
            "max": 1339166,
            "min": 0,
            "orientation": "horizontal",
            "style": "IPY_MODEL_bb85675ba8e84a049f98ce0a75dc5063",
            "value": 1339166
          }
        },
        "8171788e6d484633bce7e9313553412e": {
          "model_module": "@jupyter-widgets/controls",
          "model_name": "HTMLModel",
          "model_module_version": "1.5.0",
          "state": {
            "_dom_classes": [],
            "_model_module": "@jupyter-widgets/controls",
            "_model_module_version": "1.5.0",
            "_model_name": "HTMLModel",
            "_view_count": null,
            "_view_module": "@jupyter-widgets/controls",
            "_view_module_version": "1.5.0",
            "_view_name": "HTMLView",
            "description": "",
            "description_tooltip": null,
            "layout": "IPY_MODEL_b24d7dadddc14fe1b220512391d5dc5a",
            "placeholder": "​",
            "style": "IPY_MODEL_d4f50f8abb7740adb95300bfe182685d",
            "value": " 1.34M/1.34M [00:00&lt;00:00, 10.9MB/s]"
          }
        },
        "2b20a47c2e6a4fffac85b3f2eeba963f": {
          "model_module": "@jupyter-widgets/base",
          "model_name": "LayoutModel",
          "model_module_version": "1.2.0",
          "state": {
            "_model_module": "@jupyter-widgets/base",
            "_model_module_version": "1.2.0",
            "_model_name": "LayoutModel",
            "_view_count": null,
            "_view_module": "@jupyter-widgets/base",
            "_view_module_version": "1.2.0",
            "_view_name": "LayoutView",
            "align_content": null,
            "align_items": null,
            "align_self": null,
            "border": null,
            "bottom": null,
            "display": null,
            "flex": null,
            "flex_flow": null,
            "grid_area": null,
            "grid_auto_columns": null,
            "grid_auto_flow": null,
            "grid_auto_rows": null,
            "grid_column": null,
            "grid_gap": null,
            "grid_row": null,
            "grid_template_areas": null,
            "grid_template_columns": null,
            "grid_template_rows": null,
            "height": null,
            "justify_content": null,
            "justify_items": null,
            "left": null,
            "margin": null,
            "max_height": null,
            "max_width": null,
            "min_height": null,
            "min_width": null,
            "object_fit": null,
            "object_position": null,
            "order": null,
            "overflow": null,
            "overflow_x": null,
            "overflow_y": null,
            "padding": null,
            "right": null,
            "top": null,
            "visibility": null,
            "width": null
          }
        },
        "7c2f7eb3e63f4043b7a006516a6a2ebd": {
          "model_module": "@jupyter-widgets/base",
          "model_name": "LayoutModel",
          "model_module_version": "1.2.0",
          "state": {
            "_model_module": "@jupyter-widgets/base",
            "_model_module_version": "1.2.0",
            "_model_name": "LayoutModel",
            "_view_count": null,
            "_view_module": "@jupyter-widgets/base",
            "_view_module_version": "1.2.0",
            "_view_name": "LayoutView",
            "align_content": null,
            "align_items": null,
            "align_self": null,
            "border": null,
            "bottom": null,
            "display": null,
            "flex": null,
            "flex_flow": null,
            "grid_area": null,
            "grid_auto_columns": null,
            "grid_auto_flow": null,
            "grid_auto_rows": null,
            "grid_column": null,
            "grid_gap": null,
            "grid_row": null,
            "grid_template_areas": null,
            "grid_template_columns": null,
            "grid_template_rows": null,
            "height": null,
            "justify_content": null,
            "justify_items": null,
            "left": null,
            "margin": null,
            "max_height": null,
            "max_width": null,
            "min_height": null,
            "min_width": null,
            "object_fit": null,
            "object_position": null,
            "order": null,
            "overflow": null,
            "overflow_x": null,
            "overflow_y": null,
            "padding": null,
            "right": null,
            "top": null,
            "visibility": null,
            "width": null
          }
        },
        "d3bc5db0c2a24e3aa8084f33d58b4e45": {
          "model_module": "@jupyter-widgets/controls",
          "model_name": "DescriptionStyleModel",
          "model_module_version": "1.5.0",
          "state": {
            "_model_module": "@jupyter-widgets/controls",
            "_model_module_version": "1.5.0",
            "_model_name": "DescriptionStyleModel",
            "_view_count": null,
            "_view_module": "@jupyter-widgets/base",
            "_view_module_version": "1.2.0",
            "_view_name": "StyleView",
            "description_width": ""
          }
        },
        "e3cefc20b5ed49d199f6cfcc48955435": {
          "model_module": "@jupyter-widgets/base",
          "model_name": "LayoutModel",
          "model_module_version": "1.2.0",
          "state": {
            "_model_module": "@jupyter-widgets/base",
            "_model_module_version": "1.2.0",
            "_model_name": "LayoutModel",
            "_view_count": null,
            "_view_module": "@jupyter-widgets/base",
            "_view_module_version": "1.2.0",
            "_view_name": "LayoutView",
            "align_content": null,
            "align_items": null,
            "align_self": null,
            "border": null,
            "bottom": null,
            "display": null,
            "flex": null,
            "flex_flow": null,
            "grid_area": null,
            "grid_auto_columns": null,
            "grid_auto_flow": null,
            "grid_auto_rows": null,
            "grid_column": null,
            "grid_gap": null,
            "grid_row": null,
            "grid_template_areas": null,
            "grid_template_columns": null,
            "grid_template_rows": null,
            "height": null,
            "justify_content": null,
            "justify_items": null,
            "left": null,
            "margin": null,
            "max_height": null,
            "max_width": null,
            "min_height": null,
            "min_width": null,
            "object_fit": null,
            "object_position": null,
            "order": null,
            "overflow": null,
            "overflow_x": null,
            "overflow_y": null,
            "padding": null,
            "right": null,
            "top": null,
            "visibility": null,
            "width": null
          }
        },
        "bb85675ba8e84a049f98ce0a75dc5063": {
          "model_module": "@jupyter-widgets/controls",
          "model_name": "ProgressStyleModel",
          "model_module_version": "1.5.0",
          "state": {
            "_model_module": "@jupyter-widgets/controls",
            "_model_module_version": "1.5.0",
            "_model_name": "ProgressStyleModel",
            "_view_count": null,
            "_view_module": "@jupyter-widgets/base",
            "_view_module_version": "1.2.0",
            "_view_name": "StyleView",
            "bar_color": null,
            "description_width": ""
          }
        },
        "b24d7dadddc14fe1b220512391d5dc5a": {
          "model_module": "@jupyter-widgets/base",
          "model_name": "LayoutModel",
          "model_module_version": "1.2.0",
          "state": {
            "_model_module": "@jupyter-widgets/base",
            "_model_module_version": "1.2.0",
            "_model_name": "LayoutModel",
            "_view_count": null,
            "_view_module": "@jupyter-widgets/base",
            "_view_module_version": "1.2.0",
            "_view_name": "LayoutView",
            "align_content": null,
            "align_items": null,
            "align_self": null,
            "border": null,
            "bottom": null,
            "display": null,
            "flex": null,
            "flex_flow": null,
            "grid_area": null,
            "grid_auto_columns": null,
            "grid_auto_flow": null,
            "grid_auto_rows": null,
            "grid_column": null,
            "grid_gap": null,
            "grid_row": null,
            "grid_template_areas": null,
            "grid_template_columns": null,
            "grid_template_rows": null,
            "height": null,
            "justify_content": null,
            "justify_items": null,
            "left": null,
            "margin": null,
            "max_height": null,
            "max_width": null,
            "min_height": null,
            "min_width": null,
            "object_fit": null,
            "object_position": null,
            "order": null,
            "overflow": null,
            "overflow_x": null,
            "overflow_y": null,
            "padding": null,
            "right": null,
            "top": null,
            "visibility": null,
            "width": null
          }
        },
        "d4f50f8abb7740adb95300bfe182685d": {
          "model_module": "@jupyter-widgets/controls",
          "model_name": "DescriptionStyleModel",
          "model_module_version": "1.5.0",
          "state": {
            "_model_module": "@jupyter-widgets/controls",
            "_model_module_version": "1.5.0",
            "_model_name": "DescriptionStyleModel",
            "_view_count": null,
            "_view_module": "@jupyter-widgets/base",
            "_view_module_version": "1.2.0",
            "_view_name": "StyleView",
            "description_width": ""
          }
        }
      }
    }
  },
  "cells": [
    {
      "cell_type": "markdown",
      "source": [
        "This Notebook is a summary of HuggingFace Course from this web https://huggingface.co/learn/nlp-course/chapter1/1?fw=tf"
      ],
      "metadata": {
        "id": "d6j42N5179Ig"
      }
    },
    {
      "cell_type": "markdown",
      "source": [
        ">[Setup](#updateTitle=true&folderId=1vIw0hBj5EFFREdMim5XCsp0YpsXYMbY9&scrollTo=NxMSjRo8k5g6)\n",
        "\n",
        ">[Pipeline](#updateTitle=true&folderId=1vIw0hBj5EFFREdMim5XCsp0YpsXYMbY9&scrollTo=_M0tyQljlLOX)\n",
        "\n",
        ">>[1. Sentiment Analysis](#updateTitle=true&folderId=1vIw0hBj5EFFREdMim5XCsp0YpsXYMbY9&scrollTo=V5MYoWvVlm76)\n",
        "\n",
        ">>[2. Zero-shot classification](#updateTitle=true&folderId=1vIw0hBj5EFFREdMim5XCsp0YpsXYMbY9&scrollTo=Bh_YmbmSlwTV)\n",
        "\n",
        ">>[3. Text Generation](#updateTitle=true&folderId=1vIw0hBj5EFFREdMim5XCsp0YpsXYMbY9&scrollTo=QLnGphgvmSOK)\n",
        "\n",
        ">>[4. Mask Filling](#updateTitle=true&folderId=1vIw0hBj5EFFREdMim5XCsp0YpsXYMbY9&scrollTo=z8Kwfb4BnV-5)\n",
        "\n",
        ">>[5. Named Entity Recognition](#updateTitle=true&folderId=1vIw0hBj5EFFREdMim5XCsp0YpsXYMbY9&scrollTo=jN2q1vEMn3sH)\n",
        "\n",
        ">>[6. Question Answering](#updateTitle=true&folderId=1vIw0hBj5EFFREdMim5XCsp0YpsXYMbY9&scrollTo=658a1aFdoSQi)\n",
        "\n",
        ">>[7. Summarization](#updateTitle=true&folderId=1vIw0hBj5EFFREdMim5XCsp0YpsXYMbY9&scrollTo=GIqmdgSLodqw)\n",
        "\n",
        ">[How do Transformer Works](#updateTitle=true&folderId=1vIw0hBj5EFFREdMim5XCsp0YpsXYMbY9&scrollTo=Yv9UfzzK8kdS)\n",
        "\n",
        ">>[Transformer History](#updateTitle=true&folderId=1vIw0hBj5EFFREdMim5XCsp0YpsXYMbY9&scrollTo=EYTOQU-b85N3)\n",
        "\n",
        ">>[General Architecture](#updateTitle=true&folderId=1vIw0hBj5EFFREdMim5XCsp0YpsXYMbY9&scrollTo=ZvtbChm9-PSd)\n",
        "\n",
        ">>[Attention Layer](#updateTitle=true&folderId=1vIw0hBj5EFFREdMim5XCsp0YpsXYMbY9&scrollTo=LWWwSq_D_GUH)\n",
        "\n",
        ">>[Original Architecture](#updateTitle=true&folderId=1vIw0hBj5EFFREdMim5XCsp0YpsXYMbY9&scrollTo=lJ6snjWl_f-R)\n",
        "\n",
        ">>[Architectures vs. checkpoints](#updateTitle=true&folderId=1vIw0hBj5EFFREdMim5XCsp0YpsXYMbY9&scrollTo=3slizkgv_8hm)\n",
        "\n"
      ],
      "metadata": {
        "colab_type": "toc",
        "id": "mCHAOXjc8Nqk"
      }
    },
    {
      "cell_type": "markdown",
      "source": [
        "# **Setup**"
      ],
      "metadata": {
        "id": "NxMSjRo8k5g6"
      }
    },
    {
      "cell_type": "code",
      "execution_count": 1,
      "metadata": {
        "colab": {
          "base_uri": "https://localhost:8080/"
        },
        "id": "rWx8eyIYkrY4",
        "outputId": "5a5fb59e-e77e-4570-8eae-fe0c41afe062"
      },
      "outputs": [
        {
          "output_type": "stream",
          "name": "stdout",
          "text": [
            "Requirement already satisfied: transformers in /usr/local/lib/python3.10/dist-packages (4.34.1)\n",
            "Requirement already satisfied: filelock in /usr/local/lib/python3.10/dist-packages (from transformers) (3.12.4)\n",
            "Requirement already satisfied: huggingface-hub<1.0,>=0.16.4 in /usr/local/lib/python3.10/dist-packages (from transformers) (0.17.3)\n",
            "Requirement already satisfied: numpy>=1.17 in /usr/local/lib/python3.10/dist-packages (from transformers) (1.23.5)\n",
            "Requirement already satisfied: packaging>=20.0 in /usr/local/lib/python3.10/dist-packages (from transformers) (23.2)\n",
            "Requirement already satisfied: pyyaml>=5.1 in /usr/local/lib/python3.10/dist-packages (from transformers) (6.0.1)\n",
            "Requirement already satisfied: regex!=2019.12.17 in /usr/local/lib/python3.10/dist-packages (from transformers) (2023.6.3)\n",
            "Requirement already satisfied: requests in /usr/local/lib/python3.10/dist-packages (from transformers) (2.31.0)\n",
            "Requirement already satisfied: tokenizers<0.15,>=0.14 in /usr/local/lib/python3.10/dist-packages (from transformers) (0.14.1)\n",
            "Requirement already satisfied: safetensors>=0.3.1 in /usr/local/lib/python3.10/dist-packages (from transformers) (0.4.0)\n",
            "Requirement already satisfied: tqdm>=4.27 in /usr/local/lib/python3.10/dist-packages (from transformers) (4.66.1)\n",
            "Requirement already satisfied: fsspec in /usr/local/lib/python3.10/dist-packages (from huggingface-hub<1.0,>=0.16.4->transformers) (2023.6.0)\n",
            "Requirement already satisfied: typing-extensions>=3.7.4.3 in /usr/local/lib/python3.10/dist-packages (from huggingface-hub<1.0,>=0.16.4->transformers) (4.5.0)\n",
            "Requirement already satisfied: charset-normalizer<4,>=2 in /usr/local/lib/python3.10/dist-packages (from requests->transformers) (3.3.0)\n",
            "Requirement already satisfied: idna<4,>=2.5 in /usr/local/lib/python3.10/dist-packages (from requests->transformers) (3.4)\n",
            "Requirement already satisfied: urllib3<3,>=1.21.1 in /usr/local/lib/python3.10/dist-packages (from requests->transformers) (2.0.7)\n",
            "Requirement already satisfied: certifi>=2017.4.17 in /usr/local/lib/python3.10/dist-packages (from requests->transformers) (2023.7.22)\n"
          ]
        }
      ],
      "source": [
        "!pip install transformers"
      ]
    },
    {
      "cell_type": "code",
      "source": [
        "!pip install transformers[sentencepiece]"
      ],
      "metadata": {
        "colab": {
          "base_uri": "https://localhost:8080/"
        },
        "id": "ypzecYq1plmL",
        "outputId": "8964939d-0f77-4a64-cde9-670c4d206c17"
      },
      "execution_count": 2,
      "outputs": [
        {
          "output_type": "stream",
          "name": "stdout",
          "text": [
            "Requirement already satisfied: transformers[sentencepiece] in /usr/local/lib/python3.10/dist-packages (4.34.1)\n",
            "Requirement already satisfied: filelock in /usr/local/lib/python3.10/dist-packages (from transformers[sentencepiece]) (3.12.4)\n",
            "Requirement already satisfied: huggingface-hub<1.0,>=0.16.4 in /usr/local/lib/python3.10/dist-packages (from transformers[sentencepiece]) (0.17.3)\n",
            "Requirement already satisfied: numpy>=1.17 in /usr/local/lib/python3.10/dist-packages (from transformers[sentencepiece]) (1.23.5)\n",
            "Requirement already satisfied: packaging>=20.0 in /usr/local/lib/python3.10/dist-packages (from transformers[sentencepiece]) (23.2)\n",
            "Requirement already satisfied: pyyaml>=5.1 in /usr/local/lib/python3.10/dist-packages (from transformers[sentencepiece]) (6.0.1)\n",
            "Requirement already satisfied: regex!=2019.12.17 in /usr/local/lib/python3.10/dist-packages (from transformers[sentencepiece]) (2023.6.3)\n",
            "Requirement already satisfied: requests in /usr/local/lib/python3.10/dist-packages (from transformers[sentencepiece]) (2.31.0)\n",
            "Requirement already satisfied: tokenizers<0.15,>=0.14 in /usr/local/lib/python3.10/dist-packages (from transformers[sentencepiece]) (0.14.1)\n",
            "Requirement already satisfied: safetensors>=0.3.1 in /usr/local/lib/python3.10/dist-packages (from transformers[sentencepiece]) (0.4.0)\n",
            "Requirement already satisfied: tqdm>=4.27 in /usr/local/lib/python3.10/dist-packages (from transformers[sentencepiece]) (4.66.1)\n",
            "Requirement already satisfied: sentencepiece!=0.1.92,>=0.1.91 in /usr/local/lib/python3.10/dist-packages (from transformers[sentencepiece]) (0.1.99)\n",
            "Requirement already satisfied: protobuf in /usr/local/lib/python3.10/dist-packages (from transformers[sentencepiece]) (3.20.3)\n",
            "Requirement already satisfied: fsspec in /usr/local/lib/python3.10/dist-packages (from huggingface-hub<1.0,>=0.16.4->transformers[sentencepiece]) (2023.6.0)\n",
            "Requirement already satisfied: typing-extensions>=3.7.4.3 in /usr/local/lib/python3.10/dist-packages (from huggingface-hub<1.0,>=0.16.4->transformers[sentencepiece]) (4.5.0)\n",
            "Requirement already satisfied: charset-normalizer<4,>=2 in /usr/local/lib/python3.10/dist-packages (from requests->transformers[sentencepiece]) (3.3.0)\n",
            "Requirement already satisfied: idna<4,>=2.5 in /usr/local/lib/python3.10/dist-packages (from requests->transformers[sentencepiece]) (3.4)\n",
            "Requirement already satisfied: urllib3<3,>=1.21.1 in /usr/local/lib/python3.10/dist-packages (from requests->transformers[sentencepiece]) (2.0.7)\n",
            "Requirement already satisfied: certifi>=2017.4.17 in /usr/local/lib/python3.10/dist-packages (from requests->transformers[sentencepiece]) (2023.7.22)\n"
          ]
        }
      ]
    },
    {
      "cell_type": "code",
      "source": [
        "!pip install sentencepiece"
      ],
      "metadata": {
        "colab": {
          "base_uri": "https://localhost:8080/"
        },
        "id": "6K8XitWVp6g9",
        "outputId": "ab30ff85-14a3-491c-b3b8-0447839337de"
      },
      "execution_count": 3,
      "outputs": [
        {
          "output_type": "stream",
          "name": "stdout",
          "text": [
            "Requirement already satisfied: sentencepiece in /usr/local/lib/python3.10/dist-packages (0.1.99)\n"
          ]
        }
      ]
    },
    {
      "cell_type": "code",
      "source": [
        "from transformers import pipeline"
      ],
      "metadata": {
        "id": "cdaQxKrhk4ft"
      },
      "execution_count": 4,
      "outputs": []
    },
    {
      "cell_type": "markdown",
      "source": [
        "# **Pipeline**"
      ],
      "metadata": {
        "id": "_M0tyQljlLOX"
      }
    },
    {
      "cell_type": "markdown",
      "source": [
        "The most basic object in the 🤗 Transformers library is the pipeline() function. It connects a model with its necessary preprocessing and postprocessing steps, allowing us to directly input any text and get an intelligible answer:"
      ],
      "metadata": {
        "id": "RifG0BKelQc1"
      }
    },
    {
      "cell_type": "markdown",
      "source": [
        "## **1. Sentiment Analysis**"
      ],
      "metadata": {
        "id": "V5MYoWvVlm76"
      }
    },
    {
      "cell_type": "code",
      "source": [
        "classifier = pipeline(\"sentiment-analysis\")\n",
        "classifier(\n",
        "    [\"I've been waiting for a HuggingFace course my whole life.\", \"I hate this so much!\"]\n",
        ")"
      ],
      "metadata": {
        "colab": {
          "base_uri": "https://localhost:8080/"
        },
        "id": "UsVVgCthlB8H",
        "outputId": "e72d99d7-4a51-4080-8b27-3f00d9ac7329"
      },
      "execution_count": 5,
      "outputs": [
        {
          "output_type": "stream",
          "name": "stderr",
          "text": [
            "No model was supplied, defaulted to distilbert-base-uncased-finetuned-sst-2-english and revision af0f99b (https://huggingface.co/distilbert-base-uncased-finetuned-sst-2-english).\n",
            "Using a pipeline without specifying a model name and revision in production is not recommended.\n"
          ]
        },
        {
          "output_type": "execute_result",
          "data": {
            "text/plain": [
              "[{'label': 'POSITIVE', 'score': 0.9598048329353333},\n",
              " {'label': 'NEGATIVE', 'score': 0.9994558691978455}]"
            ]
          },
          "metadata": {},
          "execution_count": 5
        }
      ]
    },
    {
      "cell_type": "markdown",
      "source": [
        "## **2. Zero-shot classification**   \n",
        " we need to classify texts that haven’t been labelled. This is a common scenario in real-world projects because annotating text is usually time-consuming and requires domain expertise. For this use case, the zero-shot-classification pipeline is very powerful: it allows you to specify which labels to use for the classification, so you don’t have to rely on the labels of the pretrained model. You’ve already seen how the model can classify a sentence as positive or negative using those two labels — but it can also classify the text using any other set of labels you like."
      ],
      "metadata": {
        "id": "Bh_YmbmSlwTV"
      }
    },
    {
      "cell_type": "code",
      "source": [
        "classifier = pipeline(\"zero-shot-classification\")\n",
        "classifier(\n",
        "    \"This is a course about the Transformers library\",\n",
        "    candidate_labels=[\"education\", \"politics\", \"business\"],\n",
        ")"
      ],
      "metadata": {
        "colab": {
          "base_uri": "https://localhost:8080/"
        },
        "id": "XLfzvJYClYZL",
        "outputId": "99b9b879-098b-4d33-eea7-fb9beee56145"
      },
      "execution_count": 6,
      "outputs": [
        {
          "output_type": "stream",
          "name": "stderr",
          "text": [
            "No model was supplied, defaulted to facebook/bart-large-mnli and revision c626438 (https://huggingface.co/facebook/bart-large-mnli).\n",
            "Using a pipeline without specifying a model name and revision in production is not recommended.\n"
          ]
        },
        {
          "output_type": "execute_result",
          "data": {
            "text/plain": [
              "{'sequence': 'This is a course about the Transformers library',\n",
              " 'labels': ['education', 'business', 'politics'],\n",
              " 'scores': [0.8445989489555359, 0.11197412759065628, 0.04342695698142052]}"
            ]
          },
          "metadata": {},
          "execution_count": 6
        }
      ]
    },
    {
      "cell_type": "markdown",
      "source": [
        "This pipeline is called zero-shot because you don’t need to fine-tune the model on your data to use it. It can directly return probability scores for any list of labels you want!"
      ],
      "metadata": {
        "id": "jLkPMSz2mOEB"
      }
    },
    {
      "cell_type": "markdown",
      "source": [
        "## **3. Text Generation**  \n",
        "The main idea here is that you provide a prompt and the model will auto-complete it by generating the remaining text. This is similar to the predictive text feature that is found on many phones. Text generation involves randomness, so it’s normal if you don’t get the same results as shown below."
      ],
      "metadata": {
        "id": "QLnGphgvmSOK"
      }
    },
    {
      "cell_type": "code",
      "source": [
        "generator = pipeline(\"text-generation\", model=\"distilgpt2\")\n",
        "generator(\n",
        "    \"In this course, we will teach you how to\",\n",
        "    max_length=30, # total length of the output text\n",
        "    num_return_sequences=2, #how many different sequences are generated\n",
        ")"
      ],
      "metadata": {
        "colab": {
          "base_uri": "https://localhost:8080/"
        },
        "id": "1PaMBD35mk77",
        "outputId": "9ff43d51-b71c-4bd3-d169-67e25d7bac4d"
      },
      "execution_count": 7,
      "outputs": [
        {
          "output_type": "stream",
          "name": "stderr",
          "text": [
            "Setting `pad_token_id` to `eos_token_id`:50256 for open-end generation.\n"
          ]
        },
        {
          "output_type": "execute_result",
          "data": {
            "text/plain": [
              "[{'generated_text': 'In this course, we will teach you how to set up your own personal network. We would like you to contribute to the project too, because,'},\n",
              " {'generated_text': 'In this course, we will teach you how to build your own company and build your own portfolio in a way that will also help you to grow the'}]"
            ]
          },
          "metadata": {},
          "execution_count": 7
        }
      ]
    },
    {
      "cell_type": "markdown",
      "source": [
        "## **4. Mask Filling**  \n",
        "The idea of this task is to fill in the blanks in a given text:"
      ],
      "metadata": {
        "id": "z8Kwfb4BnV-5"
      }
    },
    {
      "cell_type": "code",
      "source": [
        "unmasker = pipeline(\"fill-mask\")\n",
        "unmasker(\"This course will teach you all about <mask> models.\", top_k=2)"
      ],
      "metadata": {
        "colab": {
          "base_uri": "https://localhost:8080/"
        },
        "id": "ealkkAdhmkaz",
        "outputId": "5d131284-134a-4a86-c3a3-7a3880a2be51"
      },
      "execution_count": 8,
      "outputs": [
        {
          "output_type": "stream",
          "name": "stderr",
          "text": [
            "No model was supplied, defaulted to distilroberta-base and revision ec58a5b (https://huggingface.co/distilroberta-base).\n",
            "Using a pipeline without specifying a model name and revision in production is not recommended.\n",
            "Some weights of the model checkpoint at distilroberta-base were not used when initializing RobertaForMaskedLM: ['roberta.pooler.dense.weight', 'roberta.pooler.dense.bias']\n",
            "- This IS expected if you are initializing RobertaForMaskedLM from the checkpoint of a model trained on another task or with another architecture (e.g. initializing a BertForSequenceClassification model from a BertForPreTraining model).\n",
            "- This IS NOT expected if you are initializing RobertaForMaskedLM from the checkpoint of a model that you expect to be exactly identical (initializing a BertForSequenceClassification model from a BertForSequenceClassification model).\n"
          ]
        },
        {
          "output_type": "execute_result",
          "data": {
            "text/plain": [
              "[{'score': 0.19619806110858917,\n",
              "  'token': 30412,\n",
              "  'token_str': ' mathematical',\n",
              "  'sequence': 'This course will teach you all about mathematical models.'},\n",
              " {'score': 0.04052723944187164,\n",
              "  'token': 38163,\n",
              "  'token_str': ' computational',\n",
              "  'sequence': 'This course will teach you all about computational models.'}]"
            ]
          },
          "metadata": {},
          "execution_count": 8
        }
      ]
    },
    {
      "cell_type": "markdown",
      "source": [
        "The top_k argument controls how many possibilities you want to be displayed.   Note that here the model fills in the special <mask> word, which is often referred to as a mask token. Other mask-filling models might have different mask tokens, so it’s always good to verify the proper mask word when exploring other models."
      ],
      "metadata": {
        "id": "wcB3eflQntVT"
      }
    },
    {
      "cell_type": "markdown",
      "source": [
        "## **5. Named Entity Recognition**  \n",
        "Named entity recognition (NER) is a task where the model has to find which parts of the input text correspond to entities such as persons, locations, or organizations."
      ],
      "metadata": {
        "id": "jN2q1vEMn3sH"
      }
    },
    {
      "cell_type": "code",
      "source": [
        "ner = pipeline(\"ner\", grouped_entities=True)\n",
        "ner(\"My name is Sylvain and I work at Hugging Face in Brooklyn.\")"
      ],
      "metadata": {
        "colab": {
          "base_uri": "https://localhost:8080/"
        },
        "id": "e8MWBEGMn3ZM",
        "outputId": "1023c39b-6feb-48e6-b799-eecf98debd22"
      },
      "execution_count": 9,
      "outputs": [
        {
          "output_type": "stream",
          "name": "stderr",
          "text": [
            "No model was supplied, defaulted to dbmdz/bert-large-cased-finetuned-conll03-english and revision f2482bf (https://huggingface.co/dbmdz/bert-large-cased-finetuned-conll03-english).\n",
            "Using a pipeline without specifying a model name and revision in production is not recommended.\n",
            "Some weights of the model checkpoint at dbmdz/bert-large-cased-finetuned-conll03-english were not used when initializing BertForTokenClassification: ['bert.pooler.dense.bias', 'bert.pooler.dense.weight']\n",
            "- This IS expected if you are initializing BertForTokenClassification from the checkpoint of a model trained on another task or with another architecture (e.g. initializing a BertForSequenceClassification model from a BertForPreTraining model).\n",
            "- This IS NOT expected if you are initializing BertForTokenClassification from the checkpoint of a model that you expect to be exactly identical (initializing a BertForSequenceClassification model from a BertForSequenceClassification model).\n",
            "/usr/local/lib/python3.10/dist-packages/transformers/pipelines/token_classification.py:169: UserWarning: `grouped_entities` is deprecated and will be removed in version v5.0.0, defaulted to `aggregation_strategy=\"simple\"` instead.\n",
            "  warnings.warn(\n"
          ]
        },
        {
          "output_type": "execute_result",
          "data": {
            "text/plain": [
              "[{'entity_group': 'PER',\n",
              "  'score': 0.9981694,\n",
              "  'word': 'Sylvain',\n",
              "  'start': 11,\n",
              "  'end': 18},\n",
              " {'entity_group': 'ORG',\n",
              "  'score': 0.9796019,\n",
              "  'word': 'Hugging Face',\n",
              "  'start': 33,\n",
              "  'end': 45},\n",
              " {'entity_group': 'LOC',\n",
              "  'score': 0.9932106,\n",
              "  'word': 'Brooklyn',\n",
              "  'start': 49,\n",
              "  'end': 57}]"
            ]
          },
          "metadata": {},
          "execution_count": 9
        }
      ]
    },
    {
      "cell_type": "markdown",
      "source": [
        "We pass the option grouped_entities=True in the pipeline creation function to tell the pipeline to regroup together the parts of the sentence that correspond to the same entity: here the model correctly grouped “Hugging” and “Face” as a single organization, even though the name consists of multiple words. In fact, as we will see in the next chapter, the preprocessing even splits some words into smaller parts. For instance, Sylvain is split into four pieces: S, ##yl, ##va, and ##in. In the post-processing step, the pipeline successfully regrouped those pieces."
      ],
      "metadata": {
        "id": "TqqxcFWkoCyE"
      }
    },
    {
      "cell_type": "markdown",
      "source": [
        "## **6. Question Answering**  \n",
        "The question-answering pipeline answers questions using information from a given context:"
      ],
      "metadata": {
        "id": "658a1aFdoSQi"
      }
    },
    {
      "cell_type": "code",
      "source": [
        "question_answerer = pipeline(\"question-answering\")\n",
        "question_answerer(\n",
        "    question=\"Where do I work?\",\n",
        "    context=\"My name is Sylvain and I work at Hugging Face in Brooklyn\",\n",
        ")"
      ],
      "metadata": {
        "colab": {
          "base_uri": "https://localhost:8080/"
        },
        "id": "LXIWRbktoXk-",
        "outputId": "2dfd6a1d-d7d1-4029-9900-bf7328071ce2"
      },
      "execution_count": 10,
      "outputs": [
        {
          "output_type": "stream",
          "name": "stderr",
          "text": [
            "No model was supplied, defaulted to distilbert-base-cased-distilled-squad and revision 626af31 (https://huggingface.co/distilbert-base-cased-distilled-squad).\n",
            "Using a pipeline without specifying a model name and revision in production is not recommended.\n"
          ]
        },
        {
          "output_type": "execute_result",
          "data": {
            "text/plain": [
              "{'score': 0.6949767470359802, 'start': 33, 'end': 45, 'answer': 'Hugging Face'}"
            ]
          },
          "metadata": {},
          "execution_count": 10
        }
      ]
    },
    {
      "cell_type": "markdown",
      "source": [
        "Note that this pipeline works by extracting information from the provided context; it does not generate the answer."
      ],
      "metadata": {
        "id": "Ntj1kCP-oc3a"
      }
    },
    {
      "cell_type": "markdown",
      "source": [
        "## **7. Summarization**  \n",
        "Summarization is the task of reducing a text into a shorter text while keeping all (or most) of the important aspects referenced in the text."
      ],
      "metadata": {
        "id": "GIqmdgSLodqw"
      }
    },
    {
      "cell_type": "code",
      "source": [
        "summarizer = pipeline(\"summarization\")\n",
        "summarizer(\n",
        "    \"\"\"\n",
        "    America has changed dramatically during recent years. Not only has the number of\n",
        "    graduates in traditional engineering disciplines such as mechanical, civil,\n",
        "    electrical, chemical, and aeronautical engineering declined, but in most of\n",
        "    the premier American universities engineering curricula now concentrate on\n",
        "    and encourage largely the study of engineering science. As a result, there\n",
        "    are declining offerings in engineering subjects dealing with infrastructure,\n",
        "    the environment, and related issues, and greater concentration on high\n",
        "    technology subjects, largely supporting increasingly complex scientific\n",
        "    developments. While the latter is important, it should not be at the expense\n",
        "    of more traditional engineering.\n",
        "\n",
        "    Rapidly developing economies such as China and India, as well as other\n",
        "    industrial countries in Europe and Asia, continue to encourage and advance\n",
        "    the teaching of engineering. Both China and India, respectively, graduate\n",
        "    six and eight times as many traditional engineers as does the United States.\n",
        "    Other industrial countries at minimum maintain their output, while America\n",
        "    suffers an increasingly serious decline in the number of engineering graduates\n",
        "    and a lack of well-educated engineers.\n",
        "\"\"\"\n",
        ")"
      ],
      "metadata": {
        "colab": {
          "base_uri": "https://localhost:8080/"
        },
        "id": "vyVLrvHXokp7",
        "outputId": "0ee0f94b-7cf5-4158-9c35-ed1c38a47fa1"
      },
      "execution_count": 11,
      "outputs": [
        {
          "output_type": "stream",
          "name": "stderr",
          "text": [
            "No model was supplied, defaulted to sshleifer/distilbart-cnn-12-6 and revision a4f8f3e (https://huggingface.co/sshleifer/distilbart-cnn-12-6).\n",
            "Using a pipeline without specifying a model name and revision in production is not recommended.\n"
          ]
        },
        {
          "output_type": "execute_result",
          "data": {
            "text/plain": [
              "[{'summary_text': ' America has changed dramatically during recent years . The number of engineering graduates in the U.S. has declined in traditional engineering disciplines such as mechanical, civil,    electrical, chemical, and aeronautical engineering . Rapidly developing economies such as China and India continue to encourage and advance the teaching of engineering .'}]"
            ]
          },
          "metadata": {},
          "execution_count": 11
        }
      ]
    },
    {
      "cell_type": "markdown",
      "source": [
        "Like with text generation, you can specify a max_length or a min_length for the result."
      ],
      "metadata": {
        "id": "dmAooS_0ooHT"
      }
    },
    {
      "cell_type": "markdown",
      "source": [
        "**8. Translation**  \n",
        "For translation, you can use a default model if you provide a language pair in the task name (such as \"translation_en_to_fr\"), but the easiest way is to pick the model you want to use on the [Model Hub](https://huggingface.co/models). Here we’ll try translating from French to English:"
      ],
      "metadata": {
        "id": "9-3rQjvqovR_"
      }
    },
    {
      "cell_type": "code",
      "source": [
        "translator = pipeline(\"translation\", model=\"Helsinki-NLP/opus-mt-fr-en\")\n",
        "translator(\"Ce cours est produit par Hugging Face.\")"
      ],
      "metadata": {
        "colab": {
          "base_uri": "https://localhost:8080/",
          "height": 188,
          "referenced_widgets": [
            "1884bd7fa380430eb67f229176e5062f",
            "efa976ff34554721b89877a9cd5b8031",
            "1846b20f7f6f4fa1bbe982e48afc4cf4",
            "0717a6631e2343e998d7d0106726bc04",
            "c608e8059a0a4fae9cc8578aa99dbda5",
            "4b122980709841a6ae41c3d1d0701c94",
            "fb6e75c0251d423abfad325b888907c1",
            "0d253f6389e84675a001805355987cf1",
            "b081da66dba64601af3fe567e63b7b1c",
            "8ee575a0ce0c4592a38debe135c29650",
            "c5e900be242547c4b8a6a46e330f8d4f",
            "865ea44b2b404380915b065357b428c8",
            "f4f23f79d011485180daeb78ff3ae8a3",
            "e0a3ff8c3119489395912f8a55e6958d",
            "88b96cbd4e454b1eb3d2c13c87847bc8",
            "1d2e9847afe84cb99b8773557caccd67",
            "e6ae35df9a7c44709806b110e04c1c33",
            "945cb7e11db347a59017215bd87dc238",
            "7bb2150351664235ad7fa628e46cf748",
            "1584879b2334440993fc8eed0ab95605",
            "06577a285c9b4827bb415a3e381facc4",
            "61faf8e0b8b64a31ad52e28a360508fc",
            "b8168658393d4203aa0cdda7874c3d82",
            "30420d68710f4a1e8eb3791f196a8ce9",
            "2ea64d3ce19e42e3938adb326aee9275",
            "8171788e6d484633bce7e9313553412e",
            "2b20a47c2e6a4fffac85b3f2eeba963f",
            "7c2f7eb3e63f4043b7a006516a6a2ebd",
            "d3bc5db0c2a24e3aa8084f33d58b4e45",
            "e3cefc20b5ed49d199f6cfcc48955435",
            "bb85675ba8e84a049f98ce0a75dc5063",
            "b24d7dadddc14fe1b220512391d5dc5a",
            "d4f50f8abb7740adb95300bfe182685d"
          ]
        },
        "id": "pAXQjzwUpO5B",
        "outputId": "965d291d-d64c-44df-b2f7-d229fe0bfcc3"
      },
      "execution_count": 12,
      "outputs": [
        {
          "output_type": "display_data",
          "data": {
            "text/plain": [
              "Downloading (…)olve/main/source.spm:   0%|          | 0.00/802k [00:00<?, ?B/s]"
            ],
            "application/vnd.jupyter.widget-view+json": {
              "version_major": 2,
              "version_minor": 0,
              "model_id": "1884bd7fa380430eb67f229176e5062f"
            }
          },
          "metadata": {}
        },
        {
          "output_type": "display_data",
          "data": {
            "text/plain": [
              "Downloading (…)olve/main/target.spm:   0%|          | 0.00/778k [00:00<?, ?B/s]"
            ],
            "application/vnd.jupyter.widget-view+json": {
              "version_major": 2,
              "version_minor": 0,
              "model_id": "865ea44b2b404380915b065357b428c8"
            }
          },
          "metadata": {}
        },
        {
          "output_type": "display_data",
          "data": {
            "text/plain": [
              "Downloading (…)olve/main/vocab.json:   0%|          | 0.00/1.34M [00:00<?, ?B/s]"
            ],
            "application/vnd.jupyter.widget-view+json": {
              "version_major": 2,
              "version_minor": 0,
              "model_id": "b8168658393d4203aa0cdda7874c3d82"
            }
          },
          "metadata": {}
        },
        {
          "output_type": "stream",
          "name": "stderr",
          "text": [
            "/usr/local/lib/python3.10/dist-packages/transformers/models/marian/tokenization_marian.py:197: UserWarning: Recommended: pip install sacremoses.\n",
            "  warnings.warn(\"Recommended: pip install sacremoses.\")\n"
          ]
        },
        {
          "output_type": "execute_result",
          "data": {
            "text/plain": [
              "[{'translation_text': 'This course is produced by Hugging Face.'}]"
            ]
          },
          "metadata": {},
          "execution_count": 12
        }
      ]
    },
    {
      "cell_type": "markdown",
      "source": [
        "# **How do Transformer Works**"
      ],
      "metadata": {
        "id": "Yv9UfzzK8kdS"
      }
    },
    {
      "cell_type": "markdown",
      "source": [
        "## Transformer History\n"
      ],
      "metadata": {
        "id": "EYTOQU-b85N3"
      }
    },
    {
      "cell_type": "markdown",
      "source": [
        "The Transformer architecture was introduced in June 2017. The focus of the original research was on translation tasks. This was followed by the introduction of several influential models, including:\n",
        "\n",
        "\n",
        "1.   June 2018: GPT, the first pretrained Transformer model, used for fine-tuning on various NLP tasks and obtained state-of-the-art results\n",
        "2.   October 2018: BERT, another large pretrained model, this one designed to produce better summaries of sentences (more on this in the next chapter!)\n",
        "3. February 2019: GPT-2, an improved (and bigger) version of GPT that was not immediately publicly released due to ethical concerns\n",
        "4. October 2019: DistilBERT, a distilled version of BERT that is 60% faster, 40% lighter in memory, and still retains 97% of BERT’s performance\n",
        "5. October 2019: BART and T5, two large pretrained models using the same architecture as the original Transformer model (the first to do so)\n",
        "6. May 2020, GPT-3, an even bigger version of GPT-2 that is able to perform well on a variety of tasks without the need for fine-tuning (called zero-shot learning)\n",
        "\n"
      ],
      "metadata": {
        "id": "cWq5xPrs9y5t"
      }
    },
    {
      "cell_type": "markdown",
      "source": [
        "This list is far from comprehensive, and is just meant to highlight a few of the different kinds of Transformer models. Broadly, they can be grouped into three categories:\n",
        "\n",
        "1. GPT-like (also called auto-regressive Transformer models)  \n",
        "2. BERT-like (also called auto-encoding Transformer models)  \n",
        "3.  BART/T5-like (also called sequence-to-sequence Transformer models)\n"
      ],
      "metadata": {
        "id": "PhaHlW3u-Bjx"
      }
    },
    {
      "cell_type": "markdown",
      "source": [
        "## General Architecture"
      ],
      "metadata": {
        "id": "ZvtbChm9-PSd"
      }
    },
    {
      "cell_type": "markdown",
      "source": [
        "![image.png](data:image/png;base64,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)"
      ],
      "metadata": {
        "id": "ZNF6RuYX-liE"
      }
    },
    {
      "cell_type": "markdown",
      "source": [
        "The model is primarily composed of two blocks:\n",
        "\n",
        "*   Encoder (Left)   \n",
        "    The encoder receives an input and builds a representation of it (its features). This means that the model is optimized to acquire understanding from the input.\n",
        "*   Decoder (Right)\n",
        "    The decoder uses the encoder’s representation (features) along with other inputs to generate a target sequence. This means that the model is optimized for generating outputs.\n",
        "\n",
        "\n",
        "\n",
        "\n"
      ],
      "metadata": {
        "id": "vzbHdXoQ-SwL"
      }
    },
    {
      "cell_type": "markdown",
      "source": [
        "Each of these parts can be used independently, depending on the task:\n",
        "1. Encoder-only models for Natural Language Understanding (NLU):  \n",
        "Good for tasks that require understanding of the input, such as sentence classification and named entity recognition.\n",
        "2. Decoder-only models for Natural Language Generation (NLG):  \n",
        "Good for generative tasks such as text generation.\n",
        "3. Encoder-decoder models or sequence-to-sequence models:   \n",
        "Good for generative tasks that require an input, such as translation or summarization."
      ],
      "metadata": {
        "id": "JRgjjy7W-s8o"
      }
    },
    {
      "cell_type": "markdown",
      "source": [
        "## Attention Layer"
      ],
      "metadata": {
        "id": "LWWwSq_D_GUH"
      }
    },
    {
      "cell_type": "markdown",
      "source": [
        "To put this into context, consider the task of translating text from English to French. Given the input “You like this course”, a translation model will need to also attend to the adjacent word “You” to get the proper translation for the word “like”, because in French the verb “like” is conjugated differently depending on the subject. The rest of the sentence, however, is not useful for the translation of that word. In the same vein, when translating “this” the model will also need to pay attention to the word “course”, because “this” translates differently depending on whether the associated noun is masculine or feminine. Again, the other words in the sentence will not matter for the translation of “this”. With more complex sentences (and more complex grammar rules), the model would need to pay special attention to words that might appear farther away in the sentence to properly translate each word.\n",
        "\n",
        "The same concept applies to any task associated with natural language: a word by itself has a meaning, but that meaning is deeply affected by the context, which can be any other word (or words) before or after the word being studied."
      ],
      "metadata": {
        "id": "pJ7UdGUp_MB2"
      }
    },
    {
      "cell_type": "markdown",
      "source": [
        "## Original Architecture"
      ],
      "metadata": {
        "id": "lJ6snjWl_f-R"
      }
    },
    {
      "cell_type": "markdown",
      "source": [
        "The Transformer architecture was originally designed for translation. During training, the encoder receives inputs (sentences) in a certain language, while the decoder receives the same sentences in the desired target language. In the encoder, the attention layers can use all the words in a sentence (since, as we just saw, the translation of a given word can be dependent on what is after as well as before it in the sentence). The decoder, however, works sequentially and can only pay attention to the words in the sentence that it has already translated (so, only the words before the word currently being generated). For example, when we have predicted the first three words of the translated target, we give them to the decoder which then uses all the inputs of the encoder to try to predict the fourth word.\n",
        "\n",
        "To speed things up during training (when the model has access to target sentences), the decoder is fed the whole target, but it is not allowed to use future words (if it had access to the word at position 2 when trying to predict the word at position 2, the problem would not be very hard!). For instance, when trying to predict the fourth word, the attention layer will only have access to the words in positions 1 to 3.\n",
        "\n",
        "The original Transformer architecture looked like this, with the encoder on the left and the decoder on the right:"
      ],
      "metadata": {
        "id": "G_tfKuiA_ikz"
      }
    },
    {
      "cell_type": "markdown",
      "source": [
        "![image.png](data:image/png;base64,iVBORw0KGgoAAAANSUhEUgAAByEAAARbCAYAAAAgKd1YAAAgAElEQVR4AezdiZscVb0/4N8fcIGQTDKZ7lmyh30NhB0BESSA7IggoICyLy6AKLIJsocEkgABFfWCorJGUAQVEQQRXJDFlVVAEBUE8XqX83u+BdXMJN2TmUxNT3fP28+T9Ez16eqqU2/V9DmfOlX/7z9W6Uj+qQMGGGCAAQYYYIABBhhggAEGGGCAAQYYYIABBhhggAEGGCjKwP8rakbmAyUDDDDAAAMMMMAAAwwwwAADDDDAAAMMMMAAAwwwwAADDIQBIaSRoEbCMsAAAwwwwAADDDDAAAMMMMAAAwwwwAADDDDAAAMMMFCoASEkUIWCcnaDsxsYYIABBhhggAEGGGCAAQYYYIABBhhggAEGGGCAAQaEkEJIISQDDDDAAAMMMMAAAwwwwAADDDDAAAMMMMAAAwwwwAADhRoQQgJVKChnNjizgQEGGGCAAQYYYIABBhhggAEGGGCAAQYYYIABBhhgQAgphBRCMsAAAwwwwAADDDDAAAMMMMAAAwwwwAADDDDAAAMMMFCoASEkUIWCcmaDMxsYYIABBhhggAEGGGCAAQYYYIABBhhggAEGGGCAAQaEkEJIISQDDDDAAAMMMMAAAwwwwAADDDDAAAMMMMAAAwwwwAADhRoQQgJVKChnNjizgQEGGGCAAQYYYIABBhhggAEGGGCAAQYYYIABBhhgQAgphBRCMsAAAwwwwAADDDDAAAMMMMAAAwwwwAADDDDAAAMMMFCoASEkUIWCcmaDMxsYYIABBhhggAEGGGCAAQYYYIABBhhggAEGGGCAAQaEkEJIISQDDDDAAAMMMMAAAwwwwAADDDDAAAMMMMAAAwwwwAADhRoQQgJVKChnNjizgQEGGGCAAQYYYIABBhhggAEGGGCAAQYYYIABBhhgQAgphBRCMsAAAwwwwAADDDDAAAMMMMAAAwwwwAADDDDAAAMMMFCoASEkUIWCcmaDMxsYYIABBhhggAEGGGCAAQYYYIABBhhggAEGGGCAAQaEkEJIISQDDDDAAAMMMMAAAwwwwAADDDDAAAMMMMAAAwwwwAADhRoQQgJVKChnNjizgQEGGGCAAQYYYIABBhhggAEGGGCAAQYYYIABBhhgQAgphBRCMsAAAwwwwAADDDDAAAMMMMAAAwwwwAADDDDAAAMMMFCoASEkUIWCcmaDMxsYYIABBhhggAEGGGCAAQYYYIABBhhggAEGGGCAAQaEkEJIISQDDDDAAAMMMMAAAwwwwAADDDDAAAMMMMAAAwwwwAADhRoQQgJVKChnNjizgQEGGGCAAQYYYIABBhhggAEGGGCAAQYYYIABBhhgQAgphBRCMsAAAwwwwAADDDDAAAMMMMAAAwwwwAADDDDAAAMMMFCoASEkUIWCcmaDMxsYYIABBhhggAEGGGCAAQYYYIABBhhggAEGGGCAAQaEkEJIISQDDDDAAAMMMMAAAwwwwAADDDDAAAMMMMAAAwwwwAADhRoQQgJVKChnNjizgQEGGGCAAQYYYIABBhhggAEGGGCAAQYYYIABBhhgQAgphBRCMsAAAwwwwAADDDDAAAMMMMAAAwwwwAADDDDAAAMMMFCoASEkUIWCcmaDMxsYYIABBhhggAEGGGCAAQYYYIABBhhggAEGGGCAAQaEkEJIISQDDDDAAAMMMMAAAwwwwAADDDDAAAMMMMAAAwwwwAADhRoQQgJVKChnNjizgQEGGGCAAQYYYIABBhhggAEGGGCAAQYYYIABBhhgQAgphBRCMsAAAwwwwAADDDDAAAMMMMAAAwwwwAADDDDAAAMMMFCoASEkUIWCcmaDMxsYYIABBhhggAEGGGCAAQYYYIABBhhggAEGGGCAAQaEkEJIISQDDDDAAAMMMMAAAwwwwAADDDDAAAMMMMAAAwwwwAADhRoQQgJVKChnNjizgQEGGGCAAQYYYIABBhhggAEGGGCAAQYYYIABBhhgQAgphBRCMsAAAwwwwAADDDDAAAMMMMAAAwwwwAADDDDAAAMMMFCoASEkUIWCcmaDMxsYYIABBhhggAEGGGCAAQYYYIABBhhggAEGGGCAAQaEkEJIISQDDDDAAAMMMMAAAwwwwAADDDDAAAMMMMAAAwwwwAADhRoQQgJVKChnNjizgQEGGGCAAQYYYIABBhhggAEGGGCAAQYYYIABBhhgQAgphBRCMsAAAwwwwAADDDDAAAMMMMAAAwwwwAADDDDAAAMMMFCoASEkUIWCcmaDMxsYYIABBhhggAEGGGCAAQYYYIABBhhggAEGGGCAAQaEkEJIISQDDDDAAAMMMMAAAwwwwAADDDDAAAMMMMAAAwwwwAADhRoQQgJVKChnNjizgQEGGGCAAQYYYIABBhhggAEGGGCAAQYYYIABBhhgQAgphBRCMsAAAwwwwAADDDDAAAMMMMAAAwwwwAADDDDAAAMMMFCoASEkUIWCcmaDMxsYYIABBhhggAEGGGCAAQYYYIABBhhggAEGGGCAAQaEkEJIISQDDDDAAAMMMMAAAwwwwAADDDDAAAMMMMAAAwwwwAADhRoQQgJVKChnNjizgQEGGGCAAQYYYIABBhhggAEGGGCAAQYYYIABBhhgQAgphBRCMsAAAwwwwAADDDDAAAMMMMAAAwwwwAADDDDAAAMMMFCoASEkUIWCcmaDMxsYYIABBhhggAEGGGCAAQYYYIABBhhggAEGGGCAAQaEkEJIISQDDDDAAAMMMMAAAwwwwAADDDDAAAMMMMAAAwwwwAADhRoQQgJVKChnNjizgQEGGGCAAQYYYIABBhhggAEGGGCAAQYYYIABBhhgQAgphBRCMsAAAwwwwAADDDDAAAMMMMAAAwwwwAADDDDAAAMMMFCoASEkUIWCcmaDMxsYYIABBhhggAEGGGCAAQYYYIABBhhggAEGGGCAAQaEkEJIISQDDDDAAAMMMMAAAwwwwAADDDDAAAMMMMAAAwwwwAADhRoQQgJVKChnNjizgQEGGGCAAQYYYIABBhhggAEGGGCAAQYYYIABBhhgQAgphBRCMsAAAwwwwAADDDDAAAMMMMAAAwwwwAADDDDAAAMMMFCoASEkUIWCcmaDMxsYYIABBhhggAEGGGCAAQYYYIABBhhggAEGGGCAAQaEkEJIISQDDDDAAAMMMMAAAwwwwAADDDDAAAMMMMAAAwwwwAADhRoQQgJVKChnNjizgQEGGGCAAQYYYIABBhhggAEGGGCAAQYYYIABBhhgQAgphBRCMsAAAwwwwAADDDDAAAMMMMAAAwwwwAADDDDAAAMMMFCoASEkUIWCcmaDMxsYYIABBhhggAEGGGCAAQYYYIABBhhggAEGGGCAAQaEkEJIISQDDDDAAAMMMMAAAwwwwAADDDDAAAMMMMAAAwwwwAADhRoQQgJVKChnNjizgQEGGGCAAQYYYIABBhhggAEGGGCAAQYYYIABBhhgQAgphBRCMsAAAwwwwAADDDDAAAMMMMAAAwwwwAADDDDAAAMMMFCoASEkUIWCcmaDMxsYYIABBhhggAEGGGCAAQYYYIABBhhggAEGGGCAAQaEkEJIISQDDDDAAAMMMMAAAwwwwAADDDDAAAMMMMAAAwwwwAADhRoQQgJVKChnNjizgQEGGGCAAQYYYIABBhhggAEGGGCAAQYYYIABBhhgQAgphBRCMsAAAwwwwAADDDDAAAMMMMAAAwwwwAADDDDAAAMMMFCoASEkUIWCcmaDMxsYYIABBhhggAEGGGCAAQYYYIABBhhggAEGGGCAAQaEkEJIISQDDDDAAAMMMMAAAwwwwAADDDDAAAMMMMAAAwwwwAADhRoQQgJVKChnNjizgQEGGGCAAQYYYIABBhhggAEGGGCAAQYYYIABBhhgQAgphBRCMsAAAwwwwAADDDDAAAMMMMAAAwwwwAADDDDAAAMMMFCoASEkUIWCcmaDMxsYYIABBhhggAEGGGCAAQYYYIABBhhggAEGGGCAAQaEkEJIISQDDDDAAAMMMMAAAwwwwAADDDDAAAMMMMAAAwwwwAADhRoQQgJVKChnNjizgQEGGGCAAQYYYIABBhhggAEGGGCAAQYYYIABBhhgQAgphBRCMsAAAwwwwAADDDDAAAMMMMAAAwwwwAADDDDAAAMMMFCoASEkUIWCcmaDMxsYYIABBhhggAEGGGCAAQYYYIABBhhggAEGGGCAAQaEkEJIISQDDDDAAAMMMMAAAwwwwAADDDDAAAMMMMAAAwwwwAADhRoQQgJVKChnNjizgQEGGGCAAQYYYIABBhhggAEGGGCAAQYYYIABBhhgQAgphBRCMsAAAwwwwAADDDDAAAMMMMAAAwwwwAADDDDAAAMMMFCoASEkUIWCcmaDMxsYYIABBhhggAEGGGCAAQYYYIABBhhggAEGGGCAAQaEkEJIISQDDDDAAAMMMMAAAwwwwAADDDDAAAMMMMAAAwwwwAADhRoQQgJVKChnNjizgQEGGGCAAQYYYIABBhhggAEGGGCAAQYYYIABBhhgQAgphBRCMsAAAwwwwAADDDDAAAMMMMAAAwwwwAADDDDAAAMMMFCoASEkUIWCcmaDMxsYYIABBhhggAEGGGCAAQYYYIABBhhggAEGGGCAAQaEkEJIISQDDDDAAAMMMMAAAwwwwAADDDDAAAMMMMAAAwwwwAADhRoQQgJVKChnNjizgQEGGGCAAQYYYIABBhhggAEGGGCAAQYYYIABBhhgQAgphBRCMsAAAwwwwAADDDDAAAMMMMAAAwwwwAADDDDAAAMMMFCoASEkUIWCcmaDMxsYYIABBhhggAEGGGCAAQYYYIABBhhggAEGGGCAAQaEkEJIISQDDDDAAAMMMMAAAwwwwAADI2bgvXP2TGuuM7uwzy93z0wxz6kz1l2heXZNWj17/5Tp66zQ+3W26WxjgAEGGGCAAQYYYOAtA0JIDU2NKgYYYIABBhhggAEGGGCAgRoGJk1dK2297U5p+sz11FGNOhpKB8vqa81K8Tj/wnmF1e+cXffO5nn4kccvd56bbr5dVvZjnzilUna3PfbLph1y2NGVaRvNflc27cSTTq1M62+9P3PqWenNN/+V1ttw8wGV729eXtOJyQADDDDAAAMMMNCsBoSQw9CIalYMltuBjAEGGGCAAQYYYIABBhh4y8CBB380PfHEb7PgKf/vqaeeTr3DqhWtq8M+ekza/4OH1jWcOvvzF6bNt9y+rp85kPoZ6RDy6GM/kW3er19/Q6VuqoWQHz38uKzcjTfdWikX63fIYUelsLL0un77tu9m5T90yBHLvLZ0Wb877jLAAAMMMMAAAwy0qgEhpBBSg4gBBhhggAEGGGCAAQYYYKCXgY9/8pQsQPryV65LPVPWzOqmo3NGumT+wmz63EsWDKm+Hnr4F+mb37ppSPMYTCdFXJ40Hkce/bG6feZAl2+kQ8hYzh3eu3sqdc2s1E21EDLKvWfH3VLUZe91u/+BB9PNt9zWZ1q8Hpd03X6H9y0zvfd7/ayzkQEGGGCAAQYYYKDVDQghezU0W31jWz8HNAYYYIABBhhggAEGGGCgfwMbb7JNFtj95Cc/rRog3XDjLdnrcc/BFa3LJ598uq4h5NrrbtK4IeSab1+O9YJLVrg+l94OO+28V7a+hx+x/MuxLv3e+L1WCFmt7G9/9/uqIWS1sqb1v++pH/XDAAMMMMAAAwy0ngEhpBCysIaeA0TrHSBsU9uUAQYYYIABBhhgYLQZWHT5VVmAFUFUtXXfYKMts9dvufWd0W/bbr9z+tE996Zd3rdPn/fE/QBjen7p1XfvsGv6xjdvyt7/0ksvZ6/F61u9a8fsfTFSMV6Pzz3n8xdm5eK/xx//Tdpy6x36zDtGa8Z7O3tW6zP9w4cemU1fc+2Ns+lHHfPxdPePfpzN6ze/+V3lM6utW0y76upr0imfPiNNnbFuuvmWb1eW4fbb70jdk9fo81nnX3BJin8xOvDa676RXnvttdR7lOis2Vunb91wc/rrX/+WrUOsU3tpWp95rP52CPm5cy5IUY/5JXBff/31dMZZ5/YpG8sXdRrzjMc/33wz/eyhn6fZm27bp9ycXd66J2TUxT7vPyg9/8KLWfm//OWVFJdV7b3uS2+jeK1aCLn2eptmdXfQhw7P3r/Nu3eubMuXX/5LpV5jeswjPie2z9L3Eo31v+jiS1Nc2jfqK7bNuhts1meZok6+eu3X07PP/Slb7t/97g8ptnfv5fazYzMDDDDAAAMMMMBAMxgQQgohNWQYYIABBhhggAEGGGCAAQbeNhAhWIRK/TXof/mrX6d//OMflTJ773tgFhYdctjRlWnx/i223iGbfuLJn82mR0CVh4uPPvZ49nP8HgFXlI9A7803/5V+8ctHUozE/Py5F6UIO+PxwgsvprgkbL5ceVg6edralWnx2mmnn5OVjwAwfo97FkZAGI+4T2F8XvzL57P084MPPpQi9IrgMN534UXz0wMP/Cx7/5Jvf6fP++L3++9/MN3z4/vSHd/7fjbfGIUY89xznw9m73n66WfSosuvrgR2j/z60T6XNF1tjQ2zco89/kSKYHbuvAVZ+ef+9Hw2PZY/X8Zdd9s3m/aDH96T1c15589NL77452xZe9dNPhIyPis+/4IL56VrvnxtVi5mEGFnPs8Id+ORb6OYXi2E3GTz7bJynz71zOy9W2+7U7a+MTHM5PUaoWbMI36PR4xCzT8rAuNfP/pYijA07i168IcPT/fed3/6+99fTZOmrlUp9/DPf5nVRbiKQPXKxV9Mzzz7XOX1fH6edTwywAADDDDAAAMMNLoBIaTOBg0ZBhhggAEGGGCAAQYYYICBtw38+9//TnHPxv4a8xG+xaNn8lv3ixxoCJnPM95b7Z6QEULGI0YF5mXj+bgTTsqmf/b0syvTBxpCxvt33e392fsHck/ICCFjFGIEfr2XIQ9De4/IzOvhO9/5Xp+yMWIyQtoI3KqFg/953fWV8nkIGcFb71GDU6avkwVxMWKw93Jsvc17+/yeB4afOPHTlel5CBnL1fvzN5r9rqwefnj3PZWyKxpC5sv03//931Uvx1othIxQN0ZvLj3y8U/Pv5CFvTHPCKTjcfKnTqssY0zvvR75Z3vW6cgAAwwwwAADDDDQ6AaEkDob+jRsGh2s5XNQZYABBhhggAEGGGCAgeE0EAHQbbff0W87afFVX8qConzUW1Eh5AUXzcvmu9qas5b5/AgGY9Rhvu7DFUJGABv3Ocw/J3/ecac9smWLoDSfloeQM1ZbvzItXotLh8YjvwxtXj6e47Ku8Sh1zczes/pab98T8sJ5feYRZS+/4gtZ2c22ePcyr+XzzO/h+aVr/rNSZs6ub12O9fAjl70n5HfvuCub54SJU7Ly9QohY33j0ftytfk6fOGLX0k/ffChbHliRGQ8lg5Q87KeHf8YYIABBhhggAEGmsmAEFIIWWmoNRNcy+pAywADDDDAAAMMMMAAA8Nh4I03/pnuuee+fttJX7/+W1lQlF9Csx4hZNz7MC49mq9zvUPIuO9jPGI0X74MEUL+4x+vV37Pp0cgGI/pS4WT8fpZnzsve23bt++d2F8IGfezjEfc1zGfd4yyjEvE/vSnb10iNiuQUrp1ye2VMv2FkBfNvTR7y6yNt8rK1yuEjEvAxiMuOxv3iuz97+lnns0ut5uv49lvX8o1Ltsal+Rdc53ZlXXLy3h2/GOAAQYYYIABBhhoBgNCSCGkxgwDDDDAAAMMMMAAAwwwwMDbBh5//DfplVf+2m99xP0cV+SekHknQYRR1S7H2t9IyAgh//LKK5XlqncI2dE5PQvRvvHNGyvLUCuEvP4bN2ZlJ5anV8rm656Pkswv99pfCBmXj43H/h88JJvPJpttlwWxcc/KEz7+qRQjJOM+i//1X/814BDywovnZ/OMezzGMtUrhNzlfftknxuXtc3vH9n7+VOnnN6nrqbOWDd95rNnpfzemEtfnjWvT886HxlggAEGGGCAAQYa2YAQUmdDn4ZOI2O1bA6mDDDAAAMMMMAAAwwwMNwGYpRdPGJ0Y7XP2mKr92Svf+Wr11Ve333PD2TTDj+i7+U/t9h6h2z6iSd/tlI25hmPwYaQr776aor7NebLNO/SRdl8et9HMV477fRzsumzZm9dKTuYe0LWuhzr9ju8L5vveefPrcy3Vgg5d96CrOymbwd9+TLH84JFi7PXNnx7JGJ/IeRlC6/sM59777s/Pf/Ci6lr0uqVZYh5DiaEzC8Hm99jsV4hZH7Z2Bjl2Ls+BvJzfvnf/i5LO5D5KOP4yQADDDDAAAMMMFBvA0JIIeSgG0D1RurzHBgZYIABBhhggAEGGGCgXgZ6pqyZ/vrXv6Vnn/tTWmOtjfq0l2LUXYyUfPPNf6V1N9is8loeZJ119vmVabG8MbotHieedGqf6X//+6vpO9+9s8+0KB/3W4zH+rO26PPaJ0/6TDa992i4U0/7XDYtLvPZu27u+v7d2fTeIeS7tpuTTTtpqTC09/vyn3/2s4dTXB40/z1/zsO72ZtuW3mtVgj53jl7Zp/3rRturpSN+cTovhhB+uSTT1Wmr77mW/eEvHTBFZVpUTYudRv3wfzDH56sTI8AMu6VmC9TPEddxaP35Vh32nmvbFqMluxdNuokHr3nkW+73kHxbnvsl5U75LCjK++PkZPx+PSpZ1amxbzjkqlR570/J36OUY7xWHvdTSqvPf/8Cyn+Teh4636US78n/z0ufZv/HM+bb7l9Nq/Djzyhz/TeZfzsGMkAAwwwwAADDDDQiAaEkEJIjRgGGGCAAQYYYIABBhhggIFeBvIQKsLCCy6cl/ba98B05ufOS3/+80tZGHToR94Jp6Kh316alv72t79nlwrdc+8DUoRwcy9ZkOKyrfFYOoS8864fphjZuMN7d08R6uUj+/IQ8plnn8tGYsZyXDz3smwej/z60T7bKN4bj/t+8kD2ee/b/f1ZsPnEE7/NpvcOIeOyqG+88UaKgHGtdTfJPrdWB0WMtozHD354T4owb9/9Dk5xCdF4LLr86j7LUCuEjHnnoeVNNy/JAtu4r2MEu/GIeeafv9oaG2bT4r8zzjo3W5ejj/1EevrpZ7LpO++6d6Xsj+/9STbtkMOOykLKCGcj1IywsloIGYWPO+GkbD0+ceKns8vsRtkNNtqyMs9qIeR279kl+5zTzjgn5ZeUrRVCRpgcyzBnl72zbRn3rIx1qxZC7rf/h7P5/uKXj6T4jCgXQfcl8xdm2yV+P/5jJ2fB63t23C17PS5B++3bvpu9b821N64sd15/nnU2MsAAAwwwwAADDDSyASFkr4ZmI28oy+ZAwgADDDDAAAMMMMAAAwzUz8ABBx6WhVZZ+vP2fxHkHXv8iVWDoD322j8Lw/LyN950a4pRlf/+979T71F2sQ3j0pwvv/yXvGjKRyhG4BmPY477ZBZS5gXi0q2lrr6j42I+5553cV4kKx+/R3gVj94hZJT96OHHVcrGDxvNflfV9Yh7T0Z4mgeiUfaNf/4zC9WW9tdfCDlh4pSU3xsy/+DXXnstHfbRY/p8bj4SMoLHuBRs/njqqadTft/I/HOj3vKQNcr95Cc/TXF53Lu+/8M+IWQEgvH44EEfyUZ15vOM8G/pS5pWCyEndEytbPsIT+Pza4WQUY+9t+VnTj0rK18thIz5RIAdI217P+758X2V7RXreO1130gvvfRypchjjz+Rdtxpjz71lteJ5/odE9S1umaAAQYYYIABBgZvQAgphNSQYYABBhhggAEGGGCAAQYYqGIg7hsYoxrzf5Onrd1vPUXwFqFWhFgD6aBYOhDLg7+4z2OMwIvgKR8lWWt+MfIugrhar/eeHkHm0uFk79fj5xgtGaFX/LzmOrOzEXtt7ZMGNP+l5xW/r7fh5pX6y+/DWK1cPi0uHRuj//Lfqz1H8JePOKz2+tLT4n6WvUc/Lv16td8jHI3tXu21atOW3pbVyuTTwkluqtp9M/NyMUo2LmGb/+558J1e6kydMcAAAwwwwAADI2tACFmloQnlyKJU/+qfAQYYYIABBhhggAEGRqOBCy56ayTkamvOGrHgKUYj/vZ3vx+xzx+N2906O94xwAADDDDAAAMMtKoBIaQQUuOSAQYYYIABBhhggAEGGGCgAQwIIXU+tWrnk/VimwEGGGCAAQYYGJ0GhJAN0NC0843Onc92t90ZYIABBhhggAEGGGCgtwEhJA+9PfiZBwYYYIABBhhggIFmNyCEFEI645kBBhhggAEGGGCAAQYYYIABBhhggAEGGGCAAQYYYICBQg0IIYEqFFSzp/KW35klDDDAAAMMMMAAAwwwwAADDDDAAAMMMMAAAwwwwMDQDQghhZBCSAYYYIABBhhggAEGGGCAAQYYYIABBhhggAEGGGCAAQYKNSCEBKpQUM4MGPqZAepQHTLAAAMMMMAAAwwwwAADDDDAAAMMMMAAAwwwwECzGxBCCiGFkAwwwAADDDDAAAMMMMAAAwwwwAADDDDAAAMMMMAAAwwUakAICVShoJo9lbf8zixhgAEGGGCAAQYYYIABBhhggAEGGGCAAQYYYIABBoZuQAgphBRCMsAAAwwwwAADDDDAAAMMMMAAAwwwwAADDDDAAAMMMFCoASEkUIWCcmbA0M8MUIfqkAEGGGCAAQYYYIABBhhggAEGGGCAAQYYYIABBprdgBBSCCmEZIABBhhggAEGGGCAAQYYYIABBhhggAEGGGCAAQYYYKBQA0JIoAoF1eypvOV3ZgkDDDDAAAMMMMAAAwwwwAADDDDAAAMMMMAAAwwwMHQDQkghpBCSAQYYYIABBhhggAEGGGCAAQYYYIABBhhggAEGGGCAgUINCCGBKhSUMwOGfmaAOlSHDDDAAAMMMMAAAwwwwAADDDDAAAMMMMAAAwww0OwGhJBCSCEkAwwwwAADDDDAAAMMMMAAAwwwwAADDDDAAAMMMMAAA+9AZLAAACAASURBVIUaEEICVSioZk/lLb8zSxhggAEGGGCAAQYYYIABBhhggAEGGGCAAQYYYICBoRsQQgohhZAMMMAAAwwwwAADDDDAAAMMMMAAAwwwwAADDDDAAAMMFGpACAlUoaCcGTD0MwPUoTpkgAEGGGCAAQYYYIABBhhggAEGGGCAAQYYYICBZjcghBRCCiEZYIABBhhggAEGGGCAAQYYKNRAuXtmuuLKxenyKxan+LnZO08svw5ABhhggAEGGGCAAQYGb0AIqaGpMcgAAwwwwAADDDDAAAMMMMBAYQZKndPT4quuTkuWLMn+xc8xTafN4Dtt1Jk6Y4ABBhhggAEGGGhmA0JIDU0NQQYYYIABBhhggAEGGGCAAQYKMdBRnp4uv/zKSgCZB5GLFl2R4rVm7kCx7DoAGWCAAQYYYIABBhgYnAEhpIamRiADDDDAAAMMMMAAAwwwwAADQzYwsTQtLViwqDL6MQ8g81GRl122MEUZHTeD67hRX+qLAQYYYIABBhhgoFkNCCE1NDUAGWCAAQYYYIABBhhggAEGGBiSgQkdU9LChZdnAWTcC7LUNaMyGjJ+jmkRSkaZKNusnSiWWwcgAwwwwAADDDDAAAMDNyCE1NDU+GOAAQYYYIABBhhggAEGGGBghQ20tU9K8+dfloWMvS+7mo+EjE6auBRrvBbTomy8R+fNwDtv1JW6YoABBhhggAEGGGhGA0JIDU0NPwYYYIABBhhggAEGGGCAAQZWyMCYcV1p7iXzs3Dx0ksXpPbS1Mp8eoeQ0WESl2LNR0vGe+K9zdiRYpl1ADLAAAMMMMAAAwwwMDADQkgNTY0+BhhggAEGGGCAAQYYYIABBlbIwEazt8oCyEvmXZrGT5zcZx5Lh5DRURNl5r09anKDWVv0Ka8jZ2AdOepJPTHAAAMMMMAAAww0iwEhpIamRh8DDDDAAAMMMMAAAwwwwAADK2wgwsRV27qXeX+1EDI6S8ZN6EkCSB1nzdJxZjlZZYABBhhggAEGVtyAEFJDc5mGoh1qxXcodafuGGCAAQYYYIABBhhggIG3DNQKIdWPfYQBBhhggAEGGGCAgdFhQAgphBRCMsAAAwwwwAADDDDAAAMMMFC4ASHk6OhY0oFoOzPAAAMMMMAAAwzUMiCE1NAsvKFZC5vpDkQMMMAAAwwwwAADDDDAwOgxIIQcPdvafm1bM8AAAwwwwAADDFQzIIQUQgohGWCAAQYYYIABBhhggAEGGCjcgBBSR1S1jijTuGCAAQYYYIABBkaPASGkhmbhDU0HkNFzALGtbWsGGGCAAQYYYIABBhioZUAIyUYtG6azwQADDDDAAAMMjA4DQkghpBCSAQYYYIABBhhggAEGGGCAgcINCCFHR8eSDkTbmQEGGGCAAQYYYKCWASGkhmbhDc1a2Ex3IGKAAQYYYIABBhhggAEGRo8BIeTo2db2a9uaAQYYYIABBhhgoJoBIaQQUgjJAAMMMMAAAwwwwAADDDDAQOEGhJA6oqp1RJnGBQMMMMAAAwwwMHoMCCE1NAtvaDqAjJ4DiG1tWzPAAAMMMMAAAwyMZgMrr9qRxo3vSu2lSancNTX1TJqWJk+Z7p86qGogfIST8BJuws9o3n+su+3PAAMMMMAAAwy0vgEhpBBSo4cBBhhggAEGGGCAAQYYYGCQBsa396RS97RU6pmR2rtnpnGdM9OY8mpplfLq/qmDqgbCR1vnzMxLuAk/be099r1B7ns6K1u/s9I2to0ZYIABBhhoHQNCSF92NXgYYIABBhhggAEGGGCAAQYGaGClMR2ps3tq6uieXjVoEkIKYQdjIByVu6emcKWzTR0wwAADDDDAAAMMtJoBIeQAG5qttuGtj4MZAwwwwAADDDDAAAMMMDA4AyuPKaWeydPSuE4jHgcTtCnbfzAbnsLVSmNKgkh9NAwwwAADDDDAAAMtZUAICXRLgdaJMrhOFPWlvhhggAEGGGCAAQYYGJiBGKnWM9noR4Fi/4HiUOrnrSByYB7tt+qJAQYYYIABBhhgoBkMCCGFkEJIBhhggAEGGGCAAQYYYICB5Rjo7DECcigBm/cuP7yM+4qWu6fZF5ezLzZDZ5tl1CnMAAMMMMAAAwy8ZUAI6cutBg4DDDDAAAMMMMAAAwwwwEA/Bsa396SJ3TPcA7K8/CBN2Di0Ogpnbe099sd+9kcdejp1GWCAAQYYYICB5jEghPTFVuOGAQYYYIABBhhggAEGGGCghoGVV+1Ipe5pAkgBZN0MhLdwp3NNHTDAAAMMMMAAAww0uwEhZI2GZrNvWMvv4MQAAwwwwAADDDDAAAMMDN3AuPFdqdRjFKQRjkMb4TiY+iv1TE9jx3cKIfXXMMAAAwwwwAADDDS9ASEkxE2PWMfK0DtW1KE6ZIABBhhggAEGGGCguoH20qTU3j2zbqPgBhNWKVu/YLCedR3eJnRM0lbXX8MAAwwwwAADDDDQ9AaEkBA3PWKdJdU7S9SLemGAAQYYYIABBhhgYOgGyl1T07hOIWQ9Q7jR/lltnTNTuLP/Dn3/VYfqkAEGGGCAAQYYGFkDQkghpIYNAwwwwAADDDDAAAMMMMBADQM9k6alMeXVjIR0T8i6GQhv4U6H2ch2mKl/9c8AAwwwwAADDAzdgBCyRkMTrqHjUofqkAEGGGCAAQYYYIABBprdwOQp0+sWPjXLCMADDj02Pf6b36d43P/gw+pnGALacNfs+47ld/xngAEGGGCAAQYYEEIKITVsGGCAAQYYYIABBhhggAEGahho5hCyfcp66fRzLk53/uCedM99D6Qf3Xt/WnDll9Lam7x7hYPD9TffIQsfv3HjkjRnr4PSjnscsMLzapbQdSSWUwipw06nLQMMMMAAAwww0AoGhJA1GpqtsHGtg4MUAwwwwAADDDDAAAMMMDA0A80cQkbwGI+f/fxX6ZIFV6XFX7o2+/3NN99MW+6wxwqFh58+8/xsHhFG5uHcFtvvnk171057V6blr3lefYXqRAg5tP3WcU/9McAAAwwwwAADjWFACCmEdMYzAwwwwAADDDDAAAMMMMBADQPNGkJ+6IiPZcHgSaee3ScEi6Dwi1/9eopRkisSEM5f9IVsvtPX26Ly/l33+ZAQsuBLsgohG6PTTOel7cAAAwwwwAADDAzNgBCyRkMTrKHBUn/qjwEGGGCAAQYYYIABBlrBQLOGkGdfMD8LBrd+716VsHB5oeOUtTdLHz3u5PTxU85M6276nmXeN2nNTdL1N9yazXf/Q47JLscal2TNP+v4k07Ppm07Z5/Ke+NyrTM32Dr7fd+Djkifv+iy9Jmzzk/tU9evlInynzr93LTPgYdXpi29rDFyM9576ucuSHvuf1ifclPX2Tz73NVnbdNneixvLF/++UvPs5F/F0I6frbC8dM6cMwAAwwwwAADQkghpDOeGWCAAQYYYIABBhhggAEGahho1hDyiBNOycLCq665rk8wVyt4i8usxmVaez++8JWv9XnvU8881/vlmj//7g9PVt73+utvpLPOuyRd982b+5R/5NEnUoSEP/npQ32m/+fXb6i8N5Z19ja7pBtv/U6fMvHLwsXXVMqVpm+YXvzzS+lXv36sMi3e+5/X35j+/vdXs8+ptd6NOl0IqcNOpy0DDDDAAAMMMNAKBoSQNRqarbBxrYODFAMMMMAAAwwwwAADDDAwNAPNGkJ2TN8gRdAXjyW339nvPSA/9qkzsnJf+9Ytab3N3pNiZOEZn5+bTVs6iLz0ii9m06et+87lWE/67DnZtGr3hIwQMv49+vhv0m77HZLW3HjbFJ8Tj9//8al0/4MPpx122z9tsMWO6c4f3JNN33DL91bCxNnb7Jxuvf17aftd96tMy9+/1Y57VqZ98LBjs/cecfynsmkxj//93/9Nx5342UqZRg0cqy2XEHJo+63jnvpjgAEGGGCAAQYaw4AQUgjpjGcGGGCAAQYYYIABBhhggIEaBpo1hIxgq2u1jbMAMkvnUko/fegX6ZhPnNonlBvXs3Y2WjACwaXDsK+9PXpx1lY7VV5bkRDyl4881ufyqxE4xuP7d99bmW989vve/+Fs+kePPanP9KWXK4LSeMTlWXu/9t277k7PPvd8Ks+clW7+9nezgLP36830sxCyMTrNdF7aDgwwwAADDDDAwNAMCCFrNDTBGhos9af+GGCAAQYYYIABBhhgoBUMNHMImYdu62++Q5q38Or08l9eycK7GH1YmrFhFuDtvPfB2bTTz7m4T6AX742Ri/GIezjm8xp0CPnGG2nJd+6svD/mE+FoPBZ/6do+0zfd7n3Z9LjvY/55+XPnahulvQ74SPrc+fMqwepXv9b30q0xyjIeP7r3/uw5LuWav7/ZnoWQjp+tcPy0DhwzwAADDDDAgBBSCOmMZwYYYIABBhhggAEGGGCAgRoGWiGEzAO4njVmp7t++OMsoDtv7sIsoPvIMSdmv3/oiI8tE9hFeBmPRVd/pfJaESFkecaG2Xyv/nLf+1Vusu0u2fTTzrmo8nmx7DHiMR7Pv/BiuuW2O9Kll38h+/36G27tUy7Kxj0l43Hbd+9a5rW8HprhWQipw06nLQMMMMAAAwww0AoGhJA1GpqtsHGtg4MUAwwwwAADDDDAAAMMMDA0A60UQubh2wt/fik99sRvs5DugEOPyUK74046bZnQbqsd9sheu3De5ZXX6h1CLrjyS9kyHPvJd+7tuGrXmtm0b9y4pLJcsW75ZVrj/pPx2Ozdu/V5PV//ZngWQg5tv3XcU38MMMAAAwwwwEBjGBBCCiGd8cwAAwwwwAADDDDAAAMMMFDDQLOGkN2rb1wzgPvjU89UQsj8/ozfvOnby5Q/5YzzsjDvg4cdV3mtWgj58VPOzMptt/O+lXJ50Pd6lcuxDmYkZFxCNu71mM8vnmuFkHEZ1nvueyBNnLZ+evqZ59JDv/hVn/f1nkej/yyEbIxOM52XtgMDDDDAAAMMMDA0A0LIGg1NsIYGS/2pPwYYYIABBhhggAEGGGgFA80aQv7q14+nCBZ32vPAPkHcoUd/MgsMFy6+pjL9+3ffm03rPdpwxz0OSK+99o/0p+dfqJSL4K5aCPn+Dx2Vvf+jx53cp2yUH2oIGZdg/eUjj1Xm2z51/RSXYY1H78uxHvmxU7Jp73nfB7KyB37k+Oz3kz57TuW9jR489l4+IaTjZyscP60DxwwwwAADDDAghBRCOuOZAQYYYIABBhhggAEGGGCghoFmDSF32++Q9OeX/pIFcW+++Wa6/8GH089+/qvs90cefSJNWnOTSji3+qxtspGD8eJPfvpQuuGW27Nyr7/+Rtp+1/0q5WqFkO1T1svu1/jqa69l92RccvudlfcMNYS87IovZsvy+G9+l6665rr00suvZOHj7//4VPr62/eEjHX5+6uvpaUvzxr3v/znP99Mq2/4rsry9A76GvlnIaQOO522DDDAAAMMMMBAKxgQQtZoaLbCxrUODlIMMMAAAwwwwAADDDDAwNAM9EyalsaUV2u6ECsCtslrbZrOm7swu0TpnT+4J81beHXa/5Bjqq5Lzxqz0/xFX8jKxiVNr73+xuwei0sHdbt/4ND0+YsuSx3TN+gzn7Vmb5eFhF/71i3Z6zFiMd575rlz04eP/HifsjE95rHPgYf3mT5t3c2z6Tvsvn+f6Ycd/cl087e/m+L+kDFCM94foy7zy8TO2eug7H0zN9i6z/vW2GibbHoEskuvRyP/Ht7CnX13aPuu+lN/DDDAAAMMMMDAyBsQQgohNWwYYIABBhhggAEGGGCAAQZqGCh3TU1tnTObKsRq5IDNsq2+XEvhLdzpNBv5TjPbwDZggAEGGGCAAQaGZkAIWaOhCdbQYKk/9ccAAwwwwAADDDDAAAOtYGBCaVJq7xZCCg+XHx4WVUfhbULHJCGk/hoGGGCAAQYYYICBpjcghIS46RG3QseGddBBxwADDDDAAAMMMMBAYxoYN74rlbqnL3f0WlEBlPnUL+xr1Lou9UxPY8d3aqvrr2GAAQYYYIABBhhoegNCSIibHrHOmsbsrLFdbBcGGGCAAQYYYICBVjCw8qodqdQ1VQhZFg7WK7QMbyuPcfxoheOHdeCYAQYYYIABBka7ASGkEFIIyQADDDDAAAMMMMAAAwww0I+BtvbuNLF7hiBSEDnsBjq6Z6S2CV32x372x9HekWf9dWYzwAADDDDAQDMZEEL6YqtxwwADDDDAAAMMMMAAAwwwsBwDnd1T07jO1YY9hKrXaDuf03gjO8d1zkzl7qn2xeXsi83U6WZZdRIzwAADDDDAwGg3IIT05VYDhwEGGGCAAQYYYIABBhhgYDkGVhrTkXomTxNCGg05bAYmTZ5mP1zOfjjaO/Gsv45sBhhggAEGGGg2A0JIX3A1chhggAEGGGCAAQYYYIABBgZgYKVVSqln8vQUI9aMJGy8kYTNuk3C06TJ09N/rFKyHw5gP2y2jjfLq7OYAQYYYIABBkazASGkL7gaOQwwwAADDDDAAAMMMMAAAwM0ECMiO7unpY4e94hs1tCvkZY7HJW7jYAczR1z1l3HNAMMMMAAAwy0sgEh5AAbmq2MwLo5yDHAAAMMMMAAAwwwwAADgzPQNrEnlbqnpXLPjNTePTO1dc5MY8ruGdlIAV+jLUv4CCfhJdxE+NjW3uMEAP0yDDDAAAMMMMAAAy1rQAgJd8vi1okyuE4U9aW+GGCAAQYYYIABBhgYnIGVV+1IY8d3pfbylFTunpp6Jk1Lk6dM908dVDUQPsJJeAk3K48ZnDf7p/pigAEGGGCAAQYYaDYDQkghpBCSAQYYYIABBhhggAEGGGCAAQYYYIABBhhggAEGGGCAgUINCCGBKhRUs6XwlteZIwwwwAADDDDAAAMMMMAAAwwwwAADDDDAAAMMMMBA8QaEkEJIISQDDDDAAAMMMMAAAwwwwAADhRood89MV1y5OF1+xeIUP+vQKb5DR52qUwYYYIABBhhggIFGNyCE1NDUGGSAAQYYYIABBhhggAEGGGCgMAOlzulp8VVXpyVLlmT/4ueY1ugdJJZPJx4DDDDAAAMMMMAAA8UaEEJqaGoIMsAAAwwwwAADDDDAAAMMMFCIgY7y9HT55VdWAsg8iFy06IoUr+nUKbZTR32qTwYYYIABBhhggIFGNiCE1NDUCGSAAQYYYIABBhhggAEGGGBgyAYmlqalBQsWVUY/5gFkPirysssWpijTyJ0klk0nHgMMMMAAAwwwwAADxRkQQmpoagAywAADDDDAAAMMMMAAAwwwMCQDEzqmpIULL88CyLgXZKlrRmU0ZPwc0yKUjDJRVsdOcR076lJdMsAAAwwwwAADDDSqASGkhqbGHwMMMMAAAwwwwAADDDDAAAMrbKCtfVKaP/+yLGTsfdnVfCRkdIjEpVjjtZgWZeM9jdpRYrl04jHAAAMMMMAAAwwwUIwBIaSGpoYfAwwwwAADDDDAAAMMMMAAAytkYMy4rjT3kvlZuHjppQtSe2lqZT69Q8joxIlLseajJeM98V6dO8V07qhH9cgAAwwwwAADDDDQiAaEkBqaGn0MMMAAAwwwwAADDDDAAAMMrJCBjWZvlQWQl8y7NI2fOLnPPJYOIaNTJMrMe3vU5AaztuhTvhE7TSyTzjwGGGCAAQYYYIABBlbcgBBSQ1OjjwEGGGCAAQYYYIABBhhggIEVNhBh4qpt3cu8v1oIGR044yb0JAHkinfk6ARTdwwwwAADDDDAAAPNYkAIqaG5TEOxWfBaTgdaBhhggAEGGGCAAQYYYKBxDdQKIW2zxt1mto1twwADDDDAAAMMMFCkASGkEFIIyQADDDDAAAMMMMAAAwwwwEDhBoSQOrCK7MAyL54YYIABBhhggIHmMyCE1NAsvKHpQNB8BwLbzDZjgAEGGGCAAQYYYICBog0IIZkq2pT5McUAAwwwwAADDDSXASGkEFIIyQADDDDAAAMMMMAAAwwwwEDhBoSQzdVBpEPP9mKAAQYYYIABBhgo2oAQUkOz8IZm0UjNz4GPAQYYYIABBhhggAEGGGg+A0LI5ttm9jPbjAEGGGCAAQYYYKBIA0JIIaQQkgEGGGCAAQYYYIABBhhggIHCDQghdWAV2YFlXjwxwAADDDDAAAPNZ0AIqaFZeEPTgaD5DgS2mW3GAAMMMMAAAwwwwAADRRsQQjJVtCnzY4oBBhhggAEGGGguA0JIIaQQkgEGGGCAAQYYYIABBhhggIHCDQghm6uDSIee7cUAAwwwwAADDDBQtAEhpIZm4Q3NopGanwMfAwwwwAADDDDAAAMMNKKBlcd0pLFt5dQ+sZxK5a7U1dWdenp6/FMHVQ2Ej3DS3l7O3ISfRnRtmWwXBhhggAEGGGCAgaIMCCGFkBo9DDDAAAMMMMAAAwwwwAADgzTQNqGcyuW3/pVKpdQxcWJqnzDBP3XQr4FwEl7estOZwlFRHTzmo7OQAQYYYIABBhhgoNEMCCEH2dBstA1oeRxUGGCAAQYYYIABBhhggIH6GVhpTEcql7tSuVTqN2wSSApkB2IgHIWncGU/VgcMMMAAAwwwwAADrWZACCmE1NBhgAEGGGCAAQYYYIABBhgYgIGVVpmYuru700SjHgWwBY74jNGR4eo/VploPxzAfthqHXPWR2czAwwwwAADDLSyASGkL7gaOQwwwAADDDDAAAMMMMAAA8sxsNKYt4KigYxuU8YoyBUxEEFkBN2t3All3XSyMsAAAwwwwAADo8uAEHI5DU07xOjaIWxv25sBBhhggAEGGGCAAQaqGSh3dhkBWeDovxUJ6Vr9PTEislzuFELqp2GAAQYYYIABBhhoGQNCSJhbBnO1jgLTdCAxwAADDDDAAAMMMMDAUA20TSincqnsEqRCyGE3EM7axpe00/XVMMAAAwwwwAADDLSEASEkyC0BeaidCt6vY4oBBhhggAEGGGCAAQaqGVh5TEcqlTuHPXxq9VF+1m/gl6iN0ZAr66vQV8EAAwwwwAADDDDQAgaEkC2wEas1lE3TgcIAAwwwwAADDDDAAAMMDN3A2LZSKpeNghQiDjxEHGpddZY7U7iz/w59/1WH6pABBhhggAEGGBhZA0JIIaSGDQMMMMAAAwwwwAADDDDAQA0D7RPLqVQqGQnpUqx1MxDeJrSX7ZM19kkdiSPbkaj+1T8DDDDAAAMMDMaAENKXWg0bBhhggAEGGGCAAQYYYICBGgbiUqwdEyfWLYAa6ig676/fiMXhquvwFu4G07mjrM5ABhhggAEGGGCAgUY0IISs0dBsxI1lmRxEGGCAAQYYYIABBhhggIH6Gujq6hZAGgVZdwPhzr5e331dfatvBhhggAEGGGCgeANCSCGkhg0DDDDAAAMMMMAAAwwwwEANAz09PXUPoIZrhN2KzLe7qyudd+65aa011xzV9bAidTeU94Q7nWDFd4KpU3XKAAMMMMAAAwzU14AQskZDE8T6QlTf6psBBhhggAEGGGCAAQYa0UArh5AnfvKT6aSTTuo3XDzj9NNTPK655pp+yw0lcPPeZS8hK4R0PGzE46Fl4pIBBhhggAEGBmtACCmEdHYlAwwwwAADDDDAAAMMMMBADQOtHEI+9uij6be//W2/4eJO731v+vGPf5wOPuigfssJEpcNEodSJ0JIHXyD7eBTnhkGGGCAAQYYaEQDQsgaDc1G3FiWyUGEAQYYYIABBhhggAEGGKivgdEeQg4lSPPeFQ8mhZD13c8dV9U3AwwwwAADDDAwPAaEkEJIZzwzwAADDDDAAAMMMMAAAwzUMDDaQ8gZ06en3XffPa291lqVkZBrrL56Ni0PGeOSrmeffXbaf//9K2Xy13o/f+jgg9P5552XjjnmmJrljjryyHTB+eenT3z842mzTTddptxWW26Ztt5qq2z6RrNmpVM/85m0z957L1Ou9+c2489CyOHpBNO5qF4ZYIABBhhggIH6GhBC1mhoglhfiOpbfTPAAAMMMMAAAwwwwEAjGhjtIeSee+6Z3RPyuGOPrQR9hxxySDZt1112SX/4wx+yn/P/rrv22kq5PPzbec6c9MILL6RXX301Pfroo1nR++69N03q6amUPfKII9KTTz6ZzyZ7fuONN9KcnXaqlIn53XrLLdnlYQ877LBK2Uvmzu1TJv/cZn4WQjoeNuLx0DJxyQADDDDAAAODNSCEFEI645kBBhhggAEGGGCAAQYYYKCGASFk7RDyr3/9azr++OOzAPBdW2+dfvSjH2XB4OyNN66EgltusUX617/+le64447U3dWVTY/RjK+88ko666yzKuXmXXJJ9vu666yTTdtwgw3Syy+/nIWWvcPECCFfeumlFJ8dIWi81tPdXZlP77LN/LMQUgffYDv4lGeGAQYYYIABBhrRgBCyRkOzETeWZXIQYYABBhhggAEGGGCAAQbqa0AIWTuEPPnkk/uEfx/4wAeyEPKjH/lIZfptt92WhYlTJk+uTItwcP68eenpp5/uM23p0PDiiy/O5jdrww0r5SKEjMcxRx9dmbb0+1rhdyFkffdzx1X1zQADDDDAAAMMDI8BIaQQ0hnPDDDAAAMMMMAAAwwwwAADNQwIIZcNIQ99+3KsBx54YJ8gcPvtt88CwrhPYx4ExoTbb789u4dk3Fsy/xcjH+Ox9CjGGDkZAeOiRYvSY489lpV53667VuaXh5D5/Fv1WQg5PJ1gOhfVKwMMMMAAAwwwUF8DQsgaDU0Q6wtRfatvBhhggAEGGGCAAQYYaEQDQsiBh5DbbbttFhqedtppWWi4+mqrZb/399+aa6yRlV1//fXTAw88kBV96KGH0vXXX5/u/N73st/33muvd0LIW2/NLu/aquFjvl5CSMfDRjweWiYuGWCAAQYYYGCwBoSQQkhnPDPAAAMMMMAAAwwwwAADDNQwIIRc8RBy0qRJWYh4zZe+VAkR85Ct93NcqvXFF19MTz75ZNps000rZT92wglvhZB7712ZoeBvQgAAIABJREFUdqsQ0r5aY18dbIeY8jpRGWCAAQYYYICB4TcghPTlVQOGAQYYYIABBhhggAEGGGCghgEh5IqHkBE0/vGPf0xPPPFEJUTsHT7mP++3335Z2HjooYf2KSeEHP5OIR1v6pgBBhhggAEGGGBgOA0IIWs0NIez0s3bTs0AAwwwwAADDDDAAAMMNIcBIeTQQsgzzjgjCxgvnT+/T8AY94KcNnVqNm3fffbJyvS+l+T27353euaZZ94aCelyrE4S0HfDAAMMMMAAAwww0JQGhJDgNiVcHTbN0WFjO9lODDDAAAMMMMAAA81uoNVDyCzlq/Lf1VdfnQWEe+45tBAyRjt+5zvfyT7hFz//eVqwYEG64oor0iuvvJLOOeec7DMijHz22WezMrfecku644470t//9resXEx0T0jHkWY/jlh+hhlggAEGGGBgtBoQQgohhZAMMMAAAwwwwAADDDDAAAM1DHR1dfcZwZdfQrQVnk868cR0wQUXVP33gQ98IFvvjWbNyl7fbtttK/Ww5RZbZNM222yzyrSoj7XXWiubPmennfpMj9dOOP74dPfdd6d777033XXnnenoo47qU2b11VZLF110Ubr99tvTmWeemdZdZ500Y/r0bH4bb7RRpexhhx2Wzv385yu/t8J2qLYO4W60dlRZb520DDDAAAMMMMBA6xgQQtZoaELeOshtS9uSAQYYYIABBhhggAEGVtRAqdyZOiZObPnQq1oQZtqEEdnu4a1U6hRC6q9hgAEGGGCAAQYYaHoDQkiImx7xinYmeJ+OKAYYYIABBhhggAEGGFiegQnt5VQqlUYkjBICjkwIONL1Ht7C3fJset3xiwEGGGCAAQYYYKDRDQghhZAaNgwwwAADDDDAAAMMMMAAAzUMjG0rpXK5LIScMDoDwZEIJMvlzhTuGr1DyfLp9GSAAQYYYIABBhhYngEhZI2G5vIqzut2LgYYYIABBhhggAEGGGCg9Q2sPKYjuzTmSIRRPnN0Bp9xKdaV9FUIYRlggAEGGGCAAQZawIAQsgU2oo6P1u/4sI1tYwYYYIABBhhggAEGRs5A2/hSKpeMhhSKDn8oGs7GjTcK0vFu5I536l7dM8AAAwwwwECRBoSQQkhnEzDAAAMMMMAAAwwwwAADDCzHQLnclTomTnRZVpdlHTYD4SsuxVpkp4956URkgAEGGGCAAQYYGEkDQsjlNDRHcuP4bAcHBhhggAEGGGCAAQYYYKAxDKw0piN1d3cPWwBllOHwjzJs9DoOX/b3xtjfbQfbgQEGGGCAAQYYKMaAEFIIqZHDAAMMMMAAAwwwwAADDDAwIAMTsyDSiEiBYZGBZnh6K4CcaD8c0H5YTIeYjkX1yAADDDDAAAMMDL8BIaQvuBo5DDDAAAMMMMAAAwwwwAADAzSw0iod2SUzy2X3iCwyiBut8wpHLsE6/J1fOhjVMQMMMMAAAwwwMDIGhJADbGgCOjJA1bt6Z4ABBhhggAEGGGCAgUY0MH5CKQuPOjs7U6lUcr9I94oc0KV6Y9RjeAk3ET62TSg5AUC/DAMMMMAAAwwwwEDLGhBCwt2yuBuxo8Iy6UBjgAEGGGCAAQYYYKB1DKy8Skca21ZK7RPfGs3W1dWdenp6/OvpSWuvvXa66qqr0uLFi7Of1UtPCh8RPIaXcBOjah0P1AEDDDDAAAMMMMBAKxsQQvrSr9HDAAMMMMAAAwwwwAADDDDAQGEGSp3T0+Krrk5LlizJ/sXPMa2VO1esm85DBhhggAEGGGCAAQaWNSCE1NDUEGSAAQYYYIABBhhggAEGGGCgEAMd5enp8suvrASQeRC5aNEVKV7TMbNsx4w6UScMMMAAAwwwwAADrWpACKmhqRHIAAMMMMAAAwwwwAADDDDAwJANTCxNSwsWLKqMfswDyHxU5GWXLUxRplU7WKyXzkMGGGCAAQYYYIABBvoaEEJqaGoAMsAAAwwwwAADDDDAAAMMMDAkAxM6pqSFCy/PAsgrrlycSl0zKqMh4+eYFqFklImyOmf6ds6oD/XBAAMMMMAAAwww0IoGhJAamhp/DDDAAAMMMMAAAwwwwAADDKywgbb2SWn+/MuykLH3ZVfzkZDRmRKXYo3XYlqUjfe0YieLddJ5yAADDDDAAAMMMMDAOwaEkBqaGn4MMMAAAwwwwAADDDDAAAMMrJCBMeO60txL5mfh4qWXLkjtpamV+fQOIaMjJi7Fmo+WjPfEe3XQvNNBoy7UBQMMMMAAAwwwwECrGRBCamhq9DHAAAMMMMAAAwwwwAADDDCwQgY2mr1VFkBeMu/SNH7i5D7zWDqEjA6VKDPv7VGTG8zaok/5VutwsT46ERlggAEGGGCAAQZGuwEhpIamRh8DDDDAAAMMMMAAAwwwwAADK2wgwsRV27qXeX+1EDI6YcZN6EkCSB1yo71DzvrbBxhggAEGGGBgNBgQQmpoLtNQHA3wraMDPAMMMMAAAwwwwAADDDAwvAZqhZDqfXjrXf2qXwYYYIABBhhggIFGMSCEFEIKIRlggAEGGGCAAQYYYIABBhgo3IAQUudXo3R+WQ4WGWCAAQYYYICBkTEghNTQLLyhaWcemZ1Zvat3BhhggAEGGGCAAQYYaCQDQkgeG8mjZeGRAQYYYIABBhiovwEhpBBSCMkAAwwwwAADDDDAAAMMMMBA4QaEkPXv5NGxps4ZYIABBhhggAEGGsmAEFJDs/CGZiMBtywOuAwwwAADDDDAAAMMMMDAyBgQQo5MvfOu3hlggAEGGGCAAQYaxYAQUggphGSAAQYYYIABBhhggAEGGGCgcANCSJ1fjdL5ZTlYZIABBhhggAEGRsaAEFJDs/CGpp15ZHZm9a7eGWCAAQYYYIABBhhgoJEMCCF5bCSPloVHBhhggAEGGGCg/gaEkEJIISQDDDDAAAMMMMAAAwwwMGoNrDSmI63aVk7jxpfT+PbO1D6xM03s6EylUlfq7OxK3d3dqaenx78VqIM8hFR/o9NP7DuxD5XKXdk+FftW7GOxr41tK6fY93QEqgMGGGCAAQYYYKC1DQghdTb40s8AAwwwwAADDDDAAAMMjCoDq4wtpfETylk4ImQcvoBMCDl8ddsKwW7sexFQxr44ZmxpVB2DdLa2dmer7Wv7MsAAAwww8I4BIaTOBl/0GWCAAQYYYIABBhhggIGWNxAjr9o7OlNXl5GN9QqwhJBCyMFYi30zRiHHvqrj7p2OO3WhLhhggAEGGGCgmQ0IIXU2+HLPAAMMMMAAAwwwwAADDLSsgQntnanLJVVH5HKyQkgh5GBCyN5lY5+NEZLN3OFm2XUYM8AAAwwwwAADHUkIqbPBl3oGGGCAAQYYYIABBhhgoOUMtE0w6rF3qDMSPwshhZBDdRejI+MekjrwdOIywAADDDDAAAPNaUAIqbPBl3kGGGCAAQYYYIABBhhgoGUMxKUcOztdcnWo4U8R7xdCCiGLcBTziH161XHuG6nztTk7X203240BBhhgYDQbEELqbGiZzobRvCNbd3/IGGCAAQYYYIABBka7gTFjS6lU7lqhy452lLrS+PbObMRVhJirjiunVVbtSCuP6UgrjWFrRW3lIeSKvt/7mtte7DuxD8W+FAFi7FsxqjH2tdjnViSgjH085seGOmCAAQYYYIABBprDgBBSCOnLOwMMMMAAAwwwwAADDDDQ1AbaJpRT9yDu+xj3m4sQxGUeh7fjQgg5vPXbCh1vsQ/GvjiY+7bGvt7mEq1NfcxuBbvWwfGNAQYYYICBgRkQQups8MWVAQYYYIABBhhggAEGGGhaA+0TOwc8oirCjhiNtZLtXZftLYQcWMeMDqyObJ+MfXMwo5lj31d3jDHAAAMMMMAAA41tQAip8elLOwMMMMAAAwwwwAADDDDQlAYGeknHsvvJjcj2FUI2dodQo3bYxaVbY58dyOVa4xjQqOthufhngAEGGGCAAQY6khBSZ4Mv7AwwwAADDDDAAAMMMMBAUxmIe82VB3D/x87OGPlYaqp1a6WOCiGkjreheI5LtXZ1LT+MjGOBe7eyNhRr3ssPAwwwwAADw2dACKmzQYOcAQYYYIABBhhggAEGGGgaAyuP6VhuMBHBRdsEl2oc6c4UIeTwdeaM9Lat5+fHvry8MDJOOIhjQz2Xy2epbwYYYIABBhhgYPkGhJA6G3xJZ4ABBhhggAEGGGCAAQaawkDcy7FzOZdpNCpq+R0B9eosEUI2zrao1zYfrs/JRj93dvV7idY4NrjfK3PDZdB82WKAAQYYYGDFDAghdTY0RWeDHXzFdnD1pt4YYIABBhhggAEGWslAaTmXYHV/uMbyLoRsrO3RCseC5d0HtuQekfp49PMxwAADDDDAQEMZEEIC2VAgW6FRZB00tBlggAEGGGCAAQYYKN5A+8TOfkdBTeyo/+VXV161I40b35XaS5NSuWtq6pk0LU2eMt0/dVDVQPgIJ+El3IQfx4rB10Hs6z09PTX/TWgvq1d9XQwwwAADDDDAQIMYEEI2yIbQ8Bh8w0OdqTMGGGCAAQYYYIABBkaHgXHjyzUDhwgjxk+of+gwvr0nlbqnpVLPjNTePTON65yZxpRXS6uUV/dPHVQ1ED7aOmdmXsJN+Glr79FBtgL9MhPa+w8i45jh78Po+PtgO9vODDDAAAMMNLYBIeQKfNmFurFR2z62DwMMMMAAAwwwwAADrWNgzNhS6u7urhlC1juAjHvTdXZPTR3d06sGTUJIIexgDISjcvfUFK4ctwZXB7Hv1xoRGceMOHao08HVqfpSXwwwwAADDDBQtAEhpBDSl3IGGGCAAQYYYIABBhhgoCENxOUqu/oJIOt9D8iVx5RSz+RpaVynEY+DCdqU7T+YDU/haqUxQrPBdnr1d4/Irq5ul7z1t60h/7YN1rnyAgEGGGCAgWY2IIT0hcwXMgYYYIABBhhggAEGGGCgIQ2Uy101RzqVO7vruswxUq1nstGPAsX+A8Wh1M9bQaROtsF2snV21h4pXSp31fU4MdhlV553BhhggAEGGGh1A0JInQ2+kDPAAAMMMMAAAwwwwAADDWdg1XGlmgFkNsKpzpev7OwxAnIoAZv3Lj+8jPuKlrunNdy+2OgdY9mI6a7aQeSYsTo3G30bWj5GGWCAAQYYaF0DQkidDRo4DDDAAAMMMMAAAwwwwEDDGag1umkk7vU2vr0nTeye4R6Q5eUHacLGodVROGtr72m4/bHROwb7u3dsudNoyEbffpavdTuebVvblgEGGGBACKmzQeOGAQYYYIABBhhggAEGGGgoA2Pbao+CHN/eWddljVFWpe5pAkgBZN0MhLdwp9NucHUwvr1cc/T02Lay+vR3jgEGGGCAAQYYGAEDQsgRqHQNicE1JNSX+mKAAQYYYIABBhhgYHQZ6KxxacW4DGu9LYwb35VKPUZBGuE4tBGOg6m/Us/0NHZ8fcP2eu9Xw/F5K63SkeIY0dPTs8y/OKYMx2ea5+j622R7294MMMAAAwwM3oAQUgjpizgDDDDAAAMMMMAAAwww0DAG2ibUHs00rq1U9+VsL01K7d0z6zYKbjBhlbL1CwbrWdfhbULHpLpbb4VOtXHj+zl+jDcashW2sXUYfOevOlNnDDDAAAMjaUAIqbNBw4YBBhhggAEGGGCAAQYYaAgD2Uim7hojmTpHZiRTuWtqGtcphKxnCDfaP6utc2YKdyPZWdTMn91II6mbuR4tuw5rBhhggAEGGCjCgBBSZ4OGDQMMMMAAAwwwwAADDDDQEAb6G8W06rj6j4KMRnfPpGlpTHk1IyHdE7JuBsJbuCui02c0zqO/e8rGa6OxTqyzTmQGGGCAAQYYGCkDQkidDb6AM8AAAwwwwAADDDDAAAMNYWBiR+cy93KL+7uVyl0jtnyTp0yvW/g02kcAWv93Li8b7kaqo6gVPjeOGdXuDRnHmFZYP+ugI5kBBhhggAEGmsWAEFJngy/gDDDAAAMMMMAAAwwwwEBDGOiucSnWkRy9JIR8JxgTEtavLoSQQ+tYjJHT1ULIru6Ruaxzs3QSWs6huVN/6o8BBhhggIFlDQghdTY0RGeDnXPZnVOdqBMGGGCAAQYYYICB0WRgTI3QIILJkawHIWT9gjch5zt1LYQc2vE/7i9b66SGMWNdknUkj6k+e2i21Z/6Y4ABBhhoNgNCSCHkiDbom22HsbwO8gwwwAADDDDAAAMMDI+B8RPKVUcudZRG9vKJrRBCztnroLTeZu8Z0GVlo+zsbXYeUFmh4TuhYdF1IYQc+nGmVKp+Sdbx7WX9IPrCGGCAAQYYYICBOhkQQtaponVUDL0BoQ7VIQMMMMAAAwwwwAADrWugXOMebuPGj2xg0Owh5MwNtkrxWHDlNQMKFqPst26+bUBl1930Pem9e3wwda228YDKFx3UtfL8hJBDP9a11TixIY41/pYMvX7VoTpkgAEGGGCAgYEYEEIKIX35ZoABBhhggAEGGGCAAQZG1MBKYzqqjoKMe7qtvOrINu4bJYT89BnnZWHiT3760KACv+EKIU869exseR7/ze/Tiy+9nG689TuDWq5WDhCLWDch5ND3+5X7Oa7EMWcgnWbKqCcGGGCAAQYYYGBoBoSQOht88WaAAQYYYIABBhhggAEGRtTAqjXuB9kII5YaJYT82c9/lR7+xSNZ8Lf6rG0GHPgNRwg5dZ3Ns+U45hOnZsuxx/6HZb9vuOV7B7xcRQR1rTwPIeTQOrvyzsLOzu6qJziMGVvM/PPP8aw+GWCAAQYYYICB6gaEkDobRrSzwY5ZfcdUL+qFAQYYYIABBhhgYDQZiEuuxqjHpf+1TxzZ+0HGNmiEEHKdTbfPQr59Dz4ye/7U6ecOOOybsd6W2Xsuu+KLA3pPFP7mTd/ut+wBhx6bzTPCyAgC436T8dhu5337fV8rh4ZFr5sQspi/ARM7Opc5rsRxZmxbSV+I/jAGGGCAAQYYYKAOBoSQdajk0dR5YF2LaSipR/XIAAMMMMAAAwwwMJoMjK9x77aYPtL10Agh5Bmfn5v+/uprWcB3+x3fTzEqslbodfxJp6dHHn0iCwUfe+K36eDDT8h+XnDll5Z5z6FHfzKbVxT441PPpA8f+fH0+utvLDeE3PPtkY+zt9k5m+dV11yX/vzSX5aZf61ljHtOHnHCKSlGdN7+vR9ky/f8Cy+mSxZcVXUeG79rTrrhltvTq6+9ln73hyfTeXMXpvLMWX3KTl5r03TPfQ+kbefsk2Jk5v0PPpzNd/3Nd0hrbrxt9tom2+6a9v7gR9MLf34pe+2FF/9cCU6P/eRnU1zq9h//eD3d8f0fpZkbbN1n/rXWZbimDyaEHDehJ20wa4sR31dGel+t9vkT2quHkG0jfK/Zastqmr/7DDDAAAMMMNCKBoSQQkgNFQYYYIABBhhggAEGGGBgRA1MmFg9KIgRkiPdEG+EEPLXjz2RrvvGTVkoFuFdPNbe5N3LhGRfv+HW7LW7fvjj9PmLLksR9r3xxj+zaZde/oU+5S++7MpseoR1Ufba629Mb775ZjZteSMhu1bbOCs3d8HiFP/iEcHkQAO5Z579U/rBj+5LL738SvrCV76W5i/6QhaCxnyO+vin+8wnDzyffe75dPnVX8kC0igXAWvPGrMrZWeuv1W2HLGeEVbOW3h1tmyxTBttPSd77aYl38meb/72d9Nt370r+znmm6/Ddd+8Od35g3uy6d+/+97KvAe6XkWWG2gIOaFjSpo//7K0ZMmStP6Gm4/4/jLS++vSn99W4wSHCe0jf2xZeln9ruOZAQYYYIABBlrRgBBSZ4NGCgMMMMAAAwwwwAADDDAwogYmdnRVvWRi3CtypBviIx1CxijAeMSIxgi58rDt9HMu7hOS5SMev/q1G/pM33nvg7P3974c6w67759Ni1GIvYOzPKxbXggZ74mRifF4/De/T5u9e7c+8+k9z2o/Rwj55r/+lWLZ8tfbp66fXnvtHykC1HxahIwxAjQ+o3fgmC//9TfcWimb10ss014HfKQyPeaVr9efnn8xbTNnn8prZ18wP1uH3//xqRT1nH/uV677VjZ92rpvXW42n17P54GEkO2lqZUA8qKLL0mrtnWP+P4y0vvr0p8/tq36pZ7jMq1Ll/W7jl8GGGCAAQYYYKB4A0JInQ2+eDPAAAMMMMAAAwwwwAADI2qgVK4eQo4ZW3wjeLAdCyMdQsalR//nf/4ndfa6/OjDv3gk/erRxyuhWYRj33t7BF+MUuwdls3c4K0RgguuvKYyPQ/ZNthix8q0/D2RvsUIyvz3as+fPvP8LKSrVfaOu+5OTz71TM15PPun59O99z+4zOsPPvzLFIFg/plxadl4HHLUJyrT8teW3H5n9lpchjWm5SHkLbfdsUzZPIQ849y5fV7b70NHZfM48oRT+kw/6dSzs+kjeY/L5YWQEUAuWnRFNgJy7iXzU1v7pBHdhwe7X9Wr/CpjO6qe4NBR6lJf/u4xwAADDDDAAAN1MCCErEMl1+vLtc8Z+Q4K28A2YIABBhhggAEGGGBg8AY6O7urBgUrjxn8vIqu/5EOIX/7+z+mRx//TZqz10GVf/llV9fb7D2V8Oy5P72QIpzMQ7r8uVoI+dAvfpXdFzEv0/s50rf+Qsg8GLz6y19Lp519YRbWffyUMyufu8ZG22TTTv3cBZVpvecfP9cKIe/+8f3phRdfqrzv6i9fl81r7dnbVabl8zrtnIuy1+bsdWD2Wr6elyxc9r6StULIXff5UDaPpUPIoz726Wz6Lvu8M1Iz/9x6PfcXQnaUp1cCyLgUqwCy9nEijiE9PT3L/Ct3CiGLPlaaX22H6kbdMMAAAwyMZgNCSCGktJ8BBhhggAEGGGCAAQYYGFED3d3VQ8hGaKyPZAi55Xv2yMKwWv+dc+GllXDu5b+8kn7ywEOV3/OwLA/neo+EjFDzjzVGKsZn9RdCRtj59DPPVT4nLukaIzX3ePuekAsXX5PdW3LSmptUyuTLkj8PNISM+1TGIx/tmL8/nk84+a1RkvsceHj2Ofl6tnoIWeqaka64cnE2AjICyLgnZCPsJ427DBOXCSAjlOzqcunaxt1mOqptGwYYYIABBlrJgBBSZ4MGCwMMMMAAAwwwwAADDDAwogaqjVSKaY3Q+B7JEHLugqvS//3f/6Vqgd6jj/82/aHXpUt/9evH05+ef2GZ4C8P53qHkN+96+4s3Osd6uU/9xdCxn0b43H51V+pfE77lPXS/Q8+nN3j8azzLslev/iyKyuv5/Pt/TzQEDLmE49tdnrnPo75fOYtvDp7Lb8fZb6erRxCRgB59Re+mAWQCxdeLoAc4HG7kY8vjXCMsww6uhlggAEGGGBgOA0IIQf4pXU4N4J528kZYIABBhhggAEGGGBgNBto5JBgJEPICOvue+BnVQO9C+YtejuEe1/2+nXfvDn7fds5fQO7nfc+OJt+2RVfrMwnD/A+cMjRlWkR7s3aaqes7Ddv+naf6XnwF89/eeWv6YGf/bzP6x3TN0hxKdV4/O3vr6al70vZ+/3x80BDyB123z+b59L3eZy6zubZ5/QOXUdDCDlv/mVZALlkyZKGef7SNV9OF140N538qVPThw85PG35rh3SuAmNdX/KRj6+jObjvnX3vYcBBhhggIHRYUAIKYRsiLOLHXBGxwHHdradGWCAAQYYYIABBqoZaOSQYKRCyO12eX8WwJ1y+rl9Ar880HvXTntnr1847/Ls9fy+h3GZ1T33Pyy7PGpcrjVCwXj0DiGnrbt5euONf6aXXn4l7XvwkWm3/Q5Jnz37wqxsTO8vhDxv7sJsfnGp1PjMWJ7Djv5kev31N9ILL/45e+03v/tD2vegI6ou92BCyCh76+3fy+a55PY70wZb7Jji8qtxOdh4HHDosZXPEEI2TjAZIenFF89LHzzo0NTWPnnE+xwa+fhS7Xhomr+TDDDAAAMMMNBKBoSQQsgRbxC00g5lXfyBYIABBhhggAEGGGBg8AYaOSQYqRAy7q0Yj7U23rYStOUBZP78wosvZaMK898j+Hv1tdey98V/Dz78y7T59rtll23tfTnWKP/ePT6YhZB54V8/9kTaYbf90733P9jvPSHjvZcsuCrFPSjzx7PPPZ/iUqzx2o57HJB++chjWSgZl2rNl63380BHQsZ7Yh75KM/88yLwPOKEU/rMezSEkI14Odb20tQ0Zfo6aZ31Nknb77BrOv2Mz/UZpXnttdel3ffcb0T7HRr5+OLvxeD/XqgzdcYAAwwwwEBzGRBCCiFHtDHggNFcBwzby/ZigAEGGGCAAQYYGA4DjRwSjFQI2Tu0G8zPnattlObsdVBas5/wMp/fxGnrZ2Hk+pvv0CfQy19f3vPsbXZOa83erup7Z66/VdXpy5tnrddjGWO94l+sY61yrTI93FXb1yKIvOLKxVnQN3/+ZQ15X8gJHVPTHnt9IH3xS9dUAskrrlicBZXV1mm4pzXy8WW41938/c1mgAEGGGCAgZE2IIQUQlZt2Iw0TJ/v4MgAAwwwwAADDDDAwOgx0MghQbOFkK0Swo329agVQsZxsaM8PS1adEUliGxrb6x7MObH7jHjutLe+x6QYjRkXKL1hhtuTFtuvUPd+yAa+fiS15Xn0fP3zra2rRlggAEGRpsBIaQQsu4NgNG2k1lff1gYYIABBhhggAEGGOjfQCOHBELI1Vt+1GEjBp79hZBxPInLoOZB5NxL5qdGDSJjWcdPnJJOOvkzlVGR+3/ww3Xth2jk44u/Df3/bVA/6ocBBhhggIHmNyCEFELW9cu/g0bzHzRsQ9uQAQYYYIABBhhgoGgDjRwS9EyalsaUVxPElYWR9Qorw1u4W95+FkHkpZcuyMK9i+fOSzHycHnvGcnXd9vj/ZUg8qOHH1O3ZW3k48tIbg+f7W85AwwwwAADDNTDgBBSCFm3L/71AO0zHDgZYIABBhhggAEGGGg+A40cEpS7pqa2zplCSCHsiOwoAAAgAElEQVRk3QyEt3A3kGPZ+ImT0/y3g8gNZm0xoPcMZL7DVWad9TZJX//69VkYOWeXveqyvI18fBmuejbf5vs7aJvZZgwwwAADrWpACCmErMuX/lbdgayXPw4MMMAAAwwwwAADDAzdQCOHBBNKk1J7txCyXqMAfc7qmbcJHQO/z+O4CT2pGQLI/Fi5wUZbpFtuuSXddNNNKX7Opw/XcyMfX4Zrnc136H+X1KE6ZIABBhhgoBgDQkgh5LB/4bezFrOzqkf1yAADDDDAAAMMMNCqBho5JBg3viuVuqfXbRScEM5lX0s909PY8Z0t3Vbf5X17Z6Mhv/yVrw77ZWQb+fjSqsd06+X7CgMMMMAAAwzkBoSQQsiWbtjk0D076DHAAAMMMMAAAwww0LgGGjkkWHnVjlTqmiqEdDnWuhkIbyuPadz9tahj6ZlnnZMFkQd/6CPD2i/RyMeXourSfFp/f7GNbWMGGGCAgWY1IIQUQg7rl/1m3TEst4M6AwwwwAADDDDAAAP1M9DoIUFbe3ea2D2jbiGU0ZCjdzRkR/eM1Daha1S006fOWCe7LOuNN96YunpWG7Z1bvTji7819ftbo67VNQMMMMAAA/U3IIQUQg7bF307dP13aHWuzhlggAEGGGCAAQaa0UAzhASd3VPTuM7VBJFGRA6bgXGdM1O5e+qoaqMfceRx2WjIUz792WFb72Y4vjTjcdsy+77BAAMMMMAAAwMxIIQUQg7bF/2BAFTGgYoBBhhggAEGGGCAAQaaISRYaUxH6pk8bdgCKKMfR+/ox3zbT5o8bdS1z8dPnJy+9vWvZ0FkR3n6sKx/Mxxf/B30d5ABBhhggAEGWtWAEFIIOSxf8lt1h7Fe/hgwwAADDDDAAAMMMFC8gWYJCVZapZR6Jk9PMWItD448Cw+HaiA8TZocAVxpVLbPjzzq+CyE3HW3fYZl/Zvl+OJvS/F/W9SpOmWAAQYYYGDkDQghhZDD8iXfzj3yO7dtYBswwAADDDDAAAMMNIuBZgoJYkRkZ/e01NHjHpFDDd+8f/XMUbl79I2A7H1s2mKr7bMQ8vQzPjcs/RPNdHzpXS9+9jecAQYYYIABBlrBgBBSCDksX/JbYeewDg7yDDDAAAMMMMAAAwzUx0AzhgRtE3tSqXtaKvfMSO3dM1Nb58w0puyekYLF2iNDw0c4CS/hJsLHtvaeUd8mHzehJ918883pW9/6VlplbGfh9dGMxxd/e+rzt0c9q2cGGGCAAQaG34AQUghZ+Bd8O+7w77jqWB0zwAADDDDAAAMMtJKBZg0JVl61I40d35Xay1NSuXtq6pk0LU2eMt0/dVDVQPgIJ+El3Kw8xnEsP45dfsXibDTkGmtvVHgfRbMeX/K68Ww/YYABBhhggIFmNiCEFEIW/gW/mXcIy+6AzgADDDDAAAMMMMBA/Q0ICepf5/VyvmTJkixcqtfn+ZzmtHT++RdlTjbdfLv/z955eElRpQ/7H/jUEWamp7snz8AQRHIQMICAAQygmFBBWde4rgqIggEXIyJJchSUJKIIuoZd0yqGRVHXgAHDYkIwIoZzfnt8v/NerKZ7pnume7qquqrr6XOGnqm6davq3ue+VXUf7i3b+yiIL/5kgrZMvcEADMAADMBAfjCAhERC2n6DT3DIj+BAPVKPMAADMAADMAADMAADbjGAJMhf1pCQ+Vu3dsaHCRNvMBLymONOtr2PgvgCg3aySl7wBAMwAAMwAAOZMYCERELafoNPI8ysEVJelBcMwAAMwAAMwAAMwEDQGUAS5G8bQELmb93aGbcuufQKIyFPO+Mc2/soiC8waCer5AVPMAADMAADMJAZA0hIJKTtN/g0wswaIeVFecEADMAADMAADMAADASdASRB/rYBJGT+1q2dcWvUeX82ElK/7cxX8yK+wKDdTJEfTMEADMAADMBA+gwgIZGQtt/g0wDTb4CUFWUFAzAAAzAAAzAAAzAAA0iCfGYACUmMS4dvJCScpMMJaeAEBmAABmAABvzHABISCYmEhAEYgAEYgAEYgAEYgAEYgIGcMsBIJf91JqTbAYSEzN+6TZeBdNIhIeEkHU5IAycwAAMwAAMw4D8GkJB0NuS0s4Gg4b+gQZ1RZzAAAzAAAzAAAzAAA3YzgITMX6aQkPlbt3bGASQknNjJE3nBEwzAAAzAAAx4hwEkJBISCQkDMAADMAADMAADMAADMAADOWUACemdTgK7O2yQkPlbt3aygoSEEzt5Ii94ggEYgAEYgAHvMICEpLMhp50NBAPvBAPqgrqAARiAARiAARiAARjIFQNIyPxlDwmZv3VrZ7xAQsKJnTyRFzzBAAzAAAzAgHcYQEIiIZGQMAADMAADMAADMAADMAADMJBTBpCQ3ukksLvDBgmZv3VrJytISDixkyfygicYgAEYgAEY8A4DSEg6G3La2UAw8E4woC6oCxiAARiAARiAARiAgVwx4GcJWdCyVAqLKqQ4VCXhSI1EorX8UAZJGQiHawwnyotyk6v25sX9IiG5/niRS44JLmEABmAABmAgewaQkEhIHnxgAAZgAAZgAAZgAAZgAAZgIKcM+FFCtigsl1CoSkpKqsx3qKhSigsr+KEMGmVAOYlxU1IlyhGdW2FBQmbfwQdHlCEMwAAMwAAMwIAXGUBC0tnAAw8MwAAMwAAMwAAMwAAMwAAM5JQBP0nIAw4KS+gP8Yh0RLpmy4AKSeXJix1Gbh4TEpJOUzd5Y1/wBgMwAAMwAAPuMYCEpLMh8A87BBz3Ag5lTVnDAAzAAAzAAAzAAAwkY8BPElKnXC1m1GOjo/2yFXNB215HRypXydpGUJYhIbk2BIV1zhPWYQAGYAAGgsYAEhIJGegHnaA1eM6XixwMwAAMwAAMwAAMwIAXGfCDhNQRkEZAMt0oAtIhBoIsIpGQXJu8eG3imOASBmAABmAABrJnAAmJhERCwgAMwAAMwAAMwAAMwAAMwEBOGfCDhCwpqWYEpEPyLWgjH1Odr3lfZECnZkVCZt/BRycpZQgDMAADMAADMOBFBpCQdDbktLPBi42CYyJYwwAMwAAMwAAMwAAMwIC7DHhdQrYoLBN9d18qecRy3g1pFwPKmfIWtBiEhHQ35gaNL84XvmAABmAABmAgdwwgIZGQgXu4IeDkLuBQ9pQ9DMAADMAADMAADMBAMga8LiERkEhGuyRjOvkob8naST4vQ0Jybchnvjk3+IYBGIABGAgyA0hIJGTgHm6C3OA5dy54MAADMAADMAADMAADXmTAyxKyoGWplJQwCjIdeUYae2StTv1b0KI0UM/qSEiuTV68NnFMcAkDMAADMAAD2TOAhERCBurBhqCRfdCgDClDGIABGIABGIABGIABuxnwsoQsLCpnKlbeBenqVLw6ElK5s7udeTk/JCTXFS/zybHBJwzAAAzAAAw0nwEkJBIyUA82BIvmBwvKjrKDARiAARiAARiAARhwigEvS8jiUJWEiipdlVCMKLRnRKFfy9HwFrApWZGQXF+cur6QL2zBAAzAAAzAQG4ZQEIiIZGQMAADMAADMAADMAADMAADMJBTBrwsIcORGgQkIyFdZyAcrslpm3S7sw4JmdvOQbfrm/1R3zAAAzAAAzAQHAaQkHQ2BOrBhuAWnOBGXVPXMAADMAADMAADMOAfBrwsISPRWtcFlF9H8HHc9o3gVO6CFMOQkP6J10HiknOFSxiAARiAARjIngEkJBIyUA82BI3sgwZlSBnCAAzAAAzAAAzAAAzYzQAS0j55hQjMj7JEQtoXZ70cX+yOpeRnHzeUJWUJAzAAAzAAA/YwgIREQiIhYQAGYAAGYAAGYAAGYAAGYCCnDHhZEjASMj+knt/kLBLSnk4v7Tz0cnyhc9O+eqYsKUsYgAEYgAEY8CYDSEg6G3La2UBg8GZgoF6oFxiAARiAARiAARiAATcZ8LIkQEIiIXMhMJGQ9sVgL8cXN+Ms+7KPKcqSsoQBGIABGICB9BlAQiIhkZAwAAMwAAMwAAMwAAMwAAMwkFMGvCwJkJBISCRk+p1Mze2Q452Qzpdxc+uG7agbGIABGIABGICBbBhAQtLZkNPOhmzgZVuCHwzAAAzAAAzAAAzAAAzkBwNISERfLkSfl/fJSEj7YpuX4wvXMPvqmbKkLGEABmAABmDAmwwgIZGQSEgYgAEYgAEYgAEYgAEYgAEYyCkDXpYEjIREkOZCViIh7etE83J8obPUvnqmLClLGIABGIABGPAmA0hIOhty2tlAYPBmYKBeqBcYgAEYgAEYgAEYgAE3GfCyJEBCIiGRkM7HQ6Zjdb6M3Yzp7Iv6hAEYgAEYgAEYsBhAQiIhkZAwAAMwAAMwAAMwAAMwAAMwkFMGkJDeEn2dO/aSoSedLtWV7aQpAXfSCcNl8t9ulyl3TJdWNR2aTN9Ufl5ef1jPo0y5uHGMjIS0r+POy/HF6pzj2776piwpSxiAARiAARjwFgNISDobctrZQEDwVkCgPqgPGIABGIABGIABGICBXDDgZUkQxJGQk264WfQzaMAJjUrFmybdatK99NIrsu3d96SirE2j6d2Qd07u45577jPn64ZsRULaF4u9HF9yEW/Zp31sUZaUJQzAAAzAAAw0zQASEgmJhIQBGIABGIABGIABGIABGICBnDLgZUngloTc9fUuI7iS/bN+/QZX5V46ErKqop38+uuvsmrV/a4em5OSsam8kZBNdzI1tyOO6VidK9vm1gnbUScwAAMwAAMwAAN2MICEpLMhp50NdkBMHgRDGIABGIABGIABGIABGPA3A0jICvn6613y1lvvmOk+dSrU+J8+vY92VfSlIyGP7ne88aVXj5vo6rE1JQqdXI+EdC7OICGdK1uuj5QtDMAADMAADMBALhlAQiIhkZAwAAMwAAMwAAMwAAMwAAMwkFMGkJAVoiMhN29+yRNC74brJxvB2Nh0rIOPH2bSjBszwRPH7KR8tPJeumSFOWemY7W/Iw8JaX+Z5rKzkX1TnzAAAzAAAzAAAxYDSEg6G3La2WCByDdBCQZgAAZgAAZgAAZgAAaCywASMjMJef11f5P3tr1vhNj27R/LCYNPTSoCb7t1quj6vXv3ir638YjDBzVI17ausyxZvFx27/7G5Pf3R5+QO26fZn5PJSFHnHmebN78cmz/m194SS78819ieffodoSsXr1Ovvv2O9mx4zOZM3uBtK49NLbeknq63SnDzpKTThgey0/3qbLvoQc3Jk0/f97ihOWHHtJDNJ+zR4yOLR9+6tmy9bU3zPH98MOP8uQT/5T64vCyS6+Shx9+xGwza+Zc+eKLL+Vfz70Qy6N718PlgXUPyY8/7pHffvtN1qx+wJSTZlo/L+t87PzmnZD2xUMvxxeue/bVM2VJWcIADMAADMCANxlAQiIhkZAwAAMwAAMwAAMwAAMwAAMwkFMGvCwJ3HwnZDojIV988RX55ZdfZNKNt8jo8y6WJx7/h5FtffsMiAm0yvK28sYb/5Hvv/9BJlxzo1ww+lIj2FRGdu7YK5auY4ee8vlnX5jtFy5cKndNnSnvvLPNSDddmEpCnjb8HFm5cq3ZTgXfnVOmx0SoCtE9e36Sr77aKcuW3itr1zxgJKjKSBWG8aJOM1i0aJk5zgXzl8jMGXOlpqq9kZa6rn27brH0uk/9qBAMh6pjyy+56K9m+RF9B5pl0+6aZd5Vuf6BDea4NF/9vPD8i7Ft9Bhuv+0us1zX6znrOVx04eUmTf+jjhOVl1peekwzps+RTz/9b6xckJD2d3AxEtL+MqUjljKFARiAARiAARjwAgNISDobctrZ4IVGwDEQjGEABmAABmAABmAABmAgtwwgIVO/E1KFmCXuVLDp58Qhw2PLdJ0KR5VuVjpr2tAjDz8mtkzX6ahIHfVopdNRj/o59ZQRsWW6buV9a8zyVBJS0ySbjrUs2trIx892fC7t2nSJ5Wm9P/Kpp56NLdM8rI8l/6zjGn7KCLMqfnSljlZ89JHHzfL4kZ/3rlgtu3btjuXbrUtf6dC+e+xvzXP6tLvNdnoc1j4sCfnhhx+JSltruX7rKFMVvfVHjj7/r80mHySk/fECCWl/mXJdo0xhAAZgAAZgAAa8wAASEgmJhIQBGIABGIABGIABGIABGICBnDKAhNw3HasxXPX+iR8d+c0338qGDZsShJlKs9tuvVO+3rnLLC8vrTMCLV42WoJt3txF8t57H5h0da07mT3pSEprvfU96YabzbpMJaSOuNTP+Kuva5CnJTa7dukTW6dpt/z7tdjf1v5LI63MqMPly1fG1r3++pty3cSbZNu775lRi1baj7Z/LPff/2AsnbXc+lYxetWV15jj0ilYreWWhDzz9JGxZbpOz1k/9ad91XX33HOfWYeEtL9DDwlpf5l6odORY6BeYQAGYAAGYAAGkJB0NuS0s4EgRBCCARiAARiAARiAARiAARhAQjb9TkidylQ/H3/8iXkHor4H0frR0Xz6UVGmox/188EH22PrrXQ6pehPP+016fQ9jPq58YabEySc5tFcCRkbcdh//4hDzU9/xly1TwSOPOcC87fKQf3cd++aBvvX9E8/9axs3/6RWafvk9SPjkxcvOge835LTaPTtern0kuuTMhDy+CeZffJu+9uM+utf/Rdmtbx3HH7vulYe/U8KrZM111x+TiT/Nxz/pSwXNchIZ2LVUhI58qWayxlCwMwAAMwAAMwkEsGkJBISCQkDMAADMAADMAADMAADMAADOSUASRk0xKyV4+jjBzTKUH1/YXJflSUHXvMSSbdk08+lTTNLTffYeTa8FPPNumSjVpsroTU0YP66dn9yAYC70/nX2LWXXLxFWZdUxJShaF+VDSOGnmh7Pp630jPs84cJf/3f/8nleVtRKdr1U/81K/WMn135p8vuEz69D5ajhl4okkXL1xTScirx000aU8ffk6Dc0BCOteBh4R0rmxz2enIvqlXGIABGIABGIABJCSdDTntbCAIEYRgAAZgAAZgAAZgAAZgAAaQkE1LyKqKdkaOrVp1fwM5Zo3u0+8unXubdDr1avzy+r+rnNOPvmux/rrmSshJN95i8jwticBT+amfk088zeyvKQnZt88Ak/788y4yox/XrH7AbKfvb9SPSkIdFanvb7SOv6KsjZnGVUWttUy/M5GQZ48YbfLXKVzj89DfkZDOxSokpHNlyzWWsoUBGIABGIABGMglA0hIJCQSEgZgAAZgAAZgAAZgAAZgAAZyygASsmkJqRLsxc0vy549e6RD++4NBFm8MNOpWHft2i06jWn88vjf9d2RP//8s+zY8VmDNCtXrjUiLtN3Qlpis74ErKlqLzt3fi3ff/d9bF9NSUg91i+++FIWLlwqH7z/YcKUqy+99IqoZH3nnW2yYP6SWJ49uh1hjtsa7Wmd71//MtYsv+H6ybG0qUZCWnk88/RzsbRWPs89+7zJh3dC2t+Rh4S0v0xz2dnIvqlPGIABGIABGIABiwEkJJ0NOe1ssEDkm6AEAzAAAzAAAzAAAzAAA8FlAAmZnoQ8ZtC+aUX/+98dotOp6sg/nYr01lvulCHHnxKTZjoSUT8q73TkoQq/jh16yvTps+WoI46Jpbv9tn3vRVy9ep0MPel00SlTH9n0mPzww49m+0wlpMq6e1esMts++8y/REcznjLsLDNaUReOuera2L7TkZAr71sjn+343OSn78S0ZOAdt0+LLR9x5nmx5br+t99+E3335dCTz5DuXQ+XhQuWyPff/2DySOedkJrH2jUPmPT6jkstF33npE7vapULEtL+WIWEtL9MuaZSpjAAAzAAAzAAA15gAAmJhERCwgAMwAAMwAAMwAAMwAAMwEBOGUBCpichVZCpfPzqq51Gkln/vPvuNjlh8KkJMu68URfKN998ayUx369u2SpH9zs+Id3SJStiaVTgqUQ8cchws6w5ElKPcfk998Xy1F9+/fVXuWnSrQn7TUdCXvCnS00+H364PWHbwccPM8utd0PqPq2fUSP/nHDeD65/WNq37WreI5nOOyE1n+rKdvL4Y0/GzmHPnp+MwLXeN4mEtL9DDwlpf5l6odORY6BeYQAGYAAGYAAGkJB0NuS0s4EgRBCCARiAARiAARiAARiAARhAQu6XaJZMa+r7pBOGm1F6gwaeGBNwybbRkZA6mq++fIxP26vHUaL56cjK+OXZ/N6tS1+zX913m9adbcs33WPS89UpZ9NNnyxdvyOPlcHHDcsqj2T5prMsEq0N1LM6EpLrAPcCMAADMAADMAAD+ckAEhIJGagHGwJZfgYy6pV6hQEYgAEYgAEYgAF/M4CEzFxCpiOySOPfckVC2hfTvBxfuHbZV8+UJWUJAzAAAzAAA95kAAmJhERCwgAMwAAMwAAMwAAMwAAMwEBOGfCyJFAZhMzzr8zza90hIe3rRPNyfKGz1L56piwpSxiAARiAARjwJgNISDobctrZQGDwZmCgXqgXGIABGIABGIABGIABNxnwsiRAQiIgcyEykZD2xWAvxxc34yz7so8pypKyhAEYgAEYgIH0GUBCIiGRkDAAAzAAAzAAAzAAAzAAAzCQUwa8LAmQkEhIJGT6nUzN7ZDjnZDOl3Fz64btqBsYgAEYgAEYgIFsGEBC0tmQ086GbOBlW4IfDMAADMAADMAADMAADOQHA0hIRF8uRJ+X98lISPtim5fjC9cw++qZsqQsYQAGYAAGYMCbDCAhkZBISBiAARiAARiAARiAARiAARjIKQNelgSMhESQ5kJWIiHt60Tzcnyhs9S+eqYsKUsYgAEYgAEY8CYDSEg6G3La2UBg8GZgoF6oFxiAARiAARiAARiAATcZ8LIkQEIiIZGQzsdDpmN1vozdjOnsi/qEARiAARiAARiwGEBCIiGRkDAAAzAAAzAAAzAAAzAAAzCQUwa8LCHD4RrJhYRin8GWnyXhmpy2SavTyK1vJCQdlW6xxn5gDQZgAAZgAAbcZQAJSWdDoB5sCDDuBhjKm/KGARiAARiAARiAARhIhwEvS8jiUJWEiioRkYXBloJuSmHDW6gqUM/qSEiuFelcK0gDJzAAAzAAAzDgPwaQkEjIQD3YEKT8F6SoM+oMBmAABmAABmAABvKfAS9LyJZF5RIKVSEhkZCuMaC8KXdBin1IyPyP80HimXOFZxiAARiAARjYzwASEgkZqAcbGv/+xk9ZUBYwAAMwAAMwAAMwAANeYcDLErKgZamESpCQbo4EDPq+SkqqpaBFaaCe1ZGQXI+8cj3iOGARBmAABmAABuxlAAmJhAzUgw0BxN4AQnlSnjAAAzAAAzAAAzAAA3Yw4GUJqedXHGI61qCLQTfPX0dC2tGu/JQHEpJriZ945VjhFQZgAAZgAAbSZwAJiYQM3MMNASL9AEFZUVYwAAMwAAMwAAMwAANuMOB1CXlwYRlTsjIdqyvTsaqAPLhlWeCe05GQXGvcuNawDziDARiAARiAAfcZQEIiIQP3cEOgcT/QUOaUOQzAAAzAAAzAAAzAQGMMeF1C6rHrlKyhIkZEujkiMGj7Ur6Us8baSr6uQ0JyjchXtjkv2IYBGIABGAg6A0hIJGQgH3CC3vA5fy5+MAADMAADMAADMAADXmLADxJSyyscqXFlNFzQ5BvnW2G4Ur681C7dPBYkJNckN3ljX/AGAzAAAzAAA+4xgIREQgb2IYdA416goawpaxiAARiAARiAARiAgcYY8IuE1HNQUcSIyH3SDHloTzkoT0EWkNqukJBcIxq7RrAOPmAABmAABmDAvwwgIZGQSEgYgAEYgAEYgAEYgAEYyJiBNu27yrBTz5K/XjFWJk++VebNXyDr1q2TRx55hB+Pl8GaNWtl9px5Mummm+Wyv1wlJ558mlTXdsiYATs7AvwkIfW8dcrMkpIqRkXynsisGVCOgjoFa3wMuejiy82144yzRtoei/wWX+LLhd/92+FK3VF3MAADMAADMLCPASQkHU623+DTuAiwMAADMAADMAADMJCfDPQ8rJ9cO+EGue++lYhGj4vG5sjgZfcslzFjr5H2Hbq7/ozgR0nQsrD8DxlZLaEQ74tkVGR6oyLNex9DKrH3cdOiZbnr7c2L1+hrrr3OXFeOPX6o7eXhx/jixTrimPLz3o56pV5hAAZgAAacZgAJiYS0/QbfaWjJn8AIAzAAAzAAAzAAA+4yUNO6o9w4aXKCeFy27B45f/RF0rX74dKmXVcpq2gjLYroTPcDmy2LK6Wiqp20O6S79OrdXy665PIGYnnsuGukrLKta88KfpYEBS1Kpai4wghJnVIzEq3lhzJIyoCZyrekyvCi3PghXrh1jLfdNsVcY3r16W97ufg5vrhV/uzH3fsqypvyhgEYgAEYCBIDSEgkpO03+EFqQJwrFwwYgAEYgAEYgIF8Z0AFVfyoOh0p17lbX+4h8/A54rA+/RNk8/oHH5QzzxrlSl0jCYil+R5LOb/GGZ8/f6G51uhU33aXFfGl8bK3u7zJj/KGARiAARiAARiIZwAJmYedB/EVzO80eBiAARiAARiAARiAgeYwUFRSJVPuvCsmIG/62y1S166L7Z3DzTk2tnGW6U5desv0GbNidT9h4g1ykMOjtpAEztZpLtpMtLxOFixcJPMXLBL9PRfHwD79wZVebzZu3Cjr1693JNYQX/zBAe2VeoIBGIABGICB/GQACYmE5GEQBmAABmAABmAABmAABhIYqK7tIAsWLDISatWq1dKrd7+E9Twc5ufDYf16PW7wUHlg/XrDwdS7pksoUuMYB0iC/GIqUtpKFi1eEhPZ+rsuq88Yf+dXvTe3Pgcec6JhZdJNNzvCCPEFzprLJtvBDgzAAAzAAAxkzwASkg4nR27yaZzZN07KkDKEARiAARiAARjIBQPVrQ4VFY86BauKJ0YwBZvD1m07izVN4qJFSxwTkUiC/OEsHG0VYyZ+Kud58xaIrstFXGOf3uZLR1srKycPPXj0HlEAACAASURBVN0RPogv3q5/2if1AwMwAAMwAAP5zQASEgnpyE0+gSO/Awf1S/3CAAzAAAzAQH4yUFRSHRsBedWY8dwn8qxgGGhZVCGTb77NSAKdoteJ9o8kyI+YUhKplTlz5hlW6o+EVMk0e/Zc0TROMESe/mQoWtZaHnzwIcNMWUUbR9ggvviTDdo09QYDMAADMAAD+cEAEpKOBUdu8gkQ+REgqEfqEQZgAAZgAAaCw8ABBZHYOyBvvW2K6N/Uf3Dqv6m6PriwPDa6zQlBjSTwP2vF4WqZO3e+kUn6LshIWWvzu8pH/V2X6e+aRtM2xRzr/c9EOnV4+RVjDRf63uF00jcnDfElGCw1hw22gQ0YgAEYgAEYcJ4BJCQS0rEbfRqw8w2YMqaMYQAGYAAGYAAG7GJg+OnnmI5gHb3UsriCe0SeExowUFHVLjZV7xFHHdNgfTYsIgn8HcsKQ5Uya9ZsE0Pip11V6ag/yoZOxarr9G9Nq9tkwwzb+psZrb+q2kNk48aN5qe2rpNjPBBf/M8K7Z06hAEYgAEYgAH/MoCEpHPBsRt9AoN/AwN1R93BAAzAAAzAQLAYCIVrZN26B2TTpk3SvkMP7g95RkjJwNEDBxuJtHjxUjmoRWnKdJnGECSBf2NOQcsymT5jluHi7rvnJLw3NF5CKhM6Fas1WlK30W0zZYX0/mWlft2Nv+Y6w824qyc4ygHxJX+Yqc8Qf1O3MAADMAADMOB9BpCQdDA4erNPEPB+EKCOqCMYgAEYgAEYgAFrOrwxY6/h3pDngyYZ0PdCqlw67YxzmkybbnxBEvg3DnXveYThYcbMu6WopCqBifoSUnnQNDP/GDXZpVvfhPTp8kI6//Ji1V2/o483//Flw4YNUlbZ1lEOiC/+58Xihm/qEgZgAAZgAAb8xwASkk4GR2/2CQr+CwrUGXUGAzAAAzAAA8FioK5dF9MRvH79egmXtuLekOeDJhmwmLn//nWio2jtiBlIAn/HHZWJ+t7Q+iwkk5CaRqd8RkD6u87r13Umf3fq2ltUPiofxx5/cgNuMskrnbTEl+Cylg4fpIEPGIABGIABGHCWASQknQyO3/DTiJ1txJQv5QsDMAADMAADMJANA1dedbXpCD5zxCjuC3k2SJuBK64cZ7g546yRaW/TGKdIgvyMY6kkZGMssC4/WbDqtX2H7rJ27f2uXneIL/nNlMUW39QzDMAADMAADHiTASQkHQ22dBrQwL3ZwKkX6gUGYAAGYAAGYKApBlatXm1GQurIpKbSsh6eLAbadehuJMKUO6fZwg2SID/ZQkLmZ71acSDT7yP7HSs66l65uOSyK2yJHekcA/EFDtPhhDRwAgMwAAMwAAPOMICEREK6duNPI3amEVOulCsMwAAMwAAMwEBzGejQqZfpDL5r2gzuCXkuyJiBNWvWysaNG6WopDrjbesziyTIzziGhMzPeq3fftP5e+R5fzb/4UVjhtsj74kvcJgOo6SBExiAARiAARhwhgEkJJ0NWXcY0DidaZyUK+UKAzAAAzAAAzDgNAMjR11gJOSo8y/knpDngowZmDDxBsPPMcdl/043JEF+xjskZH7WaybXpkM79ZKZs2abWPHAAw9Ir979M441mewvWVriCxwm44JlcAEDMAADMAAD7jCAhKSzwfUHABq3O42bcqacYQAGYAAGYAAGmmLgxkmTTcdw/wHHc0/Ic0HGDIw4+3zDz0UXX57xtvXZRBLkZ7xCQuZnvdZvv8n+bndId5l43Y0mRigH48ZPkPLKtlnHimT7amoZ8SW4HDbFButhAwZgAAZgAAacZwAJSWdDTh4CaNzON27KmDKGARiAARiAARhoioFp02eaDuIu3fpyT8hzQcYMDD7hFMPPNddel/G29dlEEuRnvEJC5me9xrffkmitVLc6VHTEY/8Bg+XKq66WZfcsj8nH226/U1RIxm/j9u/El/zn0G2m2B9MwQAMwAAMwED6DCAh6WzI6cMAjTX9xkpZUVYwAAMwAAMwAAN2M7BkyTLTUVzdqgP3hDwXZMxA774DDD+33T4l423rs4wkyM/4phJy06ZNMSFlSUm+H8nrMlm1arVc/tcx0r3nkVnHhvqxojl/E1/yM740hwW2gQUYgAEYgAEYcJ8BJCSdDZ54KKDxu9/4KXPKHAZgAAZgAAZgYMOGDaYj/KAWpdwT8lyQMQPtOnQ3/MydOz/jbevHHyRBfsYjJGR+y0at33uWr5Cpd02Xa669Xs47/0Lp1uOIrONB/fiQ7d/El/yML9lywfZwAQMwAAMwAAPuMICEpLPBcw8INH53Gj/lTDnDAAzAAAzAAAxYo5FgARaaw0BV7SFGQi5btjzrZwokQX4ySIzJz3ptTrzI5TbEFzjMJX/sG/5gAAZgAAaCzgASEgmZdYdB0BsR58+FBAZgAAZgAAZgwK8MIAhgNxt2kZDw0xQ/xBgYaYoRN9YjIeHQDc7YB5zBAAzAAAzAQHIGkJBISCQkDMAADMAADMAADMBAQBlAECR/SOLhMb1yQUKmV05B5okYAyNe4B8JCYde4JBjgEMYgAEYgIGgMoCEDGiHU1CB57wJ9jAAAzAAAzAAAzCwnwEEwf6ygIvMywIJmXmZBY0zYgyMeIF5JCQceoFDjgEOYQAGYAAGgsoAEhIJycgHGIABGIABGIABGICBgDKAIOBBOJsHYSQk/DTFDzEGRppixI31SEg4dIMz9gFnMAADMAADMJCcASRkQDucaBDJGwTlQrnAAAzAAAzAAAwEiQEEAbxnwzsSEn6a4ocYAyNNMeLGeiQkHLrBGfuAMxiAARiAARhIzgASEgnJyAcYgAEYgAEYgAEYgIGAMoAgSP6QxMNjeuWChEyvnILMEzEGRrzAPxISDr3AIccAhzAAAzAAA0FlAAkZ0A6noALPeRPsYQAGYAAGYAAGYGA/AwiC/WUBF5mXBRIy8zILGmfEGBjxAvNISDj0AoccAxzCAAzAAAwElQEkJBKSkQ8wAAMwAAMwAAMwAAMBZQBBwINwNg/CSEj4aYofYgyMNMWIG+uRkHDoBmfsA85gAAZgAAZgIDkDSMiAdjjRIJI3CMqFcoEBGIABGIABGAgSAwgCeM+GdyRkWA48OCwti8okFKmUaFmNVFTWSlV1K34og6QMKB/KifKi3Cg/2bRBtk2v/JCQ6ZUTPFFOMAADMAADMAADTjCAhERC8tADAzAAAzAAAzAAAzAQUAaQkDxkZvOQGXQJWRSqkEh5rUQqWkuovE5altZJQbSNHBRtyw9lkJQB5aOwtM7wotwoP4WhCq7BDl+DkZBc67K51rEt/MAADMAADMBAdgwgIR2+2QXQ7ACl/Cg/GIABGIABGIABGHCOASSkc2UbBG6DKiEPKAhLaXmNhMtbJRVNSEgkbCYMKEfR8hpRroIQN3JxjkhI2MoFd+wT7mAABmAABmBgHwNISCQkDzowAAMwAAMwAAMwAAMBZQAJyYNxNg/GQZSQBxZEpKKqVlqWMuIxE9FG2sbFrPKkXB1QEOF67MD1GAnJtS6bax3bwg8MwAAMwAAMZMcAEtKBG1ygzA5Kyo/ygwEYgAEYgAEYgAF3GEBCulPO+cpz0CSkjlSrqGL0I0KxcaGYTfnsE5HEJbtjJhISpuxmivxgCgZgAAZgAAbSZwAJiYTkf1rCAAzAAAzAAAzAAAwElAEkZPoPTjxkNiyroEnI0gpGQGYj2Ni2aXmp7xWNltdyTbb5moyEbBi/uaZRJjAAAzAAAzAAA24xgIS0+ebWrYpjPwQJGIABGIABGIABGICBbBlAQsJQNgwFSUIWhSqkpLw174CMNi3SkI3ZlZFyVhiqQETa2FeDhORal821jm3hBwZgAAZgAAayYwAJaeONLTBmByPlR/nBAAzAAAzAAAzAgLsMICHdLe984zsoEvLAg8MSKa9FQCIgXWNAeVPu8i1m5Op8kJCwlCv22C/swQAMwAAMwEBYkJBISB5sYAAGYAAGYAAGYAAGAsoAEpKH4mweioMiIVsWlUmkglGQjHDMboRjJuUXqWglLYpKuTbbdG1GQnKty+Zax7bwAwMwAAMwAAPZMYCEtOmmFhCzA5Hyo/xgAAZgAAZgAAZgwH0GkJDul3k+cR4UCRmKVEqovM61UXCZyCrSuicG3Sxr5a04XImEtKm/BgnJtS6frr2cCzzDAAzAAAz4jQEkpE03tX6reI6XYAUDMAADMAADMAADMICEhIFs4kBQJGS0rEZaliIh3ZRwQd9XYWmdKHfZtE+23R/fkZD7ywIuKAsYgAEYgAEYgAG3GUBCIiF5sIEBGIABGIABGIABGAgoA0hIHkCzeQANioSsqKyVgmgbRkLyTkjXGFDelLts2ifb7o/vSMj9ZQEXlAUMwAAMwAAMwIDbDCAhA9rh5DZo7I/gBgMwAAMwAAMwAAPeYwAJ6b068VM7CYqErKpu5Zp8CvoIQM5///Syyp2f4oGXjxUJybXOy3xybPAJAzAAAzCQ7wwgIZGQPNjAAAzAAAzAAAzAAAwElAEkJA+82TzwIiH3CyPkGWVhNwNISPviMxLSvrLM5prBttQDDMAADMAADASTASRkQDucaPDBbPDUO/UOAzAAAzAAAzAQzwASEh7iecj0dyQk4s1u8UZ++5lCQtoXn5GQ9pVlptcJ0lP2MAADMAADMAADSEgkJCMfYAAGYAAGYAAGYAAGAsoAEpIHwmw6BZCQ+4WR1+XZ4FNHSqfeg9KaVlbT9uw3JK20Xj9vPx8fEtK++IyEtK8ss7lmsC31AAMwAAMwAAPBZAAJGdAOJxp8MBs89U69wwAMwAAMwAAMxDOAhISHeB4y/R0J6Q8JWdflCNHPnIXL0xKLmnb9w39PK23HwwbJccPOkbI2PdJK72cp6PaxIyHti89ISPvKMtPrBOkpexiAARiAARiAASQkEpKRDzAAAzAAAzAAAzAAAwFlAAnJA2E2nQJISHcl5MSb7jAy8aV/v5aR8HNKQo6//hZzPNve3y47d+2WhzY9ntFxuS31/LY/JKR98RkJaV9ZZnPNYFvqAQZgAAZgAAaCyQASMqAdTjT4YDZ46p16hwEYgIHgMnBAQVgOLoxKy6KoFIVKJVRSKiXhUolEyqS0tEzKy8slVScdyyvytmwsCUkdO1PH2q60fUWiZaa9abvT9qftsEVhVLRd+jkuIyHdlZCvvv4f2frGW0b8te3WL23h54SErDm0jzmOv4y93hzHsBEXmL+7Hn5c2sflNyno9vEiIe2Lj6mucX6Ovxy7fXxQlpQlDMAADMAADDjLABISCenrjg8ChLMBgvKlfGEABmDA3wwc1CIiRcVRI0CQjM5IplQdm35ZjoTMLRfaLlVQajstaBHx3X05EtI9CXnoYQON5Dt91CXm+9pJt6ct+1p3OtxsM3vBsrS20cQPbHi00bRn/+lyk6fKSJVz+r5J/Rw95PRGt3Nb5Pl5f0hI++7BUl2Tuc+1r4wpS8oSBmAABmAABmAgFQNISCSk7zo7UsHMcgIdDMAADMAADITN6KpQuFTKyhjZmKrTkeX7xRsScn9ZeIELbbc6QllHSfohniEh3ZOQN902XX74cY8RfI89+bToqMhUgu2K8ZPkrXfeM1Lw3fc+kFEXXWl+n7Pwngbb/OmycSYvTfDxpzvk/EvGyN69PzcpIU/5Y+Rjz35DTJ6Ll6+Wr3d90yD/VMeo75y8+MoJoiM6H/vHM+b4vvxqp8yYszhpHj2OGiwPbnxMftyzRz786BO5Y/pcidZ1S0hbdchh8vyLr0j/waeJjsx8ectWk2/nPsdI+x79zbpe/U+U4edcKF99vcus+2rn1zFxevm4G0Snuv3pp73y5NP/krouRybkn+pcnFqeiYRsWVwhXbr19UXcyEVsSxXfc3Es7JPnFRiAARiAARiAgaAxgIREQvKgAgMwAAMwAAMwkAcMFIdKpYwpVfN22tRUHajZLkdCektCxtentmcdIenlB1QkpHsS8u1335PV6zYYKabyTj8deg1oIMnWPrjJrHvq2Rfktrtmi8q+n3/+xSy7e/7ShPTTZi80y1XWadpV9z8kv/76q1nW1EjIsjY9TLrpcxaJ/uhHxWS6Qm7HZ1/IM/96UXbt/laW3rtGZs1baiSo5nPpmIkJ+VjC87PPv5T5S+41glTTqWCtaNczlrau8xHmOPQ8VVbOnLvEHJseU/cjB5t1Gx553Hw//OgT8vcnnjK/a77WOax+4GH55zPPm+VPP7c5lne652VnunQlZHG4WmbNmi0azzt37ePpmJGreBYfW+N/z9XxsF86n2EABmAABmAABoLEABIyDzodgwQs50qAhgEYgAEYgIFEBgqLGfUY36HI75lJNSRkZuWVC750dKS+Q9KLsQ8J6Y6E1FGA+tERjSq5LNk26dZpCZLMGvF435oHE5YPGT7KbB8/HesxQ0eYZToKMV6cWbKuKQmp2+jIRP1se3+79B5wckI+8Xkm+10l5K+//SZ6bNb6UE1n2bPnJ1GBai1TyagjQHUf8cLROv77H9wUS2uVix7TqWf/ObZc87LO64svd0q/wafF1t1y5yxzDts//lS0nK393rt6vVle23HfdLPWcje/05GQoUhNTEDeNW2GHFxY7slYkev4lSp25/q42H/iPS3lQXnAAAzAAAzAQH4ygIREQvKQAgMwAAMwAAMw4EMGdLrG0lKmXE3Vscjy9OQaEjK9cvICT9reD27prfdGIiHdkZA69ej//vc/KY2bfnTrG2/Jf97ZFpNmKsf+8ccIPh2lGC/L6rrsGyE4Z+Hy2HJLsnXpe2xsmbWN2jcdQWn9nex74t+mGEmXKu2TTz0nn3y6I2Uen33xpWx+eUuD9Vu2vikqBK196tSy+hl96djYMmvdI4/906zTaVh1mSUhN/79yQZpLQl50+3TE9aded6lJo9LrpyQsHz89beY5bl8x2VTElIF5Lx5C8wIyOkzZklhqJL7uRT3c6liOB2d+dnRSb1SrzAAAzAAAzDgLQaQkCluUgHVW6BSH9QHDMAADMAADOxjoKBFRCLRsmZNOxqOlElRqNSMqlKJeXDLqBx0cFgOLAjLAQUwFkTGLAkZxHN345y1XWn70namAlHbnY5q1Hao7TFVx3hjy7X9a35uHH9T+0BCuiMhP9j+sbyz7X0ZfOrI2I817Wqn3oNi8uzzL74SlZOWpLO+k0nI1974j3kvopUm/lvtW2MS0hKDS1askRtvmWpk3ZgJf4vtt133fmbZ9TffGVsWn7/+nkpCPvfCy/LVzl2x7ZasWG3y6tDz6NgyK68bb73LrBt86rlmnXWeM+Y2fK9kKgl54mnnmTzqS8hLr5polp9w2v6RmtZ+3fpuTEKGo61iAlKnYkVANh4TU8XUpmIc6xsvV8qH8oEBGIABGIABGEiHASQkEtITHRjpwEoaghoMwAAMwEDQGSgsjkp5Bu991HfKqejw6lSOQa9PL5w/EjL3cVXbp7bTTN7pqnGg0ANTtCIhnZeQhw8aZmRYqn9unXp3TM7t/uZbeemV12J/W7LMknPxIyFVan6cYqSi7qsxCamy8787Po/tR6d01ZGaw/54J+TcRcvNuyUr2/eKpbGOxfpOV0Lqeyr1Y412tLbX7yuv2TdK8rRzLzL7sc4z3yVkpKy1LFi4yIyAVAGp74T0wvXEy8eAhMz9tc7LfHBs8AEDMAADMAADzjKAhERC8sACAzAAAzAAAzDgAwZCJaVpj5pSoaEjrg7wwXlxs+/szX5T5YuEzG35x9ePtldtt5mMdNa4EJ+H278jIZ2XkNPnLJbff/9dkgm9d7Z9IB/FTV36n7e3yRdfftVA/FlyLl5CPvHUc0buxUs96/fGJKS+t1E/85fcG9tPqLqTvLxlq3nH4+Q7Zpj102YvjK238o3/TldCaj766Xf8/vc4WvnMnLvErLPeR2mdZz5LSBWQS5YuMwJy7tz5CMg073OQkN651rl9nWJ/1D0MwAAMwAAM5J4BJGSaN63AmntYqQPqAAZgAAZgIKgMpDttY9SD74wLap355byRkN6Mqzp1q7bnVB3n8cs1PuSKNySk8xJSZd2Lr7yaVOjdOXPeHxLuJLN+9QMPm7/7D04UdkOGjzLLZy9YFsvHEnhnjb4stkzlXrcjjjdpH9jwaMJyS/zp9zfffievvPp6wvpwqy6iU6nq5/sffpT676WM315/T1dCHjN0hMmz/nseaw7tY/YTL12DICFnzpptBKQVu73wvW7dOpk3f4FMnnyr/PWKsTLs1LOkrl2XnMWlZPEwPmbG/54sLcu8eV2kXqgXGIABGIABGPAvA0hIJKSnHg4IJv4NJtQddQcDMAAD9jOg75OLpvH+x9JSHfkY4ZrOfV3GDFgd2LRf+9uvHWWqU7WWlTUtIzVO5OK9rkhIZyXk0SecYQTchEm3Jwg/S+gddfxws37qzPlmvfXeQ51m9ZQRF5jpUXW6VpWC+omXkLUd+8jPP/8iu3Z/K6ePukROPnO03HDLVJNWlzcmIe+YPtfkp1Ol6j71eC64bJzs3fuzfLXza7Pu/Q8/ktNHXpz0uDORkJp202P/MHk+8tg/pUvfY0WnX9XpYPVz9p8uj+0DCfmIpwTlffetlGuuvV569Doq42uTHfEzPo948Rj/e3wafvfmdZB6oV5gAAZgAAZgwP8MICHprMr5AwGBxP+BhDqkDmEABmDAfgYOLAg3KR9UThQW53Y6Rure/rp3s0yRkP6oP23nTclI/c8IGjfc5AcJ6ayE1Hcr6ueQHv1jos0SkNb3Vzt3mVGF1t8q/n7cs8dsp/9s2fqm9Bl4spm2NX46Vk1/3LBzjIS0Er/97ntyzMkjZPPLWxp9J6RuO2POYtF3UFqfzz7/UnQqVl137LCz5c233jVSUqdqtY4t/jvdkZC6jeZhjfK09qfC8+IrJyTkHQQJ6cXpWFsUlUtZRRtp066rdOtxhJw/+iJZtuyeBCF646TJUtO6o6vxKT4WxovH+N/j0/C7u9cPypvyhgEYgAEYgIHgMICERELm7EGAQBOcQENdU9cwAAMwkBkD+m640iamYszVyCfqMrO69Hp5ISH9U59mZHRpWaNTtGrccPNdsEhIZyVkvLTL5PfSNt1l8KkjpX0j8tLKr6S2s5GRnfsckyD0rPVNfffsN0QO6Xl00m3rOh+RdHlTeaZar8eo56U/eo6p0uXL8qrqVkmf1VVELli4yEi+WbNme/a9kJ279ZFx4yckyMg/X3hZ0nNy+loZLx7jf3d6v+Tvn2ssdUVdwQAMwAAMwIBzDCAhkZA5eQigUTvXqClbyhYGYAAG/M9ApIkpWHP5Djj48j9f8XWIhPRffTb1jtiIi++IREJ6U0Lmi4QL+nmkkpAaw8PRVjJv3oKYiCwMVXr2uV7fD6nvi7SuN3dMmSoti9093njxGP97/PWQ3/13PaTOqDMYgAEYgAEY8AcDSEgkpGcfVggi/ggi1BP1BAMwAAP2MhAqKW10pFNJmOlXYc4+5qxOYcrUvjJ1oyw1DsR3pNf/vTgUdeUeHwmJhAy6KHTy/BuTkBpnQpGamIicPmOWeFlE6vH27nu0rFq12sjI+fMXSmV1e1filO67foy0/nYjXrMPf11fqS/qCwZgAAZgAAbsZwAJiYR07cafBmx/A6ZMKVMYgAEYyC8GWhZFU3aUaYdZUbE7YgGu8ourxuoTCenfui4ONS4iNZ40Vvd2rAuKhKyorJWCaJu8n/7TSaFG3pkJa+VNuWuqnaqIvPvuOUbsTZs+UwpaljW5TVN5Orle3x05bdpMc7wqJKtqO7hyvJZ0rP/t5LmSt3+vr9QddQcDMAADMAAD9jKAhERCunLTT8O1t+FSnpQnDMAADOQfAwUtIlJeXp5SQiIg86/OvdCOkZD+5krjQv1OdetvjScaV5zkLCgSMlpWI4WldUjIaGYiDfHY/PJS3pS7dNpvUUmVzPpDRHbp1jetbdLJ18k0Y8ddExsRWRiqcvyYrbhY/9vJcyRvf19fqT/qDwZgAAZgAAbsYwAJiYR0/IafBmtfg6UsKUsYgAEYyE8GDjw4LGWNCEjeAZmf9e6F9oyE9D9bjb0jsqysXDS+OMVaUCRkcaRSQuVISKRi86VipmWnvBWH039vYsviCvGLgNR4dEBBRPTdkHoNuuXWO8zfTsUpzbe+fLT+dnKf5O3ctYeypWxhAAZgAAZgwF8MICGRkI51ShAM/BUMqC/qCwZgAAZyx0A0WpaygyxaWs61Oov7NRUwLYvKJBSpNKNKdHo7fc8WP/vK4JJLLxP9oTz2lYfyoaOPlBflxkmBZ2fMLS1NPYo6EnVuesbq2g5GIiy7Z3nWccqSAvW/7Syn5ualLETKWzESkpGQrjEQqWglLYry+x3QOoJz0aLFJoYMPeXMrGNIY+27flyx/m5sG9bl7r6YsqfsYQAGYAAGYCC/GEBCZtGpRWPIr8ZAfVKfMAADMAADuWDg4JaRlALSjGIqoF6aWy9FoQqJlNdKpKK1GcXUsrSO97ohERqVCPoeNp0GUUchKTfKT2GowtHO8ebyHb+dGU1dllpEFrRwJo4EZSSklm+krKZRdjId6UZ690YV+rGslbcDA3D9P+TQHkZCrlm7VkLh9KafjY996f5uScf63+luTzpnriGUK+UKAzAAAzAAA8FgAAmJhPR8pwrBKBjBiHqmnmEABoLKQKoRTG68zy1fy/yAgrCUltdImJFLSBMbpKtyFC2vEeXKy22msffKRkudGQ0ZFAmp9V4YKpeS8ta0KRvalB+loJvHHC5vLYXFzrRZL8awcVdPMCLyL5df5ViMrS8frb+9WB4ck7evtdQP9QMDMAADMAADmTOAhERCOnajT4PMvEFSZpQZDMAADASLgRaFqUdBFoXyexo2p1g/sCAiFVW10rK0DbIAWWAbA8qTcqXvMXOKXTvyLQpFU46sblEYtf3YgyQhtX70PzcQWxjBChkwjgAAIABJREFU6KSQ1BH7+p8e7IgHfsmjrKKNrF+/XjZu3Ch17bo4cu6WdKz/7Zcy4jiD9XxAfVPfMAADMAAD+cYAEhIJ6chNfr41FM6H4A8DMAADMOAEA6Uppk/UaVid2F++56kj1SqqeG+bkx3kQc97n4j0bjw84KCwaPyo39Guf2u8sTsGBE1C7osxtbbJ7aC3J86/odCtrKq1vZ3a3e6dyO+cc0eb0ZCXXzHWkfNPFhN1mRPnQp7evUZSN9QNDMAADMAADOSGASQkEpIbbxiAARiAARiAgRwwUFicesRSy0Jvj7by6o17aQUjIOnUb9ipb2eZ7Bul5G1J0LKokdhSZO9oyKBJSI19Bxyko61bibJgJ1vk5Wzb9Xr5Kk+VVa3k/x0UzOt/cbhaNm3aJCvuvc+Re1IkZG46HL16v8hxwQMMwAAMwAAMuMsAEjIHnY5A7i7klDflDQMwAAMw4DUGzGil8hSjlUrtH63ktfN34niKQhW8r43pV12RQvpewMKQt0fQuDXKOogSUuPXvvfO1kq4gndEel3u+eH4lKNoubf/c4MT1+36ec6YebcZDXlIx562i0gkJM8C9Xnjb5iAARiAARiAAfcYQEIiIW2/wacBu9eAKWvKGgZgAAb8yUBjI5UObhnMURDZsHzgwWGJlDNFoh862/PlGJU35S4bbp3ctrH3zeo6u/YdVAlplV9hSYWJPdGK1hIqr5PC0jopiPI+2nxp506ch/KhnCgvyo3KR6//pwaLd6e/R19wiZGQI0ddYFuMso4ZCend65VVR3xTRzAAAzAAAzCQvwwgIZGQtt/gEzDyN2BQt9QtDMAADNjDQEm4NOk72yLRMq7Lzbg3a1lUJhFGJLkyCtCJTnk/5hmpaCUtiko93V41niTreNf4Y1csD7qE1HJUGd2iqExC0WqJltdIRWWtVFW34ocySMqA8qGcKC/KzYEF9txX2NWmc5nPgEEnGAl5w41/sy1GWeeTLBbqMms933AIAzAAAzAAAzAAA84xgIRsRkcXQDoHJGVL2cIADMAADASBgfIUU7HaOUIpCOVonWMoUmlGlfhRZnHM/nwPnI5iKg5XeroDW0dVJ+t4Lyu3b8pnJCTXbCsO8w0L2TLQo9eRRkLeNW2G7bE1WSxEQsJstsyyPQzBAAzAAAzAQHoMICGRkLbf4NP40mt8lBPlBAMwAAPBZKAghRhQMQkTzWMiWlYjLUvrGAnIOyFdY0CnU1TuvNxm9d2zqf7DQ0ELe6ZkRUI2L2Z5mRuOjTrNFQOt23Q2EnLR4iW2x1YkJFznimv2C3swAAMwAAMwEBYkJBLS9ht8GhbBFQZgAAZgAAZSM1BUHE06OikcsW+KxKCVv05vx3vY/Dmi0K8jQZU35c7rbS0SST4la1EoasuxIyFTx3qvs8HxUXdeY6A4XG0k5P33r7MlPsWfHxIS3uN54Hd4gAEYgAEYgAF3GUBCIiFtv8GnEbvbiClvyhsGYAAG/MVANMV72loW2SMFgsiDvn/NrzKL4/avPFXuvN7eClP8pweNQ3YcOxLSX9cfO+qcPKhzJxl45JFHjIi0ex9ISLi1mynygykYgAEYgAEYSJ8BJCQS0pYOCBpd+o2OsqKsYAAGYCC4DBxQEE46ClI7xw48OLjlEt8mOnXpLToaIn5ZU78jIf0r8vwsYf0gIQ9sJOZoPGqqbTW1HgmZfRk2Vcasp4yDxAASEt6DxDvnCu8wAAMwAANBYQAJiYTMuvMhKI2F8+TCAAMwAAMwkC0DB6d4H6Rdo5KyPb5cb9/2kG5mBMS8eQukJJL+VJdISCRkLmSmHySktunS0vKk//mhoEX2MR0JmX0Z5jrusn/q0EsMICHh0Us8cizwCAMwAAMwAAP2MICEREIiIWEABmAABmAABlxiQKdcTTYlWKiE90HqzX1RSZWsWHGvEZGzZs1Oe0RkPkjIwaeOlE69B6U1raym7XHU4LTS5kLOBWWffpGQJeHSpHGnRWEk69iPhLTnoZzODcoRBvYxgISkLdAWYAAGYAAGYAAG8o8BJKRLnY40nvxrPNQpdQoDMAADMJApA0Up3s+myzPNK1/Tq9S4776V+0Tk3XOkMFTZZNn4XULWdTlC9DNn4fImxWJBaTuT9oENjzaZVmVgx8MGyXHDzpGyNj3SSh8UgWjHefpFQhaHkkvIQhveQ4uE5DqYr9cizis3bCMhc1Pu8E65wwAMwAAMwAAMOMkAEhIJ2WTHnpMAkjcBDgZgAAZgIEgMFJcklwE6QjJI5dDUuda27iirVq02InLa9JnSoqii0fLxioScMOl2Iwhf3rI1I+HnlIQcf/0t5ni2vb9ddu7aLQ9tejyj47JD1OVzHn6RkIUp/vNDcSj7uIOE5BreVDxnPYxkwgASEl4y4YW08AIDMAADMAAD/mAACYmEbLRTj4bsj4ZMPVFPMAADMOAPBkrCZUmnRdR3RVKHiXXYuk1nWb1mjRGRU+6cJgcXlqcsI69IyC1b35TX33zbiL923fulLfyckJDVHXqb47hi/CRzHCefOdr83fXw49I+rnwWiHacm18kZIvC5NNA6zSt2cYdJGRi3Mq2PNme8gw6A0hI2kDQ2wDnTxuAARiAARjIRwaQkEjIrDsf8rFhcE4EfBiAARiAAScYiESTS8iCFpR3svJue0g3Wbv2fiMib7t9ihzUIrk08YKE7NBrgJF8p4+6xHxP/NuUtGVf606Hm21mL1iW1jaa+P4HNzWa9qzRl5k8W3Xqa9LptKz6OXrI6Y1uZ4ecC0oefpGQB7UIJ/3PD+FIWdbPAUhIYney2M0yuGguA0hI2GkuO2wHOzAAAzAAAzDgXQaQkEjIrDsfaODebeDUDXUDAzAAA95ioLS0PKkMOLAgt8fZpn1XGXbqWfLXK8bK5Mm3yrz5C2TdunVG/lkdgnZ9b9q0STZs2CDr16+X++9fZ0Y7rly5SlasuFeWLVsui5cslQULF8m8eQtk9uy5smr1vmlZdf9Xj5+Y9L7FCxJy0q3T5Icf9xjB99iTT8urr/8npezT0YlvvfOekYLb3v9Qzrv4KvP7nIX3NNjmgsvGmbw0wcef7pDRl46VX375VdY99EiDtPHy76Qzzjd59up/okm3ePlqMyVrfJrGftd3Tl5y1QRp262fPPaPZ0xeX+38WmbMWZx0vz37DZH1D/9dftyzRz786BO5Y/pcidZ1S0hbdchh8vyLr0j/wafJsBEXiE5bqx8dnakSV9dpPsPPuVC++npXbJ+WOL183A1mm59+2itPPPWc1HU5MiH/xs7HiXV+kZAaXyoqKhr8REuRkFwjc3vtofwp//oMWPca9Zdn+3eyGKjLss2X7WEYBmAABmAABmAABppmAAmJhOTGGwZgAAZgAAZgwCUGysuTS8hc3LT2PKyfXDvhBrnvvpWOyEarI9HO71l3z0nKqhck5H/e3iYr1z5opNjFV04wAu3QwwY2kGRrH9xk1j317Aty212zjbj7+edfzLK75y9NSK/CTz8v/fs1k3bV/Q/Jr7/9ZpZpPo2JtbI2PUy66XMWycy5S8x2p4y4oNFt4vP7747P5Zl/vSi7dn8rS+9dI7PmLZWPPvmvyfMvY69PyEeFon52fPaFzF9yr6jA1M+7730gFe16xtLWdT7CLNfzUlmpx6XHp/tV+aifBzc+Zr4ffvQJefTxp8zvn33+pUybvdD8vmb9RvnnM8+b37UM44/Z7d/9IiH/30ElDQSkdr6XlaWe4jjdmMRIyLCo5NUpb0MlUdHR7lquqYQHyxvK8KCVifKhnIRCUcNNrv8TUrpt3a101j2D3ftLxZnd+yG/pjshKSPKCAZgAAZgAAaCxwAS0qVORxpX8BoXdU6dwwAMwAAM1GfAC51gNa07yo2TJieIx2XL7pHzR18kXbsfLm3adZWyijbSoih7QVH//PXvAwoiUtCyTFoWV0hxuFrC0VYSLa+T8qp2okKjtnVHqWvbWXQq1k5desvcufPNyEkdHanpkuWZawnZqfe+qU5HXXSlkWLW9Ko6OjJejOl6/Viy0lo3ZPgoszx+OtZjh51tlumoSiudfvc4arBZ3tR0rJrWEnrvffCR9Bl4ckI+8Xkm+10lpH702Kz1oZrORh4+/dzm2LLytj3MCNBt72+X0jbdY8uPGTqiwXFaElJXnHr2n2NpNf+e/U4w6b/4cqf0G3xabN2tU+82y7d//Kk5d+tY7l293izX0ZXWMre//SMhk4+E1HiUrD1lsizoErKwOCrR6L6fSCQi4ZISCRUX80MZNMqAcqK87GOnVJSjTNpdPqdFQnLvnM98c27wDQMwAAMwEFQGkJBISB54YAAGYAAGYAAGXGIg1xLyoksuT5CPY8ZeI5279fVk/auovO22KeZ4Fy1eklJA6k18riXk7dPmyP/+9z8pjZt+9LXX/2OmXI0XY//4YwSfjlKMX17XZd8IwTkLl8eWq6jUT+c+x8SW6TYFpe3Mch1tGJ9H/d/1nZTWJ9nUrU/88zn55NMdKfPY8fkX8uIrrzZYv2Xrm2ZEpLU/nVpWPzpNrLXM+t702D/MOksUWhJy49+fbJDWkpCTbksUt2edv+/dlhdfcW3CNuOvv8XkrVO7Wvtz+xsJGTb/cUClgU6lnO0Dda7jYybHf0BBWKLRMolGIo3KJoQkQjYdBpQj5Um5yoTDfEyLhISBfOSac4JrGIABGICBoDOAhHSp0zHooHH+BFsYgAEYgAEYcG40UlNlW1RSJVPuvCsmIG/62y1S166LZzs7dZTknVOnm+NduvSeRgWknnuuJeT7H35kph4dfOpIsX502lD96ChJS4598eVX8sZ/3on9bS1PJiG3vvGW6DsYrTTWdzoS0hKDS1askRtunmqO46pr/xbLq1WnvmbZDbdMjS2z8re+U0nIZ194SXZ+vTu23eLlq0xeh/YaEFtm5WHte/Cp55p11nnOmNvwvZKpJORJp+97t2V9CXnZmOvMfocMH9lgv9b+nf5GQgZTQh5wUIno1NoljHpEwNo44lNHRypXOn1yU9f0fF6PhOR5IZ/55tzgGwZgAAZgIKgMICGRkIF+yAlqw+e8uejBAAzAQG4YyMVIn+raDrJgwSIj9FatWi29evfz9LVfham++1E7IlVA6jStTfGaSwnZd+BQI8NS/aPvfbRk2DffficvvfJa7G9ruSXn4kdC6vsU9R2MVhrrOx0Jqe9Q1OlUrW30/Yo6UvPE088zy3Ta119//VWsEYpWuvjvdCWkvqdSP8ny+uvVN5p1p517kdmvdZ5ISPfjj1OxJ2jTsR5QsE8UpTO6jTSMgmwOAyoiVXQ3dd3L1/VISPevD/nKEucFSzAAAzAAAzDgHQaQkEjIwD7gEIi8E4ioC+oCBmAgKAw4JQJSlV91q0NFxaN26k29a3qTIwpT5ePW8sJQpcyePTcmICuq26d1n5JLCTl99iL5/fffpbJ9r5j0s2TeO9s+kI8+/jS2/D9vbxMdDWmtt74tORcvIa2pW6001ndTErKktrMRf/OX3BvbT6i6k7y8Zav8+ttvMvmOGWb99DmLYuutvOO/05WQ02YvNPn1O77htKgz5iw263oP2Pc+Sus8kZDux3ynYk/QJGS0tIwRkDaO/muOpMv3bXREZDRamta1z61rs5v7QUK6f31ws37ZF/ULAzAAAzAAA8FkAAmJhAzsAw5BL5hBj3qn3mEABnLJgFMiINk5FZVUx0ZAXjVmvC+u9wMGnWAE5IoV90plTXoCUs89lxLysy++lJf+3XB0owq9O2fOMxKuz8B9Em71Aw+bvweeeGaCANQpXPWjIxQtEThz7hKz7IzzLo0t03U9jhpslt//4KaE5dZ2+q0jLl959fWE9eFWXeS5F142237/w49S3jbxvZTx2+vv6UrIY4aOMHk++vhTCfurObSP6H7ipSsSMnfx16nYEyQJWVgclWgkyhSkSEjHGVDOCosivrhuJ7v/yGYZEjJ314ls6o1tqTcYgAEYgAEYgIHGGEBCIiED+XDTWKNgHUETBmAABmDAKQacEgH1j/eAgkjsHZC33jZF9O/6abz4t46EHDnqAkl3BKR1DrmSkP2HnG4E3MSb7kgQcJbQO+r44Wb9XbMWmPXdj9wnEHd89oWcMuICGTbiAtHpWr/7/geTLl5C1nbsIz///Ivs3LVbzjz/Ujn5zNGi73DUtLq8MQl5x/S5Jr/V6zaI7lOP54LLxsnevT+b90zqSn2P5ekjL0563JlISE276bF/mP2piOzS91jR6Vd1Olj9nP2ny2P7QELmLrY6FXuCIiEPLAhLJFrquHzK91F+nF/6U9TqaMgDA9hXgYTM3XXCuqfimzqAARiAARiAARiwmwEkZABv7O2GiPwITDAAAzAAAzCQHgNOiYD65T/89HPMiMJFi5dIy+IKXwjI+ueQyd+5kpA6fap+DunRPybaLAFpfX+1c5foaEnrbxV/P/y4x2yn/2zZ+qbodKU6bWv8dKya/thhZxsJaSV++933ZNBJZ8mLr7wqD2x4NJanlXf8t06Fuvubb61NRd8TqVOxapohw0fJm2+9a6RkqKZz0nzSHQmp+el0r2vWb4ztS39R4XnxlRMS8kZCphcnMmE/3bROxZ6gSMgWhRGJRhkFiURMXyJmW1al0VJR7tJt4/mSDgmZu+tEvjDEecAQDMAADMAADHiPASQkEjJwDzYEIu8FIuqEOoEBGAgKA06JgPjyC4VrZN26B2TTpk3SvkOPQFzncyUh46VfJr+XtukuOgVr+0bkpZWfvuPxuGHnSOc+xyQIPWt9U989+w2RQ3oenXTbus5HJF3eVJ6p1usoSD0v/dFzTJUuX5Yrd/Ftz8u/OxV7giIhQyVRiUQijIRkKlbXGFDeikNR38QYu+IfEpJnArtYIh9YggEYgAEYgAHvMICEREIG7sGGAOSdAERdUBcwAANBY8ApERBfjpdfMdaMghwz9prAXOP9JiHzRcIF/TyQkGEJioTUqVjDJSWuCahsR9GxvXsjFp0qa+VNuYu/vgfhdyQkzwZB4JxzhHMYgAEYgIGgMYCEREIG7sEmaI2c8+XCBgMwAAPeYcBpCVnXrosZAbl+/XoJl/pnlFa2jCIh2+b9qEMvCk8kZHAkZFlZOQKSUZCuM6DcZXt99Nv2SEjv3LP6jR2OF3ZgAAZgAAZgwLsMICGRkIF7sCEgeTcgUTfUDQzAQL4z4LSEvPKqq80oyDNHjArU9b2islYKom0QcVFkpFuyUnlT7vwSs5yKPUEZCanl59SIN/L1/6hFp+pQufNLjLHrOJGQPAvYxRL5wBIMwAAMwAAMeIcBJCQSMnAPNgQg7wQg6oK6gAEYCBoDTokAqxxXrV5tRkK2LA5Wx2W0rEYKS+uQkEhI1xhQ3pQ7q+15/dup2IOERKA5JeDIt1iQkPbdJzsVA70e+zk++xiiLClLGIABGIABGGg+A0hIJKRvOk9o6M1v6JQdZQcDMAAD3mDAyU6wDp16mVGQd02bEbhre3GkUkLlSEi3RgGyn7aGt+JwpW/amlOxBwmZvxKyW9euMnToUCkvK7N9FKiTeTdXXvbv10+GDB5s+7k293h0OySkffduTsVA7q/tqyPKkrKEARiAARiAgfxlAAmJhPRN5wmBKH8DEXVL3cIADASFASc7wUaOusBIyFHnXxi4a3vLojKJlLdybRQcEo5pXyMVraRFUalv2ppTsQcJmb8S8s477xT99OjePS0xt2LFCvnqq6+krnXrJtNPu+suk3f3bt2aTJuNxMtk2+eff16++eYbzxwPEtLee2OnYmBQ7l85T3t5pDwpTxiAARiAgaAxgIREQvqm8yRojZPz5YIEAzAAA/nHgJOdYDdOmmwkZP8Bxwfu2n7gwWGJlNUgIZmO1TUGlLcDC/wTo5yKPUjI3EjIzZs3G4k34dprk0ozHb3466+/mjQ6wi8TGWelTSUhJ0yYIMNPPbVBnu+//77Z36BBgxqss/K0vpGQ6XGj7TZo94K8E9I/15Wgscn5wiYMwAAMwAAMNJ8BJCQSMnAPNgSM5gcMyo6ygwEYgIHsGHBKBGi9TJs+00jILt36BvLaXhgql5Ly1q5JKEZDBnc0ZLi8tRQWl/mqnTkVe5CQ6ckkS77Z9W1JyNdeey2p8Lv0kkuMENR/mi0hp0wxedQfCbl7926ZfffdDfbbqWNHGThwYIPlyc556tSpJm+dljXZ+lws05GQem652HeqfSIhs7vnir9ndSoGxu+D3+2rL8qSsoQBGIABGICB/GIACYmE9FUHCgEovwIQ9Ul9wgAMBI0BJzvBlixZZiRkdasOgb22l5bXSMvSNohIRkQ6xkDL0jqJltf4ro05FXuQkLmTkC+//HJSSahC66mnnpKNGzea9c2WkCmmY/39999l9uzZWck6L0rI5557Dgnpgb4RRkLybBC0ZwPOF+ZhAAZgAAaCwAAS0gM32kEAjXMkoMIADMAADMBAWJwSAVq2GzZsMBLyoBb+eU+d3UwcUBCWiqpaxwQUox+DO/rRqvvKqlrfCUhtZ07FHiRk7iTk2rVr5eOPPxadNjV+JF37du2MfLREX7yEvPKKK0RHUXY89NCEbUaNHGmW9+3TJ7a8/nSs55x9tjz22GMm788//9yk17w6d+5strn11lvNsvhjSfX7XX+8E7JL585y2623ym+//SY///yzPPvss7H84rdtVVsr8+fPF93vjz/+KM8884zUH0VZVVkpd9x+u3z//ffmGD/55BOZOHFi7Hzi8xs4YIA8/vjjZspaze/uWbPkiSee4J2QHugbQULyvGD3vSH5wRQMwAAMwAAM5J4BJKQHbrRpCLlvCNQBdQADMAADMOAGA06JAD12pzru3CgXO/dxwEERqahqJTpizRJHfCMPs2VAeaqsaiX/76AIEjLu+QkJmTsJqdJMZd6nn36aINquvfZaM6LvggsuaDAScsaMGWZZ/SlWr73mGrP8uOOOi+VVX0KeecYZsmDBApPulVdeMfJT07Rt08Zs88C6dWZdvOxL9bslSP/1r3+J5qV/q4DUj4rN+O06HHKIka1ffvmljB0zRnSq2a1bt8rXX38t1VVVsbQ6lepHH30kc+bMMcem06vqZ/To0bE0mu/ZI0aY5Tt37jT7Vbm5a9cuI0I1z/h95/p3vWew8/roh7ycupdx8v7LD+XKMfKcAwMwAAMwAAMwkEsGkJBxD9G5rAj2TSCAARiAARiAgfxnwMlOMKc67vzIpY6ILC2vlXAF74jMVr6xfVvDUbTcnyMgrfbrVOxBQuZOQqrA696tmxFqx8fJw9defdVMl2q9FzJ+JGQ2ElKFXNcuXcz+kk3H2hwJuXz58gTpt2LFCpP/Ie3bx5Y/+uijsnfvXtFRk5YUrCgvl2+//VZ09KW1LL4MdFl5WZmoaHz11VdjaWqqq+WH77+Xzz77TOL3oTJTBSbvhMz9fZhT9zJOxUArxvKde3aoA+oABmAABmAABrzLABISCRm4/11JQPJuQKJuqBsYgIF8Z8DJTjCnOu78XCeFJRUSKa+VaEVrCZXXSWFpnRREeWckYjH1yFDlQzlRXpQblY+FIf+PRnIq9iAhcychrRGDKh2XLl1qRFvPHj2MxOvTp4/85bLLzO9elJDT/piOVSWqJRH1e/z48eaYhwwebJbrtLH60WlW49Pp7w8++KA89+yzDZZb6XRbFbW//PJLLI0lZq8eNy62zEqvIye/+eabBsut9bn41nbr52twc47dqXsZp2Jgc86RbXjegQEYgAEYgAEYCBoDSEgkZOAebILWyDlfLmwwAAMw4B0GnOwEc6rjzu/8HHhwWFoUlUkoWi3R8hqpqKyVqupW/FAGSRlQPpQT5UW5ObDAO/Ejm7boVOxBQuZeQo6/+mozNalKsptvvlnefOMNI9JyLSHHjR0be2+kClP90fc26nGmkpDWMQ8fPtykO234cCMh33777QZ5ffnFF7J9+/YEaTjmqqvkn//4h3z33XdmO+sfHRWp+535x3S0KmnrS0UkpDdinVP3Mk7FwGziMtt6gznqgXqAARiAARiAAecZQEIiIZGQMAADMAADMAADLjHgZCeYUx133JA7f0NOGVPGTjPgVOxBQuZeQrZu3dq4thEjRsgHH3wgEydONILNEnq5GgmpAlHfGRn/Y4m/dCXkyHPPNee24aGHEvKx8tT3X2qeKhmfeuopM+px3rx5cuIJJ0inTp1k9erVZvvKigqTTt//qJ9uXbsiIV2678k0tjl1L+NUDMz0/EjP9R4GYAAGYAAGYCCIDCAhPXrzHUQYOWeCMAzAAAzAQL4z4GQnmFMdd/leJ5wfcScIDDgVe5CQuZeQKuH0vYnbtm0zgq1d27YpJeTUqVNNmt6HHZYg4a695hqz/Li4d0uq6NNPj+7dY2nteidkuhLymEGDzDFMuvHG2DFYIjP+e+yYMSbd6NGjE9LVl5Caj35OOumkhHSaFyMhvXEtcOpexqkYGITrB+fojbZBPVAPMAADMAADfmYACYmEZPQLDMAADMAADMCASww42QnmVMedn290OXYe1GBgHwNOxR4kpDck5HmjRhm59sQTT8TkWrKRkNf8IRt1lGK8xFOJqZ/jjj02tjyZhGxVW2vSLVu2LJbOyueBdevMOuvvxr7TlZDhkhLZvWuXfPLJJ2a0Y6o858yebfbdulWrhON66aWXzPKK8nKz/PTTTjN/L160KCGdThO7/cMPZffu3QnLU+3PreXaboMWw5y6l3EqBgatfjhf7qtgAAZgAAZgAAaawwAS0qVOx+ZUDtvQqGEABmAABmAgvxhwshPMqY47GMwvBqnPYNanU7EHCekNCalS7Nlnn5UzzzgjJtGSSciBAwYYCff666/L0KFDZfipp8rf//53ee+998zyeAl5w/XXm2XnnnNOLE/dj76HcceOHaJ56UhFa6pTJySk7s86j61bt8YkqY7OXLhjcetLAAAgAElEQVRwoXTq2NEcm75/Uj8rV640y8466yx566235IfvvzfLLQmp+b322mtm2dXjxsmwoUNF3yOp5//jjz/Krl27Es5V0+fyBwlpX7x2KgZyTbWvjihLyhIGYAAGYAAG8pcBJCQSMnD/u5KAlr8BjbqlbmEABrzOgJOdYEhI+Pc6/xxf7hh1KvYgIXMjqTZv3iz605ggs+Rd/DshNf3kyZONhNN/9u7dK3PmzBFNo5/46VgtYanL27ZpE9uXirtffvnFpNd/dBSm5uuUhNS8VRju2bMntk/95emnn5b4aWXXrlkTW//F55/L+Kuvlsv/8hezzBKlmtehHTqICk3ro6Mfx48fL1OmTJFvvvkmdp6aNtc/SEj7YqZTMZDrmn11RFlSljAAAzAAAzCQvwwgIZGQSEgYgAEYgAEYgAGXGHCyEwwJmb837DyMUbfZMuBU7EFC5l5UNUeU1bVuLQMHDmxSsh15xBFywpAhDdKp1KsvN5tzHJlsU11VZUZv6ghOPa5k2+r7MI868sik6+qnP/aYY8xIzvrLvfQ3EtK+2O9UDMw2NrO9fXVMWVKWMAADMAADMOBdBpCQLnU60gi82wioG+oGBmAABmDALQac7ARDQsKxWxyzH/+x5lTsQUL6U0J6SbRxLKkZQkLaF2udioFcD+2rI8qSsoQBGIABGICB/GUACYmEZPQLDMAADMAADMCASww42QmGhMzfG3YexqjbbBlwKvYgIVMLJOQaZZMtA0hI+2K/UzEw29jM9vbVMWVJWcIADMAADMCAdxlAQrrU6Ugj8G4joG6oGxiAARiAAbcYcLITDAkJx25xzH78x5pTsQcJiWjLVrSxfWqGkJD2xVqnYiDXQ/vqiLKkLGEABmAABmAgfxlAQiIhGf0CAzAAAzAAAzDgEgNOdoIhIfP3hp2HMeo2Wwacij1IyNQCCblG2WTLABLSvtjvVAzMNjazvX11TFlSljAAAzAAAzDgXQaQkC51OtIIvNsIqBvqBgZgAAZgwC0GnOwEQ0Km5rigZakUFlVIcahKwpEaiURr+aEMkjIQDtcYTpQX5cat2OD0fpyKPUhIRFu2oo3tUzOEhEx9Xc80ZjoVAzM9DtLbV6eUJWUJAzAAAzAAA/5hAAmJhMybzhUCj38CD3VFXcEADASVASc7wZCQDdtVi8JyCYWqpKSkynyHiiqluLCCH8qgUQaUkxg3JVWiHPk9ZjkVe5CQqQUSco2yyZYBJGTD63pzY7FTMbC5x8N29tUtZUlZwgAMwAAMwID3GUBCIiF936lCoPF+oKGOqCMYgAEY2MeAk51gSMj97eyAg8IS+kM8Ih2RrtkyoEJSefJzHHMq9iAhEW3Zija2T80QEnL/dT3b+OtUDMz2uNjevjqmLClLGIABGIABGPAuA0hIJKSvO1QILt4NLtQNdQMDMAADDRlwshMMCbm/vHXK1WJGPTY62i9bMRe07XV0pHLl17jmVOxBQqYWSMg1yiZbBpCQ+6/r2cZep2JgtsfF9vbVMWVJWcIADMAADMCAdxlAQiIhfduZQmDxbmChbqgbGIABGEjOgJOdYEjIsOgISCMgmW4UAekQA34VkU7FHiQkoi1b0cb2qRlCQia/l2rOPaZTMbA5x8I29tUrZUlZwgAMwAAMwIA/GEBCIiGRkDAAAzAAAzAAAy4x4GQnGBIyLCUl1YyAdEi+BW3kY6rzNe+L9OHUrE7FHiRkaoGEXKNssmUACWlfp5pTMZCOT/vqiLKkLGEABmAABmAgfxlAQrrU6Ugjyt9GRN1StzAAAzAAA+ky4GQnWNAlZIvCMtF396WSRyzn3ZB2MaCcKW/ptnsvpHMq9iAhEW3ZirZk23fq2FF++P57mTNnjiRbH5RlSEj77i+dioFeiO8cg32cUJaUJQzAAAzAAAw4wwASEgnpqw4UAoEzgYBypVxhAAZgwB0GnOwEC7qEREAiGe2SjOnko7z5KW46FXuQkP6VkHdOmSIDBwxoIPlGnnuu/PWvf22w3Anx16tnT9HjqKmuTtjfqaecIvp59dVXE5Y7cQxezhMJad+9mVMx0E/XAY7VPp4oS8oSBmAABmAABjJjAAmJhPRVBwoNPLMGTnlRXjAAAzDgLQac7AQLsoQsaFkqJSWMgkxHnpHGHlmrU/8WtCj1zX20U7EHCelPCVldVWUk35irrmog+R599FF5+eWXGyx3QtZd+Oc/m+PQkY/18z/+uOOkwyGHNFheP10+/42EtO8ezqkYyH22fXVEWVKWMAADMAADMJC/DCAhkZC+6TwhEOVvIKJuqVsYgIGgMOBkJ1iQJWRhUTlTsfIuSFen4tWRkMqdX2KXU7EHCelPCdmta9d9EnLMmAaS76WXXpJ///vfDZY7IfuuGT8+pYR0Yn9+yxMJad/9sVMx0C/XAI7TPpYoS8oSBmAABmAABjJnAAmJhPRN5wkNPPMGTplRZjAAAzDgLQac7AQLsoQsDlVJqKjSVQnFiEJ7RhT6tRwNbz6aktWp2IOE9J6E7H3YYbJp0yYj93799Vd5/fXX5YjDD49JxSuuuEKef/55s377hx/K5s2bzU//fv1k3bp18tNPP8mPP/4YW37mmWfGtm3bpo0sW7pUvv76a/nmm2/kySeflEM7dIitV8m3ZPFiuemmm6R169Zy//33m/1o2hUrViSkW7pkiXz4wQdm/ZYtW8z+5syebdLo9Kx6XNdee23CNpr/KcOGyTPPPCN79+6VN994Q8YmEaknDBlitq+tqZGLL7rIHK/uSNPrCEu/yEgkpH33cE7FQO6z7asjypKyhAEYgAEYgIH8ZQAJiYREQsIADMAADMAADLjEgJOdYEGWkOFIDQKSkZCuMxAO1/gmdjoVe5CQ3pKQZ511lpF6zz77rEydOlVmTJ8uu3btkt27d4tOwaryTaXc2rVrTbonnnhC7rzzTvNz5BFHmO89e/bI559/Hls+4OijzXY6evKLzz+XTz/9VC6//HJRmfnee+/Jjh07EqTeK6+8YkZSfvLJJ0ZCzpo5U959912zvyl33BFLq++C1BGX+pk3b57Z32WXXmrW17VubZYvXLgwll6P/YbrrzfL33zzTbPNP5580vytU8jGi0V9r6V+HnroIdm+fbtMmzZNHt6wwSz77rvvpLysLCF9/LZe+h0JaV9HnFMxkM5S++qIsqQsYQAGYAAGYCB/GUBCutTpSCPK30ZE3VK3MAADMAAD6TLgZCdYkCVkJFrruoDy6wg+jtu+EZzKXbptP9fpnIo9SEhvSUgVaIMGDUoQbGePGGHk2/irr44tP+WUU8yyMUlGEX755ZdJp2N94YUXjMxs17ZtLB8d7agjJ8ePHx9bphJSPxddeGFsmR7XRx99JO+//37Csnlz55q09d8JmUxCHjNokEn72GOPJeRx/XXXmeXXTZwYW25JSJWcVZWVseU6alI/I0aMiC3zknSsfyxISPvuL52KgbmO7ezfPkYoS8oSBmAABmAABpxjAAmJhPRN5wmBwLlAQNlStjAAAzDgDgNOdoIhIe2TS4g6yjIdBpCQYUFCek9C1hdZOpJRP8uWLYuJt0wlZO/evU0eE+NEn7Wfp59+2kz/av295d//lv9++mlsX9Zya4pY62/9zkRCrly50hxDr549G+StIzR1xKOV98iRI03a0eefH1um64479lizfMKECQnLre289o2EtO/ezMn7L+6h7asnypKyhAEYgAEYgIH8ZAAJiYREQsIADMAADMAADLjEgJOdYEhIxFk64ow09nGChERCek1a6fG0b9dO7p41S1577TUj3Kx/Njz0UEy8ZSoh//SnP5lsdBpU6x2S1rdO96rvnbTKIpWEtN4PWRIKxdJmIiHfeOMN8x5Kaz/x35bgrKyoMHmnkpA65ax+bp48OXYM8fl47XckpH2dcE7ef9FZal89UZaUJQzAAAzAAAzkJwNISJc6HWlA+dmAqFfqFQZgAAZgIBMGnOwEQ0LaJ5cQdZRlOgwgIZGQXpNWOupR3/+4/cMPRadf7d+vn7Ru1Up+//132bhxY0y8ZSoh9R2Q+lm7Zk3sXZHWuyT1+6orr4zl7ZSE1Klc9T2Tycr8vvvuM8enAlbXIyH9e2/m1L2Mk/dfmdwHkta/bFJ31B0MwAAMwAAMNJ8BJCQSktEvMAADMAADMAADLjHgZCeYUx13frjRVhmUjjQiDXLRTgaQkEjIZEIsl8t09KNOTdqqtjZB1mUrIc884wwj+a684oqEfJOdq1MS8plnnjHHkGyfL27enLAOCdn8DqJcX/Odupdx8v4r12XG/v3LO3VH3cEADMAADASFASSkS52OQQGK8yR4wgAMwAAMwEBqBpzsBHOq484P9YmERC7aKRfTzQsJiYRMJsRyuezbb7+Vxx9/PEEUWu9zfHjDhtjygQMHGml34w03xJZZx71t2zZ56623EpaXl5XJz3v3yttvvy2RcDhhnbWd9Z2JhLz9ttvMcfTt0ychz7rWrc3yhQsXxpZff911Ztktt9wSW6b7HHz88Wb5priRnkjI1PchXr+mO3Uv4+T9l9fLlOPzb3ug7qg7GIABGICBfGEACYmEZPQLDMAADMAADMCASww42QnmVMedH256kZBIyHTFoZ3pkJBISEu8eeV7y5Yt8ttvv8lFF15o3g2p4m7Pnj2yd+9eiZeQ1VVV8tNPP8nWrVulZ48ectJJJ8XE3qqVK43UO3vECOnTp48c2qGDWTdhwgSzXEcdqsTUc9b1SxYvljZ1dbHtM5GQ1gjLpUuWSNcuXcz0sZpvMgmp73v88IMPzDHMmTNHOnXqZKaB1XPTc9ZjseoBCenfDjun7mWcvP/yw30Sx+jfNkHdUXcwAAMwAAP5wAAS0qVOx3yAhXMg6MEADMAADMBAdgw42QnmVMedH+ocCYmEtFMuppsXEhIJaUkvr3z3O+qomKhTW/fCCy/I0f37m+/4d0Lq8f7lssuM0LP+0W11eZfOneWzzz6zFsvcuXNjcm/SjTfKL7/8Elunvzz22GNGIFplkImE1G3Wr18fy2/nzp1mX8kkpKbteOihsmXLllh6/eXLL76QIYMHx45R0yEhs7tXyeV136l7GSfvv3JZXuzbv6xTd9QdDMAADMBAkBhAQiIhGf0CAzAAAzAAAzDgEgNOdoI51XHnhxvjIErIzh17ydCTTpfqynZNvg/zpBOGy+S/3S5T7pguNVXtm0yfroTzYrpePY4y5eLGsSEhkZCWePPa9xGHH54wOjHV8em7Iw/v2zdB4FlpVUrqNKzW39a3CsKhQ4ean/rTqFppMv1W8dm5c+cG+0qVj47E1GOIH8GZKq2fl+s9gx+uwXYeo1P3Mk7ef9l5/uRFhzQMwAAMwAAMwEA+MoCEdKnTMR/h4ZwIijAAAzAAAzCQGQNOdoI51XHnhzoOooScdMPNZjTQoAEnNCoVb5p0q0n30kuvyLvvbpOKsjaNpndD3jm5j3uW3WvOt3XtoY6fJxISCelnwcWxF6ctPXNVVkjIzO6xGrtfcfL+q7H9ss6+OqQsKUsYgAEYgAEY8C8DSEgkZOD+dyUBy78Bi7qj7mAABvzOgJOdYEhI56ck3fX1LiO4kv3z4PqHHZde8fIuHQlZVdHOvCtt5cq1rh5b/HG6/TsSMvl1wqnYU1V7iGjsWbZsedbPFE4dox3XjbKycs8Lq1yJMvbrnMxU7uzg1095OHUv4+X44qf64ViTX2MpF8oFBmAABmAABhpnAAmJhAzcgw1BofGgQPlQPjAAAzDgHANOdoI51XHnBx7cGgn59de75K233jHTfepUqPE/fXof7aroS0dCDug/2PjScWMnuHpsbovH+P0hIZPHL6diT1AkZCRaKuGSEkRksXPCDZmZWLbKWyRSGrhndafuZZyKgX64R+IYk18XKRfKBQZgAAZgAAbcYwAJiYQM3IMNAca9AENZU9YwAAMwkMiAk51gTnXc+aEO3ZKQOhLyxc0ve0Lo3XD9ZCMYG5uOdcjgU0yasVdd64ljjpeFTv2+ZPFyc85Mx+pO7AmKhCwORSUSiSAhkZCuMaC8KXd+uAbbeYxO3cs4ef9l5/mTV+K1i/KgPGAABmAABmAgPxhAQiIhA/dgQ/DKj+BFPVKPMAADfmTAyU4wpzru/FDOXpSQ11/3N3lv2/vyyy+/yKtbtsr/Z+883KUo0r79D3wqSjicTAYBkYwBA6KogAEEwYCgmAMKqCiICUUUyTkZAAEJgmAOa05rQt01u+acMK2+1/vu1nc9hTX2zJmZM6Grp2rm7uuCOaenu7r66bt+Xf38TlUf3u/opEbgjdNmqvff/5f69ddf1bPPvqAOPKBfne3at+uqblmxUn377XfaYLvv3geV7CdLKhPy5JNG6/Jkm/fe+0A98/Rz6swzzo+V3bP7gWrt2g3qh+9/UJ988qlaMH+JSmbcyX7HDT5RHXPU0Fh5ckypz+bN22LlGVNRtl+yeEXc+k4de+rjjzj59Nj6IcedpF55ebs+hx07flIPPfSoat1yr9j3Ut55545VW7feq9fNnrVAff75F+qpJ5+JbdOj2wFq44bN6qefftbTzq5bu1FhQia/N9jSnlIxIfdoVKEqKysjM6AYFRg/KrAU41FZWaWEOx/uwWHW0VZfxpYGhnnulJX8/kVciAsMwAAMwAAM+M8AJiQmZMk92CBc/gsX15BrCAMw4CsDNpNgthJ3PsTaNRPy6aee1ebjVVdep0479Wz14AMPa7PtgN6HxQy0ZjV7qu3bX1c//rhDTbzsKnXG6PO0wSZmZOdO+8S2k58/+/Rzvf/SpbeoGTfPUf/851vadJOVqUzIYUNHKHkXpCwPPfiImn7TLDWw/3G63KMGDFE///yL+uqrr9Wtt6xSd67bqE1QMSPFMDSGonzKsmzZrbqeYi7Omb1QtWzeQc2ft1h/16F999j2Q487Sa/7448/VHlZi9j6c84ao9cf9KfBKgbq77//ruQ9mlIvKVeWZxJGmd4w9Wa9fvGi5fqcZdtzzr5Ql3vIwUcqMS8lXlInMSk//viTWFwSDc3gOYX1s3DnQ/uQOtrSnlIxIXdtUK6nxixFM4xzLowhKlOx7lKCuQpbfRlbGujLPYB68uwEAzAAAzAAAzBQSAYwIUuwY19I4Dg2ggcDMAADMFDKDNhMgtlK3PlwvaIyIVO9E1IMMWNsiUkoy9EDh8bWyXdiOIrpZrYT80+Wgw44PLZOvvvgg39p089sd/99D+nthg45OW67O1av0+tTmZCyf7LpWKsr26gvv/xKffrJZ0pGWJrj9O3TX5f36KOPx9bJd2Y5+6wxceuHDD5Rf3X2mX+tFyNQRmnKIiMnTdkrb1+jvvnm29jvXbvsp/bq0CP2u2w3a+Y8vZ/Uw+xnTEgZySnGp1kvn2aUaeLI0SefeFqXk2xUZ3D/MH7GhCxXpWJCig42alyhKisYDYkpad+UFM4aNi69UZDSzmz1ZWz2v3zoJ1FHnr9gAAZgAAZgAAYKyQAmJCakN3/BXciGwrERahiAARiAgTAYsJkEs5W4C+O8bZcRlQkp74RMtgTfEylTpm6+a2ucYSaG19TrpyvZX36uqWqrR0ouX3Zbne1k1N9bb72j17dt01kf7oH7H6qz3dVXXqe/y9aElBGXsky49Io6ZRpjs1vX/WPfybYv/v3l2O/GvKuqaK1HHYrBaNbJ9KoyDe1bb76tRzia9e+//4HasGFzbDuz3nyKMTr2ogm6XmMuGB/bzpiQJw4fFVsn+8g5yyKxMmWYz9tu3WnuYkLGa7Yt7SklE1J0rLKyWpU3bcq0rLwb0hoDwpdMxWr7vulq+bb6MrY00NU4Uq/4eyDxIB4wAAMwAAMwUFgGMCExIUv2AQfxKaz4EH/iDwMwUIoM2EyC2Urc+XCdojQhg4ajMb7Mp4zuk+XDDz/S70CU9yOafzKaTxbZVkY/yvLuu+/HvjfbffTRx+qXX37V28loSlmunDyljtmWqwkZG3F4yF8jDk39x4+7TB9v5Igz9PHEHJRl9ap1dY4v+zz6yGPqg/f/pb9r0ay93lbOTczV55//u14v07XKcv554+LK6L3/oeq2W1erN998S39v/pMpbE19pt2wczrWfXv1ia2T78SolOWUEX+9Y9LsgwmZ/N5iS3tKzYTcpUG5qqmpsWZAMcrQ/ihD12MsfPlw37VVR1t9GVsaaCsOlJv8XkZciAsMwAAMwAAM+MkAJiQmZEk/5CBcfgoX143rBgMw4CsDNpNgthJ3PsTaFROyV4+DtDkm74SU9xcm+ydm2ZFHHKu3e+ihR5Nuc92Uadp0kylYZbn0kklxJpyUkasJad6/KHU1xp35PP20c/Xxzj3nIv1dfSbkFZOu0duL0SjGpRnpecLwUep///d/VbOadurMM87X2wSnfjXrnn32Bf39/vv1jY1ulPMy9UllQl5y8URdprz30mxrPjEhk98fbGlPqZmQO/WwqTYiGRGJYRimoSk87TQgm5b087mtvowtDfShj0Qdk98XiQtxgQEYgAEYgIHoGMCExIQs6YccxCY6sSHWxBoGYAAGypXNJJitxJ0P180VE1LeWyjL2rUb6phjxiSTz+5de+vtFsxfknY7MedkmTtnYZ3tcjUhp1w7TZd5fBID7/rrbtTfHXv08fp49ZmQ++97iN5+9KnnqKVLb1Hr79yk92tWs6deP/z4U/T7Ld95+91Y/Wur2+lpXJ968pnYOomJmWI1ExPypBNP0+WPG3tZXBlSDiZk8nuNLe0pTROyXO2ip2atUpWVvCMyTCOuVMsSjkp5CtZgP8NWX8aWBgbrzs/J7z/EhbjAAAzAAAzAAAxgQmJCYkLCAAzAAAzAAAxExIDNJJitxJ0PDwyumJBigj337Avq119/UzI1q/ye6p9MxfrNN9+qdO8ulHdH/vbbb3p618Ry7rjjTm3EZftOSJkGVZZEE1AM1K+++lr9+MOPsTrXZ0JKnT777AttQL77znt6mlRTz2eeeV6/s/GNN/6pli5ZESuzR7cD9PHlHZlmW/m84Pxxen0m07HKOytleexvT8SVIeU8/tiT+rt0cQ0eN5+fhTsf2ofU0Zb2lFe2VqI9d6xZm3csbNXR5jVq3KRCm0dVVVWqoqKC90XyrsiMpuqVUY/Ci3Aj5mOjJhV5tx+bnEdZtq2+jI/6EmXcORbJYRiAARiAARiAAZsMYEJGlHS0eREpG5GAARiAARiAAT8YsJkEs5W484Etl0zIIw4/RptgH3/8iZLpVGXkn0xFKqbbUQOGxEwzmUpUFjHvZOShGH5779VLzZo1Xx184OGx7abdMENvt27tRjXomGFKpky9Z9v9aseOn/T6bE1IMd1WrVyj9xXDTkzJ4wafqN5+6x29bvy4y2PHzsSEXL1qrfrs08/1vlJ/Y+pJvc16Gblo1svnH3/8oSQ+g44drkeFikn54487dBmZmJBShsRDFnnHpcTlvHPHKpne1cQFEzJeE21qz7Zt25T8y1crbNYx37ql23/X3crVHo0qVFnTnaPZqqtrUpq+qc6R9bUlEzPhQ4xH4UW4kVG16fgqte9s9WVStbFSiy/nS3uDARiAARiAARgoBAOYkHT6eeiBARiAARiAARiIiAGbSTBbibtCdFCzPaZLJqQYZGI+fvnlV9okM/+9+eZbcSakbHfaqWer77773myiP1/8+8vqkIOPjDPtViy/PbaNGHhiIh5z1FC9LhcTUo59+22rY2XKD7///ru65uqpccfNxIQ8ffTO90h+9OHHcfsOOHKQLt+8G1KOaf6NGnmm+v77v8578+ZtqsOe3fR7JDOZjlXKadGsvXrg/odi5/Dzz79oA9e8bxITMv7h2qb2rFq1Wo+GrKptl9e9xGYds9UUto/nh3gQj6gYsNWXQV9gOCqGOQ6swQAMwAAMwEBdBjAhI0o6Al9d+IgJMYEBGIABGCg1BmwmwWwl7ny4RlGZkMZEy/RTjEIZpdfvsKNjBlyyfWUb+de3T/+U2/XqcZA2HmWK1mRl5LJO3k1pjt2uTZfQys20LnK++Z5Pn4OOUAOOHBx53eUcmY515z1s/vyF2oTsuHcvTEieLfNiwIf7DXW023e11Zex2f+CCbtMEF/iCwMwAAMwAAP+M4AJyYMiD4owAAMwAAMwAAMRMWAzCWYrcedDh99VEzJTM47t/hol6VMsMCF3PgyPv/gybUIefezxed1LbOqjDzqWqo6VNW3VkqXL1OIly5T8nGo7H9ZzLv4nkGxzZqsvg77Anm12KR/GYAAGYAAGYCA1A5iQESUdgTA1hMSG2MAADMAADJQKAzaTYLYSdz5cG0xIP008nwzHZHXFhNx57+p72ABtQl47ZWpeBplNffRBx5LVsaKqtVq2fIWOr2i8/Czrkm3r+jrOhb5eJoza6sugL/CXCX9sAycwAAMwAAMwYIcBTEhMSC8fYhEEO4JAXIkrDMAADNhlwGYSzFbizgcmMCExIZOZhLbXYULu1MuGTWrV1q1b1ZYtW9TujWpyfrawqY8+6FhiHcW0k9GPRtvN56JFS1R5pV9GpNR38eKlnAu5h3r1wXCe2B7y/R19sdu/zff6sD/XBwZgAAZgAAaKmwFMSB4E6n0QQASKWwS4vlxfGIABGIiOAZtJMFuJOx/4wITEhLRtOCYrHxPyL+2cNm26NpiOHz4i52cLm/rog44F69i0olVSA9Lo/MKFi5VsE9zH1Z+lnlJfU/fET9/OZcGCRfpcEkeoynnJ+1F9uS6u8mL4CLt+6Mtfeh12bCmP2MIADMAADMAADNTHACYkJqQXD6/1gcz3iB0MwAAMwIAPDNhMgtlK3PkQV0xITMhkJqHtdZiQf913Djm0vzZm1q5dp2RkZC66YVMfc6lPofZpUt4iZtrJuyArqtvEDDz5WdaJ3ot5J9sWqp6ZHJdz+auNZBIvtimPsR52LNAXWAybKcqDKRiAARiAARjInIj6rRAAACAASURBVAFMSExIpx9cacyZN2ZiRaxgAAZgwH0GbCbBMCEx4mybbpQfzxgmZLzmzpk7XxsIo049M6fnC5v66Mv9UUy7uX/G0Uy7WlnTVsd1w4aNOq4ytal8J5ov2zYqa5ZTvG3HROqVeC5yzOC9inOJb0O2r4kP5Qf5CLO+6AushckTZcETDMAADMAADGTHACYkJqSTD6005OwaMvEiXjAAAzDgBwM2k2C2Enc+sMVIyHhzDLMwmnhgQsbrbrceB2iDaePGTappZfZThdrURx90rEHDajV33gIdw3nzFqiyipb6Oa33gYfpdUuXLY89twWnOJ01e66SfV06R6mP1EvuS8FzkTom3qs4l/h25NJ1LERdEvkIqw6lri9hxZFyaK8wAAMwAAMwAAO5MIAJiQnp1ANrLhCzD+IHAzAAAzDgCwM2k2C2Enc+xLa8vKXCeIvGeCPOf8W5aflOk8iHNmJTe4Lnf/U112mT6YZpN6ldGlRk9ZwRVR2D9XXp5x69DtSxmz1nnmrctHksdiePGK3XT7ri6tg6qbdsY0afdu3eO+67Qp9XqnMxozpXr74jrr4+novEONl91+VzKTQXmRw/WUwz2a++bUpdX+qLD9/zLAUDMAADMAADMGCTAUxITMi4B0CbsFE2YgYDMAADMFDqDNhMgtlK3PlwzZqUNVdljZthRDb6yyDDLLQbC81b2V9GkevtxKb2BM+9srqNuu2227U5c8mlE7N6zoiqjsH6uvazmIm7N6qJi5uYj6Lvxw4aFrde6i7v33TNgDQxTXYuZlTnlOtu8P5c5DxT3Xddvi7m+rj6mSqm+dYXfeEZJF+G2B+GYAAGYAAGYCB3BjAhMSHrPADSoHJvUMSO2MEADMAADKRjwGYSzFbiLt35uPJdw8Y1qqysOSYkJmRkDAhvwp0rbaC+etjUnsRjt2q7t1q37k5t0Jx51vkZxyjKOibW2dXfW7XZW91112YdS/nZ1XpmWq8Rp+wc1Tn6jHO9Pxc551K+72Z6zbPdzlZM0Rf659myyPYwAwMwAAMwAAPhMYAJiQlZFA+AiEJ4okAsiSUMwAAM2GPAZhLMVuLOBx4aNKxSZU0xIRn9aHf0YzC+TZu2UA32qPKmH21Te5JpRIe9eqr169drk0amaG3YuLbeWEVdx2T1dmndbntUqUWLl+gYXj/1xnrj51Ldk9VFRnje+uco2b6HDfD+fOQcS/m+m+wah7HOVkzRF3t92zCuO2VwfWAABmAABmCguBnAhMSELIoHQISquIWK68v1hQEYKBYGbCbBbCXufIl9kzKmYw2aZPxs15CUkZC+tA2pp03tSRWHlm06qeXLb9FGzaJFS1Rt8/ZpY1aIOqaquwvrLxgzTsfurrvuUjXN90wbOxfqW18dzjr7An0+y5avULs3qvb+fOR8S/2+W981z+V7WzFFX3iWyIVH9oEbGIABGIABGAiHAUxITMiieABEEMIRBOJIHGEABmDALgM2k2C2Ene+MCFJbaZktWu8YWzujK9wtntDv0wUm9qTTiMaN22ubpo+Q5s1MjLyhBNHKRm5nGyfQtUxWV0Kua5RWXN18SWXxwyuPn37J41XIeuY7bG7dO8dO592Hbp5fz7m/Ev9vmviEOanrZiiL3b7t2EyQFlcKxiAARiAARgoPgYwITEhi+YhEIEqPoHimnJNYQAGio0Bm0kwW4k7n66BTMla1pgRkZiF9sxY4Us486ldSF1tak8msRgw8Di1ctVqbUTJlJyHH3lMnSlaC13HTM7D9jb77NdHrfozTqLpQ4ed7B1rwRjtunulOmnEaWrz5i362g8ecqLX5xM8N/mZ+274/VRbMUVfwr9Wie2B34kxDMAADMAADMBAKgYwITEhi+pBMBXorEcEYQAGYAAGXGDAZhLMVuLOhbhlU4fyipYKE86eCVfqsRW+suHRlW1tak+m57hH4xp18imj1caNG2PmzdQbblLDTxipuvU4QO2zzz6qU6dOdQzTTMv3cbvmLTuq/gMHq3HjJ6hly1bE4rJ+/Qa1X+++XrJWUd1G9dznYDXouBPU7Nlz9TnJNT/62OO9PJ90XHHfDb9vaSumLmhgOpb4LnyWiCkxhQEYgAEYgAF3GMCExIQsuodBBMYdgeFacC1gAAZgIJ4Bm0kwW4k7H6+hGEWMiMSIDNMwFZ58NSClDdvUnmw1oryqtRo2/BQ1Y8bsmOlm9IvPe4ouJjfdNENV17YrymdOw2u2bYDt4/tGwXjYiqlLGhg8X35OzQKxITYwAAMwAAMwUDwMYEJiQhblAyEiVTwixbXkWsIADBQTAzaTYLYSd77GX6bMbNq0OaMiG2FG5mtGCkc+TsEabLs2tSd4nGx/rqxpq44dPFxdeNHFatq0aWrp0qVxIyWNrvHpjzkp0+1eOmGSHvnYul3non7WNFxmyz3bp+7b2oqpqxoIC6lZIDbEBgZgAAZgAAaKhwFMSEzIon4wRKyKR6y4llxLGICBYmDAZhLMVuLO57g3bFSjzaOmTVuosjLeF5mvGVcq++v3PpaJib2Tmz0a1njfX7apPWFphA91DOtcKac4+jTcd8O/jrZiir6Ef63QMWIKAzAAAzAAAzCQKQOYkJiQ3idVMoWd7RBGGIABGICBQjNgMwlmK3FX6JiFcfwGe1Spxk1qtSEpU2pWVLbiHzFIyoCeyrdpc82LcBMGfy6UYVN7wjo/H+oY1rlSjv/9kYZNavXUuRs2bCwanXCBS1t9GfTF/zbnAp/UAY5gAAZgAAZgIDcGMCExIXloggEYgAEYgAEYiIgBm0kwW4k7Otm5dbKJG3FziQGb2hPWefpQx7DOlXL814eWrTtpE3LZ8hX0oULsQ9nqy6Av/rc5dJNrCAMwAAMwAAP+MoAJGWKHmYbgb0Pg2nHtYAAGYAAGomDAZhLMVuIuirhwDNofDNhlwKb2hHXtfKhjWOdKOXZ5jyK+Xbv31ibk9JtnYkKGmFOx1ZdBX/xvc1G0a44BJzAAAzAAAzBghwFMyBA7zEBqB1LiSlxhAAZgAAaKhQGbSTBbibtiiT3nUVdHKmvaqiVLl6nFS5apiqrWJNKL+LnApvaE1bZ8qGNY50o5dfXIt5gMOf5kbUKef8FYtDNE7bTVl0Ff/G9zvmkE9YU5GIABGIABGPiLAUzIEDvMgPUXWMSCWMAADMAADMBAXQZsJsFsJe64jnWvYzHERExHmUbQcIMRWZzX2bBqU3vMMfL99KGO+Z4j+xdPO5s2bbrWz94HHoYJGWJOxdyTwm4r6EvxtL2w2aA82IABGIABGIAB+wxgQobYYQZY+8ASY2IMAzAAAzDgMwM2k2C2Enc+x5u6J9cLMSAXL14aMyANO4sWLVHllYyILEZubGpPWPHyoY5hnSvlJNcmX+LSuGlztXXrVrVlyxa12x5VmJAh5lTM/ShsFtAXv9tc2DxQHjzAAAzAAAzAQLQMYEKG2GEG3mjhJd7EGwZgAAZgwDcGbCbBbCXufIsx9U2vC00rWqkFCxZpAzI4EtL8PH/+QtWkvAVJ9SJ7RrCpPWG1OR/qGNa5Uk56nXI9PqNOPVNr6LjxE9DKkLXSVl8GffG7zbmuCdQPvmAABmAABmAgPQOYkCF3mgEuPXDEh/jAAAzAAAyUMgM2k2C2EnelfL2K7dzFXFy4cLFOnsu7ICuq28RGQ8rPsk44mjt3PkZkkT0j2NSesNqJD3UM61wpx9++UG3z9mrz5s16JKT8zLUM91ra6sugL+FeJ7gnnjAAAzAAAzAAA9kwgAlZZAmGbC4+2yIWMAADMAADMBAtAzaTYLYSdzASLSO24i0GpJiLwklw2tUgNzIVq3wn62TbRmXNSLAXybOCTe0Ji1kf6hjWuVKOn7raoGG1mvOnjo656GL00YI+Bu9JYbYT9MXPNhcmA5QFAzAAAzAAAzBQOAYwIS10nAG6cEATe2IPAzAAAzDgMgM2k2C2Encux5O6ZdbeJXE+e848bS7Om7dAlVW0jCXPE7mR6VrNaMmZs+Yo2Zc4ZxZnl+NkU3vCOm8f6hjWuVKOn21q8pXXaB297bbbVeOmTFttg+PEe1JYx0Bf/GxzYV1/yuH6wwAMwAAMwEBhGcCExIQksQQDMAADMAADMBARAzaTYLYSd3TWC9tZDyP+PXodqBPnYkQ2bto8rr0n40a2MaN9uvU4IG77MOpDGdEzZVN7wrqePtQxrHOlnOjbQL4xH3PheK2jopntO/ZAFy31m5Ldk/K9drI/+uJfmwvjulMG1x0GYAAGYAAG3GAAE9JS5xnA3QCc68B1gAEYgAEYcIkBm0kwW4k7l+JHXXJvz12791a7N6qpkzhPxU3DJrUKAzL3eLvGqk3tCetcfahjWOdKOf60rcqaturmGbNiBmS/I46uo6Ncz/CuZ6p7Ur4xRl/Cu0b5Xgv251rAAAzAAAzAQOkxgAmJCclDFAzAAAzAAAzAQEQM2EyCbdy4SSdJxTyiU196nfpcr7mthG+u9WE/O+za1J6wrpkPdQzrXCnHDudhx3XAUUPUmjVr9b1148aNqveBh3F/tdxfsnVPQl/8aHNht2HK47rDAAzAAAzAgBsMYEJa7kQDuhugcx24DjAAAzAAAy4wYDMJtuKWW3WitEXrvUiS0r/LmAFbCV8X2ht1+Ev3bWpPWHH2oY5hnSvl/MWma7FoUt5CyWjH4OjH21euYgrWiO6rtu5J6Iu7bc41DaA+sAIDMAADMAAD4TOACRlRZxp4w4eXmBJTGIABGIAB3xiwmQSbMXO2NiFl2k3f4kJ9C9eWbSV8uaaFu6bJYm9Te5IdL5d1PtQxl/Nin/zbgkyJuneXfVXfwwaqYcNPUaNOPTO0f6eNPltdeNHF6sqrrlXy3lyjiebzrHMuUI2btuC+GkHepFFZsz9HnW4KPd7oS/7tEC0jhjAAAzAAAzAAA7kygAkZQWc614vDfjRsGIABGIABGCguBmwmwSSBKknTPn37h568g8Pi4jB4PU2iPbiOn4vvetvUnrB48aGOYZ0r5aRvY2327KKOHTxcXTH5arV27bo6xqDRLVufixYvUeedP1a1aN2J+2mE+ZJWbfbW13r5iltCjzv6kr7NoUnEBwZgAAZgAAZgwCYDmJARdqptXkjKRihgAAZgAAZgwH0GbCbBZGSIJGRPO/2c0JN3sOU+W7leI5PEz3V/9vODDZvaExYDPtQxrHOlnOTtplPnfeKmQRV92rhpk7ph2nRtSI4dd6k648zzQhsFKffNkaeeqYYcf5I6/Mhj1D779VFlFS25hxYoR9KtxwG6HyNT4YbdRtCX5G0u7DhTHnGGARiAARiAARhIxgAmZIE62MkuButopDAAAzAAAzBQ3AzYTIJJ8lYStosWLQk9eQeXxcslJmTxXttgu7WpPcHj5POzD3XM5/zYN3Vbq65tpy6dMElt27ZN38fuvvtudd3109SRAwapho1ruaeVSM7i0H4D9fW/YvI1oV9z9CV1+0ObiA0MwAAMwAAMwIBtBjAhS6RDbxskykesYAAGYAAGYKB+BmwnwdasWasTeM1bdQw9gcf1rf/6+hgjTMjivK6JLNrWnsTj5fK7D3XM5bzYJ30b69HrILV+/QZ97xITcuKkq1SLVntxDyvBPMUZZ52nORhxyujQrz/6kr4dolPEBwZgAAZgAAZgwCYDmJAl2Lm3CRRlI1gwAAMwAAMwkJoB20mwSy6dqBN4Z58zJvQEHtc19XX1OTaYkMV5XROZtK09icfL5Xcf6pjLebFP6jZ2zKBh+p4lOiRTcO61dy/uXSWcn1iydJnmoaMFDtCX1O0QjSI2MAADMAADMAADthnAhCzhTr5tuCgfAYMBGIABGICBeAZsJ8HMlKxbtmxRlTVtSebSz6uXAUzI+DZarJplW3vCiJsPdQzjPCljZ5s7+9wxMQNS3s1IXEpDi1Jd5+YtO2oe1qxda4UF9KW0+UrFHevhAgZgAAZgAAaiYQATkuSUlU4+DTiaBkyciTMMwAAM+MVAFEmwyVdeqxN5F427lHs8/bx6GcCE9EtDctX8KLQn17qZ/Xyoo6krn/m1m5NHjNb3qXXr7lT77HdIvTpFvPOLtw/xO+/8izQT4y++zAoP6EvxM+QD59QRDmEABmAABkqVAUxIklNWOvml2qA4b24mMAADMAAD6RiIIgnWul1ntXXrVv2P92rBYzoe5TtMyNJgJArtqY+1+r73oY71nQPf19+eDjjocCXvfrzrrrtU+47deRYlH6Fqmu+pZAYHuR+169DNChPoS/1tE/0iRjAAAzAAAzAAA7YYwISk02+lk28LWMpFDGEABmAABnxmIKok2EVjL9HJvDlz56vdG9Vwr6e/l5IBTMjS0NSotCcfffahjvmcH/uWa9NRzEcxIcWMJCaloT/1XWcZ/Sj3oklXXGWNCfQF1urjkO9hBAZgAAZgAAbsMYAJSVLKWkefhmuv4RJbYgsDMAADfjIQVRKsUVkztWjREp3Uu3bK9dzr6e+lZAAT0k8tyfYeEJX2ZFuv4PY+1DFYX37Oru3s0qBCLVu2XN+XZDpW4pdd/Io1Xs1bdYzN3iDvhbR1nugLvNlii3JhCwZgAAZgAAbqZwATkqSUtY4+DbD+BkiMiBEMwAAMlBYDUSbBKmvaqltvu10nfC+86GLu9/T5kjKACVkaGhSl9uR6X/OhjrmeG/uVqwFHHafvR/PmLUiqRcSoNLQoeJ1lpgbhQe5DYyz3U9CX0uMryBo/c/1hAAZgAAZgoLAMYEKSkOIhEAZgAAZgAAZgICIGok6CtWq7t1qzZq1O8F13/TTVuGkLrnVE19qXhxxMyMI+jEXFSdTak8t5+VDHXM6LfcrVbntUqZUrV+l7UdfuvbkPcR9SMjJ2ynU3aCZk5gaZwcFmW0FfSuNeZ5MhyoYhGIABGIABGMidAUxIHgCsdvZpnLk3TmJH7GAABmCg+BgoRBKstnl7tWTpMp3ok0+b053BrH/MYkL6d81yaWeF0J5s6+lDHbM9J7bf2b6GnzhS34Om3nAjz57kHzQD5j2Qt9xyq5KZG2y3FfSlNO51tjmifDiCARiAARiAgdwYwITkIcB6h5/GmVvjJG7EDQZgAAaKj4FCJcEaNmkWG3GwceNGNWLk6WqPxjX0AegHamNAjEj0pvj0JnhNC6U9wTrU97MPdazvHPg+eTtatnyF1pqD+hyB1pT4fUdmZJh6w02ahzvuWKNkxoYo2g36krxtRhF7jkHsYQAGYAAGYAAGMCFL/CEAEUAEYAAGYAAGYCA6BgqdBDui/7Gx90TevnKV6j9gsBKDEgaiY8C1WDMSsjSufaG1JxPufahjJufBNvFtqqK6jTactmzZoqdlJT7x8SmleLRs00ktX36L5kGmYJWZGqI6f/SldLmLijGOA2MwAAMwAAMwkJoBTEhMyMg6/jTE1A2R2BAbGIABGCgNBlxJgp1w4ih1553rdSJQTKgbpk1Xsq5bjwNUu/bdVHVtO/oHJdJHxIREe1y5/7iij67Eo1jqMeCo4/S95qqrp3BfKZH7SiK7DRvXqpGnnqk2bdqkWZB3Qe7RuDZSHtCX0rjXJbLH71x3GIABGIABGHCDAUzIEn0QoAG60QC5DlwHGIABGCgtBlxKgjWtbKWGDT9F3TxjVsyMNIYUn/eUXEzQouLWIpe0JxVrPtQxVd1Zn7r9nHf+RVpPxYwkTqnjVIyxkZkWZMaFlatWawZuve12ddjhRxeEA/SltNgrxvbEOcEwDMAADMCAzwxgQmJCFuQhwOdGQ90RfRiAARiAgVwZcDUJVl7VWh07eLi68KKL1ZQpU9WixUvUhg0bSs6IK2XzNVem2c8PPXRVe4L8+FDHYH35OTP2J195rb6XdNy7F8+dRZp7kJGOMoOCzKQgMyrIzAoyw4K5p8rMC0OPP7mg1x99yay9omvECQZgAAZgAAZgwAYDmJBF+iBgAxbKRIRgAAZgAAZgID8GSILlFz/4Cz9+JklMbMOPrUsx9UF7fKijS9fUl7rMnjMvZkYZveGzNEbbT795pho67GRVVtGyoAaktBX0pbjvcb7oIfWEQxiAARiAgVJlABMSE7LgDwSl2vg4b248MAADMFB6DJAEK71r7no7N2aA6/Wkfvm1HR+0x4c6wmH2HK76cypOozV8Fp8BKTMnyAwKMpPCmAvHq2MGDVMyw4JL7QV9yb7tunT9qAvXDwZgAAZgAAb8ZgATEhPSqYcDBMVvQeH6cf1gAAZgID0DJMHSxwd+oo+PMQSIffSxjzLmPmiPD3WM8poVy7HQmOLWFl84RV/g0BdWqSeswgAMwAAMFCMDmJCYkJiQMAADMAADMAADETFAEowHCtceKDAISoNJH7THhzq61n59qA8aUxoa4zqL6Ascus4o9YNRGIABGICBYmYAEzKipGMxQ8S5IZIwAAMwAAMwkBkDJMEyixM8RRcnDILoYl1Irn3QHh/qWMhr6Oux0ZjS0BjX+URf4NB1RqkfjMIADMAADBQzA5iQmJCMfoEBGIABGIABGIiIAZJgPFi49mCBQVAaTPqgPT7U0bX260N90JjS0BjXWURf4NB1RqkfjMIADMAADBQzA5iQESUdixkizg2RhAEYgAEYgIHMGCAJllmc4Cm6OGEQRBfrQnLtg/b4UMdCXkNfj43GlIbGuM4n+gKHrjNK/WAUBmAABmCgmBnAhMSEZPQLDMAADMAADMBARAyQBOPBwrUHCwyC0mDSB+3xoY6utV8f6oPGlIbGuM4i+gKHrjNK/WAUBmAABmCgmBnAhIwo6VjMEHFuiCQMwAAMwAAMZMYASbDM4gRP0cUJgyC6WBeSax+0x4c6FvIa+npsNKY0NMZ1PtEXOHSdUeoHozAAAzAAA8XMACYkJiSjX2AABmAABmAABiJigCQYDxauPVhgEJQGkz5ojw91dK39+lAfNKY0NMZ1FtEXOHSdUeoHozAAAzAAA8XMACZkREnHYoaIc0MkYQAGYAAGYCAzBkiCZRYneIouThgE0cW6kFz7oD0+1LGQ19DXY6MxpaExrvOJvsCh64xSPxiFARiAARgoZgYwITEhGf0CAzAAAzAAAzAQEQMkwXiwcO3BAoOgNJj0QXt8qKNr7deH+qAxpaExrrOIvsCh64xSPxiFARiAARgoZgYwISNKOhYzRJwbIgkDMAADMAADmTFAEiyzOMFTdHHCIIgu1oXk2gft8aGOhbyGvh4bjSkNjXGdT/QFDl1nlPrBKAzAAAzAQDEzgAmJCcnoFxiAARiAARiAgYgYIAnGg4VrDxYYBKXBpA/a40MdXWu/PtQHjSkNjXGdRfQFDl1nlPrBKAzAAAzAQDEzgAkZUdKxmCHi3BBJGIABGIABGMiMAZJgmcUpTJ523b1cNWxcrcoqmqnK6paqtlkr1bxFa/4Rg6QMCB/CifAi3Ag/YfJYqLJ80B4f6pjs+qEx6Gk295Ri1ZhkbcOldb7qi0sxpC7F0R/gOnIdYQAGYAAGCsEAJiQmZFEkVgrReDgmog0DMAADMJAtAyTBomWmcVmtqqhppSpq26iymraqYVVb1aCyndqtck/+EYOkDAgfjaraal6EG+GnUVmt9/1lH7THhzomaj4ag5Zmez8pVo1JbBuu/e6jvrgWQ+oTbR+WeBNvGIABGICBYmIAExIT0vukSjE1SM6FGwwMwAAMFDcDJMGiub67NChXVTUtVXlN66RGU7ZJY7YvbaNBOKqsaamEK1812gft8aGO5vqjMaWtCWHfE4pBY0zbcPXTJ31xNYbUy98+ANeOawcDMAADMFBoBjAhMSG9TaYUuvFwfAQcBmAABmAgWwZIgtlnZtcGFaq2eSvVsIoRj2Enyku5POFJuNqlQYWXfWcftMeHOormozEYkDa00HeNybY/FPX2vuhL1HHhePb7pcSYGMMADMAADMBAucKExIT0MpFC40XAYQAGYAAGfGSAJJhdbmV0Um1zRj/aSJBT5k7jZacRaZdjG9rmg/b4UEc0BgPSthb6qjE2dCvMMn3QlzDPl7L8u09zzbhmMAADMAADxcwAJiQmJCYkDMAADMAADMBARAyQBLP7YFFVywhI2wnyUi9f3itaWdPKO830QXt8qCMagwlpWwN91RjXk2Y+6IvrMaR+dvuwxJf4wgAMwAAMFDMDmJARJR2LGSLODZGEARiAARiAgcwYIAmWWZxy4alxWa1qWtOGd0BWYhLYNgmEs0ZltV4ZkT5oj+t1RGPQFtvaYsr3UWNyuW9HuY/r+hJlLDiWvb4osSW2MAADMAADMJCcAUxITEivEig05OQNmbgQFxiAARjwgwGSYHau0667l6uKmlYYkBiQkTEgvAl3vmivD9rjch3RGAxIYxBG9embxriuhS7ri+uxo37+3Ou5VlwrGIABGIABVxnAhMSE9CZ54mojol4IPAzAAAzAQKYMkASzw0rDxtWqopZRkFElxznOnqqitrXao3GVN/1oH7TH5TqiMZiQUeuebxqTaT+oUNu5rC+FignHtdMnJa7EFQZgAAZgAAbqMoAJiQnpTfKEBly3ARMTYgIDMAADfjFAEszO9SqraKbKatpGNgou6mQ0x3PPABHempQ386Yf7YP2uFxHNMa9NljsuuibxrjeH3VZX1yPHfWz03clrsQVBmAABmCglBjAhMSE9CZ5UkoNk3PlRgQDMAADxckASTA717WyuqVqWIUJWexJeZfOr1FVWyXc+aLVPmiPy3VEYzAho9Yf3zTGdS10WV9cjx31s9N3Ja7EFQZgAAZgoJQYwITEhPQmeVJKDZNz5UYEAzAAA8XJAEkwO9e1tlkr1aCyHSMheSdkZAwIb8KdL1rtg/a4XEc0BhMyahPSN41xXQtd1hfXY0f97PRdiStxhQEYgAEYKCUGMCExIb1JnpRSw+RcuRHBAAzAQHEyQBLMznVt3qJ1ZOZT1Ilojueu+SHc+aLVPmiPy3VEY9xth8WsI/blCQAAIABJREFUkT5pjOta6LK+uB476men70pciSsMwAAMwEApMYAJiQnpTfKklBom58qNCAZgAAaKkwGSYHauKwYBBkEhjAifDAIftMflOqIxaAwaY+f+HVV/12V9iSoGHMdvhrl+XD8YgAEYgAGfGcCExITEhIQBGIABGIABGIiIAZJgdh4cMAgwCDAI0rctH7TH5TqiMWgMGpNeY1xPirmsL67Hjvr5zT7Xj+sHAzAAAzDgAgOYkBElHV242NQB0YEBGIABGICBwjJAEqz++Hfuup9qUt4iK2O8GAyCAUNGqs779ctoWlnZtufBAzLathCJ81I5pnDni6b6oD0u17EUNaZXn4FoTIHfs5uNxjRsUqu6du/tjSZFrZ0u60vUseB49fdFiRExggEYgAEYgIFwGcCExITkQQUGYAAGYAAGYCAiBkiCpe/I7tmxu7rnnnvUokVLVNOKVhlz6btB0LbrgUqWBUtvrzfp36Cqvd5245Z7691WzMC99+2njhw8QlW365nR9qViIIZxntkYBIV+iPVBe1yuYylpjLQNWTbdfV9GmoHG2BslmqnGyB/uzJ07X98/u3TbP+N7Z6F1Kcrju6wvUcaBY6XvhxIf4gMDMAADMAADdhjAhIwo6QjAdgAmrsQVBmAABmDAJwZIgqXntXHT5mrlylU6kSoJ1UxHRLpiEEy8eppO3j//4isZJe+NEWbLhJww+Xpdn7feeV999c23avO2B7Kql6kfn8lNhkwNAhc0ygftcbmOrmjMpGtu1G36ub+/nFVbzkZjsjEh0Zjk2hCWZmaiMWUVLWMG5IyZs9XujWowIZPkeFzWFxfuEdQhff+U+BAfGIABGIABGMiPAUzIJB1UoMoPKuJH/GAABmAABmAgOQMkwZLHJchL81Yd1erVd+w0IuctUI3KmtWbUHXFIHjxldfUq6/9Q5sE7Xv0ydgkyMYgyHQkZIu99tP1uGjC1boex54wWv/e7YAjM65XWIn0Yi0nE4MgyHYhf/ZBe1yuoysa89Krr6tXtr+h2/Ke3e1oTKYmZMtO++t6XHDxZK0pg086A40JefrW+jRGDEiZOUBmEJg1e25G98tC6lAhj+2yvhQyLhy7/n4pMSJGMAADMAADMJA/A5iQmJD1JvZoaPk3NGJIDGEABmAABoQBkmCZcdCqzd5qzZq1OrE6c9YctUfj2rT9FRcMgr32OVQn4IeNOld/Trr2pozNvjadD9D7zF9ya0b7yMbr79qWdtsTR5+vy2zdubfeTqZMlKXvwGFp9ytWw9DGedVnELik+z5oj8t1dEFjOu17mG7DRmMuv3paxm05F42pb8rnk08fo+sjZqS0L3mnLRoT7sjIdBpTXtk6ZkDKzAGZ/MGOS5oUdV1c1peoY8HxMuuLEifiBAMwAAMwAAPhMYAJiQmZNqlHYwuvsRFLYgkDMAADMEASLHMG2rTrotauW6eNyJumz0w7xZwLBsHVU2eqHT/9rJPx9z/0NyUjllIZXzI68Y1/vq0T9m+985469Zxx+ucFS2+rs88Z51+iy5IN/vXRJ2r0eRerf//7d7Vh8z11tg0e75jhp+ky9znkaL3d8tvX6ilZg9uk+1kMiHPHTVQy2ur+hx/TZX351ddq9oLlSY/bq89A/Q65n37+Wb33wYfqxlkLVWXb7nHbNu+4r3rq2RfUIQOOVzJqSqatlUVGZ4qJK99JOUNHnKW+/Pqb2DGNcTrmkiv1Pr/88qt68NEnVNuuB8WVn+58bHyXziBwTe990B6X6+iCxlxzw6ycNObNt99Vo84eq9tTMo05PUFjTjt3vPr1199UfSbkcX+OfJQ2K+1LNObrb77LuE3KOyfPGRuvMV98+VVKjel58AB119b7VS4a02X/w1WHnodojRFNTKcxMtWtaMxDf3vSWY2pqG6jlixdtnPGgCymLndNl6Ksj8v6EmUcOFbm/VBiRaxgAAZgAAZgIDwGMCExITEhYQAGYAAGYAAGImKAJFh2ndg9O3ZXd965Xidab5h2k9ptj6qkrLpgELz+j7fUHXfepRPwkliXRUYuJZpfd961TX/36ONPqxtmzNfG3W+//Vuvm7f4lrjtxfCTRZLisu2a9ZvV73/8oddJOYllB3+vbtdTbzdrwTI1Z+EKvZ+YBsFt0v388SefqceefFZ98+336pZV69TcRbeoDz78WJdppl80+5tpGD/59HO1eMUqbV7IhmJ+1LbvFTtm2y4H6v3lvMRIkHpJ/aQcMTJkEZNBlrvvfVDd+8Cj+udPP/tCzZy/VP+8btNW9chjT+mfJYamDoX4xITMrj3X9xDvsj66oDH/ePNttXbDFs280Rgx7xPZz0ZjTLuSPwiIaczvv+v2VZ8JGdQYaceyZKMxoheJGiN/aCHLeeMnxZ2XMTxFCzLRGNHSRI3pcdAAXfaWex7Qn6Ix9z34l8aYc1i78e6YxvztiWfi6pEYa9u/J9MYMSBX3HKrvi8uXLg443cn19f+iv17l/Wl2GPP+YV7rySexBMGYAAGYMBHBjAhI0o6+ggHdUbUYAAGYAAGYCBcBlxNgrXr0E0NHnKiuvCii9WUKVPVosVL1IYNG3SSU941Fea/bdu2qS1btqhNmzap9es36NGOd9yxRq1cuUrdeuvtavmKW/QID3nP1fz5C9WatTunZZU6XDphkpMmpJmGUEYbSVLaTH0ooyODSWozGsmYlea7gUNH6aR4cDrWIwafrNfJqEqznXzKaCBZ6puOVbY1ht7b736g9j/s2LhygmUm+1lMSFmkbub7spZddGI/mJiv2bOnHp311jvvq6p2PWLbHj7opDr1NCakfDHk5DNj20r5vfocpbf//IuvVJ8Bx8e+m3rzPL3+/X99pM/d1GXV2k16vYyuNOui/kxmELiqma5qTzBeLtex0CakafdGY0xbSqUxq9ft/IMI0yaSaYxpozLS2Wwnn8asq8+ElG2Nxkj73+/Q7DRGTEj5o4pEjfn5519U8A8M5A8ZZJS5HCP4Rw2m/kEtNHFJpjHmvBI15vrpc9NqTKu9d043G4xRVD8n05g5c+eHek8O4/4u/QXpN0j/QfoR0p9o275r0vt1sM1H+bPL+hJlHDhWuP164kk8YQAGYAAGYCAzBjAhMSGdejig4WbWcIkTcYIBGIABPxlwKQnWa98+6vKJV6rVq+9wLqGZKik6d96CpP2WQhsE02YuUP/3f/+nqgLTj7786ut6ytVgsvrhP0fwyQii4Pq2XXeOEFyw9PbYejEqZZFpBIPbNqhqr9fXZxDIOynNkmzq1gcfeUJ9+NEncWUHj/PJZ5+rZ194qc73L77ymh4RabaVqWVlkWlizTrzue3+h/V3xig0BsHW+x6qs60xIa++Id64PfG0ne+2POeiy+P2mTD5el22TO1qjhf1ZzKDwFVtdkl7UsXI5ToWWmNkeuNEjXll+xvq9X++Fcd/NhpjjPyuvY+IK0PakSwyXWq6NhXUmGTbPvRoeo359PMv1DPPv1jnGKIx8kcH5tjpNOae+x/JWGOMCXnNtFmxsuUYJ5x6ni7j3LET49YbjTHTQZv6RPmZTGNcNCFT3bOlf3HZ5ZNVz30OTnrvTqUFNta7rC82zpcy/XxO4Lpx3WAABmAABoqVAUxITMiCPxAUa+PivLhxwAAMwAAMJDLgQhKsZZu91VVXT4kzHm+99TZ12uizVbceB6h27bup6tp2ao/GNVb6CLs0qFANGlarhk1q9TRy5ZWtVWVNW1XTvL1q3qqjatVmb9V2zy5KpmLt3HU/JdPNychJef+VbJcYU/m90AbBO+99oKceHTBkpDL/ZNpQWWSUpElaf/7Fl2r76/+M/W7WJzMhxWCQdzCabcxnJiakSdqvWLlOXXndzboe4y6/NlZW68699borr785ts6Ubz5TmZCPP/2c+urrb2P7Lb99jS6rU5JpIc2xBww5RW9vznP2wrrvlUxlQh4zbOe7LRNNyPPHX6GPO3DoyFhdTN2j+kxmECTj04V1LmhPfXFwuY6F1ph33/+X+udb78T0RXTGTLsa1JjPPv9SiXYktgHT9oJ/6PDy9tf1u1cTt5XfZUlmLJptgxpz1fU7NWb8xL80pn2PPrqMyddNr1MXU0YqE/KJp59XX371TWy/FSvX6rL26tU3ts6UcdXUGfq7TDQmlQl59PGn6jISTcjzxk3S6486/q/R4Oa4UX0m0xgXp2OV/oL0G6T/0L3ngbo/If2KoDkp/Q7pf9SnA7a+d1lfbJ0z5fIcAgMwAAMwAAMw4AoDmJCYkAV7EHClEVAPBBkGYAAGYCAqBgqdBDv73DFxScHxF1+munTv7WRfQIzKG264Sdd32fIVKQ1IuXaFNAh6HzZIJ6pT/SfvWTMJ6+++/0E998LLsd/N+mQGgbxPUd7BaLYxn5mYkPLeNJlO1ewj7z6TUVRHDztVr5NpX3///XdlRiia7YKfmZqQ8p5KWZKVdeGlV+nvjj/lbH1cc56YkNFrbqG1JxONdbmOhdSYA/oNTiUver1MWWza7rfffZ+xxoipKe9gNPsGP6XgdCakmJ1BjZEpXUVj5P2wUs7CZbdrjWnWYZ+k5cs2mZqQ6TRm7GU7R2JnojHFYkJKWxIjUv4wR0y+uXPnO/teyC7d91eXTJgY1+8486zzC9LncFlfMtFHton+vknMiTkMwAAMwAAMhMcAJiQmZEEeAmjE4TViYkksYQAGYMAfBgqVBGvctLm6afqMWCLwmmuvd+59TUGOZZTk9Jtn6frecsttaQ1I2a+QBsGs+cvUf//7X5Us2f7Pt95VHwSmFXz9H28pGQ0ZTPbLz8acC45SMtMqJm5bnwnZtFUXbUwsXrEqdpyyFp3V8y++ot+/NuXG2fr7WQuWxb5PPIb8nqkJOXP+Ul1en/51p0WdvWC5/s68K86cJyZk9JpVKO0Jtuv6fna5jgXVmAXLrWjMg48+odtnsvYvX6QyIeXdsLLUpzGiDcnKNusyNSHTacychSt0XTLRmGIyIaUtySwC8u5kY0Q2Kmvm7HO9vB9S3hdpRkbeeNPNqmGTaOvrsr7Up418H/09k5gTcxiAARiAARgIlwFMSExIZx9WaOzhNnbiSTxhAAZgoPAMFCIJ1qLVXmrJkp0jJtasWav22a+P0/d+MUzl3Y+SrBQDUqZprY/dQhoEkkh/7u91RzdKon36nEU6Qb7/YcfqZPzajXfr3w87+oS45LxMrSiLjFA0CXqTXB9+6nmxdfJdz4MH6G3X37Utbr3ZTz5lxOULL70a9315665KpjmU5ccdP6maPePfSxncX37O1IQ8fNBJusx7H3g07ngtO+2vjxM0XTEhC6dBhdCe+tpt4vcu17HQGpPs/azSTo3G7HfoMbr9GY1JfFfqwKGjdDtNpjEnjj4/ru12P7C/3jbde2cz0ZjEd98makymJqTRmMR3yWarMcVmQkr7KatoGTMiZ82eq1w2IqW++/Xuq6QfIvf3xYuXqmYtOtR7f0/UiVx/d1lfcj0n9ivcPZXYE3sYgAEYgAEYyI4BTEhMyMg6/jTO7Bon8SJeMAADMFB8DESdBGvRulMs4XfzjFn1jigsNHOSQJ0/f2HMgKzNMEFZKIPgkIHDdLJ+0jU3xiXxTbL94P5D9fcz5i7R35sk+Ceffq6OO+kMPXWhTNf6w4876hgErfbeX/3227/VV998q0447Tx17AmjlbzDUbaV9elMyBtnLdTlrd2wRckxpT5nnH+J+vXX3/R7JuVLeY/lsJHnJK23bJ+pCSnbbrv/YX08MSK79j5CydSIMlWjLCefPiZ2DEzIwmla1NqTi5a4XMdCaUzfo4brdjTx6mmxdmT0RT6Nxtw8Z7H+3miMTLNqNEama5U/PJAlaEIajfnm2+/VsFHnxjRGthWNSWdCGo2RqVJz1ZhMTcigxtxz/yM5a4yJzTXTZsXF0rd3Qia2LTEi5/35hzszZ83R71xO3Mal3+XdkTNnztH3eTEkm7faK5J8hMv64tL1oS6Fu08Te2IPAzAAAzBQzAxgQmJCRtLpL+ZGxLlxk4ABGIABGMiUgSiTYI2btoiNgBw3foIX9/tD+x2lE5MrV65SzVpmPkKiUAaBTJ8qS8eeh8QltYMmwZdffaPffWbWifG346ef9X7y34uvvKZkKkGZtjU4Hatsf8Tgk7UJaTb+x5tvq37HnKhkVFQ6g0D2lalQ5f1wZpH3RMpUrPKdjIp67Y03tSkpUyuaugU/szEhZbrXdZu2mkPpTzE8zxk7Ma5sTMjCaWWU2pOpHiZu53IdC6Ux8m5FWbLVmJ9+jtcYGY2dTGOOHDxCiQlpFtGYw489ST3z/Ispp2M1OpFOY0S7YhrTonOcDpj9szEhRWPMKE9T12w1plhNSGlHwRkEujr6nufE9n7xJZfFRkQ2KmtuvY/isr4kxobfC3evJPbEHgZgAAZgAAbsMIAJiQlpvcNP47XTeIkrcYUBGIAB/xiIKgm2S4OK2Dsgp95wk5LffeBFRkKOHHWGynQEpDmnQhkEJpme7WdVux5KpmDtkMa8NGXKOx7FKOiy/+FJE/lmu1SfvfoMVB179U26b9suByZdn6qs+tbLKEg5L/kn51jf9r5/L9wZBl3/jEp78omDy3VEY/ZM2Z6j1BjRQTQmed9H3qXsiwEpOiH9Enk3pEzNev3UG633U1zWl3x0k32TtwfiQlxgAAZgAAZgwC0GMCExIb1JniAebokH14PrAQMwAAPZMxBVEmzosBE6sbds+Qolicliv1a+GQS+m2/Uf6chgwmZvQam06Ko9DFdHVJ9h8akNiHRA3ux8UljUrWddOtlBOeyZct1f2XQcSdY7au4rC/pYsR34d5niCfxhAEYgAEYgIHCMIAJiQlptbNPwy5MwybuxB0GYAAG3GQgiiRYWXlLtWHDRrVt2zbVYa+eJXGfxyCwlwTHYEgdW58Mgii0J9/7jst1RGNStwM0wl5sfNKYXNt/x049tQm57s47lfRfci2nvv1c1pf66s73bvbpuS5cFxiAARiAARjInAFMSExIax19GmLmDZFYESsYgAEYKA0GokiCjbnoYp3QG3/xZSVzj69t1ko1qGyXcrpAkuT2kuSlGlvhTbjzRbuj0J58Y+FyHdEYNCRqrfNNY/Jp/5dcOlH3Wy4YM86aprqsL/nEjn1L4/mB68x1hgEYgAEY8J0BTEhMSGsdfd8bB/VH4GEABmAABsJmwHYSrG37rnoE5KZNm1R5lT/vq8s3zpXVLVWjqraYkJUYBVEZBcKbcJcvu1Htb1t7wjgPl+uIxqAtUWmLOY5vGpOPBlTXtlPSb9m6dauSfkw+ZaXa12V9SVVn1vMcAgMwAAMwAAMwUCwMYEJiQlrp5BdLA+E8EHsYgAEYgIEwGbCdBBs77lI9muCEk0aV1P29SUUzVVaDCWmS13zaN0yEtyblzbxpZ7a1JwyddLmOaIz9NoVuxcfYN43JVwNGnDJa919kNod8y0q2v8v6kqy+rOP5AwZgAAZgAAZgoJgYwITEhLTSyS+mRsK5IPowAAMwAANhMWA7CbZm7Vo9ErJhk9qSur83bFytKmpaMxKSkZCRMVBR21rt0bjKm3ZmW3vC0EiX64jGxBtkGIb24+GbxuSrAU3KW+j+y8pVq63oqsv6km/s2J/nFBiAARiAARiAAdcZwITEhLTSyXcdfOqHOMMADMAADBSCAZtJsL0676NHEcyYObvk7u277l6uKqpbRmZAkYC3n4B3PcbC264N/NFRm9oTlpa6XEc0hjYftSb5pjFh6MDsOfN0P6bj3r1C78e4rC9hxI4y/Lkfc624VjAAAzAAA6XIACYkJmToHfxSbEicMzcQGIABGICBTBiwmQQbOeoMnbwbddpZJXlvb1RWo5rWtMGIZDSkdQbKa9qoRk2qvWpnNrUnE+3LZBvX64jGYERGZUT6qDGZtPH6thl9xrm6HyP9mfq2zfZ71/Ul2/Nhe547YAAGYAAGYAAGfGIAExITMvQOvk8NgLoi2DAAAzAAA1EyYDMJdtXVU3Ty7pBD+5fsvb2qpqVqWNXOugkVVSKa47hnejSsaqsqa1p618Zsak9YGupDHdEY99pksemkrxoThg4c2u8o3Y+58qprQ9dYH/QljBhSBs81MAADMAADMAADLjKACYkJGXoH30XQqRMCDAMwAAMw4AIDNpNgM2fN0cm7rt17l+y9fZcG5aq2eStMSEZDWmOgWfNWXrYvm9oTlrb6UEc0BhPStunpq8aEoQM99zlI92NsTCvvg76EEUPK4HkHBmAABmAABmDARQYwITEhvUykuNiYqBMiDwMwAAMwUB8DNpNgK1bcqpN3LVrvVdL39l12q1C1zVsrGU1iO1lM+aVjSAhPzZq3Vv9vtwov25dN7alP9zL93oc6yrmgMaXT7qPUeN81JtN2nm67Nu266H7MsuUrQtdZX/QlXXz4jucMGIABGIABGIABXxnAhMSEDL2D72tjoN4IOQzAAAzAgG0GbCbBtmzZopN3u+1RVfL3dhmtVFXTSpXX8o7IKJPoxXos4aiyxs8RkEbTbGqPOUa+nz7U0ZwjGoMRGabeFYPGmLaRz2eT8ha6H7N+/YbQ+zE+6Us+MWRfnmVgAAZgAAZgAAZcZAATEhMy9A6+i6BTJwQYBmAABmDABQZsJsHuuecenbxz4TxdqUOjprWqoqaVqqxto8pq2qpGVW1Vg0reGRlm8rzYyhI+hBPhRbgR87FRWa33/WWb2hNWe/ehjonnisZgRmargcWqMYltI9ffbfVlfNSXXGPIfjzzwAAMwAAMwAAMuMYAJiQmpPdJFdcaFfVB6GEABmAABlIxYDMJZitxl+pcfFm/6+7lao/G1aqssoWqrGmpapu1Us1btOYfMUjKgPAhnAgvws2uDYpDz2xqT1ha4EMdk50rGoOeZnNPKVaNSdY2cllnqy/jq77kEkP2KY77NteR6wgDMAADMFBMDGBCYkJiQsIADMAADMAADETEgM0kmK3EXTF1fDkXHuRKlQGb2hNWTH2oY1jnSjloEQwkZ8BWXwZ9SR5vOCQuMAADMAADMAADUTCACRlR0jGKi8kxEA0YgAEYgAEYcJsBm0kwW4k7mHKbKa4P1ycTBmxqTybHz2QbH+qYyXmwDW0SBnJnwFZfBn3J/ZrAM7GDARiAARiAARjIlwFMSExIRr/AAAzAAAzAAAxExIDNJJitxF2+nU3254EFBgrPgE3tCev6+lDHsM6VcgrfJrgGbl4DW30Z9MXN60075LrAAAzAAAzAQGkwgAkZUdKRBlUaDYrrzHWGARiAARhIx4DNJJitxF268+E7eIcBPxiwqT1hMeBDHcM6V8rxo91wnaK/Trb6MuhL9NeS9kPMYQAGYAAGYAAGDAOYkJiQjH6BARiAARiAARiIiAGbSTBbiTvTaeSTBwgY8JcBm9oTFhc+1DGsc6Ucf9sS187utbPVl0Ff7F432gXxhQEYgAEYgAEYSMcAJmREScd0F4HvaKQwAAMwAAMwUBoM2EyC2UrcwWZpsMl1Lu7rbFN7wmLHhzqGda6UU9ztjeub+/W11ZdBX3K/JvBM7GAABmAABmAABvJlABMSE5LRLzAAAzAAAzAAAxExYDMJZitxl29nk/15YIGBwjNgU3vCur4+1DGsc6WcwrcJroGb18BWXwZ9cfN60w65LjAAAzAAAzBQGgxgQkaUdKRBlUaD4jpznWEABmAABtIxYDMJZitxl+58+A7eYcAPBmxqT1gM+FDHsM6VcvxoN1yn6K+Trb4M+hL9taT9EHMYgAEYgAEYgAHDACYkJiSjX2AABmAABmAABiJiwGYSzFbiznQa+eQBAgb8ZcCm9oTFhQ91DOtcKcfftsS1s3vtbPVl0Be71412QXxhAAZgAAZgAAbSMYAJGVHSMd1F4DsaKQzAAAzAAAyUBgM2k2C2EnewWRpscp2L+zrb1J6w2PGhjmGdK+UUd3vj+uZ+fW31ZdCX3K8JPBM7GIABGIABGICBfBnAhMSEZPQLDMAADMAADMBARAzYTILZStzl29lkfx5YYKDwDNjUnrCurw91DOtcKafwbYJr4OY1sNWXQV/cvN60Q64LDMAADMAADJQGA5iQESUdaVCl0aC4zlxnGIABGICBdAzYTILZStylOx++g3cY8IMBm9oTFgM+1DGsc6UcP9oN1yn662SrL4O+RH8taT/EHAZgAAZgAAZgwDCACYkJyegXGIABGIABGICBiBiwmQSzlbgznUZfP3dtUK72aFSpyppWqorKalVdXaNSXQfW15Z8bIQP4aSsrFJzI/z4yn6w3qnYDm5T6J99qGOyGKEx6EYqdpOtL1aNSdY2cllnqy+T7FrIulzqyD7FcV/kOnIdYQAGYAAGYCA6BjAhI0o6AnV0UBNrYg0DMAADMOAqAzaTYLYSd67GMpN6NWpSqSord/6rqKhQ5U2bqrImTfhHDNIyIJwILzvZqVLCUSa8ubyNTe0J67x9qGPiuaIx6Gku95Ri1JjEtpHr77b6Mj7qS64xZD+eg2AABmAABmAABlxjABMSE9L7pIprjYr6IPQwAAMwAAOpGLCZBLOVuEt1Li6v36VBuaqsrFaVFRVpzaZcksfsU3qmg3AkPAlXLnOfrm42tSfdcbP5zoc6mvNBY0pPB2xqfzFojGkb+X7a6sv4pC/5xpD9/b1Xc+24djAAAzAAA8XKACYkJqS3yZRibZScFzccGIABGCheBmwmwWwl7nzjcZfdmqqamhrVlFGPGLAhjviUkUvC1f/bramXfWeb2hOWRvhQRzlXNAYD0oYh6bvGhKUDtvoyvuhLWHGknOJ9luDacm1hAAZgAAZ8ZAATEhPSy0SKj42NOnOTgAEYgAEYsJkEs5W484nbXRrsNIpsJIgpE+NBGBAjUkwon9qF1NWm9oQVCx/qiMagA7bvBb5qTFg6YKsv44O+hBVDyuF5AwZgAAZgAAYRLqJwAAAgAElEQVRgwDUGMCExIb1LorjWiKgPwg4DMAADMJApAzaTYLYSd5memwvbVVZVMwIyxNF/tpPtPpYvo5UqK6u86z/b1J6w2r4PdURjMCFt65avGhOWDtjqy/igL2HFkHJ4LoEBGIABGIABGHCNAUxITEjvkiiuNSLqg7DDAAzAAAxkyoDNJJitxF2m51bo7Ro1qVSVFZVMQYoJaZ0B4axR4wqv+tA2tSestu96HdEYDEjbBqQp30eNCUsHbPVlXNeXsOJHOTyTwAAMwAAMwAAMuMgAJiQmpFcJFBcbEXVC3GEABmAABjJlwGYSzFbiLtNzK+R2uzYoVxWVVdbNJ5Mg5hMzQkZD7urRc4RN7Qmr7btcRzSGNh+17vumMWHpgK2+jMv6ElbsKIfnERiAARiAARiAAVcZwIT0KHngKkTUC4GDARiAARiAgcwYsJkEs5W48+Ha7tGoQlVWMgoy6iR5KR+vqrJKCXc+tA+po03tCSsGLtcRjcGEjFrvfNOYsHTAVl/GZX0JK3aUk1lfnDgRJxiAARiAARiIngFMSExIb5InCET0AkHMiTkMwAAMhMuAzSSYrcSdDwyUNa1UFRUVjIRkKtbIGBDempRVetOPtqk9YWmEy3VEYzAhozYhfdOYsHTAVl/GZX0JK3aUE26fnXgSTxiAARiAARgIjwFMSExIb5InNPzwGj6xJJYwAAMwUBgGbCbBbCXufGBFpmItb9o0MgMq6mQ0x3PPABHehDsf2ofU0ab2hBUDl+uIxrjXBotdF33TmLB0wFZfxmV9CSt2lFOYvj1xJ+4wAAMwAAMwUD8DmJCYkN4kT2jQ9TdoYkSMYAAGYMBtBmwmwWwl7nxgqrq6BgOSUZCRMyDc+dA+pI42tSesGLhcRzQGE7IQpqdPGhOWDtjqy7isL2HFjnLcfgbg+nB9YAAGYAAGSpkBTEhMSG+SJ6XcUDl3blQwAAMwUBwM2EyC2Urc+cCexLUQCWKOWdrGhHDnQ/uQOtrUnrBi4HId0ZjSbuuF0nqfNCYsHbDVl3FZX8KKHeUUx7MC15HrCAMwAAMwUIwMYEJiQnqTPCnGBsg5cWOBARiAgdJiwGYSzFbizgdGMQgwCAphEvhkENjUnrA0wuU6ojFoDBoTTX/NVl/GZX0JS0MpJxpGiTNxhgEYgAEYgIHsGcCExITEhIQBGIABGIABGIiIAZtJMFuJOx862KVoEHTv1k0NGjRI1daEPxWtKbumutqZEaaH9OmjBg4Y4Ex9xJAQ7nxoH1JHm9oTVgxcrmMxa0z/I49U0r5smmytW7XSerV3p05Wj5PNORxx+OHqsMMOc6Y+yeruk8aEpQO2+jIu60tYsaOc7BOixIyYwQAMwAAMwEA0DGBCRpR0BOhogCbOxBkGYAAGYMBlBmwmwWwl7lyOp6lbMRsEyRLTsm769OlKll49e2aURF+9erX68ssvVds2berdfuaMGbrsHt2717ttqvqFvf7pp59W3377rTP1kfPzySCwqT2mHeb76XIdi1ljPvvsM/XUk09abVvHHH201pTLJkywepxsdOe9995T27dvz6g+bdq0UZ9/9pm68847M9o+m3qk29Ynjcm3/Zv9bfVlXNYXc+588gwDAzAAAzAAAzBQrAxgQmJCevMX3MXaCDkvbjAwAAMwUDoM2EyC2Urc+cCnawbBM888oxPuEy+/PGnCWkYY/v7773qbXEcgpTIhJ06cqIYcd1yd47777rv6eP369avzXWISHBMys6knfTIIbGpPWBrhch1taczDDz+s2+V1U6YkbZeVFRXqxx9/1NscfdRRSbdJbL/Z/o4J+Vd7l5Ga02+6SXXs0CEu1n0OPlhfgw8//DBufbaxznZ7nzQmLB2w1ZdxWV/Cih3llM7zBNeaaw0DMAADMOAbA5iQmJCYkDAAAzAAAzAAAxExYDMJZitx50Pn1pZBkG3C2GxvTMiXX345acL6vHPP1Qlt+S9nE/Kmm3QZiSMhZbTg3Dlz6hy38957Zzz14M0336zLlmlZzTkV+vOpp55iJGQeOmVTe8LSCJfraEtjHnroId3W3nnnnaRtbeQpp+jv5T+bJuQTTzyR9PhhtXszEnKCSyMh331XbX/11bjzPm7wYB3vZLp8aN++qnPnznHbhxWfVOUId2G1L1/KsdWXcVlffLk21JOENwzAAAzAAAzAQK4MYELm8TCfa9DZjwYLAzAAAzAAA6XJgM0kmK3EnQ+s2jIIUiWG61svJuQLL7ygk9k9e/Sok7R+9NFH1datW1Mmu+srX75PNRLyv//9r5o3b16dY2ZSptnGRRPyySefxITM47nFpvaEpREu19GWxjz80EPquWefTakFW+++W91/3336e5smpO3pWKXusjhlQiaZjvWM009PeS2MPkb5KdyF1b58KcdWX8ZlffHl2lDP0nx24bpz3WEABmAABsJgABMyj4f5MC4AZdCQYQAGYAAGYKB0GLCZBLOVuPOBT1sGQa7JZjEh169fr/71r39pszBYTof27XWS2xh9wRE3Yy+6SMm+MiVgcJ9RI0fq9b333z+2PtGEHHHyyer+++/XZcv0ilKO/OvSpYve54apU5W8VzFYbqqfZ/z5TsiuXboo2e+PP/5Qv/32m3r88cdj5QX3bd2qlVq8eLGS4/7000/qscceU4mjKJs3a6ZjYaaWlGkNJ02alLQ+MmXsgw8+qKeslfLmzZ2rZMQY74TMXSttak9YGuFyHW1pjJiQot2vv/66WrBgQVx7aNG8eZxWJJqQ++27r7p7yxa9jUzv/Oqrr6qDDzoorgxpp1dOnqxee+01vZ204y2bN6s927WLbZdsOlaZ0ln04/TTT49tJ2WNGTNGvbZ9u9YEKfOUESPivje6cN1116n3/pwCWv4gY9zYsfr46UzIowYO1Mds1bKluvSSS9Qvv/yi93n77bdj776dMmWKjtWOH39UmzZtUhIjc0z53Lhxo7r99tvj1sn6ZUuXqs2bN8etT3wn5MyZM9U//vEPfUwZISnnv3Llytg+Mhpb9DB4PNs/C3dhtS9fyrHVl3FZX3y5NtQz93swsSN2MAADMAADpc4AJiQmZMk92JR6o+f8ufHBAAzAQOEYsJkEs5W484EXWwZBrglmSV6LiSZm3kcffRSXtL788su1mSbJfVmCJuTsWbP0usQpVi+/7DK9/sgjj4yVlWhCnjB8uFqyZIne7vnnn9eGn2xjzIZNGzfq7zI5J2OQyuhDMRDkdzEgZZFzC5axV8eO2mz94osvtNEgU82+8sor6uuvv44zCMRA/OCDD7TRIvUSQ1SWU0eNiitPzFRZvvrqK31cMTdlXzFCpczgsQv9s08GgU3tCUsjXK6jLY0RE1LawrXXXlvHZL/ggguUmG0nnXSSbhNBE/L4oUP1Ommj0j7FQJP2ISa/mHimbYwfN05vJ9oyaNAgJb9/8fnnce0u0YSUPz744YcflJTdtKwsVpYYfLLIsWSa2DV33KF/Hz5sWGwbOe6zf74Td8OGDVqH5I8SpP3KIuaiqVvip5l6dtufo8TvXLdOifEni8RI7nFiooox+NJLL+n1t95yS1x5orfbt2+PWyfHEU389NNP49YnmpDXXH21Pmcp+LbbbtN1v+Tii2P7yCjzuzZtiv2eWH8bv/ukMWHpgK2+jMv6ElbsKKdw/XtiT+xhAAZgAAZgID0DmJCYkJiQMAADMAADMAADETFgMwlmK3HnQ2falkGQa1JZjDpJ4Pfo3l0nyvsHzMOXX3pJG3Hnn3ee/i4sE1Lq2q1rV11msulYczEhE0cUSfJflo4dOsQS8ffdd58e/SjGhYlXbU2N+v7779XUwKghGeVkvpfPmupqbTSKmWDWi3ny888/a7NAzE2zXkY7iYHJSMj0D3bp2qpN7Ul33Gy+c7mOtjRGTEhpA/LOVllkBKLh/onHH9dmmDHngiakbHN4v36xbeV3MQNlmThxYmy9GIAyItuUKZ9Bk1J+D5qQ1VVV6s0339R/PBHcTgxRWS44//y4smQ0ovzRgSlf2rwsMhLSrJNPY4amGwk5cuRIva+8H7N79+6x/cXMlOXvf/+7CuqCTGO7Y8eO2HZynHxMSNn/+uuu08cK6rI5D0zI3PUnGx2w1ZdxWV+yiQ/bRsMhcSbOMAADMAADMBAuA5iQESUdATdccIkn8YQBGIABGPCRAZtJMFuJOx/ibMsgMMnnbD/FhDQjBsV0vOXP0ToywlGW/fffXyfz5edgsjufkZBSx7BMyJl/TscqJmrw3MVAkGXggAF6vUwbK0vQbDTbb9myRYmJYn5P/JR9ZZSTjGwy38koSlkuHj8+ts58JyOhMCFz132b2hOWRrhcR1sa8/DDD+tpVIVzaS/r1q3T7Ldv316J6dW/f389alHaRaIJadqG+TzowAN1+1m9enWs/dx11116WtMjjzgits5sbz7FhJQ/mpDfxVT89ddf1X777Re3/csvvxyrp9lPPs8680x9TDEv5XcxPGVUdHAb+fmYo4/W2102YUKd78y2xoQcfdppcdvICEVZBvypO2b75cuW6fVt2rSJbY8JmbtGhNWO8y3HVl/GZX3JN2bs7z/3XEOuIQzAAAzAQLEzgAmJCcnoFxiAARiAARiAgYgYsJkEs5W486EzbMsgMMnubD+DJuSESy/VUxtKGTI6SN79Jj/LiCJZCmVCyjSDpp7mU97bKHVLZUKaOg8dOlRvN+z44/U5yHvUTBnmU4yI999/P2YOSLkyGuqRhx/W8dA7/vmfjIqU7+Xdj7IkGiDyHSZkfg/mNrUnLI1wuY62NCZoQooJLyOBhXcZzWimcpYpi2VJNCHbtW2r5syeHZuaVG+klJLRyVKG/JN3REpblEXuEdJmzXfm05iQMlWqLPL+VfOd+fz3v/+tyzHt23y+8cYbep8DevfWo5vlF3nnpNnPfOZjQpp6JZqQc//UCxlFao4TpQm59e6743Rv7pw5sXqY+uT7KdyF1b58KcdWX8ZlffHl2lDP/O7DxI/4wQAMwAAMlDIDmJARJR1LGTLOHZGFARiAARiAgZ0M2EyC2Urc+XDtbBkEuSaQTYJe9pdROrKcfNJJSqYZnHzFFTpRbQy9QpmQ8k45eTdj8J8530xNSGOObN68Oa4cU6a8/1LKFJPx0UcfVWJkLFy4UI+K6ty5sx71JbGR6Vtlu6VLl+pYyYhOUxfziQmZ333EpvaEpREu19GWxgRNSGkH8u5EGV0oU5xOu+EG3Q5MOwuakH0OPli/A1KMfhmh3PeQQ7TW/M///I+6P2BCmvYj+vPoI4/o9iXTv7YNjB4UE1LeEymLvAtRFnkPpdlXPmURw9G07cRPefds61at9Hbr1q6N21f2L0YT8qorr4yLxzlnn13nvIMxzOVn4S6s9uVLObb6Mi7riy/Xhnrmdx8mfsQPBmAABmCglBnAhMSELLkHm1Ju8Jw7NzwYgAEYKCwDNpNgthJ3PjBjyyDIJWks+wRNSPn93nvvVe+++65O0Hdo314nqpOZkJLYl0Wmaw0e+/LLLtPrjwy8W9JsK1O8mm1tT8dq6mxGQg7o31/X6+qrrorVwdQl+HnZn/UXMyW4XqaelMWYkGbaRTEsgtvJz5iQ+WmXTe0JSyNcrqMtjQmakMK5GHhGK8x7VpOZkM8995z68ssv48xE2T+VCWnak7QtMTrFbDTrxISUZcGCBXrdgw88oEc9mpHRsp1MhSzHNPuk+pQ/NJC2mvh9VCbk+++9p83SxOM///zz+l2zwfXvvfee2r59e1xdeSdkfjoThhbY6su4rC9hxI0yCs8u14BrAAMwAAMwAAOpGcCExITEhIQBGIABGIABGIiIAZtJMFuJOx860rYMgmDCOpufE01IYyIEpzk0hl5wJKQx62SUYvB4YmLKEnyvWzIT0oxEuvXPd1AGy9i0caMuI7gu1c+ZjoRsWlamzYkPP/xQj3ZMVZ6MfpSlTevWsfOS0ZFiDMhipmM9Yfhw/fuypUtj20mZYoaIucA7IVM/1NXXTm1qT33HzvR7l+toS2MSTcjjBg/WbUA0xLQnox/BkZBiQD6cMG2qTGMsS3A6VtEEU475lJGQr776amy9mJBvv/127PcunTtro9K8y1b2W7t2rfrPf/6jDu/XL7adKS/4+eKLL+o6dOzQIW67cWPH6vUyajO4ffDnVO+EzGY6VjFKf/jhh7hjSF1EOz755JO49clMSJk+W5Zkfwgh7+i8a9OmuDKC9bfxs3CXafsplu1s9WVc1pdiuXacR+73aGJH7GAABmAABoqdAUzIiJKOxQ4S54dYwgAMwAAMwED9DNhMgtlK3PlwXW0ZBLkmlRNNSCnn8ccfVyeccEIsgZ3MhDy0b1+dAJepGAcNGqSGDhmiDQWZxlWWoAl55eTJet3IU06JlSnHkekZJdkuZYlh0Ky2Vn9vw4SU45nzkDqb+vXs0UNPrbp3p0762Caxf8cddyh5f5uYjfIeyR0//qjPwZiQUp6UI4sYsoMHDdLvkZTz37Fjh/rmm2/izlW2L+Q/nwwCm9oTlka4XEdbGpNoQgrP8scKp516aoztZCbkc88+q9vJueeco9rvuaeaNGmS+uWXX9Svv/4aMyFlilQx326YOlUb+WJIXjx+vN5vxowZsfLFhHzqySdjv0sdbp4+XYnpdsQRR+j1Xbp0UT/99JP68ccf1ZlnnqlatWypWjRvrtvp6NGjY/sOHzZMly/tWNqvTAO7ePFi3X7lC9GCVG02DBNy/rx5+vjyKRp6xhln6Hdrvvfuu3VMSKnjxx9/rIKG6WGHHab337Bhg5Jz7hcwXTEh6+/jhKEFtvoyLutLGHGjjGj4JM7EGQZgAAZgAAZyYwATEhOy5P66ErHITSyIG3GDARiAgfwZsJkEs5W48+G62zIIUiXL61ufzIRM3MeYd8GRkLLNlClTdBJc/hNDYcH8+Uq2kSU4Hethhx4a285M8Sr7S+JfpkQ0ixgYst6WCSlly0iln3/+2RxSf/7tb39T++27b8xwWL9+fez7zz/7TJsRF44Zo9eZ6VilLDEujREpX4qJIqOnZOQnIyFz1yCb2hOWRrhcR1sak8yElHYQ/JfMhDzowANj07ZKO3nhhReUaMJjjz0WMyHF3BcD8rXt22NtT9qpGHTB8pOZkPK9tNMPPvggtq28d1JGJAeXTz/9VJ0yYkRsG9nP/NGB2U7eByuGnph4l1keCSnm6LPPPGMOrWSUtrzfcs6cOXWmY509a5beLnH6WPNuWvny999/j50bJmTu+pONRtjqy7isL9nEh22j4ZA4E2cYgAEYgAEYCJcBTEhMSExIGIABGIABGICBiBiwmQSzlbjzofNtyyAIJuqj/LltmzZKRuTUd8yDDzpIHTVwYJ3tZPRjorlZX1n5fi/Jfxl5JP/EIElWnozYkjon+y5x3RGHHx43Cinxexd+F+58aB9SR5vaE1YMXK6jqxpz4AEHqHZt29bbpqR9ikkZRrsZOGCAbufymao8+cMI0QLRslTb2Fwv78pNfLdusuNJHYPv1TXbyB9D9OjevSB1N3WQT580JiwdsNWXcVlfwood5YSbLCWexBMGYAAGYAAGwmMAEzKipCPQhgctsSSWMAADMAADvjJgMwlmK3HnQ6xdNQiCyWR+jh/dVQzx8MkgsKk9YWmEy3VEY4qv/fqgQT5pTFg6YKsv47K+hBU7yuH5CAZgAAZgAAZgwFUGMCExIb35C25XGxH1QuBhAAZgAAYyZcBmEsxW4i7TcyvkdhgEGASFMBR8Mghsak9Ybd/lOqIxaAwaE01fz1ZfxmV9CUtDKScaRokzcYYBGIABGICB7BnAhMSExISEARiAARiAARiIiAGbSTBbiTsfOtgYBBgEGATpHwRtak9YGuFyHdEYNAaNSa8xYemArb6My/oSVuwoJxpGiTNxhgEYgAEYgIHsGcCEjCjpCJzZw0nMiBkMwAAMwECxMWAzCWYrcefDNcAgwCDAIEh/v7CpPWFphMt1RGPQGDQmvcaEpQO2+jIu60tYsaOcaBglzsQZBmAABmAABrJnABMSE5LRLzAAAzAAAzAAAxExYDMJZitx50MHG4MAgwCDIP2DoE3tCUsjXK4jGoPGoDHpNSYsHbDVl3FZX8KKHeVEwyhxJs4wAAMwAAMwkD0DmJARJR2BM3s4iRkxgwEYgAEYKDYGbCbBbCXufLgGGAQYBBgE6e8XNrUnLI1wuY5oDBqDxqTXmLB0wFZfxmV9CSt2lBMNo8SZOMMADMAADMBA9gxgQmJCMvoFBmAABmAABmAgIgZsJsFsJe586GBjEGAQYBCkfxC0qT1haYTLdURj0Bg0Jr3GhKUDtvoyLutLWLGjnGgYJc7EGQZgAAZgAAayZwATMqKkI3BmDycxI2YwAAMwAAPFxoDNJJitxJ0P1wCDAIMAgyD9/cKm9oSlES7XEY1BY9CY9BoTlg7Y6su4rC9hxY5yomGUOBNnGIABGIABGMieAUxITEhGv8AADMAADMAADETEgM0kmK3EnQ8dbAwCDAIMgvQPgja1JyyNcLmOaAwag8ak15iwdMBWX8ZlfQkrdpQTDaPEmTjDAAzAAAzAQPYMYEJGlHQEzuzhJGbEDAZgAAZgoNgYsJkEs5W48+EaYBBgEGAQpL9f2NSesDTC5TqGqTEtmjdXgwYNUp07d1aF4DbZMTvvvbeuU6uWLZ2pU7J6lto64S6s9uVLObb6Mi7riy/Xhnqmv88SH+IDAzAAAzAAA6kZwITEhCy5BxsEIbUgEBtiAwMwAAN2GbCZBLOVuPOBiTANglJLcudyvmJY7NixQy1YsKCkDQufDAKb2hOWRrhcxzA15rBDD1WyTJ482Zn2c8WkSbpOAwYMcKZOuWhTJvsc2revPtfx48Y5f64+aUxYOmCrL+OyvoQVO8qx24cnvsQXBmAABmAABnJnABMSExITEgZgAAZgAAZgICIGbCbBbCXufOhoh2kQZJLEjmKb6TfdpMSsSDzWqJEj1YUXXlhnfeJ2Yfy+T69eSurRskWLuOMdP3SoTuL//e9/j1sfxjF9KsMng8Cm9oSlES7XMUyNKXYTsm2bNlo3unXtWkcfLrroInXKiBF11tto90cecYS6/vrr6xxrwqWXav26884763xnox75lOmTxoSlA7b6Mi7rS1ixo5zcE6PEjtjBAAzAAAzAgF0GMCEjSjoCsl2QiS/xhQEYgAEY8IEBm0kwW4k7X+KaT6LXtX1lSkRZxo0dWydJft9996nnn3++znob53DWmWfqeuzdqVOd4/U/8kjVsUOHOutt1MPVMn0yCGxqT1ga4XIdpW5hcRgzIa+4IrQy863bJDMSsn//vOvUr18/rRvHHntsnbLefvttteaOO+qsz7f+yfa/cdo09euvvyY91jHHHKN8mHrWJ40JSwds9WVc1pewYkc5PAvBAAzAAAzAAAy4ygAmJCYko19gAAZgAAZgAAYiYsBmEsxW4s7VTmywXmEaBMmS2VGv69G9+04TMsl0gWJAvvDCC0kT62HX87IJE1KakGEfy8fyfDIIbGpPsC3m87PLdQxTY1w0IS+//HLd1geEYEIOO/54XdagJCbkN998o9asWROJfi1dulT99ttvkRzLln75pDH5tP3gvrb6Mi7rS/D8+ZnkMQzAAAzAAAzAQDEygAkZUdKxGOHhnBBFGIABGIABGMiOAZtJMFuJOx+ucZgGga1ksil3v333Vdu2bdNJ+t9//129+uqr6qADD4wlymW6wqeeekp///5776lnnnlG/+tz8MFqw4YN6pdfflE//fRTbP0Jw4fH9t2zXTt16y23qK+//lp999136qGHHlKd9tor9r3UYfmyZeraa69Vbdq0UevXr9fHkW1XrlypaqqrY9vesmKFeu/dd/X3Mu2q1GPB/Pn6exlBJL+LcWHOy3wOOe449dhjj+kRSK9t364uHj++zjZHDRyo95dyzj3nHF1fOZBsLyMsTVmuf/pkENjUnrA0wuU6hqkxxoScMGGCGjpkiProo490O5NRgieddFJS/seMGaPbxx9//KFee+21pFOayshlKUOWb7/9Vm3evFnV1tTUKU90YtnSpXob2faBBx5QN0ydqverz4Q8+qij1HPPPqu3/fnnn9Xjjz+uOrRvHzvG1KlT1fZXX9Xfv/HGG7qdb9q0SQ0eNEjdvWWLXv/VV1/p9aIhBx90UGzfnj16aI3b8eOP6osvvtD61KJ589j3ogf333+/Ovuss5RM9SrHluWLzz9XM2bMiG0n2rZ69Wq9Xr43GiqjPaWMA3r31utGnnJKbB+jNRJD+SMPMS/lPEePHp10G4mZ7HPN1VfrbUXL5Tjdu3Wrs70pO5dPnzQmLB2w1ZdxWV/Cih3lZNcnJ17ECwZgAAZgAAaiYwATEhOS0S8wAAMwAAMwAAMRMWAzCWYrcedDxzxMgyCXRHGm+5xwwgk6aS7J85tvvlnNnjVLycggMQxMsv2cs89W8q4yWR588EE1ffp0/U+S9fKzJP4/++yz2PpD+/bVSW9Jfn/+2Wfa0LjggguUmJliSHzyySdxSXEZSfnyyy/r7cSEnDtnjnrzzTf18W668cbYtvIuyBdffFGvX7RokT7e+eedp79v17atXi8jjYLnLuamLGKSyD4PP/SQ/v3ee++N206S/7KISfL++++rmTNnxgyKH374Ic4MDZbv2s8+GQQ2tScsjXC5jmFqjDEhn3jiCW2UzZk9W61ds0Yb99IugqaeML9x40bdXqSdSNuR6UxlGT5sWKxdiekmf5wg5YhO3HbbbXobaePBdiN/lPDxxx/r78SIFB0Ss1DMTVnS/RHAZZddprcRI1COMX/ePF3nf/zjH7FjTJw4Mdbu161dq7e7YtIkdczRR2u9kwJef/11vV7K6Nqli95X3t+4Y8cO9dJLL6nTTz9dSTlffvllnVHf33//vXr00Uf1H1nceuutai2R2koAACAASURBVOHChbHzEQNRzlW/k3L6dK0tcjw5jvw78cQT9ff9+/fX5yEjvYOxMXEVM1H0y+ifnGdwu2uuuUbvv2XzZvXKK6/osh95+GG9TmIZ3Dbfn33SmLB0wFZfxmV9CSt2lBNdIpVYE2sYgAEYgAEYyI4BTMiIko6AmR2YxIt4wQAMwAAMFCMDNpNgthJ3PlyHMA2CfJPG9e0v70sLbnPySSfp5PWESy+NrR8yZIheNy7JdKzJEvNS3tNPP63NzPZ77hkrR0YEychJGXFljikmpCwymsisk88PPvhAvfPOO3HrFi9apLdNfCdkMhPyiMMP19vKOyuD5U6+4gq9XowIs96YkDLCsnmzZrH1MmpSFmMWmO1d/fTJILCpPWFphMt1DFNjjAkpfyQgoxIN3+aPFC65+OLYOvmDAlnk02wnnzK6UAwws673/vurNq1bx36X9WICyhJsv1vvvluvCxqYsu2qVav0+nQjIUVbEkf6XTl5st7v+KFDY8e+9JJL9LrE6VilrcuSbDrWTz/9VImZGRyNfeABB+jtg3UVE/Lf//63GjhgQOx48gccsi7xjx1kJHiy6ViTmZDnnXuuPpaYjyamwbgE62BMyESDVwxRWfbp1SuujGB52f7sk8aEpQO2+jIu60tYsaMcnp1gAAZgAAZgAAZcZQATEhOS0S8wAAMwAAMwAAMRMWAzCWYrcedqJzZYrzANgmyTxPluf0ifPjpxLSOXTFnZmpD77befLsNMN2jKkc+//e1vevpXs06MPxkJZX43n2aKWPO7fGZjQsoILFl69exZp2wZoSkjHk3ZI0eO1NuOPu202Dr5TkZDySKjoMy2Ln/6ZBDY1J5gW8znZ5frGKbGGBNy8uTJcZyLWShLcOSdjFpONrpORv3JUl1VFVeGaS9i+JkpVmXKV1nfulUrvY+MJDTbmU/5IwFZBgTMPfNduk+ZrlSWq668MlZmtibkKSNG6DKCU0ubY8pUtXPmzImVLSakaJr53nzKaO7giExZn40JKX+cIaPMzYh0U678IYcsUpZZd+2fIyEPPvjg2Dr5TkaKyyLvxDTb5vvpk8bk0/aD+9rqy7isL8Hz52eSxzAAAzAAAzAAA8XIACZkREnHYoSHc0IUYQAGYAAGYCA7BmwmwWwl7ny4xmEaBPkmjevbX0YTickg5kJw2bZ1ayxxna0JKdMXyiLToJr3n5lPme5V3jtp6pXKhDRTwJY3bRrbNhsTUo4t08qa4wQ/ZYSSLM1qa/X3qUxIeTemLNdNmZK0nGCZLvzsk0FgU3vC0giX6ximxqQyIeUdqbKsWLEixr+M8JP3I5r2bD7FmJRF3m9o2oKMYpQRkjKqObiYaUrle1muu+662D5m30xNSBkJKdO4ypSqwWXWrFmxMrM1IeU9krKIEWjOz3zKFLMyHa2pZyoT8uWXXlIffvhhbDvZPhsTUkZMyrsgzXGCn2+99ZaeAtusS2VCnjpqlD6PUaNGJS3H7J/Np08aE5YO2OrLuKwvYcWOcrLrkxMv4gUDMAADMAAD0TGACYkJyegXGIABGIABGICBiBiwmQSzlbjzoWMepkGQTYI42237HnKIfgfk+++9p2T6VRkFKVMo/uc//4kbrZitCTlmzBid/L5z3brY+8/Me9Dkc9zYsbGkuC0T8t13361jApj4mHetmXfdYUJG97Bn2q9N7THHyPfT5TqGqTHZmJDSsMVwDLbn4M9mOldjIsr7GmW643332UeZdmamXh48aJDWieDUyKaNmv3TjYSUkYpi1sk0sBecf76S6VL3339/XWZwtGK2JqS8E1MW8+7Z4PnJz2LumXraMiHl+I8+8kjsOOZ48inm6I8//hj7DhPSrn7Z6su4rC/5aif722WS+BJfGIABGIABGMifAUzIiJKOwJo/rMSQGMIADMAADPjOgM0kmK3EnQ8xD9MgCCafw/75xRdfVF98/rmeFjFYdr4mpJgDsoy96KJYojxYfvBnWybkU089pesQPJb5+dlnnon7zpgjidOxMhLSnsbb1J6wNMLlOoapMdmYkPIO2Oeeey5tuzbTuAZHDErbM+3MmJDyrkJZEt97KNtmYkJ+9913caOqZb8ePXroMvMxIS+//HJdxjHHHJP2POV4tkzIzxKmjJZjmX9ff/21+uc//xn7HRPSnk6Jltjqy7isL2FpKOXYZZP4El8YgAEYgAEYyJ0BTEhMSEa/wAAMwAAMwAAMRMSAzSSYrcSdDx3tMA0Ck3i28SnTlcpIpWDZ5n2OwelY+/Xrp5PywfesmX3efvvtOu8+q6muVr/9+qteX1FeHle+2c98ZmNC3nTj/2fvTrwkqcpEgf8DT4Heq6q7oaFp9p0GZF9dQBRUQBRQRFlkX0VBlH2n2ZeGBtlBFhFw351xdPbNUcdxnPdGnVFnHMdlfHPeO+fFO1+0kWRlZlVlVkVkxvLLc7qzKjIy4sa9v/tFxP0qIq5PyxFXO2Xfj/ctt9ginb527drW9Ms+/OF02pUdt1LNbgHZvn1ZckQScvYncYP2yyJjz6BlmWr+MpcxzxgzSBLy8ccfT6+Uft1rX9vqa+19MX5+0+GHp33v7LPPnjRP9kzI7HasMW9cyRjPaO1cRjyTNl7RXzs/i9+z50nefffdkz4//rjj0u/d2nY71kh6xis+61xWTH/xk5+cNH31rrum83/605+eNL3zu/H7IEnISMrGq3M5h/7+trQXf+ADrc+y7W+/6jK+d+aZZ6bLaL/drCRksXGrqGOZMseXqWKi6cVaU7/qlwEGGGCAgeEZkIQc0qAj1MNDra7VNQMMMMBAWQ0UOQhW1MBdWeuyvVx5Jgg6B6zz/D0SgPGKQfq4NemHL700+c1vfpP89re/TdqTdJuuWJFOj9se7rZ6ddJ+hdBTTz6ZLuO4d74zvRXi9tttlw6kf+hDH0qnx1WHhxxySDotkofrHnggTRpm2zFIEjK7wvLBdeuSXXbeOb19bCynVxIynvcYt5mN1+233ZbE1VlxG9jYtv/+7/9Oy5qVQRJy+DG6yNjT3hfn8nOZy5hnjBkkCbnTTjsl8VzEuB3oySefnMRzIyM+XHzxxclJJ52U9vPsSsi4bevrX/e69DmRzzzzTPKfv/xl2h/je1nfi+dBxis+P/LII5P4Q4CIPf/5n/+ZTp8qCRnfjzLEH1Ice+yxyc477ZREYi77XnsSMm4FG6/PfvazadxoX2bEn7ii8o2HHZbE7akjuRnLjhgTr3imZfacy/hePH8yK3u8D5KEzGLi5R/9aBpHo1yxjF5JyB133LG1LVdccUWy4w47JNmzKuOZnHHb7KwckpDFxq+ijmXKHF/mEjd9t1iP6lf9MsAAAwwwkI8BSUhJSFe/MMAAAwwwwMCQDBQ5CFbUwF0VDrrzTBBkA81FvB+w//6tRF0MuEfCMAbi41amL730UmuQO9Ydz1xrf+2/337p5zH4/6Mf/aj10V133dX63kc/8pHkd7/7Xeuz+CGuvIwEYrY9gyQh4zuRFMheP/3pT9Pl9EpCxryRDPnTP/3TbPb0PW4/GwmHbP3xLgmZz4ncIH2zyNgzSDmmm7fMZcwzxgyShIz+EjEiS/BnnStiwAnHH9/qVxecf376hwvxecSARx55JNl1l13S2bPbsWZ9MBJ77a8nn3givQIypk33TMij3va2JG4Pm73iysVIkv7kJz9J2m/HGuuJZzm2vyJxGtPjis5Iqmav8887r7UNcZVl5+vRRx9NVq1a1ZpnkCRk/GFEezz6+te/ni6nVxIyyha3g/6H739/UhG+853vJHEb26zu4l0Sstj4VdSxTJnjy3Rx0WfFelO/6pcBBhhggIHhGJCEHNKgI9DDAa2e1TMDDDDAQJkNFDkIVtTAXZnrMytbngmC9sHmon7ed599ki3aBtanWk9cJZRdFdQ5TyQl4zasndNjuXGFU/zbu+M2qp3z9vt7JD7jSqF+548rMWP97Vdw9vvdKs0X7jKDZX8vMvbkte1lLmMZYkwk86NfdSb12/tMdhV0+7ReP+++225p/4xEXa/Pp5sWSdG4InO6eeKzuNq7M4EX0yNuxTJ6fT+uQMziVyQ4e80z6LS4AnKrLbfse1mHv/GNaRnar+AcdJ15zV+lGJNXHCjqWKbM8SWvurMc50AMMMAAAwwwUFYDkpCSkJUZPClrJ1IuAZ4BBhhgoF8DRQ6CFTVw1++2jXK+MiQI8hp0tpxFfScLRl1XVUoQFBl78ur7ZS6jGFOdfjnquJDn+qsUY/KKA0Udy5Q5vuRVd5bjfIQBBhhggAEGympAElISUhKSAQYYYIABBoZkoMhBsKIG7sp6ENtermXLllcmcZXnALVljTYxEu7aHZb55yJjT17bXeYyijGj7WtNjXVVijF5xYGijmXKHF/yqjvLMfDMAAMMMMAAA2U1IAk5pEHHsgJQLsGJAQYYYICB4RkochCsqIG7KvgYn1iajC1ZIhG5SKJgWMmK8DY+vlQSMsdzqSLj41zjmBgjtgwrtmTrqVqMmWsfy75f1LFMmeNLtu3eh3c8rq7VNQMMMMAAA8M1IAmZ44kzvMPFq77VNwMMMMBA1QwUOQhW1MBdFep40eKJZHx8XBJSEnJoBsJbuKtC/4gyFhl78qqDMpdRjJGEzJKDw3qvWozJKw4UdSxT5viSV91ZjvMiBhhggAEGGCirAUlIScjKDJ6UtRMplwDPAAMMMNCvgSIHwYoauOt320Y537wF48nExMTQElDDGoS2nvImPiYmlibhbpTuB1l3kbFnkHJMN2+ZyyjGlLcv1jVOVi3GTNe3B/msqGOZMseXQerHvM45GGCAAQYYYKCKBiQhJSErM3hSxQ6mzHYMDDDAAAPtBoocBCtq4K69/GX9+dUbjqW3xqzrYLTtKl8CJG7F+qoKnUcUGXvyigtlLqMYU74+WPe4WLUYk1ccKOpYpszxJa+6sxznHAwwwAADDDBQVgOSkBUaPCgrIuUS4BhggAEGGOjPQJGDYEUN3FWlbRcsHE8mxl0NWfeB+TJsXzibv7A6V0FGHy4y9uQVI8peRjFGInJY8aeKMSavOFDUsUzZ40te9Wc5/R2Pqyf1xAADDDDAwHANSEJKQroSkgEGGGCAAQaGZKDIQbCiBu6qdHA+MbEsGVuyxG1ZPRuyMAPhK26TWKV+EWUtMvbkVRdVKKMYIxFZdCKyqjEmrzhQ1LFMFeJLXnVoOcMdVFXf6psBBhhggIGZDUhCDmnQEcaZMaojdcQAAwwwUHcDRQ6CFTVwV6U2edWGY8ny5csLS0AVPfhs+eVPcISvKvWJrKxFxp5sHXN9r0IZxZjy99Gqx9Gqxpi59v/s+0Udy1QhvmR14N35EAMMMMAAAwzUzYAkpCRkJQdS6tYRbY+dCwMMMNAMA0UOghU1cFc9m0vSRKQrIiUL8kxGhKf1yYEllTx2LjL25BUjqlDG9dsqxuTZtyxrfayueozJKw4UdSxTnfjSjOPhvLxYDi8MMMAAAwxUw4AkpCRkJQdSBJhqBBjtpJ0YYICByQaKHAQrauCuim34qg3G0ltmTkx4RqQB/rknY8NRFW/B2t53i4w97euZy89VKGO2fWLM3PuV2PRKHdYhxmR9Y67vRR3LVCm+zLUOfX/ysbf6UB8MMMAAAwyM3oAkpCSkJCQDDDDAAAMMDMlAkYNgRQ3cVfmAfeGi8TR5tHTp0mR8fNzzIj0rsq9b9cYVSeEl3ETyccGi8crHyCJjT14xogpl7NxWMeaVRJqkYv91UccY09k3Zvt7UccyVYwvs61D3xv9QKs20AYMMMAAAwxMNiAJOaRBR/Amw1Mf6oMBBhhgoIkGihwEK2rgrurt9OoNxpJ5C8aTxUvWX822bNnyZKp2MH3jxtdN+IjEY3gJN3HFW9X7QJR/Kttl2rYqlLFXfYkx4sZUdntNr2uM6dU3ZjOtqGOZXm0R02ZTRt+px35RO2pHBhhggAEGhmdAErImAws6zfA6jbpW1wwwwAADszVQ5CBYUQN3s91W39NPGCiPgSJjT17tXIUy5rWtllOevqEtytUWRR3LiC/lamf9TnswwAADDDDQLAOSkJKQ/vqPAQYYYIABBoZkoMhBsKIG7pp+cjCxfIvkvrX3J/fed38yvnTzWvWVpRtvmaxd+0ByX2zbslW12rY6t9ts+mSRsWc25en1nSqUsVe55zqtzlbbY0z8PNe6KtP329stfi5T2apclqKOZZoaX6psQdmbNTitvbU3AwwwUG8DkpBDGnTUkerdkbSv9mWAAQYY6MdAkYNgRQ3c9bNddZ0nko73P7Auyeq2TonIsaWbJw888GBr2yLRGtPq0JZ1brfZtk+RsWe2Zer8XhXK2Fnmuf5eZ6udMSbiTV1jTOwn6vZHKnO1PdvvZ/vb2X5/qu81Mb5MVRemO2dhgAEGGGCAgWEbkISUhKzFYNOwO471CdYMMMAAA7MxUOQgWFEDd7PZzjp8JwaU7713bStJl9XvPffcl4xNVDtZF1c99ty2e++rfJKgzu02l35VZOyZS7nav1uFMraXd64/19lqJBvrGmMi/vfcthrsG+ZqOo/vZ/vaPJbVvoymxZf2bfezcxYGGGCAAQYYGLUBSUhJSElIBhhggAEGGBiSgSIHwYoauBv1weoo1r9kfGVy9933diUgszqOzxaNbVrJfrNkYmVy1933pNvWfiVk9vOdd92TLBrbrJrbVuN2m2s/KDL2zLVs2ferUMasrHN9b3qMiTg01zocxff7abeYZxRlq8s6s/1s3tvTpPiSd91ZnoFrBhhggAEGGJirAUnIIQ06zrWhfF9nZ4ABBhhgoPoGihwEK2rgrmnuIrmYJSDjFqVx1WBWt/FzTIvfb7/9zsolIhcueWXb4lmQE23bFj/HtNi2O+64K4l5q9T2dW63PNqhyNiTR/liGVUoYx7bWmer/caYiLF1jTFV/iOVPHzPdRnZ/nauy+n8flPiS+d2+7365w7aUBsywAADDNTBgCSkJGSlBpjq0Olsg50HAwww0FwDRQ6CFTVw1ySvkRyI5GLUZfttV9vrNm7FF5/FtJh3weJNKnEsFQP+kVxMty1uu/r7W8p2bdu967ct5p2/qBrbVud2y6v/FRl7mlTGuW5rna1GvKhrjIk4X9d9w1xN5/399n1SnsuuQgzMc3stq7nnGtpe2zPAAAMMlNGAJKQkZCUGzsrYeZRJUGeAAQYYGNRAkYNgRQ3cDbqNVZ1/w/nLkltvu6N1JeDi8VduSdpZt+235LtlzW1JfLfs231btm133p1Mu20TK5O771l/K9o1a24r/XbVvd3yclVk7GlSGeeyrXW3euutt6+PnwPEmPjOXOp0GN+NdluTbdsdd00fP9tuCR3fqcK+YRh1OMg6Ove3g3x3unmrEAOnK7/PnHMwwAADDDDAQJUNSEJKQpb+xK/KHUzZ7SAYYIABBtoNFDkIVtTAXXv56/zz6t33TQfQIxG5cMmKScdHveo25rnt91dN7rJ6n0nzl62eVu++X9u2Tb7Nau9t27RC21bfdsvTUZGxJ69yVqGMc9nWucSYnXfdu7YxZufVZd+22ceYsrfbXDwX9d1e+6Q81lX3+JJHHVmGcxYGGGCAAQYYKMqAJKQkZKlPaIuCb7mCKgMMMMDAKAwUOQhW1MDdKOppVOuMAeONFizvOjaaqm7nL9o4KXsCMqvLGOift3CQbdsk2WW3cidXW9tW43bLtnGu70XGnrmWLft+FcqYlXW277OJMVVJZM0mxpQ9AZm1c53bLdvGsrxPtb+da/maEF/mWke+79yIAQYYYIABBooyIAkpCdk10FYUNssVyBhggAEGmm6gyEGwogbumt5msf3PPvtceiVhJB3rVh91dRPPcItti7arW5vNZnuKjD2zKU+v71ShjL3Kncc0MaZ6x0diTDFtVtQ+qcnxJY8YZRnFeFev6pUBBhhgoCkGJCElIQ3MMMAAAwwwwMCQDBQ5CFbUwF1TDoqn28516x5KE1qbbr5d7fpKXd2sXLVD2mYPrHuwdm02ndWpPisy9ky1zkGnV6GMg25Tv/OLMdUbgBJjimmzovZJTY4v/cYh8xVjWr2qVwYYYIABBsYSScghDTrCJuAwwAADDDDAQJGDYEUN3HE7ltyy5rY0obXTLnvVLqFVVze77rb+OW433bymdm02mz5ZZOyZTXl6facKZexV7jymiTHVOz4QY4pps6L2SU2OL3nEKMsoxrt6Va8MMMAAA00xIAkpCWlghgEGGGCAAQaGZKDIQbCiBu6aclA83Xaedc4FaRLyrUe9s3Z9pa5ujn778WmbnXnWebVrs+msTvVZkbFnqnUOOr0KZRx0m/qdX4yp3gCUGFNMmxW1T2pyfOk3DpmvGNPqVb0ywAADDDDgSkiDEkMadNXZBFwGGGCAAQbGkiIHwYoauNNuY8n+B74hTWjdcMPNtTt2rKubG2+6JW2zvfc9pHZtNps+WWTsmU15en2nCmXsVe48pu27/+vEmIqdl4oxxRzXFrVPanJ8ySNGWUYx3tWremWAAQYYaIoBV0JW7GSnKTBtpyDMAAMMMFBHA0UOghU1cFfHdhh0m+Yv2jh58cUX039bbL1zrZJadXSzasud0oTOCy+8kGwwb2mt2mtQu9n8RcaebB1zfa9CGee6jVN9P2LMJz7xCTGmIufmYkxxx6hF7ZOaHF+mijumF+dY3apbBhhggAEGJhuQhKzIiQ64k+GqD/XBAAMMMFBFA0UOghU1cFfFei6izOdfcHGa2Lrk0o/WKqlVRzeXfeSKtK3iFpdFWKjiMouMPXnVRxXKmNe29lrOueddJMZU5NxcjCnuGLSofVLT40uvmGNacY7VrbplgAEGGGBgsgFJyIqc6IA7Ga76UB8MMMAAA1U0UOQgWFEDd1Ws5yLKvHzFVklcWffSSy8ldboasm5utt5udZrIef75TyQTy1ZJQv7+XKfI2JNXf6tCGfPa1l7LmVi+hRhTgXNzMabY48+i9klNjy+9Yo5pxVpWv+qXAQYYYICBVwxIQlbgRAfYV8CqC3XBAAMMMFBlA0UOghU1cFfl+s677Keedlaa4LrzrruTjRYsr0WCq05uok3uvXdt2kYnn3JGLdonL8NFxp4mlTGvbZ1qOWJMuY9x4ra59913vxhT4BhKUfukKsTAqeKC6eWOC9pH+zDAAAMMMDCzAUnIAg+gAZwZoDpSRwwwwAADTTJQ5CBYUQN3TWqfmbY1BqDvuvvedAD6o5dfVYskV53cRJvE9txxx121SRLPZLLfz4uMPf2WYab5qlDGmbZhrp+LMeU+Jrrm2hvEmILHT4raJ4kv5e5bc42dvq99GWCAAQYYKLcBSciCD6J1gHJ3AO2jfRhggAEGhmmgyEGwogbuhlk/VVhX3DLx4YcfbSUi5y3cuNLJyDq4iSsgr7jy6rRNHvrYw8nYxOaVbpMi+kGRsSev8lahjHlt63TLEWPKd1wixgyvTYraJ4kvw2vD6eKbz7QDAwwwwAADzTQgCSkJaZCGAQYYYIABBoZkoMhBsKIG7pwkdJ8krNxih2TdugfTpNfd99ybxO9Vraequ9l8yx2Te+69L22LBx54sNJtUaShImNPXuWuQhnz2taZltMeY8K3GNMdh2eqw7w+j7pvjzGbbr59ZeN9XnVS5HKK2ieJL6PrQ0V6sWztygADDDDAQDUMSEIOadBRh6hGh9BO2okBBhhgoEgDRQ6CFTVwV2R9VHnZi8c2S26+5dY0+fXCCy8kZ59zQRJXMFVtm6rqZtkmWyXnnndR8slPfjJtgxtuvDmJNqla/Q+rvEXGnry2oQplzGtb+1lOeA7X0UfDuRgz3OOTXjFm4ZIVYkzB4ydF7ZPEl+H2n35inHm0CQMMMMAAA80xIAlZ8EG0ztSczqSttTUDDDDAwEwGli1bnvQaCPsfGyyZ88BmUQN3M21T0z8/8q3HJk8++VSaKIg2uO76G5Nj3/HuZOfVeyebrSr/FZJVcLNg8Yq0LqNOo26vv+GmVn0/8cSTyZuOOHrO/afejpf0jDsRj8q03UXGxzJt56BlCd/hPOurYkz+xxqTYsw7xZhBjeY5f+Y8z2XGMVavY6+yxcB8tzn/fqJ86pQBBhhggAEGZmtAElISslSDD7OF7HuCIAMMMMBAFQxMLF3WcyDs1RvNvf2effa5dJB6/qJqP6OwCu3YWcZFY5smp59xbvLcc+vbIBtE9f5yK3GSd10888wzyanvPytZuGRTx7IznM+8esOxnnEn4lGn5VH+XmR8HOV25bHuRWObpd7FmOJiSmeMEmPmflwyqP0FizdJ9xlxPDPod6ebvyoxcLpt8NnwPapzdc4AAwwwwEB+BiQhZzhphy0/bOpSXTLAAAMMNN3A+ETvJOSG88bnPOC27sGH0sG7TTffbs7Lano7zWX79zvg9cmHLrksufOue5KHH3k0ef75TxSWiOscNK/r7889/3zysYcfSe648+7kgx+6LIk6nksbNe27EV96XQU0Nr60VPVYZHysU5uLMfknIsWYchyfrly1Q7q/fGDdg7nGpqrEwDrFKdtSjj6lHbQDAwwwwEBZDEhCSkLmeoBfFtjKIcgywAADDJTRwJKxpT2TARvNn3sSMns+4c677m3f7viubwNZ4rKM/UWZ8onj8xb0TkIuGSvXlZBFxkeW8rE0m3oUY0ZX97Npr1F+Z5fV+6RJyJtuXtP3Pqyf8lYlBvazLebRnxhggAEGGGCgigYkIQ1S5XqAX8VOoMyCNwMMMMDAsAwsWtI7CTl/wdyTkJd95Ip08O6Agw61b3d817cBCYL6x7+IL72uhFy8pFxXQhYZH4cV462nuz+JMd11wknvOjn4tW9Mj2Mu/fDlfe/D+qnLqsTAfrbFPL3tqBf1wgADDDDAQLkNSEIapMr1AF+HL3eH1z7ahwEGGBitgQWLJnomAxYumpjz/vjdJ56cDt69572n3S903gAAIABJREFUzXlZnIzWyTDrX4Kg/m1dZNzJ02pVypnnNjdhWWJM/WNMXo7fd8rp6XHM8SeclOtxjNjCYF5GLYclBhhggAEGZmdAElISMtcDfB1xdh1Rvak3BhhgoBkGivxr/O133CMdvLvnnvvs2x3f9W1AgqD+sWfKKwwXzv2PH/LcdxUZH/Msp2UN1mfEmMHqq8m+7lt7f3ocs+0Ou/e9D+unvqoSA/vZFvPoTwwwwAADDDBQRQOSkAapcj3Ar2InUGbBmwEGGGBgWAamei7R+EQ+z2Z74okn0wG8FSu3tX93jNeXAQmC+se/iC+9bseax7No84ydRcfHPMtqWf33GzGm/7pqsqsVm22bHr888eSTfe27BqmrqsTAQbbJvPoVAwwwwAADDFTJgCSkAarcD/Kr1AGUVcBmgAEGGBimgVdtONYzGbB8+fIkPptrWS686EPpIN6pp50152XNtSy+P/f2HEYdShBUo51ma2GqmBNJyTxizmzL1et7U5U1r/jYa52mFe9fjCm+juvg+PQzzkmPX86/4OJcj1+miitljIF1aEfboL8zwAADDDDAQC8DkpCSkLke5PdCZprgwwADDDDAwCsGJqa4Kml+DrdGzG7J+sILLyQTy7ewj3ecN6MBCYJX+mYd49RUtziNOFTG7S0yPpZxe5tQJjGm3jEmD8PLV2yVxHFLWNlym11yjU1Vi4F51Kdl6HMMMMAAAwwwUDYDkpAGp3I9yC8bcOURdBlggAEGymZg4eKJnldDLhlbmss++cOXXZEO5J1z3kW5LK9s9ac8+fZpCYJ867NsPsfGe9+KdcGicj0PMqu3ouNjth7vw3MvxgyvrqvqOq5+DCeXXPqR3I9bqhYDq9qGyq2fM8AAAwwwwMB0BiQhJSFzP9CfDpzPBCQGGGCAgaYb2HDeeM8kZNxyMI+62XzLHZMXX3wx/bfpyu1yWWYe5bKMcvZ9CYJytkte/SXiSq/nQW6wUTm3u+j4mFe9Wk7/fsSY/uuqia7iGdbZMUs8FzLvOqhaDMx7+y1P/2OAAQYYYICBMhiQhJSEzP1AvwywlUGAZYABBhgos4Fly3onBjaaP57Lfvmccy9Mryq47fY7k40W5JPcLHN9Ktvs+7sEwezrruzuIp70SkBG/Clz2YuOj2Xe9jqWTYypb4yZq9c4PrnjjrvS45Wzzrkg97hU1Rg413r1fX2OAQYYYIABBspmQBJSEjL3g/2yIVcegZcBBhhgoGwGFi9Z2jM5MJ7Tc9oWLN4kueee+9KBvSuuvNq+3vHelAYkCOobHyOe9EpCRvwpW0xsL0/R8bF9XX4u3r8YU3wdV9HxqzYcT6686tr0OCWOV+K4Je/tqGoMzLseLE8fZIABBhhggIFRG5CENCiV+8H+qFFbv8DKAAMMMFB2A/MW9L5CKRIGG87Lp/0mlm+RPPSxh9MBvrMLuMKg7HWsfP05kiDor56q5mmqK4AixuR1xXVRdTKM+FhU2S23uz+JMd11wslYkj0H8sEHH0rieCXvOqlyDMy7LixPH2SAAQYYYICBURuQhJSEzP2Af9SorV9gZYABBhiogoGlU9ySdWLpstz2zSu32CF54okn00TkVVdflyxcsmluy65CHSvjzLFAgmDmOqqio6VLe9/yOeJOFbZnGPGxCvVQhzKKMfWMMbO1Gcch11x7Q3pc8vjjTyRxnDLbZU33varHwOm2zWf6FAMMMMAAAwxUzYAkpCRkIQf9VesIyit4M8AAAwwM28B0V/vMWzCR2/554xVbJ/etvT8d8Iv3FZttm9uyh11n1pd/P5UgyL9OR+10+tiSz3Nni97G6bchv/hY9HZY/li674k4oy7qF2sGbdPNVm2fPPDAg6mJuAVrHJ8Muox+5p8+flQjBvaznebRpxhggAEGGGCgKgYkISUhCznwr0oHUE7BmgEGGGBglAaG9Zf68xdt0nr20rPPPpsc/673JvMWVuOKqFG2TxPWLQlZvxg41VWEEW+qZHpY8bFKdVLFsoox9Ysxgzqcv3Dj5F0nnpw899xzaQIyngU5b+HGhcWjusTAQevZ/PoaAwwwwAADDJTVgCSkJGRhB/9lRa9cAjIDDDDAQFkMTPfX+vMX5n+1z+sPPaL1nMiHH3k0OfSwtySRoCxLfSjH8PumBMHw67xI5wsWTSTx3Mde/8r+LMjOehl2fOxcv9/z6RtiTD71WEWPcXwRxxmPPPpYmnyM51Qf8ro3FXrMUacYWMU2V+bm9ndtr+0ZYIABBqYzIAkpCVnoScB0+HwmODHAAAMMMDCWjE8s65kwWL58ebLBRsUYOfYd706efvrjrdvkXXvdjUlM22X1PsmWW++SLNt4S8cHDTlGlCAopo+NIrZtsNF4EnGjVwJyYiK/Z80Oc9tGER+HuX1NWJcYU58YM5XXuNIxjhvi+CGOI+J4Io4rsraP442jjj6u8OOKOsbAqerc9Pr3K22sjRlggAEG6mRAErIhA0x1QmtbBGEGGGCAgToZ2HD+eM+kQSQS4pZir9qwmPZeMrEyOebtJyQ33bymNVCYDRh6f7lxdVKnPtXEbYk4sWxZ7wRkxJIN51XzOWijio9NNFTUNtufNG9/krX5jTfdkhx1zHHJ4vHNCk9A1jUGFtUvLbeYY2v1ql4ZYIABBhjobUASUhKy8BMCna9351Mv6oUBBhhgIDMw1dU+kTwYxhVMY0s3T454y9uTs8+5ILnyymuSe+69L3nmmWcal4jLBk6b+J5Z9F7NuDSxtPcV1RFDxsareRVkZnHU8TErh/fZ9Y0mxtOmbXMcL8RxQxw/nHX2+cmbjzwmieOKYfaZOsfAYdajdc0uzqk39cYAAwwwwMD0BiQhJSGHenKgQ07fIdWP+mGAAQaaaeDVG01/FdOSsWonEbgur+tssFwblbeNZmqbSDJGsrHXv7g68tUFXU09U7ny+lx8rK7NMCDGVLv98urHRS6n7jGwyLqzbP2TAQYYYIABBoZhQBJSElISkgEGGGCAAQZKYCBulzjV89wiubBw8VLtVIJ2GsYB+jDXIUFQ7ZPORYuX9kw+RsyIeFLV27B29gHxsbpOxZjqtl1nPyzj702JgWWse2XStxlggAEGGGCgXwOSkAazDGgywAADDDDAQEkMzF84MWVCIZIKi5ZIRPZ7kGu+/k6IJAj6q6cyeop40Ovqx2zavAUTtYrt4mM1rYox1Wy3Msa8zjI1LQZ2br/f9S0GGGCAAQYYqIoBSciSDDpWBYxyCm4MMMAAAwwUa2DR4ukTkVV/vhs/xfoZtH4lCMrVHv2036s2GEuf85glG3u9x9VB/SyravOIj9XzKsZUr83KHheaHAPL3jbKp78zwAADDDDAQC8DkpCSkLUcoOiF3TRBkAEGGGCgKgbGp3nGWyQcli5dnsRz0qqyPcpZ3raSIChv2/TqN9Hvo//3Sjxm0+r+hwriY7XMijHVaq9ecadM08RAnsrkUVl4ZIABBhhgoD8DkpCSkAYwGWCAAQYYYKBkBuKv/GdKNCxbVp/nvTlw7+/AvYh6kiAYXd0P2p7xXMTo91mysdd7xI1Bl1u1+cXH6pgNW2JMtdqrzPFADGSpzD6VjU8GGGCAAQamNiAJWbJBR1inxqpu1A0DDDDAQJMMvHqj8RkTkZGEWLxkafKqDdloko08t1WCoPx9J/p39PNeScf2aekV0g2JBeJj+d1mcUqMqU5bZW1WtncxkKGymVQeJhlggAEGGBjMgCSkJGTt/1paUBgsKKgv9cUAAwyUx0A/zz2KJMTy5cuTBYsmkv+xwRL7dcd2AxmQIChPf++MvTHwHv06+nd7srHXz3EL1ogXncuo8+/iYzXaW4ypRjuVMVaIgeyU0aUycckAAwwwwMDgBiQhG3ayrpMM3knUmTpjgAEGGBi1gUV9XAUViYm4VeO8BZGM1GbqoD8DEgT91dOwPc1bMJ4sneHWq1kyMuLDsMtXpvWJj+U0nBkRY8rdPlk7le1dDOSmbCaVh0kGGGCAAQZmb0AS0iBdowctBI/ZBw91p+4YYICB4RqYv7C/K6KyZGQMzMfzk7TTcNupavUtQVAeH9Ffo9/2m3yMKyQjLlTNXBHlFR/L47izfcWY8rZNZ1uN+ncxkJVRG7R+BhlggAEGGCjGgCSkJKSBCwYYYIABBhioiIEYoIurHbMroPp5j/njeXLrr5B0u1YnFZNPKiQIJtfHcH0sSTZaMJEsGVs2q37tjwwmt534OLk+hmt56nWLMVPXTVnaaHTlEANHV/dcqnsGGGCAAQYYGJ4BSciKDDrqFMPrFOpaXTPAAAMMlNlAPCMpkor9JCA754krp+LZcZH0WLh4aXoV1Ubzx5MNNnLFZJnbvMiySRAUH++if0U/i6v1ot9F/4t+uKyPZz129uH4Pfp/xIEiXVR12eJj+VyIMeVrk2H3bzGQgWGbsz7mGGCAAQYYKJcBSUhJSAMYDDDAAAMMMFBBAxvMG08TGb2SFKZtPKskbRPrLUsQNHHbq7bNkbh89UblOpks68m9+FieGCjGlKctqhbzOssrBor/Zd3nKBebDDDAAAMMTG9AErKCg45QT49a/agfBhhggIEmGYhbEE4sHewWrZ0De35v7iCxBEH52z76t1uvzm6/Jj6O3rcYM/o2qPo+XgycXfxr0rGwbWWEAQYYYICBchuQhJSEdPULAwwwwAADDNTAQNzqcdDnRVZ9YFL55z64LUEw9zosyuHSpcvSW7g6oZ77CbX4ODrnYszo6r6o2DSs5YqBc4999h/qkAEGGGCAAQbKYEASsgaDjmWApAwCGgMMMMAAA+UwEM+eW7R4abJ0masjhzVQWuX1SBCUK0EQf0gQ/Tf6sZiaf0wVH4fvXYwZfp1XeZ8kBuYf9+xL1CkDDDDAAAMMjNqAJKQkpAEOBhhggAEGGKipgQ02Gk8WLJpIJiaWJcuXS0pWeWC2qLJLEIw2QRD9cmJiedpPo7+O+uSwSesXH4djX4wZTj0XtY8oerlioEHRJu13bCvvDDDAAANNNSAJWdNBx6aCtt2COQMMMMAAA1MZWJK8eqOxZKP5E8n8BRPJwsVLk8VLliZj48uSiaWSlEUPtJZ1+RIExSYI0gH2pcvSfhb9Lfpd9L94VmH0x/+xwRKJx1Kcj4mPRcUoMabYGFNUu+W1XDFwqmMy0x2vM8AAAwwwwEBzDEhCluKktzngBBdtzQADDDDAAAMMlMdAliDQJuVpE22hLepkQIzhuU6ebQvPDDDAAAMMMMDA4AYkISUh/fU1AwwwwAADDDDAQEMNSBAMfgLlpFOdMdC/ATGm/7riSl0xwAADDDDAAAMM1NGAJGRDB5zqiNk2CdIMMMAAAwwwwMBgBiQIBqsvvtQXA4MZEGMGqy++1BcDDDDAAAMMMMBA3QxIQkpCuvKBAQYYYIABBhhgoKEGJAic4NbtBNf2lMu0GFOu9tA/tAcDDDDAAAMMMMDAsA1IQjZ0wGnY0KxPcGOAAQYYYIABBspnQIKgfG2in2iTOhkQY3iuk2fbwjMDDDDAAAMMMDC4AUlISUhXPjDAAAMMMMAAAww01IAEweAnUE461RkD/RsQY/qvK67UFQMMMMAAAwwwwEAdDUhCNnTAqY6YbZMgzQADDDDAAAMMDGZAgmCw+uJLfTEwmAExZrD64kt9McAAAwwwwAADDNTNgCSkJKQrHxhggAEGGGCAAQYaakCCwAlu3U5wbU+5TIsx5WoP/UN7MMAAAwwwwAADDAzbgCRkQwechg3N+gQ3BhhggAEGGGCgfAYkCMrXJvqJNqmTATGG5zp5ti08M8AAAwwwwAADgxuQhJSEdOUDAwwwwAADDDDAQEMNSBAMfgLlpFOdMdC/ATGm/7riSl0xwAADDDDAAAMM1NGAJGRDB5zqiNk2CdIMMMAAAwwwwMBgBiQIBqsvvtQXA4MZEGMGqy++1BcDDDDAAAMMMMBA3QxIQkpCuvKBAQYYYIABBhhgoKEGJAic4NbtBNf2lMu0GFOu9tA/tAcDDDDAAAMMMMDAsA1IQjZ0wGnY0KxPcGOAAQYYYIABBspnQIKgfG2in2iTOhkQY3iuk2fbwjMDDDDAAAMMMDC4AUlISUhXPjDAAAMMMMAAAww01IAEweAnUE461RkD/RsQY/qvK67UFQMMMMAAAwwwwEAdDUhCNnTAqY6YbZMgzQADDDDAAAMMDGZAgmCw+uJLfTEwmAExZrD64kt9McAAAwwwwAADDNTNgCSkJKQrHxhggAEGGGCAAQYaakCCwAlu3U5wbU+5TIsx5WoP/UN7MMAAAwwwwAADDAzbgCRkQwechg3N+gQ3BhhggAEGGGCgfAYkCMrXJvqJNqmTATGG5zp5ti08M8AAAwwwwAADgxuQhJSEdOUDAwwwwAADDDDAQEMNSBAMfgLlpFOdMdC/ATGm/7riSl0xwAADDDDAAAMM1NGAJGRDB5zqiNk2CdIMMMAAAwwwwMBgBiQIBqsvvtQXA4MZEGMGqy++1BcDDDDAAAMMMMBA3QxIQkpCuvKBAQYYYIABBhhgoKEGJAic4NbtBNf2lMu0GFOu9tA/tAcDDDDAAAMMMMDAsA1IQjZ0wGnY0KxPcGOAAQYYYIABBspnQIKgfG2in2iTOhkQY3iuk2fbwjMDDDDAAAMMMDC4AUlISUhXPjDAAAMMMMAAA401sHr3/ZKzzj4/ufXW25O1ax9IHnvs8SQbNI+fY9qaNbclp59xbrLrbvvWrp6ybXUiNfiJlDpTZwzMbKDOMabp+w/+Z/avjtQRAwwwwAADDDAwlkhCGnSs3WCaji24M8AAAwwwwMB0BpZtslVyymlnTko4ZgPlM71HYjK+G8uYbh1V+Szb3qqUVzn1bQaqZaBuMcb+o1r+xAvtxQADDDDAAAMMjN6AJKQkZC0G0AST0QcTbaANGGCAAQbKbmBs6ebJ+884p3WlYwyO33Pvfcl73/f+ZI89D0y23nZ1snyTrZJ5C5en/+LnmLbHngek88S82YB6vJ/6/rOSWGbZt3u68mXbM908PtO3GWBgtgbqEmPsP/SB2fYB32OHAQYYYIABBppuQBJSErLSA2dN78C2306MAQYYYICB/gy85W3vSJ57/vlWEvHMs85LVmy27cDHQZuu3C4559wLW8uJZR52+NsGXk5Z2q0uCYKy1Kdy9Ncf1VNz6qkOMcb+ozlexSZtzQADDDDAAAMM5G9AElISsrKDZgJC/gFBnapTBhhggIG6GXj1RhPJRRdf0koaXnfdjcmqLXea8/HPllvvktxw482t5Z551vlJrKtq9VeHBEHV6lx5xdkmGahyjLH/0Feb1FdtK+8MMMAAAwwwUJQBSUhJyMoNlhXVGSxXoGWAAQYYYKBeBhaNbZrccsttrUThUUcfl/txzzFvP6G1/JtuXpPEOqvkqMoJgirVs7LWK7Zoz/7bs6oxxv6j/zbWH9QVAwwwwAADDDDAwHQGJCElISs1UDYdZp8JdgwwwAADDDCQGXjVhuPJLWvWJyCffvrjya677VPYMU88T/Kpp59Ok5E333xrEuvOylH296omCMper8onFjGw3kAVY4z9h/6r/zLAAAMMMMAAAwzkZ0ASUhKyMoNkOn5+HV9dqksGGGCAgbobuODCD6ZJwUhArtxih8KPd2Idsa4YcD//gosLX19e7VfFBEFe22454iADxRuoYoyx/yjehb6njhlggAEGGGCAgeYYkISUhKzMIJnA1JzApK21NQMMMMDAXAy87ejjkpdeeilNCL7r3ScP7Vhn59V7Jy+++GK63ijDXLZhWN+tYoJgWHVjPeIQA3M3ULUYY/8x9zbXb9QhAwwwwAADDDDAQLsBSUhJyEoMkLWj9bMgxgADDDDAAANTGVixcttWIjAGv++6656hHusc/uaj0iRkJCM3XrH1UNc9VZ1MN71qCYLptsVn4gID5TNQpRhj/1E+P/q0NmGAAQYYYIABBqpvQBJSErL0g2MCTfUDjTbUhgwwwAADwzLwgYsvTZOAV151bfLcc8+lP+/2mv2Herxz9TXXp+u96AOXDHW9/dbxQYcclrzv5NOTq66+LnnsscfTf/FzTDvo4MNKWeZ+t818Yg0DozfQHmOyJGQVYoz9x+jt6L/agAEGGGCAAQYYqJ8BSUhJSANNDDDAAAMMMMBALQxsvuWO6VWQcRXiyi12TE4/45w0GXjFldcMdfu22nbXdL1RjlVb7jTUdU93wrZg8SbJddfdmJx86hnJO447Mdlrn4OTieVbpP/i55gWn11zzfXJvIUbl6bc022Tz+p3gqpNq9umVY4x9h/VdSdmaDsGGGCAAQYYYKDcBiQhDToaYGKAAQYYYIABBmph4KxzLkiTf+dfcHG6Pdmt9eL5kMNOBmZX1Jx51nmlqNvd9zwgeeaZZ5N4n+kE7TV7H5ReRbp69/1mnHemZfm83CeD2kf75GWg6jHG/kNfyKsvWA5LDDDAAAMMMMDAZAOSkAYdDS4xwAADDDDAAAO1MBC3Fo1b/227w+6t7bn0w5en084576LWtGGcEOyw02vS9T7y6GNDXW+vbYvkwEcvv2rgclx+xdXJbntIRPaqU9Mmn1Sqj2bXRx1ijP1Hsw2LYdqfAQYYYIABBhgozoAkpEHHgQekdMjiOqS6VbcMMMAAAwzMzkCW9Hu0I+m30y57pcnA559/PhlfuvlQj3ueePLJdN3b7bjHUNfbbihujxhXQLZPa/85ErbtSdv2z+LnqLeNFiyf8vud8/t9dn7Vm3qrqoE6xJh+9h9jE83bf1TVpHKLpwwwwAADDDDAQLkMSEJKQhpUYoABBhhggAEGKm/gpPedlib8zjr7/K5tufmWW9PPzj73wq7P+j05iURcDFRvuc0uSb+D0eece2G63hNPOnXW6+23fFPNF8+AnO4WrGtuvT25Zc1tU5Zvz70PSq6+5vopP59qvaaX66RPe2iPogzUIcb0s/+I27XOtg6ruv+Y7fb6nnjDAAMMMMAAAwww0G5AEtKg46xPptoh+VlgYYABBhhggIFRGrj6muvShN9hh7+169hm+x33SD+LW7XGz/2Wc4N5S5PjTzgpWXv/A0k8VzK+n/2LKy5PPuWMZONNt5lyeW864uh0/iuuvGbKefoty2zmO+iQN6ZlnO67MyUh47unnnZWsv9Bh45kG6Yru8/EHAZGa6AuMabf/ccgV7VXff+hb422b6l/9c8AAwwwwAADdTIgCSkJaUCJAQYYYIABBhiovIE77rgrTfjtsdeBPbcluyrx4x9/Jtlrn4N7ztN+kB/LeWDdg62kYyQh77zz7jQh+YlPfKI1/amnnk723Lv38vbe95B0vltvu2PG9bWvO6+f33fy6ck7jjtx2nX3k4Q87oSTkpPee9q0y8mrzJbjZJuB6hioS4wZZP/xmr0OmjEWxtXnVd9/6IfV6YfaSlsxwAADDDDAQNkNSEIadJzxJKrsiJVPoGWAAQYYYICBhx9+JE34rdpyp57HNvMXbZzceNMtreThtdfekBx0yGHJkvGVk+aPW61e/MFLW/Pde+/a5ODXHp7Ec88yZ3GFy5FvPTbJnvkYCcp49mT2efa+1ba7pstZt+6hrs+yeYp8v+rq62ZMuPaThNxr30OSq666diTbUGT9WLa4wcDcDNQlxhS2/7jv/sruP/SNufUN9af+GGCAAQYYYICBVwxIQkpCGlBigAEGGGCAAQYqb+CFF15IE37zFm485bbEZ/H8suyWqtn7fWvvT+K5kY888mjy4osvpp8//vgTSdza9VUbjk+5vEVjmyaXfvij6fwPPvixpHPdi8c3Sz975plnu9aZrbvo94nlW7TKv3zF1skNN9w86V9cGRr/Oqcv22Sr1vdiGY899njrdydTr5xMqQt10WQDERdmG2MiHmV1l8WYouPhVMvPY/8Ricxs//HEE0/2tf/40CWXpfuGdQ8+lMRzI7P6iPf2/Uf7dD+LOQwwwAADDDDAAANVMyAJadBx0slO1QArr6DLAAMMMMAAA2Hg2WefSwdz44rH6UxEUvGAgw5Nrr/+pp6Jwbhq8fQzzkkiwTjdcrLPYr7sisgjjjxm0nfi6skY9JaEZDTz4p2FOhmoSxIyr/1H/DHKIPuP2Ec8/sST6X7izdPsP+pkxraIgQwwwAADDDDAQPMMSEJKQk4aLBMEmhcEtLk2Z4ABBhiog4G4kiQSfpttvn3fxzZxW9UVK7dNdtx5z/Rf55WM/dbLm444Ol335VdcPWndK1ftkE6//4F1k6b3u9y5zpfXrRLj2ZZXuh3rSNpwrgZ8X3wv0kBdYky2/4j9Qb/1Vff9R7/1YD4xhgEGGGCAAQYYYGAmA5KQkpB9n2jNhMnnAg4DDDDAAAMMjMpA3E41kpA777r3SI5tsmeKtd+acNfd9k3LFM+iHEW9vO/k05N3HHfitOvu55mQx51wUnLSe0+bdjmj2D7rFG8YGK2BusSYbP8Rf5AyClNl3H+Moh6sc7T9Wf2rfwYYYIABBhgoyoAkpCTkSE60igJtuYIlAwwwwAADzTRw2UeuSBN+Bx586EiObbJnex10yGGt9R/82sPTMl1y6Udb04bp88CDD0tOOfWMadfdTxLy1NPOSvY/8PXTLmeY22Vdzezj2r187V6XGJPtP/Y7YDRxroz7D/2tfP1Nm2gTBhhggAEGGKiqAUlISUgDSgwwwAADDDDAQOUNnPCu96YJv/ee/P6RbMvbjj4uXX8k7LITg1NOPTOd9s7j3tOaln02rPdrrrk+ec3eB025/pmSkG7F6kR3WFatp5rW6hBjsv3HiSedOmWsLNJnWfcfRW6zZVezv2s37cYAAwwwwAADszEgCWnQcSQnWrPB6juCHAMMMMAAAwxMZWDbHXZPE34PPfSxkRzbbL/jHun647Z+WRk/9rGH02lbbbtra1r22bDe4zmXzz333JTrj+dZHv7mo6b8/IUXXkji2WfDKq/16ONqr0U0AAAgAElEQVQMVMtAHWJMtv9Yu/aBkcS6su4/9MVq9UXtpb0YYIABBhhgoKwGJCElIUdyolXWDqFcgjUDDDDAAAPVNfDIo4+lSb8tt9ll6Mc3K1Zum677gXUPpuveZvvd0t8fffSxoZel0/Dq3fdLLr/i6oHLccVV1yS77rbPwN/rXL/fq9untJ2268dAHWJMtv/YYuudhx7zsv3H/Q+sS9ddpv1HP+1vHnGCAQYYYIABBhhgYDoDkpCSkEM/yZoOpM8ELAYYYIABBhiYrYGzz70wTfydd/4Hhn58s/V2q9N133HHXem6L7zoQ+nvZ5513tDL0qv+dttjv+T5559P9pzm1qzZ9+IWrHEFpASkvpiZ8M7CTAaqHmOy/ce551009Jid7T9uL+n+Y6a297n4wAADDDDAAAMMMDCdAUlIScihn2RNB9JnAhYDDDDAAAMMzNZAXMHy0ksvJS+++GKycosdh3qMs3r3fdOk4w033Jy0l2OzVdsPtRzT1d1GC5YnV19zfXLqaWcmx51wUrLXvockE8u3SP9F4jGmxTMtr7zqWrdgdY5QGrfTmfZZufYXVY4x7XF7VPuP6667sbT7D32tXH1Ne2gPBhhggAEGGKiSAUlIAwwGGBhggAEGGGCAgdoYyK5mueLKa4a6Tfvu/7o0CfnRy69Kbrjx5lJdBdl5cnLAgW9ITnrvaclVV12bPPbY4+m/SDzGtP0OfMNQ662zbH53Ms1A9Q1UNcaMev9x2UeuLP3+Q/+sfv/UhtqQAQYYYIABBoZtQBLSoKOBJgYYYIABBhhgoDYGFo9tlnz848+kScDD33zU0LbryLcem67zlltuS9+feebZJMoy7IN763NCyQADDMzOwKj2H2896p2/33/cav/heMxxAwMMMMAAAwwwUDsDkpBQ1w61k+7ZnXSrN/XGAAMMMFAXAwccdGg6kBu3Zd159d5DOdbJngEZ63z55ZeT/StyReE22++WxPPI6tL2tkMcY6BcBqoWY0ax/7joA5e09llV2n/oa+Xqa9pDezDAAAMMMMBAWQ1IQkpCGnRigAEGGGCAAQZqZ+CUU89MB3WfeurpZLNVOxS+fevWPZiuLwaQ3/u+9xe+vjxOLnbY6TVJ1M9TTz+dbL/jHpUocx7bbRlOzhkYjoGqxphh7z8eqOD+Qx8aTh9Sz+qZAQYYYIABBupgQBLSoKMBJwYYYIABBhhgoHYGXrXheHLjTbesT0Q+/XSy867FXRG5evf9kmeffTZd1/XX35TEust+orDba/ZPHn/iyeTa625Irr32huSJJ59Mdttjv9KXu+z1qnwGCRhYb2D3PQ94JcZcd0PyxBPViTFD338891yl9h+Mi3MMMMAAAwwwwAADgxiQhDToaLCJAQYYYIABBhiopYFFY5smN9+8/hlbcYXim444OvftPOItb29dAXnTzWuSRRV4DuTe+x6SPPnUU8kuq/dJ3n3iyem/XXfbN00Y7LHXgbnX0SAnJ+Z1MstA9Q3ss99r0yus448/shgT8SbiTsSfKrSx/Uf1HVbBmTJyxgADDDDAAANNMCAJadCxEieBTeiMttFOhwEGGGCAgfwNvHqjieTiD17aShReeeU1yaqtdprz8c/mW+6YXHX1da3lXnDhB5NYVxXa8A2HHZnEbRKjrFmCIH7eaZe9kte94YhKbEMV6lkZ8+/P6rQadfr6Q49s3eK5PcZE3InPqtKO9h/V8FYVT8rJEwMMMMAAAww01YAkpCRkZU4Cm9pJbbcdFAMMMMAAA3M38PZj39VKGMZVkWefc0Gy6crtBj4OWrFyuyQSjrGM7N/Rxxw/8HLK0qbtCYKylEk55u5dHarDshioQ4yx/9CfytKflINFBhhggAEGGKiiAUlIScjKDppVscMpsx0FAwwwwAADozOw7fa7JTfceHMreRhJxDvvuid57/ven+yx54HJ1tuuTpZvslV6bDR/4cbpzzFtjz0PSE4+5Yzk7nvunfTda6+7Mdlmu90qfSxVhwSBPjW6PqXu1f1MBuoSY+w/WJ/Jus8ZYYABBhhggAEGehuQhJSErPTAmY7du2OrF/XCAAMMMMDA1AbieWVr1tw2KaGYXdXYz3t8N5ZRhzquS4KgDm1hG6bus+qmunVTtxhj/1Fdi+KItmOAAQYYYIABBkZjQBJSErIWA2gCyGgCiHpX7wwwwAADVTawZGJlcvBrD08uuPDiNCl5//3rkscff6KVnHzssceTtWsfSD87/4KL03kXjW1aq2OnuiUIquxR2cXTOhqoa4yx/9Bf69hfbRPXDDDAAAMMMFCEAUlISchaDaQV0UksU/BlgAEGGGCAgboaqGuCoK7tZbvEoqoZEGOYrZpZ5WWWAQYYYIABBhjI14AkpCSkJCQDDDDAAAMMMMBAQw1IEOR7cuVkVX0yMNmAGDO5PvhQHwwwwAADDDDAAANNMyAJ2dABp6ZBt72COwMMMMAAAwww0G1AgqC7TjhRJwzkZ0CMya8uuVSXDDDAAAMMMMAAA1U0IAkpCenKBwYYYIABBhhggIGGGpAgcBJbxZNYZa6OWzGmOm2lX2krBhhggAEGGGCAgSIMSEI2dMCpCEyWKUgxwAADDDDAAAPVMiBBUK320r+0V9UMiDHMVs2s8jLLAAMMMMAAAwzka0ASUhLSlQ8MMMAAAwwwwAADDTUgQZDvyZWTVfXJwGQDYszk+uBDfTDAAAMMMMAAAww0zYAkZEMHnJoG3fYK7gwwwAADDDDAQLcBCYLuOuFEnTCQnwExJr+65FJdMsAAAwwwwAADDFTRgCSkJKQrHxhggAEGGGCAAQYaakCCwElsFU9ilbk6bsWY6rSVfqWtGGCAAQYYYIABBoowIAnZ0AGnIjBZpiDFAAMMMMAAAwxUy4AEQbXaS//SXlUzIMYwWzWzysssAwwwwAADDDCQrwFJSElIVz4wwAADDDDAAAMMNNSABEG+J1dOVtUnA5MNiDGT64MP9cEAAwwwwAADDDDQNAOSkA0dcGoadNsruDPAAAMMMMAAA90GJAi664QTdcJAfgbEmPzqkkt1yQADDDDAAAMMMFBFA5KQkpCufGCAAQYYYIABBhhoqAEJAiexVTyJVebquBVjqtNW+pW2YoABBhhggAEGGCjCgCRkQwecisBkmYIUAwwwwAADDDBQLQMSBNVqL/1Le1XNgBjDbNXMKi+zDDDAAAMMMMBAvgYkISUhXfnAAAMMMMAAAwww0FADEgT5nlw5WVWfDEw2IMZMrg8+1AcDDDDAAAMMMMBA0wxIQjZ0wKlp0G2v4M4AAwwwwAADDHQbkCDorhNO1AkD+RkQY/KrSy7VJQMMMMAAAwwwwEAVDUhCSkK68oEBBhhggAEGGGCgoQYkCJzEVvEkVpmr41aMqU5b6VfaigEGGGCAAQYYYKAIA5KQDR1wKgKTZQpSDDDAAAMMMNCvgQ3nL00WLNw4WbR4RTI2vlkyPrHSP3XQKANjY5ul/qMfRH/ot++Yr784K8aIqU3fr4gx/cUKMVU9McAAAwwwwAADxRqQhJSENODBAAMMMMAAAwwMzcC8BcuTxYtXJEuWrEjfFy/cJFm0YGP/1EEjDYT/Vn9YsiKJ/uEEeG4nwGKMeGqf8ooBMWZu8UQ8Vn8MMMAAAwwwwMDcDUhCGnQ00MEAAwwwwAADDBRu4FUbjCWLf594NED8ygCxulAX7QYiIRn9xInu4Ce6Yoy+1N6X/NzbgxgzeGwRj9UZAwwwwAADDDAwNwOSkAYdDXIwwAADDDDAAAOFG4hbri5y1WMjr/aTDOidDJiqXuLKpegvTnQHO9EVYwZzNpU/0+tfj2LMYLFFLFZfDDDAAAMMMMDA3AxIQhp0NMDBAAMMMMAAAwwUZiCuTkqTA243KgHJwEAGJCL7O9EVY+qfNJMYLaaNxZj+YoxBR/XEAAMMMMAAAwzMzYAkpEHHwgYddc65dU71p/4YYIABBupgYMmSTV0BKfk2UPJNwmF9wiF9lptbs854riLGFJOg0g/rX69ijOPMOhxn2gaOGWCAAQYYKL8BSUhJyBlP7HXk8ndkbaSNGGCAAQbKaGDegmVJPH/KYHb9B7O1cTFtHP0n+lEZ+3cZyiTGFONOf25OvYoxjh/LEMuVgUMGGGCAAQbqbUASUhLSoAYDDDDAAAMMMFCIAQnI5gxkS1oU19bRj5yU9z4pF2OKc6dPN6duxZje8UXcVS8MMMAAAwwwwEA+BiQhDToa1GCAAQYYYIABBnI3sOH8pcmSJa6CNJDfnIH8oto6bje64byluffRqp9QizH6VlF9rmnLFWPyGVyrekxVfg4YYIABBhhgoCgDkpAGHQ1oMMAAAwwwwAADuRtYsHC5W7F6FqRb8eZgIK5Siv5U1AlhVZcrxkhCNi1ZWNT2ijEGHKu6H1BudhlggAEGGKiGAUlIg44GNBhggAEGGGCAgdwNLFq8Ilm8cBNJqBySUEUNPFtuNZI4aT9yS9auGCXGVMOvOFP+dhJjqjF4Z5BVOzHAAAMMMMBAVQ1IQhp07Dqhrypm5RaIGWCAAQYYKI+BsfHNJCAlIBnIycDY2GaO2TvO28SY8ie3JCCr00ZiTHmOnxzLagsGGGCAAQYYqJsBSciOk9m6NbDtEbQYYIABBhhgYBQGxidWSkDllIAykF+dgfyi2ir60yj6cZnXKcboF0X1tyYuV4xxrFjmeK9sfDLAAAMMMFBtA5KQkpAGNBhggAEGGGCAgdwNSBBIEDRxIL+obZYg6D7pFmPEmKL6WxOXK8Z0xxiDneqEAQYYYIABBhjIx4AkpEHH3Acddc58Oqd6VI8MMMAAA1U2IEEgQdDEgfyitlmCoHt/IMaIMUX1tyYuV4zpjjFVPgZTdu3JAAMMMMAAA2UyIAkpCSkJyQADDDDAAAMM5G5AgkCCoIkD+UVtswRB9yCCGCPGFNXfmrhcMaY7xpRp4E5ZtA8DDDDAAAMMVNmAJKRBx9wHHavcIZRdQGeAAQYYYCAfAxIEEgRNHMgvapslCLrjkhgjxhTV35q4XDGmO8Y4HlQnDDDAAAMMMMBAPgYkISUhJSEZYIABBhhggIHcDUgQSBA0cSC/qG2WIOg++RVjxJii+lsTlyvGdMcYg47qhAEGGGCAAQYYyMeAJKRBx9wHHXXOfDqnelSPDDDAAANVNiBBIEHQxIH8orZZgqB7fyDGiDFF9bcmLleM6Y4xVT4GU3btyQADDDDAAANlMiAJKQkpCckAAwwwwAADDORuQIJAgqCJA/lFbbMEQfcgghgjxhTV35q4XDGmO8aUaeBOWbQPAwwwwAADDFTZgCSkQcfcBx2r3CGUXUBngAEGGGAgHwMSBBIETRzIL2qbJQi645IYI8YU1d+auFwxpjvGOB5UJwwwwAADDDDAQD4GJCElISUhGWCAAQYYYICB3A1IEEgQNHEgv6htliDoPvkVY8SYovpbE5crxnTHGIOO6oQBBhhggAEGGMjHgCSkQcfcBx11znw6p3pUjwwwwAADVTYgQSBB0MSB/KK2WYKge38gxogxRfW3Ji5XjOmOMVU+BlN27ckAAwwwwAADZTIgCSkJKQnJAAMMMMAAAwzkbkCCQIKgiQP5RW2zBEH3IIIYI8YU1d+auFwxpjvGlGngTlm0DwMMMMAAAwxU2YAkpEHH3Acdq9whlF1AZ4ABBhhgIB8DEgQSBE0cyC9qmyUIuuOSGCPGFNXfmrhcMaY7xjgeVCcMMMAAAwwwwEA+BiQhJSElIRlggAEGGGCAgdwNSBBIEDRxIL+obZYg6D75FWPEmKL6WxOXK8Z0xxiDjuqEAQYYYIABBhjIx4AkpEHH3Acddc58Oqd6VI8MMMAAA1U2IEFQ3QTBmjV3Jp//3BeTYQzEX/yBDyff+MNvJqs232HG9Z1y8pnpvLuv3q817557HJB89CNXt34fRplHsQ4Jgu79gRhT3RgzXR864k1Hp/38sDe8pfB+/Zrd90/XdfJ7T59xXVus2jGd9wMXXTpp3iuvuC5Zvcs+k6ZNt31l/UyM6Y4xVT4GU3btyQADDDDAAANlMiAJKQkpCckAAwwwwAADDORuoGwJgmuuvjHpZ6C5rAPEwyzX5z73xeTXv/71UAbV77t3XRKvbbfZdcb1xWB/vA484NDWvF/58tfSaSe++5TWtGHW1bDWJUHQPYgwyhgTCfGHHnw0+cIXvpy+x+/DslD39Zz0ntPSPn3Cce8tvE4POeiN6br6+UOG7bZZnc577z0PtMp1+vvPTad96uXPtqZVtX3EmO4YU6aBO2XRPgwwwAADDDBQZQOSkAYdcx90rHKHUHYBnQEGGGCAgXwMjDJB0GsQ+L//+7+Tz3zm86UbKL70ksuT//N//k+pylWlJGRclfTVr3w92XXnvUtVh70MzmWaBEF3XBpFjNll572S73//B8l//uevkrVrH0xuvGFNEon0+P0f//GHc3b4N3/97eSxR58amuUtV+2YJtHe18eVgHPxO8h3q5SE3GvPg5KvffUPkjPPOG9obTZIXQ4yrxjTHWMcD6oTBhhggAEGGGAgHwOSkJKQkpAMMMAAAwwwwEDuBkaRIJhuwLWsScibb7pdEnIOV0JO1+Z1+kyCoPvkd9gxZtnEqjQB+atf/TrZbdd9JyWd9tht/zQR+YMf/DCJ+WZr70f//OPksUefnPX3B11v3I40Xu87aebbkQ667NnOf9KJ66+EPL6kV0Lec/f9Q2uf2dbhbL4nxnTHGIOO6oQBBhhggAEGGMjHgCSkQcfcBx11znw6p3pUjwwwwAADVTYw7ATBTIOuvZKQb3j9EcnOO+2ZDijHbfluuH5Nct65Fyc7br9H1yDz4Ye9rTX9rW95RzrvNVfdkMQgfue633z4Uck+ex/SNT3Wd+D+b2hN32G73ZNPfvLlNAlw5JuPSeJfr+V1Lj/WH7cPjMTBZiu2aS0v5otnK8Zysu/ElZaxXSe/74zWtPjsne94TxKf7bfP6yZNj88++5nPJ7/8j1+m0+MKw+uvuyVdRmxXttzO96222Cmtuw9efFkS29n5efZ7JG8u+eBHk6uuvC7d1jtuvyfd/m237r4da7RDXOkYt9I9YL/XJx++9Ip03vY6jGextW9vrCeeE5nNE8uN78d3D2q7jWtWnuz97DMvSLcx6jVri3jfZqtdptyW7LvDeJcg6N4fDDvGfOSyq1J/U926M/MZtw3OTGy95c6pp3ieYDYt3jffbLt0etziM5u+914HJ7/97W+Tz3/+Sy2DWf+O56BGjIp54zvXXnNT6rVXoi78d/aJ+F705fbpmyzfKjnj9PPSbYorOuOzN71x6j6elTPKEn04ytArfsSzHHfaYX0MPeao49NyRp3E+rJlHHzgYWmfPOH47luuZknIdx57Yjp/PDc2Yti553yg9f1sOe3v73j7u9MyXXThJcnGy7bsOW9Mj7gZyzv2mHelcSUqYKo2ffe7Tk7j33tOPDWJWBKv9tuxxjZFve2042ta68vaNivbOWddmJZrultGZ/ufKFfE5lhm/Nt/3+74nC0373cxpjvGVPkYTNm1JwMMMMAAAwyUyYAkpCSkJCQDDDDAAAMMMJC7gWEnCGYakO2VhPznf/5Rcvdda5MsEZaOMCdJ8stf/meayGpfZtxu8a4770uefPKZbLbWe2fS7f/+3/+bfOrlz7QGpbPl/PjHP0m++Ud/nE7fZae9Wt9v/+Hhhx/v+l72/UgifPvb30liW/7mb76dfi1uDZklUmO+GPSPV7z/8If/1L7odDA9Eom/+MUvJk3vTGR87rNfSH72s5+nScr//b//96R5IyGQlSd7j8RjlOknP/mX1jpvufn2rvmi/jpff/zHf5pO6kxCXn3V9Z2zJn/0R3+cTssSjLH+rO2233a31voef+yptH4iwfGb3/x20nI6n9235aqdkr/8y79O5/nOd747ad74JZ75lm3nKN8lCLoHEYYdY771rT9Jfve73yWbbrJ1TxMxPT7/8z/7y9bnp558Vmqq8/mGR7z5mHT6uedclM57/XU3d9mLCYe94cj087j16//6X/+c3vYzYlH7q/PKvCef+Hj68cbLtmiVI+zeuubOdPpOO6xPmH3rm3/Svpj05//6r99N+k6n+ShHvL733b9P/v3f18eR9592zqTv/Pzn/5asWXNn8sjDj09a/vf//h+SlZtum/zhH/zRpOkvvPDSpO9nScgrLr82+fvvfX/SvBEvOssUf/DxD//wj2ndZ3Hxu9/5XhIJ4PZ53/bWd7bKnC002jRenUnISJL++Ec/yWZL37P4017f++59SPpZe+L5iDcdnU476m3HtWJLtqBIMLeXKX6OWBmviJ//9m//ns2avn/5y1/rmr/z+3n9LsZ0x5gyDdwpi/ZhgAEGGGCAgSobkIQ06Jj7oGOVO4SyC+gMMMAAAwzkY2DYCYKZBmKnSkJGkuorX/5aenVRXNVyztkXpYO/Dz346KTB32zg/8UXP5UObse8p56yPsEQA97t6+8nCZnN/6lPfbav27HGFVE//vG/JDGQn12dF1cf/vVf/20SZcqWlyUh44qqSJjGlYdvPPStSdwmMrbhP37xH8n99z+UxFWYRx91fBIJg0i+Zd+P9898+vNpHfzt3/5d60qnSF7+y7/8a5psjMRdNv9ZZ56fzhtJh2xalkSIK6KyaXGFT7yef+6TrdtVxlVYkfCNV3sS8oLzP5RO+9KXvpomLWIZcSXSv/7rT9PpMyUh43aWkTz9p3/6n8lrD3lTWoa4ejTKH4nZrEzxHleiRr1kz5SMJEkkkb74xa9Mmq/9O6P4WYKgOy4NO8bEs1v/+q/+dloXf/VXf5P8v//3/1rz9JuEDFMrNt469d3rmZBr71uXfhaJyEhyxfyvPfjwNBkYH7T3iX6TkLGMd7/rlHS5/TwTct0DD6fzxpV6WR+48457077WHhPiDxgirsYzMuNqxrii+fHHn06/G3HoL//ir9JtiKuY46rreLWXP4sfsYyIEbGu6J/PPftCOu+HLv5Ia/0RNyKG/MWf/1WyauX26fS4CjP6+cceeqw1Xzy7MV5xu9t993ltOj2uPvzGN76VTm9PQsYfNPz6179J/1jj0N8ngeMq1fjjjHjFH65k2z9dEjJu23vJhy5P541tffmlz6Tff91r18ekWEb8AUi84urNbJlxhWm8sqtJs+lFv4sx3THG8aA6YYABBhhggAEG8jEgCSkJKQnJAAMMMMAAAwzkbmDYCYKZBminSkJ2JqViOXGVTyT32pcZiapv/OE3J02Lz+OqmHgdecTbW58VkYTMBqY7b/OaDdhnt3vMkpCdVyJmVxZ2Xsn48MceS8vffvvCSAxEErN9++PnuDVhvOLWjdlncTXUV7/y9dbv2fS4YunjTz+XTo/kStR/Z7Iz5r3v3vXJlW23eeV2rHE1UCRcs2Vl73G1UbwObLutaq8rISMJGa/O5/ZliZwsWRHLjbbqTPrELWDjldVptv5RvksQdJ/8DjPGZAnC+KOB6Ry89OKnUztb/v72q3knIeOPB9rXH7cYjtcTT3y8Nb2IJGQkAeN165q7WuvJyhEJu7i1c/Z7JCHjCsb2269GueMVVxNm88V73OY6Xhde8KHW9Cymdd5COuaPhGMkYrNlRJ+O2NJZL5HUi1c2X/zxQ7yyBGQ2PRKR8WpPQmYxPf5wIZsv3uM2uPFqvx3rdEnI+MOL9u9H0jhe7UnUp596Ni1/+3yZtbjlbfv0on8WY7pjjEFHdcIAAwwwwAADDORjQBLSoGPug446Zz6dUz2qRwYYYICBKhsYZoKgn8HZqZKQf/yt7tv7/cHXv5Fedde+3F/96lfJ5z/XfSu9uMVfvOKWpNn8RSQh/+xP/yK9CjJ7Vlj2nl2JGFc7xvqPOfqEtDzvP/XsVnlienaF51uOPHbS9JtuvDWdP7sSMOb93Oe+mPz617+eNF+2bTFzXD0Yv8dtaON18023tZ5hlpXrC1/4cnorwpgvnr0Wr/ZERba8ziRkllS5/ba7u9bfbxIybscar6Xjm09aRjzDM157vebA1vT4PebPyhPvF16wPoHRfovX9s9H8bMEQff+YJgxZpONt0rtfPKF9fanMvDcc+uv1ourlGOevJKQ9699KF1/PG+wc91xNXP7LWCLSEJGfItX3J446+PZe/whR/wxQ1auKE+vP0yI78fV2dl88R5/KBCv9oTdSe85LZ3WeQvbmD97hu7ypetvNRtXO0dszMqSvUesiVc8HzO+F1eAx1Wq7euOn3slIeOPUOKq6c55+05C/v5WuxFz25cRz42MV/sfiETyOF7t822yfMt0WtyOtn160T+LMd0xpsrHYMquPRlggAEGGGCgTAYkISUhJSEZYIABBhhggIHcDQwzQdDP4OwgScivfe0Pk5//7OeTBoCnSkLGlYnxar8daRFJyLgycLrX248+IS3vVEnIs868IP36WzuSkHFVY7x2W71va3unS0L+8j9+mcRz1KLOsyuWpipX3Do25jvv3IvTWdpv45i1WWcS8rh3npTOe+45H2iVJ5t3rknIq65c/5zJffY6uLXsuE1kXM2Z3eI21hW3i+yVsMjKMYp3CYLuQYRhx5i4xe83vzn5Sr5OC9lzA7Ppw0hCxlXb8TzBbJ1FJCHjCsjpXnGr1Gz9vZKQSxatSL8eV/5l88X76l3WX2F50423taZPl4TMrmbO/mhiujLFZ3H1YawnXp94/sXWOrIy9EpCRsKy84rNmH+uSci4LW28brv1latJ449C4pXddjbWE8nHeMUtZLNyDuNdjOmOMWUauFMW7cMAAwwwwAADVTYgCWnQMfdBxyp3CGUX0BlggAEGGMjHwLATBDMN0haVhDzq91dCtt/OLwaQ4/lfnWX68Y9/knyz43aE/T4T8h/jWWp/+dddy+xcR5FJyLiyMF6f/ewX0nK849h3p79HoqWzHO2/Z0mFzqszY57OJOThb1x/e3y0uuQAACAASURBVMaPXnZV1zKLSELGLSN/8YtfpM/GjNvtxpVV8dy4YScA2uur188SBN1xadgxJq6Qjlc8n7VXG226yfpnOrYnsE45+cz0O/Hsv/bvHPH7q+XOPeeVq+Wy23B23h44vjftlZA/+3nynbbn0mbPX2y/xXIs49Y1d6Zl2WmH17TK0u8zIa+95sb0u6/Zff2Vhe3b0vlzkUnIuBI1Xis3XX9FaNye9Ytf+HJrezrLkv0efxjy5S99tWu+XknIuN3r3/3d5OfkxnKKSELGcuP5w/EKN3Eb63jFLaGzsg/rXYzpjjGOB9UJAwwwwAADDDCQjwFJSElISUgGGGCAAQYYYCB3A8NOEMw0UFtUEvLBdQ+ng8aHvv7I1qBxDIzH1ZSdZYpnpX3jG9+aNP2FF15Kv985b+fv8ay5uBJr1eY7TPp+53xFJiHjGW3xuvyj16Rl2HmnPdPf22/F2Fme+P11r31TOl/7s9Sy+TqTkNktC9uvrMrmLSIJed21NyeRXFq9yz5JPIOt8zlw2bpH/S5B0H3yO+wYkyUU45mBvTzcece9qfP3n3ZO6/Pj3vGedNrpbdPiu0cfdXw6vfOWnTGx/fmO2XqmSkJmty/+2EOPttaZzbvN1q88ZzWWc9ed96Xr3GmHPVrzZlcex7Zl6+r1ns0XVzX3+rx9WlFJyLglbjyb9/vf/0GrDBFP448Ilk2sak1rL0v28w9+8MMk4m/2e/beKwkZy4z9RWeyuYgk5B677Z/85je/TeKK+lNPOSv9t+Wq9bfyzco4rHcxpjvGGHRUJwwwwAADDDDAQD4GJCENOuY+6Khz5tM51aN6ZIABBhiosoFhJwhmGqidaxIyBr//9V9/mg4WZ+uK50HGcuOZZNm0eP/2t7+T/PrXv0nan9/WfrVL+7yRmItXdnvB9s/afz7yiLen833us19IsuehZZ9vveXOrfXnkYT8zKc/n64rEg/ZOnbZea/0CsFIsGbPu4vPPv+5L6bzvvPYE1vzxvRtOxIgcYVhfDcSl9ky33z40ckvfvEf6fe33eaVhEncDjVe++7z2ta8++/3+vSWkzH9wAMObU2/4/Z70nnbn9841TMhe92ONa54mimJmpV3lO8SBN37g1HEmM9//kupt3iuX1xFGyaiP8ZzUeP1lS9/rWUzPjtw/zek05995hOt6ZEE/Id/+Md0emcSMhJq2e2O271ltyGNRHk2fYtVOyZ/8zffTpfT/pzTuCo7Xu3J0EiuR6yKV3sSMktiXn/dLa3lZsvvfI8rhON2zO39MuZpjz/x+5yTkCeufyZk561b4w8T4hXPwc3KdvJ7T0+nPfPx51vTss/ak3lrbrkjne/iD3y4NV/E529845vp9PYr2eMqxHi1P7tx+dJV6bNyY3r7H1Ps+/vbcccfSGTrza5y7WzbXrdjjT/oiLiYfXeU72JMd4yp8jGYsmtPBhhggAEGGCiTAUlISUhJSAYYYIABBhhgIHcDo0gQTDeAm0cSMhJpkSSI23b+/fe+nw5UxxU27YP6UYZ4vle8YtA+5v2f//N/JZ/+1OfS25h23o41S1LELQBj0D2uzJtqO2668dZ0uVGO++9/KInntMXPn3r5s63v5JWEjPLEsxLjGXhxG9h4/fa3v03iGWbt5Yurg374w39KP48ETQz2R0IgXocf9rbWvEe97bh0Wiwz6iS+EwmNp558Np3enrSMq5MiifurX/06nfd73/375L/+67+SRx95Ip036iwrw1yTkFmdRiI5yhX/IgkbCYg3vfGo1nqy9Y3qXYKgexBhFDEmro777ne+lzqMK5Pj2aHxHq+Y3nn1XHgJU/H68z/7y/RK6LCdPSe1/XasMW92NWUkMyNmvOH1R6QGsyRkrCP645/+yZ+ny4z/Oq9ijORbPNcwXrHumPenP/1Z8uFLr0intd+ONdb5t3/7d2mC8sknn0mvCp7KeDxfMRJmsb1xBXc8T/ZLX/pq8rvf/W5SIjKvJGTUVyRr4zalEQvite6Bh7v65IPrHkk/i2fQRj1FHcYzMh95+PHWvHGr3Igj8YrlZX/osHbtg+m09iRkbP+f/MmfpdOj7uJfbGPEtYj/7VfCzjUJGbEuroT853/+USv+fPUrX0+348wzzpvxCs+p2mo208WY7hhTpoE7ZdE+DDDAAAMMMFBlA5KQBh1zH3SscodQdgGdAQYYYICBfAyMIkEw3cDrtdfclMTtRNvnufSSy5Nzzrpw0rT4PJKInYPSv/rVr5JPvfyZ9ErIGID/whe+nMT3O5+7li3/pBNPSwfqI3F2wvHrnwf3rhPel5x95gVd64urlGKAOwbTL7rwkq7Ps2XG+9uPPiG9+jCSC1//2h8mV1x+7aT5d1+9X5oc2H/f102aHom7SBp0XnF55JuPSae33+Y1khpR/rjCKcof64mE5w7b7T5pmVm5IvESV4JFmeLfiy9+qpU8yeaJ97jqKp6VGYPsV191ffqMtbgdYZQrnofXPm9sR1w9FuuORGGUOxKeMW97wjKuRo1pkWTIvh/P34tp2e/ZeyRFY3r7lZzRNpGgielf/vLX1m/DN76VJiDiv0Pf8MptdrPljOJdgqA7Lo0qxsQVkJFsz7zHe/yeXRnZ6SNiRCS146rhmC973miYO/jAw7qcRt+IBGT0qcPe8Jb08+wWq5ss3zLti3/4B3+UPk91zz16P6Mx+k9cff3Zz3w+TT5G/45bDsc6V2667aR1Rn+IP2r4xCfWJxa32WqXSZ+3b0/cLvljDz3W2vbHHn2yK6ZE7Dz9/ed2LSPWHTGwfXmrVm6flimu9M6m773Xwem0+D1ibNwuORKk0dezeTrfI1598YtfScsV8eWDF1/WNW/EmLglbbRXJDOzP5KIqxizem5fbpQ35o1nbB57zLvS5cVVksccdXxr2REjY75sWfH9uGo8pkW8a19exMmY3n7L54hp8YcsUZ7YxszUj3/0kzQGPXD/xyYto315ef8sxnTHGMeD6oQBBhhggAEGGMjHgCSkJKQkJAMMMMAAAwwwkLuBUSUI8h6YzZYXt2ONW6Fmv3vfuPJ1sd8+r0sH+uNqpM72zJ4V15nk7ZxvWL9LEHSf/NYtxkxnKbsSsjOBON13fFb+GBVX0sZzcXu1Vdwq+jvf+W7Pz3rNP9dpYkx3jDHoqE4YYIABBhhggIF8DEhCGnTMfdBR58ync6pH9cgAAwwwUGUDdUsQxJWQn//cl4Y2IDzXAWXfnzkBEVdPxavzmXZRd6eeclb62ZsPL8ctWSUIuvcHdYsx0/XZ7ErI9ufMTje/z2bu/2Woowgyl334yq79SlwhGrfUjSvRh1VOMaY7xlT5GEzZtScDDDDAAAMMlMmAJKQkpCQkAwwwwAADDDCQu4G6JQgkIasxqD/IgH3cwjWeTRm3bzzunSclcWva+BfPzovnX8ZtdwdZXpHzShB0DyLULcZM50cSsn7xJ9r77rvWJv/2b/+e3oY7iz8nvvuU9DmdcZvonXfac2gxSIzpjjFlGrhTFu3DAAMMMMAAA1U2IAlp0DH3QccqdwhlF9AZYIABBhjIx0DdEgRXXXldenXcdIkCn1UvUbDTDnukt0P83nf/Pvnd736XfP/7P0iTj/FczDK1pwRBd1yqW4yZzls8kzCeJ7hsYlWpXE5XZp/1Fw/jOZPf+Ma3kl//+jfJz3728/TZtNdde3Oyxaodh9rWYkx3jHE8qE4YYIABBhhggIF8DEhCSkJKQjLAAAMMMMAAA7kbaFKCwGB7f4Pt6mn29SRB0H3yK8bM3pO+qO46DYgx3THGoKM6YYABBhhggAEG8jEgCWnQMfdBR50zn86pHtUjAwwwwECVDUgQGOTuHOT2++xNSBB07w/EmNl70hfVXacBMaY7xlT5GEzZtScDDDDAAAMMlMmAJKQkpCQkAwwwwAADDDCQuwEJAoPcnYPcfp+9CQmC7kEEMWb2nvRFdddpQIzpjjFlGrhTFu3DAAMMMMAAA1U2IAlp0DH3QccqdwhlF9AZYIABBhjIx4AEgUHuzkFuv8/ehARBd1wSY2bvSV9Ud50GxJjuGON4UJ0wwAADDDDAAAP5GJCElISUhGSAAQYYYIABBnI3IEFgkLtzkNvvszchQdB98ivGzN6TvqjuOg2IMd0xxqCjOmGAAQYYYIABBvIxIAlp0DH3QUedM5/OqR7VIwMMMMBAlQ1IEBjk7hzk9vvsTUgQdO8PxJjZe9IX1V2nATGmO8ZU+RhM2bUnAwwwwAADDJTJgCSkJKQkJAMMMMAAAwwwkLsBCQKD3J2D3H6fvQkJgu5BBDFm9p70RXXXaUCM6Y4xZRq4UxbtwwADDDDAAANVNiAJadAx90HHKncIZRfQGWCAAQYYyMeABIFB7s5Bbr/P3oQEQXdcEmNm70lfVHedBsSY7hjjeFCdMMAAAwwwwAAD+RiQhJSElIRkgAEGGGCAAQZyNyBBYJC7c5Db77M3IUHQffIrxszek76o7joNiDHdMcagozphgAEGGGCAAQbyMSAJadAx90FHnTOfzqke1SMDDDDAQJUNjI1tlnQOcvrdwDcDszOwZGwzx+wd521izOws6YPqrZcBMcYxZ5WPOZWdXwYYYIABBsptQBKy42QW2HKD1T7ahwEGGGCAgWoYWLR4RbJ44SYSkQsMePca8DatfxdpP1q8QhKy47xNjOnfkP6mrqYzIMZU47jK8a92YoABBhhggIGqGpCE7DiZrWpDKrcgxAADDDDAAANlMjB/4fJk8eIVkpCSkAzM0UD0o+hPZerfZSiLGCOxNl1izWf9+xBjHD+WIaYrA4cMMMAAAwzU14AkpCSkAQ0GGGCAAQYYYCB3AxvOX5osXiIJaSC8/4FwddW7rpYs2TTZcN7S3Pto1U/yxZjeXvQj9TKoATGmvgN+VY/zys8mAwwwwAAD9TAgCWnQ0YAGAwwwwAADDDBQiIFFi92OddDBYPNLIHQaiKuUnHz3PvkWY/SXzv7i98FNiDG944u4q14YYIABBhhggIF8DEhCGnQ0qMEAAwwwwAADDBRiYKMFy9ySdY634jSgPviAep3qLJIDG81fVkj/rMMJtRjT7P5Rp74+qm0RY/IZWKtDPLUNLDDAAAMMMMBAUQYkIQ06GtRggAEGGGCAAQYKMxC3ZF280BWRoxpgtt7qJmmi30T/KepEsC7LFWOqa1x8Gm3biTEGGuuyH7AdLDPAAAMMMFBuA5KQBh0NbDDAAAMMMMAAA4UaGBvfLDHYPNrBZvVfvfqPfuNkur+TaTGmer7FpNG3mRjTX3wRh9UTAwwwwAADDDAwNwOSkAYdDW4wwAADDDDAAAOFG4jBTldEjn7Q2cB/+dsg+onkwOAnuWJM+W2LP+VoIzFm8Phi4FGdMcAAAwwwwAADszcgCWnQsfBBRx109h1U3ak7BhhggIE6GYjbJi5ZssJVkZ4TycAUBqJ/uAXr7OO+GFOOJJdkY3nbQYyZfXyp0/GYbeGAAQYYYIABBoZpQBJSElISkgEGGGCAAQYYGJqB+QuWp0mWJUs2TRYv9rxIg/XlHawfRtukz2RbHMn59f1h3vzlQ+uLwzzpHOa6xJhm96lh9NsqrUOMMcA4zPhrXbwxwAADDDDAQC8DkpAGHQ10MMAAAwwwwAADQzew4bylycJFG6cJybiN4vjESv/UQaMMpLcPXbIi7QfRH3qdrJk2+5N4MUZMbfp+RYyZffwQe9UdAwwwwAADDDCQnwFJSIOOBjwYYIABBhhggAEGGGCAAQYYYIABBhhggAEGGGCAAQYYyNWAJCRQuYLyFwL5/YWAulSXDDDAAAMMMMAAAwwwwAADDDDAAAMMMMAAAwwwUFUDkpCSkJKQDDDAAAMMMMAAAwwwwAADDDDAAAMMMMAAAwwwwAADDORqQBISqFxBVTUbr9z+koQBBhhggAEGGGCAAQYYYIABBhhggAEGGGCAAQYYyM+AJKQkpCQkAwwwwAADDDDAAAMMMMAAAwwwwAADDDDAAAMMMMAAA7kakIQEKldQ/kIgv78QUJfqkgEGGGCAAQYYYIABBhhggAEGGGCAAQYYYIABBqpqQBJSElISkgEGGGCAAQYYYIABBhhggAEGGGCAAQYYYIABBhhggIFcDUhCApUrqKpm45XbX5IwwAADDDDAAAMMMMAAAwwwwAADDDDAAAMMMMAAA/kZkISUhJSEZIABBhhggAEGGGCAAQYYYIABBhhggAEGGGCAAQYYYCBXA5KQQOUKyl8I5PcXAupSXTLAAAMMMMAAAwwwwAADDDDAAAMMMMAAAwwwwEBVDUhCSkJKQjLAAAMMMMAAAwwwwAADDDDAAAMMMMAAAwwwwAADDDCQqwFJSKByBVXVbLxy+0sSBhhggAEGGGCAAQYYYIABBhhggAEGGGCAAQYYYCA/A5KQkpCSkAwwwAADDDDAAAMMMMAAAwwwwAADDDDAAAMMMMAAAwzkakASEqhcQfkLgfz+QkBdqksGGGCAAQYYYIABBhhggAEGGGCAAQYYYIABBhioqgFJSElISUgGGGCAAQYYYIABBhhggAEGGGCAAQYYYIABBhhggAEGcjUgCQlUrqCqmo1Xbn9JwgADDDDAAAMMMMAAAwwwwAADDDDAAAMMMMAAAwzkZ0ASUhJSEpIBBhhggAEGGGCggQYmlm+R3Lf2/uTe++5PxpduzkADDTixzu/EWl1212V7jImf1VF3HakTdcIAAwwwwAADDDBQdwOSkAYbnAwywAADDDDAAAMMNMxAJB3vf2Bd8vLLL6f/JCKd+Nb9xNf2Ddd4Z4yJeOOPHYbbBsyrbwYYYIABBhhggIEyGJCEbNiAUxnQKYPgxwADDDDAAAMMjM5AJALuvXdtKwGZJSLvuee+ZGzCFZFsjs6muq9H3UccEWPq0Zb6pHZkgAEGGGCAAQYYmKsBSUhJSFc+MMAAAwwwwAADDDTEwJLxlcldd92TJiDbr4TMfr7zzruTRWOb8tAQD3M9mfR9AxKdBvqJMTFP5/f8zhIDDDDAAAMMMMAAA/U0IAlpgMEJIAMMMMAAAwwwwEADDERy8e67700TkPEsyPFlq1pXQ8bPMS2uirz99jslIhvgwQl+PU/wR9mu/caYiEP+2IG/UVq1bv4YYIABBhhggIHhGZCENMBg0JEBBhhggAEGGGCg5gZiwD+Si5FkbL/tanYr1jgBi1soxmdZInLB4k24qLkLJ97DO/Gue11HvBBjeKq7c9vHOAMMMMAAAwwwMLgBSUgDCwaXGGCAAQYYYIABBmpsYMP5y5Jbb7sjTS7eccddyeLxzVrt3Z6EjJOpuE1idrXkLWtuS+K7TrIGP8lSZ+qsSQYiTqy59faBY0x8R4zRV5rUV2wr7wwwwAADDDDQRAOSkDUecGoiaNsskDPAAAMMMMAAA5MNrN593zQ5EInIhUtWTEoqdiYho+5intt+f9XkLqv3mTS/up1ct+pDfTAwlswlxuy8695ijDEJBhhggAEGGGCAAQZqbEASssaN64TYoAgDDDDAAAMMMMBAGIiB/o0WLO86seuVhIz55y/aOJGAZEf8YKBfA7OJMRKQfPXry3ysMMAAAwwwwAAD1TUgCSkJ2TUYpUNXt0NrO23HAAMMMMAAA4MYmCoJOcgyzMscAwxMZUCMYWMqG6azwQADDDDAAAMMNMOAJKQkpCQkAwwwwAADDDDAQEMNSBA046TPyb12HpUBMYa9UdmzXvYYYIABBhhggIFyGJCEbOiAkw5Yjg6oHbQDAwwwwAADDIzSgAQBf6P0Z9319yfG1L+N9WNtzAADDDDAAAMMMDCdAUlISUhXPjDAAAMMMMAAAww01IAEgZPF6U4WfcbHXA2IMQzN1ZDvM8QAAwwwwAADDFTbgCRkQwecdNxqd1ztp/0YYIABBhhgIA8DEgQc5eHIMjiayoAYw8ZUNkxngwEGGGCAAQYYaIYBSUhJSFc+MMAAAwwwwAADDDTUgARBM076nNxr51EZEGPYG5U962WPAQYYYIABBhgohwFJyIYOOOmA5eiA2kE7MMAAAwwwwMAoDUgQ8DdKf9Zdf39iTP3bWD/WxgwwwAADDDDAAAPTGZCElIR05QMDDDDAAAMMMMBAQw1IEDhZnO5k0Wd8zNWAGMPQXA35PkMMMMAAAwwwwEC1DUhCNnTAScetdsfVftqPAQYYYIABBvIwIEHAUR6OLIOjqQyIMWxMZcN0NhhggAEGGGCAgWYYkISUhHTlAwMMMMAAAwwwwEBDDUgQNOOkz8m9dh6VATGGvVHZs172GGCAAQYYYICBchiQhGzogJMOWI4OqB20AwMMMMAAAwyM0oAEAX+j9Gfd9fcnxtS/jfVjbcwAAwwwwAADDDAwnQFJSElIVz4wwAADDDDAAAMMNNSABIGTxelOFn3Gx1wNiDEMzdWQ7zPEAAMMMMAAAwxU24AkZEMHnHTcandc7af9GGCAAQYYYCAPAxIEHOXhyDI4msqAGMPGVDZMZ4MBBhhggAEGGGiGAUlISUhXPjDAAAMMMMAAAww01IAEQTNO+pzca+dRGRBj2BuVPetljwEGGGCAAQYYKIcBSciGDjjpgOXogNpBOzDAAAMMMMDAKA1IEPA3Sn/WXX9/Ykz921g/1sYMMMAAAwwwwAAD0xmQhJSEdOUDAwwwwAADDDDAQEMNSBA4WZzuZNFnfMzVgBjD0FwN+T5DDDDAAAMMMMBAtQ1IQjZ0wEnHrXbH1X7ajwEGGGCAAQYYYIABBhhggAEGGGCAAQYYYIABBspsQBJSEtKVDwwwwAADDDDAAAMMMMAAAwwwwAADDDDAAAMMMMAAAwzkakASEqhcQZU5465s/iKEAQYYYIABBhhggAEGGGCAAQYYYIABBhhggAEGGBiOAUlISUhJSAYYYIABBhhggAEGGGCAAQYYYIABBhhggAEGGGCAAQZyNSAJCVSuoPz1wHD+ekA9q2cGGGCAAQYYYIABBhhggAEGGGCAAQYYYIABBhgoswFJSElISUgGGGCAAQYYYIABBhhggAEGGGCAAQYYYIABBhhggAEGcjUgCQlUrqDKnHFXNn8RwgADDDDAAAMMMMAAAwwwwAADDDDAAAMMMMAAAwwMx4AkpCSkJCQDDDDAAAMMMMAAAwwwwAADDDDAAAMMMMAAAwwwwAADuRqQhAQqV1D+emA4fz2gntUzAwwwwAAD9TNw0823J1//g28k+x14qOMzx+gMMMAAAwwwwAADDDDAAAMMMFB5A5KQEFcesUHY+g3CalNtygADDDDQRAOf+ewXkngd+dZ3VOr47MMfuer/t3cfXlJUCd+A/4PvnP2OK4oZkSAGRFEQA4oEAQXELGJABdeAmF1zWtRVjGsWEwYwrwFEMYGCgHmVd02YxSwqjLt79r3vuRerT/d0jwxQPQzTT53D1EzdW1W3bj3VWvXrqkrt7tV7t1Wq3bVozDb7bGWAAQYYYIABBhhggAEGGGhKA0JIIaSLRQwwwAADDDDAAAPNwMCqGkJeceW1Qshm4KcpTyKty0ULBhhggAEGGGCAAQYYYICBxhgQQrpg4KIjAwwwwAADDDDAQDMwsKqGkHdOuFcI2Qz8NObkTx0XCRhggAEGGGCAAQYYYIABBprSgBDSBQMXHRlggAEGGGCAAQaagYGGQshTTzs7vStyjbU2Cttut0u47fa7wj//+V745ZdfwuzZc8NW2+xYtv8OGXFkmqfzlj1C/PfQw4+moDD+ePudeaFf/z3K5unTb3Ca58Kxl5aVxROU+L7Kp55+tlDWf+Ce4e577gtfffV1WvZrr7+Z6sR6g4bsW6jXvUevMHny1LBgwVep3rx5/wz7HXBoobwpT36sy8k2AwwwwAADDDDAAAMMMMAAA01nQAjZDC44Ad904PW1vmaAAQYYYICB5mqgoRDy5ltuT+FdDCPj8PEnn4aZM2eHxXV16e/vvvs+rL5Gm5JQL3tPYwws4/DRRx+ngPCNN/+R/o4/9t3/kJJ5DjhwRCp78KFHS6Zn/RUL6+rqCmUXXHhJYVn1fzli1LGpXq8+u6Wi2NZH/v54+MvYS8PT055L004/47zCsrJ1GDs+GWCAAQYYYIABBhhggAEGGGg5BoSQQkgXfxhggAEGGGCAAQaagYGlhZAxubvqmusL+2rt9TqE1994KwV6x4w+qTA9nqxlIWQsHD3mlJKys8/9S5on3knZep32hbJlDSGzk8KXZr6clter926FZWVlT06dlsp23GnXkrJd+u5e8ndW37jlnGjalytvXx586Kjw3PPTwxdfLgiLFi8O8e7j628YHzbepKvjrhl81js2Vt6xoe/1PQMMMMAAAwww0PQGhJBOQpyIMsAAAwwwwAADDDQDA0sLIS+6eFzZfjr62BNTyBfveCw+mcpCyMvGXV0yPavz1j/eTvMNP3hkobwaIeQ/3n4nrWe9Np0K68naYNz0J3/6vGX3eavWbcPzL8xIx1z8Eb8gEB+P/PHHnxSm7T9sRG7H4kYdtkjLvemW23Nb5vIavevuSakt8csZy7sM87Xs48P+tX8ZYIABBhhggIGVY0AI2QwuOMG/cvDrd/3OAAMMMMAAA83JQIMh5Pg70sX1kUeOLru4Ht/LGIepTz1TUnbW2Rem6fHxp5W2Mbsb8m/X3VQor0YIOf7WO1M74h2RW3fbqbCuSm0yzfHIwIoZyALIV197I3TbtlfJ8ZZ9MSEekMXvbF2RPu/Wo1c6vptDCDnlyadTW4SQK2ZoRTyYV98zwAADDDDAAAMMVDIghBRClpycVkJimg8PBhhggAEGGGCg+gaWJ4SMj0CNw/PPzyj5f7qlhZAjDj86zffoY5ML81UjhFxz7XYhCwfiCl9+eW6o/+hYtqpvSx+3/D4+8eTT0zH9/vsfhjXW2qhwXBfv++zO6fiY1nhsFpctz+8Ddt8rrbM5hJBz5r6a2iKEbPnWl8eqebhggAEGGGCAAQZWngEhpBByzlsPbgAAIABJREFUhU8+HcAr7wDW9/qeAQYYYICBlmOgKUPII0Ydmy7YP/zI44X/F6xGCJn53Ha7XcITk6emdcYfs2fPDR023rKw7qyeccvxbF827b788MP56fg68KAjfve4yh7FfORRY0rqxbup46NbK+23c84bm8r67jokla+1bvtw0823hbmvvJbW+fkXX6byOP/lV/6tsIyzzrmwsMw+/Qan4z77EHj2uelhy613KNTN1nvEyGPTPKOOPK6srNOmW6eyW8bfUSiL77+8/4GHw6JFi9Kis0fQxrZssdV2hXqD99gvzHhxZvjxx4Wp3vQZL4WevQYUyrP1GzetW/2tvxlggAEGGGCAgZZvQAgphHTixQADDDDAAAMMMNAMDDRlCHn+hZekC/HXXHtjYd/vu/8hadpDDz9amFZ8QhgL6+rqysriRf84xLsyi+tX+n2zLbqHx594MtWPAUalOqa1/JNQ+zjffRzDvDh8++13Sz2mTj7lzFQ3fimgeD8sXrw4Tf//f1yvZHqsc+/E+1PZsOGHpbJNNt8m/V3px7RnnivMP+HuianKDTeOT+MYgMZwMAtMF9fVhe126FOoH9d1wW+fTWMrvAO3a7eeaTnxcbNZ2++7/6FKzUjTdujZL9U7fOQx6e8ffvgxxDbF9+vO/e3OyaF7H1hYVrZM43x96k/9yQADDDDAAAMM1LYBIWQzuODkIKztg9D+t/8ZYIABBhhgIBpoyhDytdffTBflY/CY+evXf0iaNn36S4VpWVnb9p1T2aLFi8vKYqgQh959B5WVZfPXH3/33fdpntVard/oeeovw9+OGwaWGMi+QBAffby0Ptm598B07MXHthbXXZYQMpvv2NEnpWU19DjWu+6ZlMoXLlwY9tjzgJL13X3Pfansvfc+KJm+rCFk1pYYMMah0uNYP/7k01BX92tYd4ONS9Y1YLe9Sv7OlmXss4UBBhhggAEGGGCAgfwMCCGFkE68GGCAAQYYYIABBpqBgTxDyDPPviBdkK90V+NBh4xKZd9//0NYfc0NC/u+02ZL7m6Kdye167BFYfrqa7QJc+a8kuapFEJOnPRgKqv0+MS/jL00dOy0VWFZ2YncggVfpXmyv43zO8HTl7XXl8eNOSUdT3dOuLfsWKvvoeMmW6W6//73v0vqViOEzO6EjI9Yrd+O+LmSPRq1e49ehfJqhJBxg7/55tvCOuq3xd+1d8zY5/Y5AwwwwAADDDDQdAaEkM3gghPwTQdeX+trBhhggAEGGGiuBqoRQsaL7/ERjfFxiHvve1CIoWA2xDCyfl9k73iLF+xvvOnW9NjCt9+ZF+L709599/1QKYQcOWp0WmQMFMaccFqI748bNvzwsPvgfdL0eAfSHXfeE+K723YdMDT8/dEn0vTid8fVb4e/HacMNN7A6ONOTsfUpPseLDum6/fjxpt2TXX/85//lNStRgiZ3e04/OCRJevK2pSVH3f8qYXyaoSQs2bNSdt82+13VfxSRNYe48ab01f6igEGGGCAAQYYYKCxBoSQQsjCCV9j0ajnA4YBBhhggAEGGMjfQDVCyCuvvi7c/8DD6QJ89mP27Lmh/8A9K/4/YK8+u4Wvv/4mq5rGt942IdV9etqzFd8JGS3UX0cMMOP0PfcZHp59bnp6FGK20Lj8y8ZdXXH9XOXvSp+2/D7NHsc67Znnl3pc9ew1IB2KTfE41ixkbCiE/OtlV6a2xHHmtBohZKdNtw7ZI6jjCp+e9lzYf9iIwjqzdRu3/GPFPraPGWCAAQYYYICBpjcghBRCOvligAEGGGCAAQYYaGEGssexnnv+RWnfbrJ5t9B31yFhg7abNmpfx/c7xrsWu3TdvlH144lcXHYMMXfpu3vFeXps39tdSC3MmRP4pj+Br9TnXbfpmcK8+K7VSuXF0+LdynGYMuWpkror407IcZdfk9py0SWXF9pSjRAy2/7dBu0dXnn19bTO+CPelb3m2u0K687qGTcP1/aD/cAAAwwwwAADDLQMA0JIFwKcdDHAAAMMMMAAAwy0MANnnX1hutAeH7/qxK1lnLjZj/bj7xn44ssF6ZjfaZeBv3vMP/b4lFTvxJNPL6n3yy+/pOmrtVq/ZHpc570T709lw4YfVlJ27OiT0vSbbrm9ZHrWzqXdCZndQX3UMScU5j/vgovTMi8uCiaz5XXttiRsffW1Nwr1s7Iffvgxzbf2eh3KyrI62TjeDZo9evqueyYttX42n7FjkAEGGGCAAQYYYICBZTcghGxhF5wcBMt+EOgzfcYAAwwwwAADLc2AEJLplmba9vy+6euuvyWFcPHxxw311Y4790914o/4iNLiep9++lkqa9exS8n0WOeF6S+msgMOLA0hjzxqTJp+y/g7yuaJ8/1eCLlaqw3CDz8uCQ7jeyqztow5/tS0zPge22xaNs7eMxvvZsymZePsMdLrrN+xrCyrUzzu2GmrtJ6PP/m0UfWL5/X771vUP/qHAQYYYIABBhhgoNiAEFII6aSLAQYYYIABBhhgoIUZEEI66Ss+6fN7y/ew/oabhJ9//jkFazfdfFvZZ3q3bXsV3vd61TXXl5XPnDk7zXvCSX8uKTvrnCV3VcfC+iHkkKH7p3kaCj7jXYZxiI9drW9w7EWXpbL6dzXG98jGYf78j8Lqa25YmG/DdpuHT34LSiuFkG++9Xaab8eddi3Mk63ziquuDfXvkFx3g41T/dffeKusfjafccs/buxj+5gBBhhggAEGGKi+ASFkC7vg5KCp/kGjj/UxAwwwwAADDDR3A0JIRpu7Ue3L3+jQvYaFhQsXpnDtm2++DRMnPRiuvPq6MOPFmWla/DF58tTQqnXbsuAtPp41Gx59bHKIj3KedN9DaXnZY1Prh5Ct12kfsse43njTrWHUn8aEy6/4W2HZE+66N1tkChUv+esVYd/9DwnX3zA+Ta+r+zXUDw3/2GqDEN9tGYcPP5yf2n/ZuKtTADnh7olpeqUQMq43Dh98MD8cetifwjXX3hi237FvOOXUs9L02B9xWlx/vKNy7txX0/TYZhbzt6hP9SkDDDDAAAMMMMBAZkAIKYR00sUAAwwwwAADDDDAAAMMMNACDHTYeMsQ74RcXFeXQrbsx7vvvh9GHH5Ug/s43nVYHFbG+ebN+2fYvMu2YcThR6fF1H8nZLyoEAO/GCZmw08//VRYR3Yn5KmnnR2mz3gpq5LGU6Y8lZadXZgoHh92xNFh0aJFJfXPv/CStNzPPvs81L97Ms67XptOYdasOSXzHH/ikrs6jxh5bJgz55WSsvfe+yDUv+uzuA1+d9GMAQYYYIABBhhggIF8DAghW8CJpoMhn4NBP+pHBhhggAEGGGCAAQYYaCkGOm/ZI8T3QG7QdtNCMLi0bdu6205h1wFDQ+++gxo9z2qt1g/bbrdLmi8+5jRbRxZC7nfAoWla9x69wi59dw/xDsqsTkPj1ddoE/r13yMtMwarDdWrP719xy6hT7/BYYee/SrOE++8LG5j/fn97fhngAEGGGCAAQYYYCBfA0JIIWTFkzMHWr4Hmv7UnwwwwAADDDDAAAMMMFBLBu6+57509+Hwg0c653TdgQEGGGCAAQYYYICBGjUghKzRHV9LJ7+21cUeBhhggAEGGGCAAQYYYKBpDQghm7a/+dbfDDDAAAMMMMAAA83RgBBSCOkbCAwwwAADDDDAAAMMMMAAAwzkakAI6SJYc7wIpk1cMsAAAwwwwAADTWtACOlEM9cTTQdw0x7A+lt/M8AAAwwwwAADDDDAQHM0IITksjm61CYuGWCAAQYYYICBpjUghBRCCiEZYIABBhhggAEGGGCAAQYYYIABBhhggAEGGGCAAQYYyNWAEBKoXEH5FkHTfotAf+tvBhhggAEGGGCAAQYYYIABBhhggAEGGGCAAQYYaI4GhJBCSCEkAwwwwAADDDDAAAMMMMAAAwwwwAADDDDAAAMMMMAAA7kaEEIClSuo5pi0a5NvgDDAAAMMMMAAAwwwwAADDDDAAAMMMMAAAwwwwAADTWtACCmEFEIywAADDDDAAAMMMMAAAwwwwAADDDDAAAMMMMAAAwwwkKsBISRQuYLyLYKm/RaB/tbfDDDAAAMMMMAAAwwwwAADDDDAAAMMMMAAAwww0BwNCCGFkEJIBhhggAEGGGCAAQYYYIABBhhggAEGGGCAAQYYYIABBnI1IIQEKldQzTFp1ybfAGGAAQYYYIABBhhggIGVaWDn3gPD5l22bRbnXquv0SYMP3hkOOe8sWH/YSNC63XaN4t2rcz9k/e6N9uie+jVZzf96noLAwwwwAADDDDAQM0bEEI6CGr+IMj7hNPyXOBigAEGGGCAAQYYYICBzMD/+8NaYf5HH4c7J9y7zOde2+/YN8Rh5qzZjZ63Veu24fEnngxjL7qsbJ4YQM6ePTctM/ux5z7Dy+plbc97/IfV1k2r/fXXX3NZ5623TQgT7lr2fq2/Xf/617/Cf//731zaFJd9192TwofzPwpx39dfl799NjDAAAMMMMAAAwzUkgEhpBDSSREDDDDAAAMMMMAAAwwwwECVDIw54bQUcG3Wufsy9/HyhJBHH3tili+GDdttXrLOP59+biqLQeSw4YenOyFXX3PDkjrVvCCSZwgZ7zTMht0G7b1C25B3CNm5S4/wv//7v2H0cSevULuquS8s28VPBhhggAEGGGCAgaYwIISs0olmU+w86/AhwQADDDDAAAMMMMAAAww0bwOffPpZmHTfQ8sVRi1PCNml6/bh7XfmhQcefKRsnTNnzk65XfcevUrKTj/zvDR9h579SqbnbSvPEHKd9TuGZ5+bHl58aVZos9FmK9Tu5QkhhwzdP/VZQ0HjI39/PMyf/9EKtSvv/re85v1ZYf/YPwwwwAADDDDQEg0IIYWQTooYYIABBhhggAEGGGCAAQaqYGDwHvuloGqPPQ9Yrv5dnhDy9y5cxEA0Dmuv16GkPeMuvyZNX5VCyN/bzmUtW54Q8rAjjk591lAIecCBI1L5oCH7lfT1srZNfRcjGWCAAQYYYIABBlZlA0LIKpxorsogtN0HGgMMMMAAAwwwwAADDDCQj4H77n84fP/9D8sdQmUhZLzbL499smDBVykYa71Ou5Ll3X7H3U0SQsZtiENdXT7vhMyjT+IyYnvisCzLO+W0s9I8DYWQcVk//fRTuP+Bh5dpucvSBnXzOU71o35kgAEGGGCAAQaqZ0AIKYR0QsQAAwwwwAADDDDAAAMMMFAFA99+91149LHJFft2x537h6enPRe++urrFGbFR6jutc/wkrpZCBkfO7rm2u3CeRdcHGa8ODOFZosWLQpnnHl+Sf148aTDxluGF6a/GG67/a5C2YDd9kphWFpRCOkRprFO9u/rr79JRa++9kZhWnzcaPHFmB7b9w4TJz0YvvhyQaobA81TTj2rpE5x/T33GR6mPvVMCuLiDJdedlWqG39vTAjZs9eA1JbdB++T5rvo4nEhrnNxXV34Y6sN0rTYf7Fviteb/X7UMSeEJyZPDd9993349LPPC9uVbfNJp5xRmC+2KfZnnDe+U3PKlKfCDz/8GD7/4stwy/g7CvVieXzcbQxt33//w9QP7733QWHZo8ecUlJ3ypNPh2+//a5kWtY+4+pd6NK3+pYBBhhggAEGGGg+BoSQVTjRBLz5ALcv7AsGGGCAAQYYYIABBhhYGQY6d+mRQqq/jL20LITadcDQVBaDr4cefjTEOjFMi8OJJ59eqJ+FkNNnvBTmzftnKo8h2meff5F+jz8OGXFkoX7czi223C6VvfXW24XpF1x4SaF+Y38Z9afjCvPHcDQOP/64MEy4e2K47vpbQvZo19P+fE6hXtbPfz793MJq4p2gsc1xW2NwFwPIxoSQQ/calpYR+2Py5Knp99ffeCsFi9l6GnqM6rXX3ZzqxwDypptvS32cNejNt95O7akfQsa68c7VOLz88tzwzrz/yWYJN9w4vrCN++5/SGF6/V+uvOq6Qr3YxkvHXZWqbNa5e8n0rP3GPpsYYIABBhhggAEGWroBIaQQ0skQAwwwwAADDDDAAAMMMMBAzgaGDT88BVD77HdwWd8+/8KMVLZN951Lyvr0G1zydxZCxspv/ePt0HWbnoXy838LFufOfbUwLV7AqBRCZhc2Gnoca3zcaxwqvRNy087dU2j44YfzQ7sOWxTW1Xqd9iHevRmH4um9+uyWpsUfxdu+Wqv1Q/buyWUJIefP/yh88823YZe+uxfWnW1PpRCy85ZLwt8Y1K6/4SaFefruOiS1684J9xSmZcuJ7YlDvCM0hp/Z9IG775Wmxx/xTtRsehzfeNOtqez3Hsd60CGjUp39Dji0ZN7i5fjdhUcGGGCAAQYYYICBlmxACJnziWZLxmLbfBgywAADDDDAAAMMMMAAA40zEMOpOOzUa0BZABUDvTi0at22rKy4f7MQMtZffY02ZXWz8Kx4nrxDyHjnYxwG77Ff2foPPnRJyFZ892Z8RGocTjjpz2X1/7Dauqns11+X/k7IPfY8INWNP2I/FG9j9nulEPLkU5e8q7HSHaizZs1Jy8zmz8ZZP268Sdey9WTzxHA1qx/HjQkh++46OK0vPuK1eF6/N+4Y0k/6iQEGGGCAAQYYWPUNCCGFkE6GGGCAAQYYYIABBhhggAEGcjZwzrljUwDVZavty/r23okPpLL4zsL4jsGGLq5kIeTMWbMr1vnggyVhZvuOXQrleYeQMaCLjyqt1MYY2sUhviMxlq+x1kbp759//jnEOx/rz7MsIWT2ONYYatZfTvZ3pRAyvjczDiefcmbZfNljXdtstFlJWaXlZOu459770/KGHzyyZJ7GhJBbbbNjmveMs8rf3Zkt33jVv7BmH9qHDDDAAAMMMMBAwwaEkDmfaMLWMDZ9o28YYIABBhhggAEGGGCgVgxcOPbSFEBVurturXXbh2nPPJ/K44+ZM2eHI48aUxJyxX5aWgiZvSdy0827FebNM4TcqH3n1Mb4Lsj4Xsf6/2a8ODOVP/L3x9P6t9l25/R3bFel/bw8IeSDDz1acVlx+ZXCwyFD909tiOFhcRtiKPr5F1+m91oWT29oOVmdGLDGYcThR5csrzEhZKfNtknzXvCXv5bMmy3b2OchAwwwwAADDDDAQEs3IIQUQjoZYoABBhhggAEGGGCAAQYYyNlA9ljQGMw1dGEhvoPxyanTUlAVf7w08+XQtn3nQv2VHUJu3mXb1LaffvqpLIAsDiSzkC17H+Sbb71d2IbibW+KEDKub+pTz6R2X3TxuLBB201D9x69CtOytha3q1KYmZWvSAjZY4c+qR0nVbgrM1u+sQuPDDDAAAMMMMAAAy3ZgBAy5xPNlozFtvkwZIABBhhggAEGGGCAAQYaZ+CIUcemAKp330EVA7niftxiq+0KYWS8uzArW9khZOt12qVt+OqrrwttytpWaRy3Iw7ff/9DxfpNFUL26bfkXYypMb/9+PiTT8NZ51xYsV3VCiEHDto7rb3+XZSV+s60xh1X+kk/McAAAwwwwAADq5YBIaQQsuJJmAN51TqQ7S/7iwEGGGCAAQYYYICB5mVg4O57pQDq0MP+1KhzrtXXaBMWLlyY5sn2ZVOFkM89Pz2tt2evAWVtfWfe/6Syrtv0LCvL2lk8XlxXl+p327ZXWf2mCCHXa9Mp9WN8HGvHTluFXQcMDfGxssVtrP/78oSQ11x7Y9rOMSec1uCy/3T08alOv/57NFinflv83byOY/vD/mCAAQYYYIABBlbMgBBSCOlkiAEGGGCAAQYYYIABBhhgIGcD2V2EV1x5bVnfXvLXK0L7jl3Kpsc7CH/55ZfC9KYKIe+d+EAKyw4feUxh3dnFlmNGn5TK3n33/RAfz5pNz8b1t+Oxx6ek+o8/8WRZ3UsvuyqV1dX9WlaWLS8bD91rWKq7rO+EjIFfHE5ehkegLk8IecZZ56f1XP23GxrclhtuHJ/qrNZqgwbrZNtrvGIXt/Sf/mOAAQYYYIABBpqnASFkzieaoDdP6PaL/cIAAwwwwAADDDDAAANNbSAGd888+0JJALX3vgelYGrRokXhttvvCsMPHhn6D9wzTJ48NU2P7zHM2tlUIWQMH+Pw448LQ7yz75zzxoZhww8vtGPKk0+n8vjjrnsmhX32Ozjsuc/wMO2Z50N8VGur1m0LdbfutlMKUmPdhx95LBx0yKhw3PGnhldefT0tI253NUPIeCdkHL799rsw7vJrwoVjL03/4rsgjzxqTNhx5/6Ftmb9vDwhZHzPZDbEZY8ec0o49bSzS5Yd3/EZ7yTN1mPsM4gBBhhggAEGGGCg1gwIIYWQTogYYIABBhhggAEGGGCAAQaqYOD6G5bcCbfGWhuV9G8M8bJHoGZB1oIFX4XiADJenGiqEDKu64XpL2ZNSeObb7m9pM0nnnx6+OCD+SV1fv7553DGmeeX1IvL6rvrkPDFlwtK6k6f8VLY74BDw7Rnngu//lq9OyHj+m+9bULJuuv/8eZbb4eNN+laaPfyhJBxPdn+zZYfQ8c4Pf5be70OaXKsk00zdtGRAQYYYIABBhhgoNYMCCGrcKJZa4hsrw9OBhhggAEGGGCAAQYYYKDcwNbdd0pBVLwDr6H+6bF979Bh4y0bLG9ovmpMj3cxxnco7tJ39wbb07Z959Cn3+DQq89uDdbJ2rbTLgPTsuL7LrNp1R7vtc/w1OfxcamxX+P2ZP+G7n1gmDlzdioff+udubQphpnZ8v9Y9NjVY397jO1W2+yYy3qq3W+WX3786hN9wgADDDDAAAMMrLgBIaQQ0gkRAwwwwAADDDDAAAMMMMBAlQzMmjUnBV8uYKz4BYzG9OFrr78ZPvro4wY979x7YAoh4+NvG7O85a0zZ84rofjOyOVdjvmaxo1+1s8MMMAAAwwwwEB1DAghq3SiCWx1wOpX/coAAwwwwAADDDDAAAOrkoEhQ/dPoVe//kOqGnqtSn1SzbbGd0HGR9s2tI5zz78o7Y/4eNmG6qzo9IGD9k7rGDRkv6qtY0XbaH6fowwwwAADDDDAAANNYUAIKYR0UsQAAwwwwAADDDDAAAMMMFBFAzNenBkmTnpQH1exj7MLKBPunpgCwEcfmxzad+yS+nzNtduFfv33CFnZlCefruq+uP+Bh0Pc51mbjF3gY4ABBhhggAEGGKhVA0LIJjgJqlVcttsHKwMMMMAAAwwwwAADDDCwZmiz0WYCqSY6916vTadw2birw4cfzk9hZPGPr7/+JlTzDshi6xu03dQ+b6J9XtzvfvffHAYYYIABBhhgoHkZEEL6n2InRgwwwAADDDDAAAMMMMAAAwy0OANdum4fxpxwWjju+FND776DWtz2ucDWvC6w2R/2BwMMMMAAAwwwUG5ACOlE04kYAwwwwAADDDDAAAMMMMAAAwwwwAADDDDAAAMMMMAAA7kaEEIClSsoSX950q9P9AkDDDDAAAMMMMAAAwwwwAADDDDAAAMMMMAAAwzUmgEhpBBSCMkAAwwwwAADDDDAAAMMMMAAAwwwwAADDDDAAAMMMMBArgaEkEDlCqrWUnzb65srDDDAAAMMMMAAAwwwwAADDDDAAAMMMMAAAwwwwEC5ASGkEFIIyQADDDDAAAMMMMAAAwwwwAADDDDAAAMMMMAAAwwwwECuBoSQQOUKStJfnvTrE33CAAMMMMAAAwwwwAADDDDAAAMMMMAAAwwwwAADtWZACCmEFEIywAADDDDAAAMMMMAAAwwwwAADDDDAAAMMMMAAAwwwkKsBISRQuYKqtRTf9vrmCgMMMMAAAwwwwAADDDDAAAMMMMAAAwwwwAADDDBQbkAIKYQUQjLAAAMMMMAAAwwwwAADDDDAAAMMMMAAAwwwwAADDDCQqwEhJFC5gpL0lyf9+kSfMMAAAwwwwAADDDDAAAMMMMAAAwwwwAADDDDAQK0ZEEIKIYWQDDDAAAMMMMAAAwwwwAADDDDAAAMMMMAAAwwwwAADDORqQAgJVK6gai3Ft72+ucIAAwwwwAADDDDAAAMMMMAAAwwwwAADDDDAAAMMlBsQQgohhZAMMMAAAwwwwAADDDDAAAMMMMAAAwwwwAADDDDAAAMM5GpACAlUrqAk/eVJvz7RJwwwwAADDDDAAAMMMMAAAwwwwAADDDDAAAMMMFBrBoSQQkghJAMMMMAAAwwwwAADDDDAAAMMMMAAAwwwwAADDDDAAAO5GhBCApUrqFpL8W2vb64wwAADDDDAAAMMMMAAAwwwwAADDDDAAAMMMMAAA+UGhJBCSCEkAwwwwAADDDDAAAMMMMAAAwwwwAADDDDAAAMMMMAAA7kaEEIClSsoSX950q9P9AkDDDDAAAMMMMAAAwwwwAADDDDAAAMMMMAAAwzUmgEhpBBSCMkAAwwwwAADDDDAAAMMMMAAAwwwwAADDDDAAAMMMMBArgaEkEDlCqrWUnzb65srDDDAAAMMMMAAAwwwwAADDDDAAAMMMMAAAwwwwEC5ASGkEFIIyQADDDDAAAMMMMAAAwwwwAADDDDAAAMMMMAAAwwwwECuBoSQQOUKStJfnvTrE33CAAMMMMAAAwwwwAADDDDAAAMMMMAAAwwwwAADtWZACCmEFEIywAADDDDAAAMMMMAAAwwwwAADDDDAAAMMMMAAAwwwkKsBISRQuYKqtRTf9vrmCgMMMMAAAwwwwAADDDDAAAMMMMAAAwwwwAADDDBQbkAIKYQUQjLAAAMMMMAAAwwwwAADDDDAAAMMMMAAAwwwwAADDDCQqwEhJFC5gpL0lyf9+kSfMMAAAwwwwAADDDDAAAMMMMAAAwwwwAADDDDAQK0ZEEIKIYWQDDDAAAMMMMAAAwwwwAADDDDAAAMMMMAAAwwwwAADDORqQAgJVK6gai3Ft72+ucIAAwwwwAADDDDAAAMMMMAAAwwwwAADDDDAAAMMlBsQQgohhZAMMMAAAwwwwAADDDDAAAMMMMAAAwwfAjt5AAAI/ElEQVQwwAADDDDAAAMM5GpACAlUrqAk/eVJvz7RJwwwwAADDDDAAAMMMMAAAwwwwAADDDDAAAMMMFBrBoSQQkghJAMMMMAAAwwwwAADDDDAAAMMMMAAAwwwwAADDDDAAAO5GhBCApUrqFpL8W2vb64wwAADDDDAAAMMMMAAAwwwwAADDDDAAAMMMMAAA+UGhJBCSCEkAwwwwAADDDDAAAMMMMAAAwwwwAADDDDAAAMMMMAAA7kaEEIClSsoSX950q9P9AkDDDDAAAMMMMAAAwwwwAADDDDAAAMMMMAAAwzUmgEhpBBSCMkAAwwwwAADDDDAAAMMMMAAAwwwwAADDDDAAAMMMMBArgaEkEDlCqrWUnzb65srDDDAAAMMMMAAAwwwwAADDDDAAAMMMMAAAwwwwEC5ASGkEFIIyQADDDDAAAMMMMAAAwwwwAADDDDAAAMMMMAAAwwwwECuBoSQQOUKStJfnvTrE33CAAMMMMAAAwwwwAADDDDAAAMMMMAAAwwwwAADtWZACCmEFEIywAADDDDAAAMMMMAAAwwwwAADDDDAAAMMMMAAAwwwkKsBISRQuYKqtRTf9vrmCgMMMMAAAwwwwAADDDDAAAMMMMAAAwwwwAADDDBQbkAIKYQUQjLAAAMMMMAAAwwwwAADDDDAAAMMMMAAAwwwwAADDDCQqwEhJFC5gpL0lyf9+kSfMMAAAwwwwAADDDDAAAMMMMAAAwwwwAADDDDAQK0ZEEIKIYWQDDDAAAMMMMAAAwwwwAADDDDAAAMMMMAAAwwwwAADDORqQAgJVK6gai3Ft72+ucIAAwwwwAADDDDAAAMMMMAAAwwwwAADDDDAAAMMlBsQQgohhZAMMMAAAwwwwAADDDDAAAMMMMAAAwwwwAADDDDAAAMM5GpACAlUrqAk/eVJvz7RJwwwwAADDDDAAAMMMMAAAwwwwAADDDDAAAMMMFBrBoSQQkghJAMMMMAAAwwwwAADDDDAAAMMMMAAAwwwwAADDDDAAAO5GhBCApUrqFpL8W2vb64wwAADDDDAAAMMMMAAAwwwwAADDDDAAAMMMMAAA+UGhJBCSCEkAwwwwAADDDDAAAMMMMAAAwwwwAADDDDAAAMMMMAAA7kaEEIClSsoSX950q9P9AkDDDDAAAMMMMAAAwwwwAADDDDAAAMMMMAAAwzUmgEhpBBSCMkAAwwwwAADDDDAAAMMMMAAAwwwwAADDDDAAAMMMMBArgaEkEDlCqrWUnzb65srDDDAAAMMMMAAAwwwwAADDDDAAAMMMMAAAwwwwEC5ASGkEFIIyQADDDDAAAMMMMAAAwwwwAADDDDAAAMMMMAAAwwwwECuBoSQQOUKStJfnvTrE33CAAMMMMAAAwwwwAADDDDAAAMMMMAAAwwwwAADtWZACCmEFEIywAADDDDAAAMMMMAAAwwwwAADDDDAAAMMMMAAAwwwkKsBISRQuYKqtRTf9vrmCgMMMMAAAwwwwAADDDDAAAMMMMAAAwwwwAADDDBQbkAIKYQUQjLAAAMMMMAAAwwwwAADDDDAAAMMMMAAAwwwwAADDDCQqwEhJFC5gpL0lyf9+kSfMMAAAwwwwAADDDDAAAMMMMAAAwwwwAADDDDAQK0ZEEIKIYWQDDDAAAMMMMAAAwwwwAADDDDAAAMMMMAAAwwwwAADDORqQAgJVK6gai3Ft72+ucIAAwwwwAADDDDAAAMMMMAAAwwwwAADDDDAAAMMlBsQQgohhZAMMMAAAwwwwAADDDDAAAMMMMAAAwwwwAADDDDAAAMM5GpACAlUrqAk/eVJvz7RJwwwwAADDDDAAAMMMMAAAwwwwAADDDDAAAMMMFBrBoSQQkghJAMMMMAAAwwwwAADDDDAAAMMMMAAAwwwwAADDDDAAAO5GhBCApUrqFpL8W2vb64wwAADDDDAAAMMMMAAAwwwwAADDDDAAAMMMMAAA+UGhJBCSCEkAwwwwAADDDDAAAMMMMAAAwwwwAADDDDAAAMMMMAAA7kaEEIClSsoSX950q9P9AkDDDDAAAMMMMAAAwwwwAADDDDAAAMMMMAAAwzUmgEhpBBSCMkAAwwwwAADDDDAAAMMMMAAAwwwwAADDDDAAAMMMMBArgaEkEDlCqrWUnzb65srDDDAAAMMMMAAAwwwwAADDDDAAAMMMMAAAwwwwEC5ASGkEFIIyQADDDDAAAMMMMAAAwwwwAADDDDAAAMMMMAAAwwwwECuBoSQQOUKStJfnvTrE33CAAMMMMAAAwwwwAADDDDAAAMMMMAAAwwwwAADtWZACCmEFEIywAADDDDAAAMMMMAAAwwwwAADDDDAAAMMMMAAAwwwkKsBISRQuYKqtRTf9vrmCgMMMMAAAwwwwAADDDDAAAMMMMAAAwwwwAADDDBQbkAIKYQUQjLAAAMMMMAAAwwwwAADDDDAAAMMMMAAAwwwwAADDDCQqwEhJFC5gpL0lyf9+kSfMMAAAwwwwAADDDDAAAMMMMAAAwwwwAADDDDAQK0ZEEIKIYWQDDDAAAMMMMAAAwwwwAADDDDAAAMMMMAAAwwwwAADDORqQAgJVK6gai3Ft72+ucIAAwwwwAADDDDAAAMMMMAAAwwwwAADDDDAAAMMlBsQQgohhZAMMMAAAwwwwAADDDDAAAMMMMAAAwwwwAADDDDAAAMM5GpACAlUrqAk/eVJvz7RJwwwwAADDDDAAAMMMMAAAwwwwAADDDDAAAMMMFBrBoSQQkghJAMMMMAAAwwwwAADDDDAAAMMMMAAAwwwwAADDDDAAAO5GhBCApUrqFpL8W2vb64wwAADDDDAAAMMMMAAAwwwwAADDDDAAAMMMMAAA+UGhJBCSCEkAwwwwAADDDDAAAMMMMAAAwwwwAADDDDAAAMMMMAAA7kaEEIClSsoSX950q9P9AkDDDDAAAMMMMAAAwwwwAADDDDAAAMMMMAAAwzUmgEhpBBSCMkAAwwwwAADDDDAAAMMMMAAAwwwwAADDDDAAAMMMMBArgaEkEDlCqrWUnzb65srDDDAAAMMMMAAAwwwwAADDDDAAAMMMMAAAwwwwEC5gf8DXPhoRxFAklQAAAAASUVORK5CYII=)"
      ],
      "metadata": {
        "id": "-6H5WdHX_ob8"
      }
    },
    {
      "cell_type": "markdown",
      "source": [
        "Note that the first attention layer in a decoder block pays attention to all (past) inputs to the decoder, but the second attention layer uses the output of the encoder. It can thus access the whole input sentence to best predict the current word. This is very useful as different languages can have grammatical rules that put the words in different orders, or some context provided later in the sentence may be helpful to determine the best translation of a given word.\n",
        "\n",
        "The attention mask can also be used in the encoder/decoder to prevent the model from paying attention to some special words — for instance, the special padding word used to make all the inputs the same length when batching together sentences."
      ],
      "metadata": {
        "id": "HGzTIURD_mKI"
      }
    },
    {
      "cell_type": "markdown",
      "source": [
        "## Architectures vs Checkpoints\n"
      ],
      "metadata": {
        "id": "3slizkgv_8hm"
      }
    },
    {
      "cell_type": "markdown",
      "source": [
        "As we dive into Transformer models in this course, you’ll see mentions of architectures and checkpoints as well as models. These terms all have slightly different meanings:\n",
        "\n",
        "* Architecture: This is the skeleton of the model — the definition of each layer and each operation that happens within the model.\n",
        "\n",
        "* Checkpoints: These are the weights that will be loaded in a given architecture.  \n",
        "\n",
        "* Model: This is an umbrella term that isn’t as precise as “architecture” or “checkpoint”: it can mean both. This course will specify architecture or checkpoint when it matters to reduce ambiguity.\n",
        "\n",
        "For example, BERT is an architecture while bert-base-cased, a set of weights trained by the Google team for the first release of BERT, is a checkpoint. However, one can say “the BERT model” and “the bert-base-cased model.”"
      ],
      "metadata": {
        "id": "cB6chUdY__sW"
      }
    }
  ]
}